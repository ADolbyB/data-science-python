{
 "cells": [
  {
   "cell_type": "markdown",
   "metadata": {},
   "source": [
    "## Product Cost of Customer Acquisition\n",
    "---\n",
    "#### Another Practical Data Science Primer\n",
    "\n",
    "The marketing team for an eCommerce platform has asked you to help identify how much they should spend to acquire 1 new customer.\n",
    "\n",
    "This eCommerce site charges 10% from their customer's sales as their fee.\n",
    "\n",
    "You are given three tables:\n",
    "1. Invoice Table: information on every transaction\n",
    "2. Product Table: contains details about the individual products sold.\n",
    "3. Customer Table: details about the customer and their location."
   ]
  },
  {
   "cell_type": "markdown",
   "metadata": {},
   "source": [
    "##### Questions:\n",
    "---\n",
    "1. What is the eCommerce company's customer acquisition cost (CAC)?\n",
    "\n",
    "    1.1 CAC = (Sales and Marketing Expense) / (Number of New Customers)\n",
    "\n",
    "2. What is average Life Time Value (LTV) of a customer?\n",
    "\n",
    "    2.1 What is the LTV to CAC ratio?\n",
    "    \n",
    "    2.2 Can the company afford to spend more to acquire a new customer?\n",
    "\n",
    "3. What is the return rate, and which product is returned the most?\n",
    "\n",
    "    3.1 Return rate = (total items returned) / (total items sold)\n",
    "\n",
    "4. If the company decides to extend its market to another country, what is the feasible choice, and why?\n",
    "\n",
    "5. Which was the most successful quarter in acquiring new customers?\n",
    "\n",
    "    5.1 Note that this depends on multiple factors.\n",
    "\n",
    "6. Devise a recommendation system based on the purchase data:\n",
    "\n",
    "    6.1 If a customer buys product A and B, what is the probability that the customer will buy product C?\n",
    "    \n",
    "    6.2 What are the most purchased items by people who purchased product D? Hint: consider collaborative filtering methods."
   ]
  },
  {
   "cell_type": "code",
   "execution_count": null,
   "metadata": {},
   "outputs": [],
   "source": [
    "# import needed libraries\n",
    "\n",
    "import pandas as pd\n",
    "import numpy as np\n",
    "import matplotlib.pyplot as plt\n",
    "\n",
    "%matplotlib inline"
   ]
  },
  {
   "cell_type": "code",
   "execution_count": null,
   "metadata": {},
   "outputs": [],
   "source": [
    "# import local files for analysis\n",
    "\n",
    "df_customer = pd.read_csv('./Customer_info_table.csv')\n",
    "df_prod = pd.read_csv('./Product_info_table.csv')\n",
    "df_inv = pd.read_csv('./Invoice_info_table.csv')"
   ]
  },
  {
   "cell_type": "code",
   "execution_count": null,
   "metadata": {},
   "outputs": [],
   "source": [
    "# View Customer Info table & stats:\n",
    "\n",
    "print(f'^^^Customer Info: {df_customer.info()}\\n')\n",
    "print(f'Size of Cust Info Table: {df_customer.shape}')\n",
    "print(f'# of unique customers: {df_customer.CustomerID.nunique()}')\n",
    "print(f'Are null values listed: {df_customer.CustomerID.isnull().any()}\\n')\n",
    "df_customer.head()"
   ]
  },
  {
   "cell_type": "code",
   "execution_count": null,
   "metadata": {},
   "outputs": [],
   "source": [
    "# Take a look at the Product Table:\n",
    "\n",
    "print(f'^^^Product Info: {df_prod.info()}\\n')\n",
    "print(f'Size of Product Table: {df_prod.shape}')\n",
    "print(f'# of unique Products: \\n{df_prod.nunique()}\\n')\n",
    "df_prod.head()"
   ]
  },
  {
   "cell_type": "code",
   "execution_count": null,
   "metadata": {},
   "outputs": [],
   "source": [
    "# Take a look at the Customer Invoice Table:\n",
    "print(f'Invoice Data: {df_inv.info()}\\n')\n",
    "print(f'Size of Invoice Table: {df_inv.shape}')\n",
    "print(f'# of unique customers: {df_inv.CustomerID.nunique()}\\n')\n",
    "df_inv.head()"
   ]
  },
  {
   "cell_type": "code",
   "execution_count": null,
   "metadata": {},
   "outputs": [],
   "source": [
    "# notice 2 values for each table are the same.\n",
    "\n",
    "print(f'# of unique customers by invoice: {df_inv.CustomerID.nunique()}')\n",
    "print(f'# of unique customers by customer database: {df_customer.CustomerID.nunique()}')"
   ]
  },
  {
   "cell_type": "markdown",
   "metadata": {},
   "source": [
    "#### Question 1: Customer Aquisition Cost\n",
    "---"
   ]
  },
  {
   "cell_type": "code",
   "execution_count": null,
   "metadata": {},
   "outputs": [],
   "source": [
    "# Customer Info Table and the Customer Invoice table:\n",
    "# Share the same amount of unique entries\n",
    "# Perform a merge on the Customer ID colummn\n",
    "# reference: https://pandas.pydata.org/docs/reference/api/pandas.DataFrame.merge.html\n",
    "\n",
    "df_ci = pd.merge(df_customer, df_inv, how='left', left_on='CustomerID', right_on='CustomerID')\n",
    "print(f'Size of df_ci: {df_ci.shape}')\n",
    "\n",
    "# reference for duplicates: https://pandas.pydata.org/docs/reference/api/pandas.DataFrame.duplicated.html\n",
    "print(f'Check for duplicated values: {df_ci.duplicated().value_counts()}\\n')\n",
    "df_ci.head()\n",
    "\n",
    "# Size of the dataframe and # of non-unique values are equal\n",
    "# So the merge went well: all entries are unique in some way."
   ]
  },
  {
   "cell_type": "code",
   "execution_count": null,
   "metadata": {},
   "outputs": [],
   "source": [
    "df_ci.InvoiceDate.value_counts()"
   ]
  }
 ],
 "metadata": {
  "kernelspec": {
   "display_name": "Python 3.9.12 ('base')",
   "language": "python",
   "name": "python3"
  },
  "language_info": {
   "codemirror_mode": {
    "name": "ipython",
    "version": 3
   },
   "file_extension": ".py",
   "mimetype": "text/x-python",
   "name": "python",
   "nbconvert_exporter": "python",
   "pygments_lexer": "ipython3",
   "version": "3.9.13 (main, Aug 25 2022, 23:26:10) \n[GCC 11.2.0]"
  },
  "orig_nbformat": 4,
  "vscode": {
   "interpreter": {
    "hash": "a906719eb24c6be2b596ddc3d3a5af6aa9dceef416174b553d74a9f9263f1789"
   }
  }
 },
 "nbformat": 4,
 "nbformat_minor": 2
}
