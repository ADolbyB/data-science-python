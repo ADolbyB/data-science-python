{
 "cells": [
  {
   "cell_type": "markdown",
   "metadata": {},
   "source": [
    "## Product Cost of Customer Acquisition\n",
    "---\n",
    "#### Another Practical Data Science Primer\n",
    "\n",
    "The marketing team for an eCommerce platform has asked you to help identify how much they should spend to acquire 1 new customer.\n",
    "\n",
    "This eCommerce site charges 10% from their customer's sales as their fee.\n",
    "\n",
    "You are given three tables:\n",
    "1. Invoice Table: information on every transaction\n",
    "2. Product Table: contains details about the individual products sold.\n",
    "3. Customer Table: details about the customer and their location."
   ]
  },
  {
   "cell_type": "markdown",
   "metadata": {},
   "source": [
    "##### Questions:\n",
    "---\n",
    "1. What is the eCommerce company's customer acquisition cost (CAC)?\n",
    "\n",
    "    1.1 CAC = (Sales and Marketing Expense) / (Number of New Customers)\n",
    "\n",
    "2. What is average Life Time Value (LTV) of a customer?\n",
    "\n",
    "    2.1 What is the LTV to CAC ratio?\n",
    "    \n",
    "    2.2 Can the company afford to spend more to acquire a new customer?\n",
    "\n",
    "3. What is the return rate, and which product is returned the most?\n",
    "\n",
    "    3.1 Return rate = (total items returned) / (total items sold)\n",
    "\n",
    "4. If the company decides to extend its market to another country, what is the feasible choice, and why?\n",
    "\n",
    "5. Which was the most successful quarter in acquiring new customers?\n",
    "\n",
    "    5.1 Note that this depends on multiple factors.\n",
    "\n",
    "6. Devise a recommendation system based on the purchase data:\n",
    "\n",
    "    6.1 If a customer buys product A and B, what is the probability that the customer will buy product C?\n",
    "    \n",
    "    6.2 What are the most purchased items by people who purchased product D? Hint: consider collaborative filtering methods."
   ]
  },
  {
   "cell_type": "code",
   "execution_count": 1,
   "metadata": {},
   "outputs": [],
   "source": [
    "# import needed libraries\n",
    "\n",
    "import pandas as pd\n",
    "import numpy as np\n",
    "import matplotlib.pyplot as plt\n",
    "\n",
    "%matplotlib inline"
   ]
  },
  {
   "cell_type": "code",
   "execution_count": 2,
   "metadata": {},
   "outputs": [],
   "source": [
    "# import local files for analysis\n",
    "\n",
    "df_customer = pd.read_csv('./Customer_info_table.csv')\n",
    "df_prod = pd.read_csv('./Product_info_table.csv')\n",
    "df_inv = pd.read_csv('./Invoice_info_table.csv')"
   ]
  },
  {
   "cell_type": "code",
   "execution_count": 15,
   "metadata": {},
   "outputs": [
    {
     "name": "stdout",
     "output_type": "stream",
     "text": [
      "Customer Info:\n",
      "<class 'pandas.core.frame.DataFrame'>\n",
      "RangeIndex: 4389 entries, 0 to 4388\n",
      "Data columns (total 2 columns):\n",
      " #   Column      Non-Null Count  Dtype  \n",
      "---  ------      --------------  -----  \n",
      " 0   CustomerID  4380 non-null   float64\n",
      " 1   Country     4389 non-null   object \n",
      "dtypes: float64(1), object(1)\n",
      "memory usage: 68.7+ KB\n",
      "None, \n",
      "\n",
      "Size of Cust Info Table: (4389, 2)\n",
      "# of unique customers: 4372\n",
      "Are null values listed: True\n",
      "\n"
     ]
    },
    {
     "data": {
      "text/html": [
       "<div>\n",
       "<style scoped>\n",
       "    .dataframe tbody tr th:only-of-type {\n",
       "        vertical-align: middle;\n",
       "    }\n",
       "\n",
       "    .dataframe tbody tr th {\n",
       "        vertical-align: top;\n",
       "    }\n",
       "\n",
       "    .dataframe thead th {\n",
       "        text-align: right;\n",
       "    }\n",
       "</style>\n",
       "<table border=\"1\" class=\"dataframe\">\n",
       "  <thead>\n",
       "    <tr style=\"text-align: right;\">\n",
       "      <th></th>\n",
       "      <th>CustomerID</th>\n",
       "      <th>Country</th>\n",
       "    </tr>\n",
       "  </thead>\n",
       "  <tbody>\n",
       "    <tr>\n",
       "      <th>0</th>\n",
       "      <td>16143.0</td>\n",
       "      <td>United Kingdom</td>\n",
       "    </tr>\n",
       "    <tr>\n",
       "      <th>1</th>\n",
       "      <td>13983.0</td>\n",
       "      <td>United Kingdom</td>\n",
       "    </tr>\n",
       "    <tr>\n",
       "      <th>2</th>\n",
       "      <td>15854.0</td>\n",
       "      <td>United Kingdom</td>\n",
       "    </tr>\n",
       "    <tr>\n",
       "      <th>3</th>\n",
       "      <td>17634.0</td>\n",
       "      <td>United Kingdom</td>\n",
       "    </tr>\n",
       "    <tr>\n",
       "      <th>4</th>\n",
       "      <td>12933.0</td>\n",
       "      <td>United Kingdom</td>\n",
       "    </tr>\n",
       "  </tbody>\n",
       "</table>\n",
       "</div>"
      ],
      "text/plain": [
       "   CustomerID         Country\n",
       "0     16143.0  United Kingdom\n",
       "1     13983.0  United Kingdom\n",
       "2     15854.0  United Kingdom\n",
       "3     17634.0  United Kingdom\n",
       "4     12933.0  United Kingdom"
      ]
     },
     "execution_count": 15,
     "metadata": {},
     "output_type": "execute_result"
    }
   ],
   "source": [
    "# View Customer Info table & stats:\n",
    "\n",
    "print(f'Customer Info:')\n",
    "print(f'{df_customer.info()}, \\n')\n",
    "print(f'Size of Cust Info Table: {df_customer.shape}')\n",
    "print(f'# of unique customers: {df_customer.CustomerID.nunique()}')\n",
    "print(f'Are null values listed: {df_customer.CustomerID.isnull().any()}\\n')\n",
    "df_customer.head()"
   ]
  },
  {
   "cell_type": "code",
   "execution_count": 11,
   "metadata": {},
   "outputs": [
    {
     "name": "stdout",
     "output_type": "stream",
     "text": [
      "Product Info:\n",
      "<class 'pandas.core.frame.DataFrame'>\n",
      "RangeIndex: 18053 entries, 0 to 18052\n",
      "Data columns (total 3 columns):\n",
      " #   Column       Non-Null Count  Dtype  \n",
      "---  ------       --------------  -----  \n",
      " 0   StockCode    18053 non-null  object \n",
      " 1   Description  17093 non-null  object \n",
      " 2   UnitPrice    18053 non-null  float64\n",
      "dtypes: float64(1), object(2)\n",
      "memory usage: 423.2+ KB\n",
      "None, \n",
      "\n",
      "Size of Product Table: (18053, 3)\n",
      "# of unique Products: \n",
      "StockCode      4070\n",
      "Description    4211\n",
      "UnitPrice      1630\n",
      "dtype: int64\n",
      "\n"
     ]
    },
    {
     "data": {
      "text/html": [
       "<div>\n",
       "<style scoped>\n",
       "    .dataframe tbody tr th:only-of-type {\n",
       "        vertical-align: middle;\n",
       "    }\n",
       "\n",
       "    .dataframe tbody tr th {\n",
       "        vertical-align: top;\n",
       "    }\n",
       "\n",
       "    .dataframe thead th {\n",
       "        text-align: right;\n",
       "    }\n",
       "</style>\n",
       "<table border=\"1\" class=\"dataframe\">\n",
       "  <thead>\n",
       "    <tr style=\"text-align: right;\">\n",
       "      <th></th>\n",
       "      <th>StockCode</th>\n",
       "      <th>Description</th>\n",
       "      <th>UnitPrice</th>\n",
       "    </tr>\n",
       "  </thead>\n",
       "  <tbody>\n",
       "    <tr>\n",
       "      <th>0</th>\n",
       "      <td>22027</td>\n",
       "      <td>TEA PARTY BIRTHDAY CARD</td>\n",
       "      <td>0.42</td>\n",
       "    </tr>\n",
       "    <tr>\n",
       "      <th>1</th>\n",
       "      <td>90214C</td>\n",
       "      <td>\"LETTER \"\"C\"\" BLING KEY RING\"</td>\n",
       "      <td>0.85</td>\n",
       "    </tr>\n",
       "    <tr>\n",
       "      <th>2</th>\n",
       "      <td>84748</td>\n",
       "      <td>FOLK FELT HANGING MULTICOL GARLAND</td>\n",
       "      <td>2.51</td>\n",
       "    </tr>\n",
       "    <tr>\n",
       "      <th>3</th>\n",
       "      <td>47585A</td>\n",
       "      <td>PINK FAIRY CAKE CUSHION COVER</td>\n",
       "      <td>4.21</td>\n",
       "    </tr>\n",
       "    <tr>\n",
       "      <th>4</th>\n",
       "      <td>90018A</td>\n",
       "      <td>SILVER M.O.P ORBIT DROP EARRINGS</td>\n",
       "      <td>4.24</td>\n",
       "    </tr>\n",
       "  </tbody>\n",
       "</table>\n",
       "</div>"
      ],
      "text/plain": [
       "  StockCode                         Description  UnitPrice\n",
       "0     22027             TEA PARTY BIRTHDAY CARD       0.42\n",
       "1    90214C       \"LETTER \"\"C\"\" BLING KEY RING\"       0.85\n",
       "2     84748  FOLK FELT HANGING MULTICOL GARLAND       2.51\n",
       "3    47585A       PINK FAIRY CAKE CUSHION COVER       4.21\n",
       "4    90018A    SILVER M.O.P ORBIT DROP EARRINGS       4.24"
      ]
     },
     "execution_count": 11,
     "metadata": {},
     "output_type": "execute_result"
    }
   ],
   "source": [
    "# Take a look at the Product Table:\n",
    "\n",
    "print(f'Product Info:')\n",
    "print(f'{df_prod.info()}, \\n')\n",
    "print(f'Size of Product Table: {df_prod.shape}')\n",
    "print(f'# of unique Products: \\n{df_prod.nunique()}\\n')\n",
    "df_prod.head()"
   ]
  },
  {
   "cell_type": "code",
   "execution_count": 5,
   "metadata": {},
   "outputs": [
    {
     "name": "stdout",
     "output_type": "stream",
     "text": [
      "<class 'pandas.core.frame.DataFrame'>\n",
      "RangeIndex: 536480 entries, 0 to 536479\n",
      "Data columns (total 5 columns):\n",
      " #   Column       Non-Null Count   Dtype  \n",
      "---  ------       --------------   -----  \n",
      " 0   InvoiceNo    536480 non-null  object \n",
      " 1   StockCode    536480 non-null  object \n",
      " 2   Quantity     536480 non-null  int64  \n",
      " 3   InvoiceDate  536480 non-null  object \n",
      " 4   CustomerID   401549 non-null  float64\n",
      "dtypes: float64(1), int64(1), object(3)\n",
      "memory usage: 20.5+ MB\n",
      "Invoice Data: None\n",
      "\n",
      "Size of Invoice Table: (536480, 5)\n",
      "# of unique customers: 4372\n",
      "\n"
     ]
    },
    {
     "data": {
      "text/html": [
       "<div>\n",
       "<style scoped>\n",
       "    .dataframe tbody tr th:only-of-type {\n",
       "        vertical-align: middle;\n",
       "    }\n",
       "\n",
       "    .dataframe tbody tr th {\n",
       "        vertical-align: top;\n",
       "    }\n",
       "\n",
       "    .dataframe thead th {\n",
       "        text-align: right;\n",
       "    }\n",
       "</style>\n",
       "<table border=\"1\" class=\"dataframe\">\n",
       "  <thead>\n",
       "    <tr style=\"text-align: right;\">\n",
       "      <th></th>\n",
       "      <th>InvoiceNo</th>\n",
       "      <th>StockCode</th>\n",
       "      <th>Quantity</th>\n",
       "      <th>InvoiceDate</th>\n",
       "      <th>CustomerID</th>\n",
       "    </tr>\n",
       "  </thead>\n",
       "  <tbody>\n",
       "    <tr>\n",
       "      <th>0</th>\n",
       "      <td>536408</td>\n",
       "      <td>22706</td>\n",
       "      <td>25</td>\n",
       "      <td>12/1/2010 11:41</td>\n",
       "      <td>14307.0</td>\n",
       "    </tr>\n",
       "    <tr>\n",
       "      <th>1</th>\n",
       "      <td>536528</td>\n",
       "      <td>22634</td>\n",
       "      <td>1</td>\n",
       "      <td>12/1/2010 13:17</td>\n",
       "      <td>15525.0</td>\n",
       "    </tr>\n",
       "    <tr>\n",
       "      <th>2</th>\n",
       "      <td>536529</td>\n",
       "      <td>22164</td>\n",
       "      <td>6</td>\n",
       "      <td>12/1/2010 13:20</td>\n",
       "      <td>14237.0</td>\n",
       "    </tr>\n",
       "    <tr>\n",
       "      <th>3</th>\n",
       "      <td>536544</td>\n",
       "      <td>22111</td>\n",
       "      <td>2</td>\n",
       "      <td>12/1/2010 14:32</td>\n",
       "      <td>NaN</td>\n",
       "    </tr>\n",
       "    <tr>\n",
       "      <th>4</th>\n",
       "      <td>536544</td>\n",
       "      <td>21238</td>\n",
       "      <td>4</td>\n",
       "      <td>12/1/2010 14:32</td>\n",
       "      <td>NaN</td>\n",
       "    </tr>\n",
       "  </tbody>\n",
       "</table>\n",
       "</div>"
      ],
      "text/plain": [
       "  InvoiceNo StockCode  Quantity      InvoiceDate  CustomerID\n",
       "0    536408     22706        25  12/1/2010 11:41     14307.0\n",
       "1    536528     22634         1  12/1/2010 13:17     15525.0\n",
       "2    536529     22164         6  12/1/2010 13:20     14237.0\n",
       "3    536544     22111         2  12/1/2010 14:32         NaN\n",
       "4    536544     21238         4  12/1/2010 14:32         NaN"
      ]
     },
     "execution_count": 5,
     "metadata": {},
     "output_type": "execute_result"
    }
   ],
   "source": [
    "# Take a look at the Customer Invoice Table:\n",
    "print(f'Invoice Data: {df_inv.info()}\\n')\n",
    "print(f'Size of Invoice Table: {df_inv.shape}')\n",
    "print(f'# of unique customers: {df_inv.CustomerID.nunique()}\\n')\n",
    "df_inv.head()"
   ]
  },
  {
   "cell_type": "code",
   "execution_count": 6,
   "metadata": {},
   "outputs": [
    {
     "name": "stdout",
     "output_type": "stream",
     "text": [
      "# of unique customers by invoice: 4372\n",
      "# of unique customers by customer database: 4372\n"
     ]
    }
   ],
   "source": [
    "# notice 2 values for each table are the same.\n",
    "\n",
    "print(f'# of unique customers by invoice: {df_inv.CustomerID.nunique()}')\n",
    "print(f'# of unique customers by customer database: {df_customer.CustomerID.nunique()}')"
   ]
  },
  {
   "cell_type": "markdown",
   "metadata": {},
   "source": [
    "#### Question 1: Customer Aquisition Cost\n",
    "---"
   ]
  },
  {
   "cell_type": "code",
   "execution_count": 7,
   "metadata": {},
   "outputs": [
    {
     "name": "stdout",
     "output_type": "stream",
     "text": [
      "Size of df_ci: (1616852, 6)\n",
      "Check for duplicated values: False    1616852\n",
      "dtype: int64\n",
      "\n"
     ]
    },
    {
     "data": {
      "text/html": [
       "<div>\n",
       "<style scoped>\n",
       "    .dataframe tbody tr th:only-of-type {\n",
       "        vertical-align: middle;\n",
       "    }\n",
       "\n",
       "    .dataframe tbody tr th {\n",
       "        vertical-align: top;\n",
       "    }\n",
       "\n",
       "    .dataframe thead th {\n",
       "        text-align: right;\n",
       "    }\n",
       "</style>\n",
       "<table border=\"1\" class=\"dataframe\">\n",
       "  <thead>\n",
       "    <tr style=\"text-align: right;\">\n",
       "      <th></th>\n",
       "      <th>CustomerID</th>\n",
       "      <th>Country</th>\n",
       "      <th>InvoiceNo</th>\n",
       "      <th>StockCode</th>\n",
       "      <th>Quantity</th>\n",
       "      <th>InvoiceDate</th>\n",
       "    </tr>\n",
       "  </thead>\n",
       "  <tbody>\n",
       "    <tr>\n",
       "      <th>0</th>\n",
       "      <td>16143.0</td>\n",
       "      <td>United Kingdom</td>\n",
       "      <td>537211</td>\n",
       "      <td>22666</td>\n",
       "      <td>6</td>\n",
       "      <td>12/5/2010 15:18</td>\n",
       "    </tr>\n",
       "    <tr>\n",
       "      <th>1</th>\n",
       "      <td>16143.0</td>\n",
       "      <td>United Kingdom</td>\n",
       "      <td>564190</td>\n",
       "      <td>23240</td>\n",
       "      <td>6</td>\n",
       "      <td>8/23/2011 16:01</td>\n",
       "    </tr>\n",
       "    <tr>\n",
       "      <th>2</th>\n",
       "      <td>16143.0</td>\n",
       "      <td>United Kingdom</td>\n",
       "      <td>552711</td>\n",
       "      <td>21218</td>\n",
       "      <td>6</td>\n",
       "      <td>5/11/2011 8:32</td>\n",
       "    </tr>\n",
       "    <tr>\n",
       "      <th>3</th>\n",
       "      <td>16143.0</td>\n",
       "      <td>United Kingdom</td>\n",
       "      <td>552711</td>\n",
       "      <td>21174</td>\n",
       "      <td>12</td>\n",
       "      <td>5/11/2011 8:32</td>\n",
       "    </tr>\n",
       "    <tr>\n",
       "      <th>4</th>\n",
       "      <td>16143.0</td>\n",
       "      <td>United Kingdom</td>\n",
       "      <td>543538</td>\n",
       "      <td>22667</td>\n",
       "      <td>6</td>\n",
       "      <td>2/9/2011 13:57</td>\n",
       "    </tr>\n",
       "  </tbody>\n",
       "</table>\n",
       "</div>"
      ],
      "text/plain": [
       "   CustomerID         Country InvoiceNo StockCode  Quantity      InvoiceDate\n",
       "0     16143.0  United Kingdom    537211     22666         6  12/5/2010 15:18\n",
       "1     16143.0  United Kingdom    564190     23240         6  8/23/2011 16:01\n",
       "2     16143.0  United Kingdom    552711     21218         6   5/11/2011 8:32\n",
       "3     16143.0  United Kingdom    552711     21174        12   5/11/2011 8:32\n",
       "4     16143.0  United Kingdom    543538     22667         6   2/9/2011 13:57"
      ]
     },
     "execution_count": 7,
     "metadata": {},
     "output_type": "execute_result"
    }
   ],
   "source": [
    "# Customer Info Table and the Customer Invoice table:\n",
    "# Share the same amount of unique entries\n",
    "# Perform a merge on the Customer ID colummn\n",
    "# reference: https://pandas.pydata.org/docs/reference/api/pandas.DataFrame.merge.html\n",
    "\n",
    "df_ci = pd.merge(df_customer, df_inv, how='left', left_on='CustomerID', right_on='CustomerID')\n",
    "print(f'Size of df_ci: {df_ci.shape}')\n",
    "\n",
    "# reference for duplicates: https://pandas.pydata.org/docs/reference/api/pandas.DataFrame.duplicated.html\n",
    "print(f'Check for duplicated values: {df_ci.duplicated().value_counts()}\\n')\n",
    "df_ci.head()\n",
    "\n",
    "# Size of the dataframe and # of non-unique values are equal\n",
    "# So the merge went well: all entries are unique in some way."
   ]
  },
  {
   "cell_type": "code",
   "execution_count": 23,
   "metadata": {},
   "outputs": [
    {
     "data": {
      "text/plain": [
       "10/31/2011 14:41    10017\n",
       "12/8/2011 9:28       6741\n",
       "12/9/2011 10:03      6579\n",
       "12/5/2011 17:24      6489\n",
       "6/29/2011 15:58      6345\n",
       "                    ...  \n",
       "4/28/2011 18:27         1\n",
       "7/28/2011 13:40         1\n",
       "9/2/2011 12:41          1\n",
       "10/6/2011 12:37         1\n",
       "12/2/2011 16:32         1\n",
       "Name: InvoiceDate, Length: 23260, dtype: int64"
      ]
     },
     "execution_count": 23,
     "metadata": {},
     "output_type": "execute_result"
    }
   ],
   "source": [
    "# Arrange data frame from highest to lowest Quantity\n",
    "\n",
    "df_ci.InvoiceDate.value_counts()"
   ]
  },
  {
   "cell_type": "code",
   "execution_count": 35,
   "metadata": {},
   "outputs": [
    {
     "name": "stdout",
     "output_type": "stream",
     "text": [
      "<class 'pandas.core.series.Series'>\n",
      "<class 'str'>\n",
      "\n",
      " 0          12/5/2010 15:18\n",
      "1          8/23/2011 16:01\n",
      "2           5/11/2011 8:32\n",
      "3           5/11/2011 8:32\n",
      "4           2/9/2011 13:57\n",
      "                ...       \n",
      "1616847    11/6/2011 13:53\n",
      "1616848    12/1/2011 10:38\n",
      "1616849    11/6/2011 13:53\n",
      "1616850    12/1/2011 10:38\n",
      "1616851    12/1/2011 10:38\n",
      "Name: InvoiceDate, Length: 1616852, dtype: object\n",
      "\n",
      "1st array index for 'dates' = 12/5/2010 15:18\n"
     ]
    }
   ],
   "source": [
    "# pull all invoice dates from the dataframe into new variables\n",
    "dates = df_ci.InvoiceDate\n",
    "\n",
    "print(type(dates))\n",
    "print(type(dates[0])) # Panda Series of string data\n",
    "\n",
    "print(f'\\n {dates}')\n",
    "print(f'\\n1st array index for \\'dates\\' = {dates[0]}')"
   ]
  },
  {
   "cell_type": "code",
   "execution_count": 36,
   "metadata": {},
   "outputs": [
    {
     "ename": "TypeError",
     "evalue": "descriptor 'strftime' for 'datetime.date' objects doesn't apply to a 'Series' object",
     "output_type": "error",
     "traceback": [
      "\u001b[0;31m---------------------------------------------------------------------------\u001b[0m",
      "\u001b[0;31mTypeError\u001b[0m                                 Traceback (most recent call last)",
      "\u001b[0;32m/tmp/ipykernel_58877/2504895336.py\u001b[0m in \u001b[0;36m<module>\u001b[0;34m\u001b[0m\n\u001b[1;32m      5\u001b[0m \u001b[0mdate_string\u001b[0m \u001b[0;34m=\u001b[0m \u001b[0mdates\u001b[0m\u001b[0;34m\u001b[0m\u001b[0;34m\u001b[0m\u001b[0m\n\u001b[1;32m      6\u001b[0m \u001b[0mformat_string\u001b[0m \u001b[0;34m=\u001b[0m \u001b[0;34m'%Y-%m-%d'\u001b[0m\u001b[0;34m\u001b[0m\u001b[0;34m\u001b[0m\u001b[0m\n\u001b[0;32m----> 7\u001b[0;31m \u001b[0mdate_n\u001b[0m \u001b[0;34m=\u001b[0m \u001b[0mdatetime\u001b[0m\u001b[0;34m.\u001b[0m\u001b[0mstrftime\u001b[0m\u001b[0;34m(\u001b[0m\u001b[0mdate_string\u001b[0m\u001b[0;34m,\u001b[0m \u001b[0mformat_string\u001b[0m\u001b[0;34m)\u001b[0m\u001b[0;34m\u001b[0m\u001b[0;34m\u001b[0m\u001b[0m\n\u001b[0m",
      "\u001b[0;31mTypeError\u001b[0m: descriptor 'strftime' for 'datetime.date' objects doesn't apply to a 'Series' object"
     ]
    }
   ],
   "source": [
    "# remove time from the date/time stamp: (didn't work yet)\n",
    "# https://stackoverflow.com/questions/29310116/removing-time-from-datetime-variable-in-pandas\n",
    "\n"
   ]
  }
 ],
 "metadata": {
  "kernelspec": {
   "display_name": "Python 3.9.12 ('base')",
   "language": "python",
   "name": "python3"
  },
  "language_info": {
   "codemirror_mode": {
    "name": "ipython",
    "version": 3
   },
   "file_extension": ".py",
   "mimetype": "text/x-python",
   "name": "python",
   "nbconvert_exporter": "python",
   "pygments_lexer": "ipython3",
   "version": "3.9.13"
  },
  "orig_nbformat": 4,
  "vscode": {
   "interpreter": {
    "hash": "a906719eb24c6be2b596ddc3d3a5af6aa9dceef416174b553d74a9f9263f1789"
   }
  }
 },
 "nbformat": 4,
 "nbformat_minor": 2
}
