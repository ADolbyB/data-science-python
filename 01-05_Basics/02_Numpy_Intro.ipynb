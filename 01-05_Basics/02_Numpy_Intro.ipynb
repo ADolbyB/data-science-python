{
  "cells": [
    {
      "cell_type": "markdown",
      "metadata": {
        "id": "dhGTiMF_KI0K"
      },
      "source": [
        "# NumPy Library\n",
        "---\n",
        "\n",
        "Numpy is the core library for scientific computing in Python. It provides a high performance multidimensional array object and tools for working with these arrays. If you are familiar with MATLAB, you light find this tutorial useful to get started with Numpy.\n",
        "\n",
        "Numpy is much more efficient than using lists as a data type and performing operations on those lists. It is mostly used for dealing with arrays and mathematical computations on matrices and operations on those matrices such as transpose, dot product, cross product, etc.\n",
        "\n",
        "W3Schools: https://www.w3schools.com/python/numpy/numpy_creating_arrays.asp\n",
        "\n",
        "GitHub Link: https://github.com/numpy/numpy\n",
        "\n",
        "To use Numpy, we first need to import the numpy package:"
      ]
    },
    {
      "cell_type": "code",
      "execution_count": 17,
      "metadata": {
        "id": "YCiAIhOEJ6eK"
      },
      "outputs": [],
      "source": [
        "# import Numpy package and refer to it as \"np\"\n",
        "\n",
        "import numpy as np"
      ]
    },
    {
      "cell_type": "markdown",
      "metadata": {
        "id": "2Oz_8uwT6ONV"
      },
      "source": [
        "## Arrays: The Basics\n",
        "---\n",
        "\n",
        "A Numpy array is a grid of values and they have the same data type. \n",
        "Python array indices always start at [0]"
      ]
    },
    {
      "cell_type": "code",
      "execution_count": 18,
      "metadata": {
        "colab": {
          "base_uri": "https://localhost:8080/"
        },
        "id": "Z0px9jFI6fPe",
        "outputId": "475fa544-7629-4cbf-f3f4-8ee608e68143"
      },
      "outputs": [
        {
          "name": "stdout",
          "output_type": "stream",
          "text": [
            "Type of Numpy array is <class 'numpy.ndarray'>\n",
            "Shape of array: (3,)\n",
            "1st Element is: 1\n",
            "2nd Element is: 2\n",
            "3rd Element is: 3\n"
          ]
        }
      ],
      "source": [
        "# Numpy can create arrays of different rank (aka dimension)\n",
        "# access command: ndim (number of dimensions)\n",
        "\n",
        "a = np.array([1, 2, 3])   # This is an array of rank 1 (single dimension)\n",
        "\n",
        "# check for the type that is created by numpy\n",
        "print(f'Type of Numpy array is {type(a)}')\n",
        "\n",
        "# check for the shape that we created\n",
        "print(f'Shape of array: {a.shape}')\n",
        "\n",
        "# print the individual elements in array 'a'\n",
        "print(f'1st Element is: {a[0]}\\n2nd Element is: {a[1]}\\n3rd Element is: {a[2]}')"
      ]
    },
    {
      "cell_type": "code",
      "execution_count": 19,
      "metadata": {
        "colab": {
          "base_uri": "https://localhost:8080/"
        },
        "id": "ROv24Xhk7dof",
        "outputId": "953a58e3-87ff-4800-ec59-2f88fcbb1cea"
      },
      "outputs": [
        {
          "name": "stdout",
          "output_type": "stream",
          "text": [
            "[1 2 3]\n"
          ]
        },
        {
          "data": {
            "text/plain": [
              "array([1, 2, 3])"
            ]
          },
          "execution_count": 19,
          "metadata": {},
          "output_type": "execute_result"
        }
      ],
      "source": [
        "print(a)\n",
        "\n",
        "a"
      ]
    },
    {
      "cell_type": "code",
      "execution_count": 20,
      "metadata": {
        "colab": {
          "base_uri": "https://localhost:8080/"
        },
        "id": "9NiUAEW89LG8",
        "outputId": "9b5e48aa-8392-4abd-8ecc-185dbd838c3f"
      },
      "outputs": [
        {
          "name": "stdout",
          "output_type": "stream",
          "text": [
            "Type of Numpy array is <class 'numpy.ndarray'>\n",
            "Shape of array: (2, 3)\n",
            "Elements in the 1st row of b:\n",
            "1st Element is: 1\n",
            "2nd Element is: 2\n",
            "3rd Element is: 3\n",
            "Elements in the 2nd row of b:\n",
            "1st Element is: 4\n",
            "2nd Element is: 5\n",
            "3rd Element is: 6\n"
          ]
        }
      ],
      "source": [
        "# Create an array of rank 2\n",
        "\n",
        "b = np.array([[1,2,3],[4,5,6]])   # this is a 2 dimensional matrix array\n",
        "\n",
        "print(f'Type of Numpy array is {type(b)}')\n",
        "\n",
        "# check for the shape that we created\n",
        "\n",
        "print(f'Shape of array: {b.shape}')\n",
        "\n",
        "# print the individual elements in array 'b'\n",
        "\n",
        "print(f'Elements in the 1st row of b:\\n1st Element is: {b[0,0]}\\n2nd Element is: {b[0,1]}\\n3rd Element is: {b[0,2]}')\n",
        "print(f'Elements in the 2nd row of b:\\n1st Element is: {b[1,0]}\\n2nd Element is: {b[1,1]}\\n3rd Element is: {b[1,2]}')"
      ]
    },
    {
      "cell_type": "code",
      "execution_count": 21,
      "metadata": {
        "colab": {
          "base_uri": "https://localhost:8080/"
        },
        "id": "FG3nDob9-jYR",
        "outputId": "f683ff63-9416-403d-e77b-baf094ca4ef5"
      },
      "outputs": [
        {
          "name": "stdout",
          "output_type": "stream",
          "text": [
            "[[1 2 3]\n",
            " [4 5 6]]\n"
          ]
        },
        {
          "data": {
            "text/plain": [
              "array([[1, 2, 3],\n",
              "       [4, 5, 6]])"
            ]
          },
          "execution_count": 21,
          "metadata": {},
          "output_type": "execute_result"
        }
      ],
      "source": [
        "print(b)\n",
        "\n",
        "b"
      ]
    },
    {
      "cell_type": "code",
      "execution_count": 22,
      "metadata": {
        "colab": {
          "base_uri": "https://localhost:8080/"
        },
        "id": "O1PGFnc6_Ko1",
        "outputId": "a1f48978-e2c4-4b46-9220-df4ac55674a5"
      },
      "outputs": [
        {
          "name": "stdout",
          "output_type": "stream",
          "text": [
            "[[0. 0.]\n",
            " [0. 0.]] \n",
            "\n",
            "[[1. 1.]\n",
            " [1. 1.]] \n",
            "\n",
            "[[5 5]\n",
            " [5 5]] \n",
            "\n",
            "[[1. 0. 0. 0. 0.]\n",
            " [0. 1. 0. 0. 0.]\n",
            " [0. 0. 1. 0. 0.]\n",
            " [0. 0. 0. 1. 0.]\n",
            " [0. 0. 0. 0. 1.]] \n",
            "\n",
            "[[0.98910998 0.34776754 0.73904182 0.28784816]\n",
            " [0.76490857 0.10753245 0.19478799 0.26652742]\n",
            " [0.27268694 0.6436167  0.947759   0.87492761]\n",
            " [0.29138652 0.48385749 0.48697123 0.40103061]] \n",
            "\n"
          ]
        }
      ],
      "source": [
        "# Create an array of zeros:\n",
        "z = np.zeros((2,2))   # 2x2 matrix filled with zeros\n",
        "print(z, '\\n')\n",
        "\n",
        "# Create an array of ones:\n",
        "o = np.ones((2,2))    # 2x2 matrix filled with ones\n",
        "print(o, '\\n')\n",
        "\n",
        "# Create an array of some specific value:\n",
        "f = np.full((2,2),5)    # 2x2 matrix, specific value is 5\n",
        "print(f, '\\n')\n",
        "\n",
        "# Create an identity matrix\n",
        "e = np.eye(5)   # creates a 5x5 identity matrix\n",
        "print(e, '\\n')\n",
        "\n",
        "# Create an array of random values\n",
        "r = np.random.random((4,4))   # creates a 4x4 shaped random value matrix\n",
        "print(r, '\\n')"
      ]
    },
    {
      "cell_type": "markdown",
      "metadata": {
        "id": "FDuMc5TeB1rY"
      },
      "source": [
        "## Array Indexing\n",
        "---\n",
        "How to create matrix arrays and copy them."
      ]
    },
    {
      "cell_type": "code",
      "execution_count": 23,
      "metadata": {
        "colab": {
          "base_uri": "https://localhost:8080/"
        },
        "id": "ig44VzTlB0NW",
        "outputId": "10c32008-97ff-4eb1-c4e4-13069cad8a93"
      },
      "outputs": [
        {
          "name": "stdout",
          "output_type": "stream",
          "text": [
            "Array a:\n",
            "\n",
            "[[ 1  2  3  4]\n",
            " [ 5  6  7  8]\n",
            " [ 9 10 11 12]]\n",
            "\n",
            "Shape of Array: (3, 4)\n"
          ]
        }
      ],
      "source": [
        "# Create a 3x4 array\n",
        "\n",
        "a = np.array([[1, 2, 3, 4], [5, 6, 7, 8], [9, 10, 11, 12]])\n",
        "print(f'Array a:\\n\\n{a}\\n\\nShape of Array: {a.shape}')"
      ]
    },
    {
      "cell_type": "code",
      "execution_count": 36,
      "metadata": {
        "colab": {
          "base_uri": "https://localhost:8080/"
        },
        "id": "tJGqfX4vC2tN",
        "outputId": "98666db7-c1e2-489a-9af3-e17f765c89be"
      },
      "outputs": [
        {
          "name": "stdout",
          "output_type": "stream",
          "text": [
            "Sliced Array:\n",
            "\n",
            "[[13  3]\n",
            " [ 6  7]]\n",
            "\n",
            "Shape of B: (2, 2)\n"
          ]
        }
      ],
      "source": [
        "# now what if we want to extract 2, 3, 6 and 7 from 'a', and put them in a new array 'b'?\n",
        "# this is called \"slicing\" an array:\n",
        "# we are looking to extract elements from Row 0 and 1, and Column 1 and 2 (remember index starts at 0)\n",
        "\n",
        "b = a[:2,1:3]   # Syntax [start row : end row, start column : end column] **Leaving the start row empty defaults to Row 0\n",
        "\n",
        "# note that start row is INCLUDED, but end row is EXCLUDED in the results\n",
        "print(f'Sliced Array:\\n\\n{b}\\n\\nShape of B: {b.shape}')"
      ]
    },
    {
      "cell_type": "code",
      "execution_count": 25,
      "metadata": {
        "colab": {
          "base_uri": "https://localhost:8080/"
        },
        "id": "mmQgQIpeHirU",
        "outputId": "3c836199-1466-4669-a8ea-4bada3ac42d4"
      },
      "outputs": [
        {
          "name": "stdout",
          "output_type": "stream",
          "text": [
            "Array b:\n",
            "\n",
            "[[13  3]\n",
            " [ 6  7]]\n",
            "\n",
            "Array a:\n",
            "\n",
            "[[ 1 13  3  4]\n",
            " [ 5  6  7  8]\n",
            " [ 9 10 11 12]]\n"
          ]
        }
      ],
      "source": [
        "# if we change a value in array 'b', then we change the value in 'a' as well.\n",
        "\n",
        "b[0,0] = 13 # b[0,0] = a[0,1]\n",
        "print(f'Array b:\\n\\n{b}\\n\\nArray a:\\n\\n{a}')"
      ]
    },
    {
      "cell_type": "code",
      "execution_count": 26,
      "metadata": {
        "colab": {
          "base_uri": "https://localhost:8080/"
        },
        "id": "xhL0TS8RI1cT",
        "outputId": "628c9373-e9e9-42e0-8a49-f607dbdb5e51"
      },
      "outputs": [
        {
          "name": "stdout",
          "output_type": "stream",
          "text": [
            "Array c:\n",
            "\n",
            "[[ 1  2  3  4]\n",
            " [ 5  6  7  8]\n",
            " [ 9 10 11 12]]\n",
            "\n",
            "Shape of Array: (3, 4)\n"
          ]
        }
      ],
      "source": [
        "# to avoid this we need to create a \"copy\" instead...\n",
        "\n",
        "c = np.array([[1, 2, 3, 4], [5, 6, 7, 8], [9, 10, 11, 12]])\n",
        "print(f'Array c:\\n\\n{c}\\n\\nShape of Array: {c.shape}')"
      ]
    },
    {
      "cell_type": "code",
      "execution_count": 27,
      "metadata": {
        "colab": {
          "base_uri": "https://localhost:8080/"
        },
        "id": "lWRmYraWJMmX",
        "outputId": "c6e62dc6-081a-445e-be5b-037947355c9f"
      },
      "outputs": [
        {
          "name": "stdout",
          "output_type": "stream",
          "text": [
            "Sliced Array:\n",
            "\n",
            "[[2 3]\n",
            " [6 7]]\n",
            "\n",
            "Shape of d: (2, 2)\n"
          ]
        }
      ],
      "source": [
        "# now we'll slice array 'c' just like we did previously, but by making a copy instead\n",
        "\n",
        "d = c[:2,1:3].copy()    # we copied array c before slicing it, so we can change either one without affecting the other\n",
        "print(f'Sliced Array:\\n\\n{d}\\n\\nShape of d: {d.shape}')"
      ]
    },
    {
      "cell_type": "code",
      "execution_count": 28,
      "metadata": {
        "colab": {
          "base_uri": "https://localhost:8080/"
        },
        "id": "dvaf2lrFJxo3",
        "outputId": "3b762373-5a89-4dc7-c699-9f30bffbaaf5"
      },
      "outputs": [
        {
          "name": "stdout",
          "output_type": "stream",
          "text": [
            "Array d:\n",
            "\n",
            "[[13  3]\n",
            " [ 6  7]]\n",
            "\n",
            "Array c:\n",
            "\n",
            "[[ 1  2  3  4]\n",
            " [ 5  6  7  8]\n",
            " [ 9 10 11 12]]\n"
          ]
        }
      ],
      "source": [
        "d[0,0] = 13\n",
        "print(f'Array d:\\n\\n{d}\\n\\nArray c:\\n\\n{c}')\n",
        "\n",
        "# note that d changed but c did not in this case"
      ]
    },
    {
      "cell_type": "code",
      "execution_count": 29,
      "metadata": {
        "colab": {
          "base_uri": "https://localhost:8080/"
        },
        "id": "Z14s7FvGMq4h",
        "outputId": "61764775-deab-4619-c070-9217d7d8fbe8"
      },
      "outputs": [
        {
          "name": "stdout",
          "output_type": "stream",
          "text": [
            "int64 float64 float64\n",
            "Array x data type: int64\n",
            "Array y data type: float64\n",
            "Array z data type: float64\n"
          ]
        }
      ],
      "source": [
        "# Choosing specific datatypes for arrays:\n",
        "x = np.array([1,2])   # data type \"int64: chosen by numpy since we entered integers\n",
        "y = np.array([1.0, 2.0])    # data type \"float64\" chosen by numpy since we entered in decimals\n",
        "z = np.array([1,2], dtype = np.float64)   # user specified data type as float64 even though we entered integers\n",
        "\n",
        "print(x.dtype, y.dtype, z.dtype)\n",
        "print(f'Array x data type: {x.dtype}\\nArray y data type: {y.dtype}\\nArray z data type: {z.dtype}')"
      ]
    },
    {
      "cell_type": "markdown",
      "metadata": {
        "id": "R0XKpnlYOfIZ"
      },
      "source": [
        "## Array Math\n",
        "---\n",
        "The strength of Numpy..."
      ]
    },
    {
      "cell_type": "code",
      "execution_count": 30,
      "metadata": {
        "colab": {
          "base_uri": "https://localhost:8080/"
        },
        "id": "HgOa_ZfzOj_v",
        "outputId": "71ed77b8-7c2c-4991-88a5-dcbe09cee8bf"
      },
      "outputs": [
        {
          "name": "stdout",
          "output_type": "stream",
          "text": [
            "2 ways to add & subtract matrices:\n",
            "\n",
            "[[ 6  8]\n",
            " [10 12]] \n",
            "\n",
            "[[-4 -4]\n",
            " [-4 -4]] \n",
            "\n",
            "[[ 6  8]\n",
            " [10 12]] \n",
            "\n",
            "[[-4 -4]\n",
            " [-4 -4]]\n"
          ]
        }
      ],
      "source": [
        "# Addition & Subtraction of arrays:\n",
        "\n",
        "x = np.array(([1,2],[3,4]))\n",
        "y = np.array(([5,6],[7,8]))\n",
        "\n",
        "# Elementwise sum\n",
        "z = x + y\n",
        "w = x - y\n",
        "\n",
        "print('2 ways to add & subtract matrices:\\n')\n",
        "print(z, '\\n')\n",
        "print(w, '\\n')\n",
        "print(np.add(x,y), '\\n')\n",
        "print(np.subtract(x,y))"
      ]
    },
    {
      "cell_type": "code",
      "execution_count": 31,
      "metadata": {
        "colab": {
          "base_uri": "https://localhost:8080/"
        },
        "id": "sqN0rXJ7cVQk",
        "outputId": "ab39e963-10a2-4e21-e783-e574335945e5"
      },
      "outputs": [
        {
          "name": "stdout",
          "output_type": "stream",
          "text": [
            "2 ways to multiply & divide matrices:\n",
            "\n",
            "[[ 5 12]\n",
            " [21 32]] \n",
            "\n",
            "[[0.2        0.33333333]\n",
            " [0.42857143 0.5       ]] \n",
            "\n",
            "[[ 5 12]\n",
            " [21 32]] \n",
            "\n",
            "[[0.2        0.33333333]\n",
            " [0.42857143 0.5       ]]\n"
          ]
        }
      ],
      "source": [
        "# Multiplication and Division\n",
        "\n",
        "zz = x * y    \n",
        "ww = x / y\n",
        "\n",
        "print('2 ways to multiply & divide matrices:\\n')\n",
        "print(zz, '\\n')\n",
        "print(ww, '\\n')\n",
        "print(np.multiply(x,y), '\\n')\n",
        "print(np.divide(x,y))"
      ]
    },
    {
      "cell_type": "code",
      "execution_count": 32,
      "metadata": {
        "colab": {
          "base_uri": "https://localhost:8080/"
        },
        "id": "XjRaGDDNdhgL",
        "outputId": "89af3b8a-64c4-49db-f084-414f9c823529"
      },
      "outputs": [
        {
          "name": "stdout",
          "output_type": "stream",
          "text": [
            "Matrix x:\n",
            "\n",
            "[[1 2]\n",
            " [3 4]]\n",
            "\n",
            "Matrix sqrt(x):\n",
            "\n",
            "[[1.         1.41421356]\n",
            " [1.73205081 2.        ]]\n",
            "\n",
            "Matrix sqrt(x):\n",
            "\n",
            "[[1.         1.41421356]\n",
            " [1.73205081 2.        ]]\n",
            "\n",
            "Matrix zz:\n",
            "\n",
            "[[ 5 12]\n",
            " [21 32]]\n",
            "\n",
            "Matrix sqrt(zz):\n",
            "\n",
            "[[2.23606798 3.46410162]\n",
            " [4.58257569 5.65685425]]\n",
            "\n",
            "\n",
            "Matrix sqrt(zz):\n",
            "\n",
            "[[2.23606798 3.46410162]\n",
            " [4.58257569 5.65685425]]\n"
          ]
        }
      ],
      "source": [
        "# Square Root of matrix x\n",
        "print(f'Matrix x:\\n\\n{x}\\n')\n",
        "aa = np.sqrt(x)\n",
        "print(f'Matrix sqrt(x):\\n\\n{aa}\\n')\n",
        "print(f'Matrix sqrt(x):\\n\\n{np.sqrt(x)}\\n')\n",
        "\n",
        "# Square Root of marix zz\n",
        "bb = np.sqrt(zz)\n",
        "print(f'Matrix zz:\\n\\n{zz}\\n')\n",
        "print(f'Matrix sqrt(zz):\\n\\n{np.sqrt(zz)}\\n\\n')\n",
        "print(f'Matrix sqrt(zz):\\n\\n{bb}')"
      ]
    },
    {
      "cell_type": "code",
      "execution_count": 33,
      "metadata": {
        "colab": {
          "base_uri": "https://localhost:8080/"
        },
        "id": "YwLu-a40fDLx",
        "outputId": "c65f3ed4-d18e-4921-c57b-c14a656e2054"
      },
      "outputs": [
        {
          "name": "stdout",
          "output_type": "stream",
          "text": [
            "x:\n",
            "\n",
            "[[1 2]\n",
            " [3 4]]\n",
            "\n",
            "y:\n",
            "\n",
            "[[5 6]\n",
            " [7 8]]\n",
            "\n",
            "zz = x * y:\n",
            "\n",
            "[[ 5 12]\n",
            " [21 32]]\n",
            "\n",
            "[[ 5 12]\n",
            " [21 32]]\n",
            "\n",
            "Dot Product of X and Y:\n",
            "\n",
            "[[19 22]\n",
            " [43 50]]\n",
            "\n",
            "[[19 22]\n",
            " [43 50]]\n"
          ]
        }
      ],
      "source": [
        "# Dot Product of matrices x and y\n",
        "\n",
        "print(f'x:\\n\\n{x}\\n')\n",
        "print(f'y:\\n\\n{y}\\n')\n",
        "\n",
        "print(f'zz = x * y:\\n\\n{zz}\\n')    \n",
        "print(zz)\n",
        "\n",
        "print(f'\\nDot Product of X and Y:\\n')\n",
        "print(f'{x.dot(y)}\\n')\n",
        "print(np.dot(x,y))"
      ]
    },
    {
      "cell_type": "code",
      "execution_count": 34,
      "metadata": {
        "colab": {
          "base_uri": "https://localhost:8080/"
        },
        "id": "uBOd0Kr313eG",
        "outputId": "c8a1cd5d-fcda-4cc9-e60f-579db6f038a6"
      },
      "outputs": [
        {
          "name": "stdout",
          "output_type": "stream",
          "text": [
            "Array x:\n",
            "\n",
            "[[1 2]\n",
            " [3 4]]\n",
            "\n",
            "Sum of Array x:\n",
            "\n",
            "10\n",
            "\n",
            "Sum of Array x, Axis 0:\n",
            "\n",
            "[4 6]\n",
            "\n",
            "Sum of Array x, Axis 1:\n",
            "\n",
            "[3 7]\n"
          ]
        }
      ],
      "source": [
        "# Take sum of the contents of array a:\n",
        "print(f'Array x:\\n\\n{x}')\n",
        "print(f'\\nSum of Array x:\\n\\n{np.sum(x)}')\n",
        "print(f'\\nSum of Array x, Axis 0:\\n\\n{np.sum(x, axis = 0)}')\n",
        "print(f'\\nSum of Array x, Axis 1:\\n\\n{np.sum(x, axis = 1)}')"
      ]
    },
    {
      "cell_type": "code",
      "execution_count": 35,
      "metadata": {
        "colab": {
          "base_uri": "https://localhost:8080/"
        },
        "id": "h-xfQ4T33NjW",
        "outputId": "afed6715-bec5-4943-c38f-6e42c0fce6ab"
      },
      "outputs": [
        {
          "name": "stdout",
          "output_type": "stream",
          "text": [
            "Matrix x:\n",
            "\n",
            "[[1 2]\n",
            " [3 4]]\n",
            "\n",
            "Matrix x.T:\n",
            "\n",
            "[[1 3]\n",
            " [2 4]]\n",
            "\n"
          ]
        }
      ],
      "source": [
        "# Transpose of a Matrix:\n",
        "# Switch the rows with the columns\n",
        "\n",
        "# view your window in the transpose window\n",
        "# useful for linear regession, logistical regression algorithms when you need to multiply matrices by their transpose\n",
        "\n",
        "print(f'Matrix x:\\n\\n{x}\\n')\n",
        "print(f'Matrix x.T:\\n\\n{x.T}\\n')"
      ]
    }
  ],
  "metadata": {
    "colab": {
      "collapsed_sections": [
        "2Oz_8uwT6ONV",
        "FDuMc5TeB1rY"
      ],
      "name": "002_JB_Numpy_Intro.ipynb",
      "provenance": [],
      "toc_visible": true
    },
    "kernelspec": {
      "display_name": "base",
      "language": "python",
      "name": "python3"
    },
    "language_info": {
      "codemirror_mode": {
        "name": "ipython",
        "version": 3
      },
      "file_extension": ".py",
      "mimetype": "text/x-python",
      "name": "python",
      "nbconvert_exporter": "python",
      "pygments_lexer": "ipython3",
      "version": "3.9.13"
    },
    "vscode": {
      "interpreter": {
        "hash": "a906719eb24c6be2b596ddc3d3a5af6aa9dceef416174b553d74a9f9263f1789"
      }
    }
  },
  "nbformat": 4,
  "nbformat_minor": 0
}
