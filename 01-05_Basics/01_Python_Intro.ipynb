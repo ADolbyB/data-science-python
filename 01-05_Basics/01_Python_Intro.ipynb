{
 "cells": [
  {
   "cell_type": "markdown",
   "metadata": {
    "id": "jULGphTzeVYV"
   },
   "source": [
    "# Data Science & Machine Learning Summer Workshop\n",
    "\n",
    "---\n",
    "\n"
   ]
  },
  {
   "cell_type": "markdown",
   "metadata": {
    "id": "9HJ-1tFjxRW6"
   },
   "source": [
    "# \"Introducing Python\"\n",
    "\n",
    "Text Cell Lists:\n",
    "\n",
    "1.   List item 1\n",
    "2.   List item 2\n",
    "\n",
    "\n",
    "```\n",
    "# Print Function \n",
    "# Data-Types and Variables\n",
    "# Conditional Statements \n",
    "# Loops \n",
    "# Functions\n",
    "\n",
    "```\n",
    "\n"
   ]
  },
  {
   "cell_type": "markdown",
   "metadata": {
    "id": "LFw0L9kN7f0C",
    "tags": []
   },
   "source": [
    "# 1) How to make a text list:\n",
    "---\n",
    "\n",
    "1. Must use a text cell (not a code cell)\n",
    "2. Use 3 back ticks to mark beginning / end of comment block. \n",
    "  1. ```\n",
    "  Test for sub block...Hey look at that...\n",
    "  ```\n",
    "\n",
    "```\n",
    "\n",
    "# Like This\n",
    "  tab key indent works here\n",
    "    another indent\n",
    "      one more\n",
    "# Another comment line\n",
    "# Here is the 3rd line\n",
    "\n",
    "```\n",
    "\n",
    "## Double pound sign makes it a sub-heading\n",
    "\n",
    "use 3 hyphens to make a dividing line\n",
    "\n",
    "---"
   ]
  },
  {
   "cell_type": "code",
   "execution_count": null,
   "metadata": {
    "id": "GybXI_tNDxd3"
   },
   "outputs": [],
   "source": [
    "# This is a block of code inside a code cell\n",
    "\n",
    "# To add a code cell below this one: press Ctrl+MB\n",
    "# To delete the current block of code (like if its blank): press Ctrl+MD\n",
    "# To undo last action (the accidental delete): press Ctrl+MZ\n",
    "# Adding blocks of code between text blocks\n",
    "# pound sign for 1 line comments\n",
    "# To move this cell up one level: press Ctrl+MK\n",
    "# To move this cell down one level: press Ctrl+MJ\n",
    "# To execute this line: Press Ctrl+Enter\n",
    "# To execute this line and advance to the next line: Press Shift+Enter\n",
    "\n",
    "\n",
    "'''\n",
    "\n",
    "Block comments:\n",
    "Between the 3 single quote marks are Block Comments\n",
    "\n",
    "'''\n",
    "\n"
   ]
  },
  {
   "cell_type": "markdown",
   "metadata": {
    "id": "WAq8E3QTfEuG"
   },
   "source": [
    "# 2) Print Function\n",
    "\n",
    "---\n",
    "\n"
   ]
  },
  {
   "cell_type": "markdown",
   "metadata": {
    "id": "9k9qGFJhBJib"
   },
   "source": [
    "Print Rules and Syntax:\n",
    "\n",
    "---"
   ]
  },
  {
   "cell_type": "code",
   "execution_count": null,
   "metadata": {
    "colab": {
     "base_uri": "https://localhost:8080/"
    },
    "executionInfo": {
     "elapsed": 273,
     "status": "ok",
     "timestamp": 1624901544463,
     "user": {
      "displayName": "Joel Brigida",
      "photoUrl": "https://lh3.googleusercontent.com/a-/AOh14Gi5jpwxzxgci18vzsZ0Qc1QNoVi75SXgr4cWkdZpjZGk2Syca1WmIazn5PYyGztQLLf2-247MitLzLRfFhaU5OLW7AFQufXBNJS2QmA5vsE7HjfgeCfA4FuLJrWLsfWpZ1TU7i3xim3cbdvP0ZEZ9Z-59d9S8Ypjl5GoFpVhNtYTfDeLMTetGOVOtRdZDA5ivlkgPHBq0xOxAu2HvvAHceQoDmSLHgyzZe7-DJR7p7GEpF7Oba3KAhpgnpOyPMqIlThj5VbUFJdKfpmZLcPVK4comRa8UpTbXt7zcLynIUrDT7zksV188O02dFGQ6cbd2BuxHNzD5go87gFdYB6qufTu6bzefcnAR-FiAu9iju6BXyjkdb3k3VH_7J0gyspaGh0vejDKMJixoiey86c9neIcmKPQAvTh9dshGeAUCM4j8R-pfqEcxZ-bR1DetzRyIyZlB__NjHYmiJibMIkCj4yN0avYVy6TSMOYvJ2grOOM8LGzV-B5ywK5Kv1Kj-QrY0-TImnKpOak4xoEVU1upEL3gBdWMINne-lh6bOXrkcPqt0uAm_6f_GbOShut2n2W0UrJGh2vO0LvP2_zaYR5O4adJ3jw8LmQjuAddEPshV1_SZ8_9yoCL1rMgEJ2iST73lwqxPjOOiM4Z8P6M_ItEeHAny38L7k7KErUHcEAYfNs-p4i909AJnaPOAl3j01mJ79q6p1_yEjGmm3IRSfGlgqH2hn7bjyBG6TgXtk3nHdOvMzP9SkeGhU8CkvKwdVnjdYg=s64",
      "userId": "17944099373685830598"
     },
     "user_tz": 240
    },
    "id": "jlB-4RRhe1FM",
    "outputId": "bf08bf5f-39f5-4029-9972-fc28963498ee"
   },
   "outputs": [],
   "source": [
    "\n",
    "print('This is the text we are printing')\n",
    "\n",
    "print('Hello DS&ML CLub!')\n",
    "\n",
    "v = !python --version # assign version to a variable \"v\"\n",
    "print('Current Python Version on Google Colab is:', v)  # print variable v in list format at the end of the string\n",
    "\n",
    "print(\"Hello\", \"how are you?\", sep=\"---\")       # insert the \"---\" at the separation\n",
    "print('\\n')                                     # \\n to start text at a new line\n",
    "\n",
    "print('Hello DS&ML Club!\\nThis is the first session of many to come.\\nHope to see everyone next week!\\n')   # conventional print mode uses escape sequences.\n",
    "\n",
    "print(r'Hello DS&ML Club!\\nThis is the first session of many to come.\\nHope to see everyone next week!')    # \"Reader\" print mode: reads text and prints as it is entered.\n",
    "\n",
    "print(f'Here is the Python Version we are using {v[0]}. Using f-string format') # uses f-string format to insert variables into the string content.\n",
    "print(f'Here is the Python Version we are using {v}. Using f-string list type format')    # with list format\n",
    "print('Here is the Python Version we are using {v[0]}. W/O f-string format')    # w/o \"f\" prints the {v[0]} as a string variable\n",
    "\n"
   ]
  },
  {
   "cell_type": "code",
   "execution_count": null,
   "metadata": {
    "colab": {
     "base_uri": "https://localhost:8080/"
    },
    "executionInfo": {
     "elapsed": 283,
     "status": "ok",
     "timestamp": 1624901370368,
     "user": {
      "displayName": "Joel Brigida",
      "photoUrl": "https://lh3.googleusercontent.com/a-/AOh14Gi5jpwxzxgci18vzsZ0Qc1QNoVi75SXgr4cWkdZpjZGk2Syca1WmIazn5PYyGztQLLf2-247MitLzLRfFhaU5OLW7AFQufXBNJS2QmA5vsE7HjfgeCfA4FuLJrWLsfWpZ1TU7i3xim3cbdvP0ZEZ9Z-59d9S8Ypjl5GoFpVhNtYTfDeLMTetGOVOtRdZDA5ivlkgPHBq0xOxAu2HvvAHceQoDmSLHgyzZe7-DJR7p7GEpF7Oba3KAhpgnpOyPMqIlThj5VbUFJdKfpmZLcPVK4comRa8UpTbXt7zcLynIUrDT7zksV188O02dFGQ6cbd2BuxHNzD5go87gFdYB6qufTu6bzefcnAR-FiAu9iju6BXyjkdb3k3VH_7J0gyspaGh0vejDKMJixoiey86c9neIcmKPQAvTh9dshGeAUCM4j8R-pfqEcxZ-bR1DetzRyIyZlB__NjHYmiJibMIkCj4yN0avYVy6TSMOYvJ2grOOM8LGzV-B5ywK5Kv1Kj-QrY0-TImnKpOak4xoEVU1upEL3gBdWMINne-lh6bOXrkcPqt0uAm_6f_GbOShut2n2W0UrJGh2vO0LvP2_zaYR5O4adJ3jw8LmQjuAddEPshV1_SZ8_9yoCL1rMgEJ2iST73lwqxPjOOiM4Z8P6M_ItEeHAny38L7k7KErUHcEAYfNs-p4i909AJnaPOAl3j01mJ79q6p1_yEjGmm3IRSfGlgqH2hn7bjyBG6TgXtk3nHdOvMzP9SkeGhU8CkvKwdVnjdYg=s64",
      "userId": "17944099373685830598"
     },
     "user_tz": 240
    },
    "id": "U-9dMLLZ6hzN",
    "outputId": "9a61e9b2-ab12-4960-f148-ba28b65b0ba0"
   },
   "outputs": [],
   "source": [
    "print('Hello World!') # general print statment for output"
   ]
  },
  {
   "cell_type": "code",
   "execution_count": null,
   "metadata": {
    "colab": {
     "base_uri": "https://localhost:8080/"
    },
    "executionInfo": {
     "elapsed": 294,
     "status": "ok",
     "timestamp": 1624901371558,
     "user": {
      "displayName": "Joel Brigida",
      "photoUrl": "https://lh3.googleusercontent.com/a-/AOh14Gi5jpwxzxgci18vzsZ0Qc1QNoVi75SXgr4cWkdZpjZGk2Syca1WmIazn5PYyGztQLLf2-247MitLzLRfFhaU5OLW7AFQufXBNJS2QmA5vsE7HjfgeCfA4FuLJrWLsfWpZ1TU7i3xim3cbdvP0ZEZ9Z-59d9S8Ypjl5GoFpVhNtYTfDeLMTetGOVOtRdZDA5ivlkgPHBq0xOxAu2HvvAHceQoDmSLHgyzZe7-DJR7p7GEpF7Oba3KAhpgnpOyPMqIlThj5VbUFJdKfpmZLcPVK4comRa8UpTbXt7zcLynIUrDT7zksV188O02dFGQ6cbd2BuxHNzD5go87gFdYB6qufTu6bzefcnAR-FiAu9iju6BXyjkdb3k3VH_7J0gyspaGh0vejDKMJixoiey86c9neIcmKPQAvTh9dshGeAUCM4j8R-pfqEcxZ-bR1DetzRyIyZlB__NjHYmiJibMIkCj4yN0avYVy6TSMOYvJ2grOOM8LGzV-B5ywK5Kv1Kj-QrY0-TImnKpOak4xoEVU1upEL3gBdWMINne-lh6bOXrkcPqt0uAm_6f_GbOShut2n2W0UrJGh2vO0LvP2_zaYR5O4adJ3jw8LmQjuAddEPshV1_SZ8_9yoCL1rMgEJ2iST73lwqxPjOOiM4Z8P6M_ItEeHAny38L7k7KErUHcEAYfNs-p4i909AJnaPOAl3j01mJ79q6p1_yEjGmm3IRSfGlgqH2hn7bjyBG6TgXtk3nHdOvMzP9SkeGhU8CkvKwdVnjdYg=s64",
      "userId": "17944099373685830598"
     },
     "user_tz": 240
    },
    "id": "4F01R3eFE5_Q",
    "outputId": "407cc322-a8dc-4a26-f9cf-07ddc02dace5"
   },
   "outputs": [],
   "source": [
    "print('firstline \\nsecond line')  # demonstration of the newline escape sequence"
   ]
  },
  {
   "cell_type": "code",
   "execution_count": null,
   "metadata": {
    "colab": {
     "base_uri": "https://localhost:8080/"
    },
    "executionInfo": {
     "elapsed": 276,
     "status": "ok",
     "timestamp": 1624901374112,
     "user": {
      "displayName": "Joel Brigida",
      "photoUrl": "https://lh3.googleusercontent.com/a-/AOh14Gi5jpwxzxgci18vzsZ0Qc1QNoVi75SXgr4cWkdZpjZGk2Syca1WmIazn5PYyGztQLLf2-247MitLzLRfFhaU5OLW7AFQufXBNJS2QmA5vsE7HjfgeCfA4FuLJrWLsfWpZ1TU7i3xim3cbdvP0ZEZ9Z-59d9S8Ypjl5GoFpVhNtYTfDeLMTetGOVOtRdZDA5ivlkgPHBq0xOxAu2HvvAHceQoDmSLHgyzZe7-DJR7p7GEpF7Oba3KAhpgnpOyPMqIlThj5VbUFJdKfpmZLcPVK4comRa8UpTbXt7zcLynIUrDT7zksV188O02dFGQ6cbd2BuxHNzD5go87gFdYB6qufTu6bzefcnAR-FiAu9iju6BXyjkdb3k3VH_7J0gyspaGh0vejDKMJixoiey86c9neIcmKPQAvTh9dshGeAUCM4j8R-pfqEcxZ-bR1DetzRyIyZlB__NjHYmiJibMIkCj4yN0avYVy6TSMOYvJ2grOOM8LGzV-B5ywK5Kv1Kj-QrY0-TImnKpOak4xoEVU1upEL3gBdWMINne-lh6bOXrkcPqt0uAm_6f_GbOShut2n2W0UrJGh2vO0LvP2_zaYR5O4adJ3jw8LmQjuAddEPshV1_SZ8_9yoCL1rMgEJ2iST73lwqxPjOOiM4Z8P6M_ItEeHAny38L7k7KErUHcEAYfNs-p4i909AJnaPOAl3j01mJ79q6p1_yEjGmm3IRSfGlgqH2hn7bjyBG6TgXtk3nHdOvMzP9SkeGhU8CkvKwdVnjdYg=s64",
      "userId": "17944099373685830598"
     },
     "user_tz": 240
    },
    "id": "x-nT0qpCfaU5",
    "outputId": "e46663ff-efe8-42aa-efc8-989223a3381d"
   },
   "outputs": [],
   "source": [
    "v           # print value of \"v\" again in list [''] format"
   ]
  },
  {
   "cell_type": "code",
   "execution_count": null,
   "metadata": {
    "colab": {
     "base_uri": "https://localhost:8080/",
     "height": 35
    },
    "executionInfo": {
     "elapsed": 16,
     "status": "ok",
     "timestamp": 1624901375211,
     "user": {
      "displayName": "Joel Brigida",
      "photoUrl": "https://lh3.googleusercontent.com/a-/AOh14Gi5jpwxzxgci18vzsZ0Qc1QNoVi75SXgr4cWkdZpjZGk2Syca1WmIazn5PYyGztQLLf2-247MitLzLRfFhaU5OLW7AFQufXBNJS2QmA5vsE7HjfgeCfA4FuLJrWLsfWpZ1TU7i3xim3cbdvP0ZEZ9Z-59d9S8Ypjl5GoFpVhNtYTfDeLMTetGOVOtRdZDA5ivlkgPHBq0xOxAu2HvvAHceQoDmSLHgyzZe7-DJR7p7GEpF7Oba3KAhpgnpOyPMqIlThj5VbUFJdKfpmZLcPVK4comRa8UpTbXt7zcLynIUrDT7zksV188O02dFGQ6cbd2BuxHNzD5go87gFdYB6qufTu6bzefcnAR-FiAu9iju6BXyjkdb3k3VH_7J0gyspaGh0vejDKMJixoiey86c9neIcmKPQAvTh9dshGeAUCM4j8R-pfqEcxZ-bR1DetzRyIyZlB__NjHYmiJibMIkCj4yN0avYVy6TSMOYvJ2grOOM8LGzV-B5ywK5Kv1Kj-QrY0-TImnKpOak4xoEVU1upEL3gBdWMINne-lh6bOXrkcPqt0uAm_6f_GbOShut2n2W0UrJGh2vO0LvP2_zaYR5O4adJ3jw8LmQjuAddEPshV1_SZ8_9yoCL1rMgEJ2iST73lwqxPjOOiM4Z8P6M_ItEeHAny38L7k7KErUHcEAYfNs-p4i909AJnaPOAl3j01mJ79q6p1_yEjGmm3IRSfGlgqH2hn7bjyBG6TgXtk3nHdOvMzP9SkeGhU8CkvKwdVnjdYg=s64",
      "userId": "17944099373685830598"
     },
     "user_tz": 240
    },
    "id": "dW9hlOG6-fLw",
    "outputId": "2ba8ca24-98e8-46b0-a601-9c89e54eb6dd"
   },
   "outputs": [],
   "source": [
    "v[0]          # print without brackets"
   ]
  },
  {
   "cell_type": "code",
   "execution_count": null,
   "metadata": {
    "colab": {
     "base_uri": "https://localhost:8080/"
    },
    "executionInfo": {
     "elapsed": 10,
     "status": "ok",
     "timestamp": 1624901376374,
     "user": {
      "displayName": "Joel Brigida",
      "photoUrl": "https://lh3.googleusercontent.com/a-/AOh14Gi5jpwxzxgci18vzsZ0Qc1QNoVi75SXgr4cWkdZpjZGk2Syca1WmIazn5PYyGztQLLf2-247MitLzLRfFhaU5OLW7AFQufXBNJS2QmA5vsE7HjfgeCfA4FuLJrWLsfWpZ1TU7i3xim3cbdvP0ZEZ9Z-59d9S8Ypjl5GoFpVhNtYTfDeLMTetGOVOtRdZDA5ivlkgPHBq0xOxAu2HvvAHceQoDmSLHgyzZe7-DJR7p7GEpF7Oba3KAhpgnpOyPMqIlThj5VbUFJdKfpmZLcPVK4comRa8UpTbXt7zcLynIUrDT7zksV188O02dFGQ6cbd2BuxHNzD5go87gFdYB6qufTu6bzefcnAR-FiAu9iju6BXyjkdb3k3VH_7J0gyspaGh0vejDKMJixoiey86c9neIcmKPQAvTh9dshGeAUCM4j8R-pfqEcxZ-bR1DetzRyIyZlB__NjHYmiJibMIkCj4yN0avYVy6TSMOYvJ2grOOM8LGzV-B5ywK5Kv1Kj-QrY0-TImnKpOak4xoEVU1upEL3gBdWMINne-lh6bOXrkcPqt0uAm_6f_GbOShut2n2W0UrJGh2vO0LvP2_zaYR5O4adJ3jw8LmQjuAddEPshV1_SZ8_9yoCL1rMgEJ2iST73lwqxPjOOiM4Z8P6M_ItEeHAny38L7k7KErUHcEAYfNs-p4i909AJnaPOAl3j01mJ79q6p1_yEjGmm3IRSfGlgqH2hn7bjyBG6TgXtk3nHdOvMzP9SkeGhU8CkvKwdVnjdYg=s64",
      "userId": "17944099373685830598"
     },
     "user_tz": 240
    },
    "id": "fc3R2Ziw7LLx",
    "outputId": "6b3d1f88-a00c-4326-9628-69e70ee25703"
   },
   "outputs": [],
   "source": [
    "print('Current Python Version on Google Colab is:', v )         # print variable in list format\n",
    "print('Current Python Version on Google Colab is:', v[0])       # non list format"
   ]
  },
  {
   "cell_type": "code",
   "execution_count": null,
   "metadata": {
    "colab": {
     "base_uri": "https://localhost:8080/"
    },
    "executionInfo": {
     "elapsed": 6,
     "status": "ok",
     "timestamp": 1624901377365,
     "user": {
      "displayName": "Joel Brigida",
      "photoUrl": "https://lh3.googleusercontent.com/a-/AOh14Gi5jpwxzxgci18vzsZ0Qc1QNoVi75SXgr4cWkdZpjZGk2Syca1WmIazn5PYyGztQLLf2-247MitLzLRfFhaU5OLW7AFQufXBNJS2QmA5vsE7HjfgeCfA4FuLJrWLsfWpZ1TU7i3xim3cbdvP0ZEZ9Z-59d9S8Ypjl5GoFpVhNtYTfDeLMTetGOVOtRdZDA5ivlkgPHBq0xOxAu2HvvAHceQoDmSLHgyzZe7-DJR7p7GEpF7Oba3KAhpgnpOyPMqIlThj5VbUFJdKfpmZLcPVK4comRa8UpTbXt7zcLynIUrDT7zksV188O02dFGQ6cbd2BuxHNzD5go87gFdYB6qufTu6bzefcnAR-FiAu9iju6BXyjkdb3k3VH_7J0gyspaGh0vejDKMJixoiey86c9neIcmKPQAvTh9dshGeAUCM4j8R-pfqEcxZ-bR1DetzRyIyZlB__NjHYmiJibMIkCj4yN0avYVy6TSMOYvJ2grOOM8LGzV-B5ywK5Kv1Kj-QrY0-TImnKpOak4xoEVU1upEL3gBdWMINne-lh6bOXrkcPqt0uAm_6f_GbOShut2n2W0UrJGh2vO0LvP2_zaYR5O4adJ3jw8LmQjuAddEPshV1_SZ8_9yoCL1rMgEJ2iST73lwqxPjOOiM4Z8P6M_ItEeHAny38L7k7KErUHcEAYfNs-p4i909AJnaPOAl3j01mJ79q6p1_yEjGmm3IRSfGlgqH2hn7bjyBG6TgXtk3nHdOvMzP9SkeGhU8CkvKwdVnjdYg=s64",
      "userId": "17944099373685830598"
     },
     "user_tz": 240
    },
    "id": "ShTTfsG98Mk_",
    "outputId": "b7a79ed3-273d-423c-fc7d-50a302ff64ee"
   },
   "outputs": [],
   "source": [
    "v           # print the version out again"
   ]
  },
  {
   "cell_type": "code",
   "execution_count": null,
   "metadata": {
    "colab": {
     "base_uri": "https://localhost:8080/"
    },
    "executionInfo": {
     "elapsed": 274,
     "status": "ok",
     "timestamp": 1624901378824,
     "user": {
      "displayName": "Joel Brigida",
      "photoUrl": "https://lh3.googleusercontent.com/a-/AOh14Gi5jpwxzxgci18vzsZ0Qc1QNoVi75SXgr4cWkdZpjZGk2Syca1WmIazn5PYyGztQLLf2-247MitLzLRfFhaU5OLW7AFQufXBNJS2QmA5vsE7HjfgeCfA4FuLJrWLsfWpZ1TU7i3xim3cbdvP0ZEZ9Z-59d9S8Ypjl5GoFpVhNtYTfDeLMTetGOVOtRdZDA5ivlkgPHBq0xOxAu2HvvAHceQoDmSLHgyzZe7-DJR7p7GEpF7Oba3KAhpgnpOyPMqIlThj5VbUFJdKfpmZLcPVK4comRa8UpTbXt7zcLynIUrDT7zksV188O02dFGQ6cbd2BuxHNzD5go87gFdYB6qufTu6bzefcnAR-FiAu9iju6BXyjkdb3k3VH_7J0gyspaGh0vejDKMJixoiey86c9neIcmKPQAvTh9dshGeAUCM4j8R-pfqEcxZ-bR1DetzRyIyZlB__NjHYmiJibMIkCj4yN0avYVy6TSMOYvJ2grOOM8LGzV-B5ywK5Kv1Kj-QrY0-TImnKpOak4xoEVU1upEL3gBdWMINne-lh6bOXrkcPqt0uAm_6f_GbOShut2n2W0UrJGh2vO0LvP2_zaYR5O4adJ3jw8LmQjuAddEPshV1_SZ8_9yoCL1rMgEJ2iST73lwqxPjOOiM4Z8P6M_ItEeHAny38L7k7KErUHcEAYfNs-p4i909AJnaPOAl3j01mJ79q6p1_yEjGmm3IRSfGlgqH2hn7bjyBG6TgXtk3nHdOvMzP9SkeGhU8CkvKwdVnjdYg=s64",
      "userId": "17944099373685830598"
     },
     "user_tz": 240
    },
    "id": "NAin1m1Nzmq4",
    "outputId": "b4a4bc2e-ab47-4016-ba2a-170fc96b46b3"
   },
   "outputs": [],
   "source": [
    "type(v)       # what type of variable is \"v\"?\n",
    "              # it is a list..."
   ]
  },
  {
   "cell_type": "code",
   "execution_count": null,
   "metadata": {
    "colab": {
     "base_uri": "https://localhost:8080/"
    },
    "executionInfo": {
     "elapsed": 271,
     "status": "ok",
     "timestamp": 1624902123365,
     "user": {
      "displayName": "Joel Brigida",
      "photoUrl": "https://lh3.googleusercontent.com/a-/AOh14Gi5jpwxzxgci18vzsZ0Qc1QNoVi75SXgr4cWkdZpjZGk2Syca1WmIazn5PYyGztQLLf2-247MitLzLRfFhaU5OLW7AFQufXBNJS2QmA5vsE7HjfgeCfA4FuLJrWLsfWpZ1TU7i3xim3cbdvP0ZEZ9Z-59d9S8Ypjl5GoFpVhNtYTfDeLMTetGOVOtRdZDA5ivlkgPHBq0xOxAu2HvvAHceQoDmSLHgyzZe7-DJR7p7GEpF7Oba3KAhpgnpOyPMqIlThj5VbUFJdKfpmZLcPVK4comRa8UpTbXt7zcLynIUrDT7zksV188O02dFGQ6cbd2BuxHNzD5go87gFdYB6qufTu6bzefcnAR-FiAu9iju6BXyjkdb3k3VH_7J0gyspaGh0vejDKMJixoiey86c9neIcmKPQAvTh9dshGeAUCM4j8R-pfqEcxZ-bR1DetzRyIyZlB__NjHYmiJibMIkCj4yN0avYVy6TSMOYvJ2grOOM8LGzV-B5ywK5Kv1Kj-QrY0-TImnKpOak4xoEVU1upEL3gBdWMINne-lh6bOXrkcPqt0uAm_6f_GbOShut2n2W0UrJGh2vO0LvP2_zaYR5O4adJ3jw8LmQjuAddEPshV1_SZ8_9yoCL1rMgEJ2iST73lwqxPjOOiM4Z8P6M_ItEeHAny38L7k7KErUHcEAYfNs-p4i909AJnaPOAl3j01mJ79q6p1_yEjGmm3IRSfGlgqH2hn7bjyBG6TgXtk3nHdOvMzP9SkeGhU8CkvKwdVnjdYg=s64",
      "userId": "17944099373685830598"
     },
     "user_tz": 240
    },
    "id": "BtGtCBQVFGOI",
    "outputId": "5f2dc4ae-82e0-416b-d3ee-8e6f6a3006f2"
   },
   "outputs": [],
   "source": [
    "x = 25      # int and string variable assignments\n",
    "y = 3\n",
    "z = 12\n",
    "name = 'Joel B'\n",
    "print(f'Value of x is: {x}, value of y is: {y}, name is: {name}')    #f-string print method"
   ]
  },
  {
   "cell_type": "code",
   "execution_count": null,
   "metadata": {
    "colab": {
     "base_uri": "https://localhost:8080/"
    },
    "executionInfo": {
     "elapsed": 284,
     "status": "ok",
     "timestamp": 1624901858452,
     "user": {
      "displayName": "Joel Brigida",
      "photoUrl": "https://lh3.googleusercontent.com/a-/AOh14Gi5jpwxzxgci18vzsZ0Qc1QNoVi75SXgr4cWkdZpjZGk2Syca1WmIazn5PYyGztQLLf2-247MitLzLRfFhaU5OLW7AFQufXBNJS2QmA5vsE7HjfgeCfA4FuLJrWLsfWpZ1TU7i3xim3cbdvP0ZEZ9Z-59d9S8Ypjl5GoFpVhNtYTfDeLMTetGOVOtRdZDA5ivlkgPHBq0xOxAu2HvvAHceQoDmSLHgyzZe7-DJR7p7GEpF7Oba3KAhpgnpOyPMqIlThj5VbUFJdKfpmZLcPVK4comRa8UpTbXt7zcLynIUrDT7zksV188O02dFGQ6cbd2BuxHNzD5go87gFdYB6qufTu6bzefcnAR-FiAu9iju6BXyjkdb3k3VH_7J0gyspaGh0vejDKMJixoiey86c9neIcmKPQAvTh9dshGeAUCM4j8R-pfqEcxZ-bR1DetzRyIyZlB__NjHYmiJibMIkCj4yN0avYVy6TSMOYvJ2grOOM8LGzV-B5ywK5Kv1Kj-QrY0-TImnKpOak4xoEVU1upEL3gBdWMINne-lh6bOXrkcPqt0uAm_6f_GbOShut2n2W0UrJGh2vO0LvP2_zaYR5O4adJ3jw8LmQjuAddEPshV1_SZ8_9yoCL1rMgEJ2iST73lwqxPjOOiM4Z8P6M_ItEeHAny38L7k7KErUHcEAYfNs-p4i909AJnaPOAl3j01mJ79q6p1_yEjGmm3IRSfGlgqH2hn7bjyBG6TgXtk3nHdOvMzP9SkeGhU8CkvKwdVnjdYg=s64",
      "userId": "17944099373685830598"
     },
     "user_tz": 240
    },
    "id": "Fti0NyhLrqEo",
    "outputId": "0361c077-ca6d-40b0-8db9-7f52aa379294"
   },
   "outputs": [],
   "source": [
    "print('Value of x:', x,'| Value of y:', y, '| Name is:', name)  # standard c-style string print method"
   ]
  },
  {
   "cell_type": "markdown",
   "metadata": {
    "id": "4anUDinLkOFa"
   },
   "source": [
    "# 3) Python Variables and Datatypes\n",
    "\n",
    "---\n",
    "\n"
   ]
  },
  {
   "cell_type": "code",
   "execution_count": null,
   "metadata": {
    "id": "-H06B6V2iniJ"
   },
   "outputs": [],
   "source": [
    "'''\n",
    "Variables have to be assigned or computed \n",
    "  x = 3 --> Defining a variable x and assigning it a value of 3\n",
    "  Assigning a variable can happen by the user when the program is exectued \n",
    "  x = input()\n",
    "\n",
    "Computing a variable can be through a function or through other variables \n",
    "  a = 1\n",
    "  b = 5\n",
    "  x = a * b \n",
    "'''"
   ]
  },
  {
   "cell_type": "code",
   "execution_count": null,
   "metadata": {
    "id": "saiJVbHXFExU"
   },
   "outputs": [],
   "source": [
    "x = 25      # int and string variable assignments\n",
    "y = 3\n",
    "z = 12\n",
    "name = 'Joel B'"
   ]
  },
  {
   "cell_type": "code",
   "execution_count": null,
   "metadata": {
    "colab": {
     "base_uri": "https://localhost:8080/"
    },
    "executionInfo": {
     "elapsed": 9,
     "status": "ok",
     "timestamp": 1624890558503,
     "user": {
      "displayName": "Joel Brigida",
      "photoUrl": "https://lh3.googleusercontent.com/a-/AOh14Gi5jpwxzxgci18vzsZ0Qc1QNoVi75SXgr4cWkdZpjZGk2Syca1WmIazn5PYyGztQLLf2-247MitLzLRfFhaU5OLW7AFQufXBNJS2QmA5vsE7HjfgeCfA4FuLJrWLsfWpZ1TU7i3xim3cbdvP0ZEZ9Z-59d9S8Ypjl5GoFpVhNtYTfDeLMTetGOVOtRdZDA5ivlkgPHBq0xOxAu2HvvAHceQoDmSLHgyzZe7-DJR7p7GEpF7Oba3KAhpgnpOyPMqIlThj5VbUFJdKfpmZLcPVK4comRa8UpTbXt7zcLynIUrDT7zksV188O02dFGQ6cbd2BuxHNzD5go87gFdYB6qufTu6bzefcnAR-FiAu9iju6BXyjkdb3k3VH_7J0gyspaGh0vejDKMJixoiey86c9neIcmKPQAvTh9dshGeAUCM4j8R-pfqEcxZ-bR1DetzRyIyZlB__NjHYmiJibMIkCj4yN0avYVy6TSMOYvJ2grOOM8LGzV-B5ywK5Kv1Kj-QrY0-TImnKpOak4xoEVU1upEL3gBdWMINne-lh6bOXrkcPqt0uAm_6f_GbOShut2n2W0UrJGh2vO0LvP2_zaYR5O4adJ3jw8LmQjuAddEPshV1_SZ8_9yoCL1rMgEJ2iST73lwqxPjOOiM4Z8P6M_ItEeHAny38L7k7KErUHcEAYfNs-p4i909AJnaPOAl3j01mJ79q6p1_yEjGmm3IRSfGlgqH2hn7bjyBG6TgXtk3nHdOvMzP9SkeGhU8CkvKwdVnjdYg=s64",
      "userId": "17944099373685830598"
     },
     "user_tz": 240
    },
    "id": "MzRSF4NTF0DU",
    "outputId": "f53d525a-7634-45eb-9340-8f7bd9fe1866"
   },
   "outputs": [],
   "source": [
    "y   # print variable value by itself"
   ]
  },
  {
   "cell_type": "code",
   "execution_count": null,
   "metadata": {
    "colab": {
     "base_uri": "https://localhost:8080/",
     "height": 35
    },
    "executionInfo": {
     "elapsed": 423,
     "status": "ok",
     "timestamp": 1624890772404,
     "user": {
      "displayName": "Joel Brigida",
      "photoUrl": "https://lh3.googleusercontent.com/a-/AOh14Gi5jpwxzxgci18vzsZ0Qc1QNoVi75SXgr4cWkdZpjZGk2Syca1WmIazn5PYyGztQLLf2-247MitLzLRfFhaU5OLW7AFQufXBNJS2QmA5vsE7HjfgeCfA4FuLJrWLsfWpZ1TU7i3xim3cbdvP0ZEZ9Z-59d9S8Ypjl5GoFpVhNtYTfDeLMTetGOVOtRdZDA5ivlkgPHBq0xOxAu2HvvAHceQoDmSLHgyzZe7-DJR7p7GEpF7Oba3KAhpgnpOyPMqIlThj5VbUFJdKfpmZLcPVK4comRa8UpTbXt7zcLynIUrDT7zksV188O02dFGQ6cbd2BuxHNzD5go87gFdYB6qufTu6bzefcnAR-FiAu9iju6BXyjkdb3k3VH_7J0gyspaGh0vejDKMJixoiey86c9neIcmKPQAvTh9dshGeAUCM4j8R-pfqEcxZ-bR1DetzRyIyZlB__NjHYmiJibMIkCj4yN0avYVy6TSMOYvJ2grOOM8LGzV-B5ywK5Kv1Kj-QrY0-TImnKpOak4xoEVU1upEL3gBdWMINne-lh6bOXrkcPqt0uAm_6f_GbOShut2n2W0UrJGh2vO0LvP2_zaYR5O4adJ3jw8LmQjuAddEPshV1_SZ8_9yoCL1rMgEJ2iST73lwqxPjOOiM4Z8P6M_ItEeHAny38L7k7KErUHcEAYfNs-p4i909AJnaPOAl3j01mJ79q6p1_yEjGmm3IRSfGlgqH2hn7bjyBG6TgXtk3nHdOvMzP9SkeGhU8CkvKwdVnjdYg=s64",
      "userId": "17944099373685830598"
     },
     "user_tz": 240
    },
    "id": "FpkBR8DsBgZc",
    "outputId": "6ef0ebcb-0af7-4270-f565-7f486472ff3f"
   },
   "outputs": [],
   "source": [
    "name"
   ]
  },
  {
   "cell_type": "code",
   "execution_count": null,
   "metadata": {
    "colab": {
     "base_uri": "https://localhost:8080/"
    },
    "executionInfo": {
     "elapsed": 265,
     "status": "ok",
     "timestamp": 1624890770859,
     "user": {
      "displayName": "Joel Brigida",
      "photoUrl": "https://lh3.googleusercontent.com/a-/AOh14Gi5jpwxzxgci18vzsZ0Qc1QNoVi75SXgr4cWkdZpjZGk2Syca1WmIazn5PYyGztQLLf2-247MitLzLRfFhaU5OLW7AFQufXBNJS2QmA5vsE7HjfgeCfA4FuLJrWLsfWpZ1TU7i3xim3cbdvP0ZEZ9Z-59d9S8Ypjl5GoFpVhNtYTfDeLMTetGOVOtRdZDA5ivlkgPHBq0xOxAu2HvvAHceQoDmSLHgyzZe7-DJR7p7GEpF7Oba3KAhpgnpOyPMqIlThj5VbUFJdKfpmZLcPVK4comRa8UpTbXt7zcLynIUrDT7zksV188O02dFGQ6cbd2BuxHNzD5go87gFdYB6qufTu6bzefcnAR-FiAu9iju6BXyjkdb3k3VH_7J0gyspaGh0vejDKMJixoiey86c9neIcmKPQAvTh9dshGeAUCM4j8R-pfqEcxZ-bR1DetzRyIyZlB__NjHYmiJibMIkCj4yN0avYVy6TSMOYvJ2grOOM8LGzV-B5ywK5Kv1Kj-QrY0-TImnKpOak4xoEVU1upEL3gBdWMINne-lh6bOXrkcPqt0uAm_6f_GbOShut2n2W0UrJGh2vO0LvP2_zaYR5O4adJ3jw8LmQjuAddEPshV1_SZ8_9yoCL1rMgEJ2iST73lwqxPjOOiM4Z8P6M_ItEeHAny38L7k7KErUHcEAYfNs-p4i909AJnaPOAl3j01mJ79q6p1_yEjGmm3IRSfGlgqH2hn7bjyBG6TgXtk3nHdOvMzP9SkeGhU8CkvKwdVnjdYg=s64",
      "userId": "17944099373685830598"
     },
     "user_tz": 240
    },
    "id": "2NySqAe7CNhf",
    "outputId": "7e665c87-82d7-4b03-cbee-9e11bc1c1181"
   },
   "outputs": [],
   "source": [
    "x, y, z, name # print them all together"
   ]
  },
  {
   "cell_type": "code",
   "execution_count": null,
   "metadata": {
    "id": "3iMkPq7am05N"
   },
   "outputs": [],
   "source": [
    "'''\n",
    "Datatypes\n",
    "\n",
    "  String:\n",
    "    Text is string data ('This for Example')\n",
    "\n",
    "  Numerical: \n",
    "    Integer (int) --> whole number \n",
    "    Floats (float) --> Number with decimals\n",
    "    Complex (complex) --> Complex Numbers (a + bj)\n",
    "  \n",
    "  Containers:\n",
    "    List[] --> An ordered collection of objects, that may have different types\n",
    "    Tuple() --> Tuples are basically immutable lists\n",
    "    Dict{} --> A dictionary is basically an efficient table that maps (keys to values)\n",
    "    set() --> unordered, unique items:\n",
    "\n",
    "\n",
    "  List, tuple, and dicts are used immensley in programming 21\n",
    "  They cover almost all datastructures\n",
    "\n",
    "  ##### PYTHON INDEXING STARTS WITH 0 ####\n",
    "'''"
   ]
  },
  {
   "cell_type": "markdown",
   "metadata": {
    "id": "Di7XzZCh0baC"
   },
   "source": [
    "## List Operations\n",
    "\n",
    "# ![image.png](data:image/png;base64,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)\n",
    "\n",
    "---\n",
    "\n"
   ]
  },
  {
   "cell_type": "code",
   "execution_count": null,
   "metadata": {
    "id": "UY1WSuHan5_2"
   },
   "outputs": [],
   "source": [
    "# Create our first list\n",
    "# Lists can contain multiple data types\n",
    "\n",
    "evenNo = [2, 4, 6, 8, 10]     # declare a list of integers\n",
    "\n",
    "Me = ['Joel', 'FAU', 'BSCE', '38']   # declare a list of strings\n",
    "\n",
    "aList = [5, 10, 15, 20, 25, 30, 35, 40, 45, 50, 55, 60, 65, 70]\n",
    "aList.append(0)   # append the value to the end of the list (takes only one argument)\n",
    "\n",
    "L = []  # Create Empty list and Add items to it\n",
    "\n",
    "'''\n",
    "\n",
    "# Slicing Lists in Python \n",
    "# Python slice notation is ordered as such: alist[start:end:step]\n",
    "\n",
    "# retrieves item with index 5\n",
    "aList[5]\n",
    "\n",
    "# retrieves item's between index 1 & index 10 (but not index 10)\n",
    "aList[1:10]\n",
    "\n",
    "# retrieves every 2nd item between index 1 & index 10\n",
    "# (but not index 10)\n",
    "aList[1:10:2]\n",
    "\n",
    "# returns the last list item in the array\n",
    "aList[-1]\n",
    "\n",
    "# returns the 3rd from last item in the array\n",
    "aList[-3]\n",
    "\n",
    "'''"
   ]
  },
  {
   "cell_type": "code",
   "execution_count": null,
   "metadata": {
    "colab": {
     "base_uri": "https://localhost:8080/"
    },
    "executionInfo": {
     "elapsed": 302,
     "status": "ok",
     "timestamp": 1624898282245,
     "user": {
      "displayName": "Joel Brigida",
      "photoUrl": "https://lh3.googleusercontent.com/a-/AOh14Gi5jpwxzxgci18vzsZ0Qc1QNoVi75SXgr4cWkdZpjZGk2Syca1WmIazn5PYyGztQLLf2-247MitLzLRfFhaU5OLW7AFQufXBNJS2QmA5vsE7HjfgeCfA4FuLJrWLsfWpZ1TU7i3xim3cbdvP0ZEZ9Z-59d9S8Ypjl5GoFpVhNtYTfDeLMTetGOVOtRdZDA5ivlkgPHBq0xOxAu2HvvAHceQoDmSLHgyzZe7-DJR7p7GEpF7Oba3KAhpgnpOyPMqIlThj5VbUFJdKfpmZLcPVK4comRa8UpTbXt7zcLynIUrDT7zksV188O02dFGQ6cbd2BuxHNzD5go87gFdYB6qufTu6bzefcnAR-FiAu9iju6BXyjkdb3k3VH_7J0gyspaGh0vejDKMJixoiey86c9neIcmKPQAvTh9dshGeAUCM4j8R-pfqEcxZ-bR1DetzRyIyZlB__NjHYmiJibMIkCj4yN0avYVy6TSMOYvJ2grOOM8LGzV-B5ywK5Kv1Kj-QrY0-TImnKpOak4xoEVU1upEL3gBdWMINne-lh6bOXrkcPqt0uAm_6f_GbOShut2n2W0UrJGh2vO0LvP2_zaYR5O4adJ3jw8LmQjuAddEPshV1_SZ8_9yoCL1rMgEJ2iST73lwqxPjOOiM4Z8P6M_ItEeHAny38L7k7KErUHcEAYfNs-p4i909AJnaPOAl3j01mJ79q6p1_yEjGmm3IRSfGlgqH2hn7bjyBG6TgXtk3nHdOvMzP9SkeGhU8CkvKwdVnjdYg=s64",
      "userId": "17944099373685830598"
     },
     "user_tz": 240
    },
    "id": "SzGBXC3qJBy5",
    "outputId": "ce29127a-5c5d-4ba3-d823-7d1e880b1f23"
   },
   "outputs": [],
   "source": [
    "aList, evenNo, Me"
   ]
  },
  {
   "cell_type": "code",
   "execution_count": null,
   "metadata": {
    "id": "vIsk4JZkIBen"
   },
   "outputs": [],
   "source": [
    "'''\n",
    "Reverse print a list: \n",
    "aList[::-1]\n",
    "\n",
    "Removing every nth element of the list:\n",
    "aList[n-1::n]\n",
    "\n",
    "Pop off the last n elements:\n",
    "aList[:-n]\n",
    "\n",
    "Shift the first n elements:\n",
    "aList[n:]\n",
    "\n",
    "Get a list of numbers with index divisble by n:\n",
    "list(range(500))[::n]\n",
    "\n",
    "'''"
   ]
  },
  {
   "cell_type": "code",
   "execution_count": null,
   "metadata": {
    "id": "ecUxsEs79o-W"
   },
   "outputs": [],
   "source": [
    "ListA = ['DS&ML','FAU','21']      # declare a list with values"
   ]
  },
  {
   "cell_type": "code",
   "execution_count": null,
   "metadata": {
    "colab": {
     "base_uri": "https://localhost:8080/"
    },
    "executionInfo": {
     "elapsed": 8,
     "status": "ok",
     "timestamp": 1624898293810,
     "user": {
      "displayName": "Joel Brigida",
      "photoUrl": "https://lh3.googleusercontent.com/a-/AOh14Gi5jpwxzxgci18vzsZ0Qc1QNoVi75SXgr4cWkdZpjZGk2Syca1WmIazn5PYyGztQLLf2-247MitLzLRfFhaU5OLW7AFQufXBNJS2QmA5vsE7HjfgeCfA4FuLJrWLsfWpZ1TU7i3xim3cbdvP0ZEZ9Z-59d9S8Ypjl5GoFpVhNtYTfDeLMTetGOVOtRdZDA5ivlkgPHBq0xOxAu2HvvAHceQoDmSLHgyzZe7-DJR7p7GEpF7Oba3KAhpgnpOyPMqIlThj5VbUFJdKfpmZLcPVK4comRa8UpTbXt7zcLynIUrDT7zksV188O02dFGQ6cbd2BuxHNzD5go87gFdYB6qufTu6bzefcnAR-FiAu9iju6BXyjkdb3k3VH_7J0gyspaGh0vejDKMJixoiey86c9neIcmKPQAvTh9dshGeAUCM4j8R-pfqEcxZ-bR1DetzRyIyZlB__NjHYmiJibMIkCj4yN0avYVy6TSMOYvJ2grOOM8LGzV-B5ywK5Kv1Kj-QrY0-TImnKpOak4xoEVU1upEL3gBdWMINne-lh6bOXrkcPqt0uAm_6f_GbOShut2n2W0UrJGh2vO0LvP2_zaYR5O4adJ3jw8LmQjuAddEPshV1_SZ8_9yoCL1rMgEJ2iST73lwqxPjOOiM4Z8P6M_ItEeHAny38L7k7KErUHcEAYfNs-p4i909AJnaPOAl3j01mJ79q6p1_yEjGmm3IRSfGlgqH2hn7bjyBG6TgXtk3nHdOvMzP9SkeGhU8CkvKwdVnjdYg=s64",
      "userId": "17944099373685830598"
     },
     "user_tz": 240
    },
    "id": "g3S-xgs9pyMy",
    "outputId": "d9fd71b0-ca98-4636-cfe5-8b40521da0f1"
   },
   "outputs": [],
   "source": [
    "ListA   # prints out the values of the list"
   ]
  },
  {
   "cell_type": "code",
   "execution_count": null,
   "metadata": {
    "colab": {
     "base_uri": "https://localhost:8080/"
    },
    "executionInfo": {
     "elapsed": 474,
     "status": "ok",
     "timestamp": 1624898295603,
     "user": {
      "displayName": "Joel Brigida",
      "photoUrl": "https://lh3.googleusercontent.com/a-/AOh14Gi5jpwxzxgci18vzsZ0Qc1QNoVi75SXgr4cWkdZpjZGk2Syca1WmIazn5PYyGztQLLf2-247MitLzLRfFhaU5OLW7AFQufXBNJS2QmA5vsE7HjfgeCfA4FuLJrWLsfWpZ1TU7i3xim3cbdvP0ZEZ9Z-59d9S8Ypjl5GoFpVhNtYTfDeLMTetGOVOtRdZDA5ivlkgPHBq0xOxAu2HvvAHceQoDmSLHgyzZe7-DJR7p7GEpF7Oba3KAhpgnpOyPMqIlThj5VbUFJdKfpmZLcPVK4comRa8UpTbXt7zcLynIUrDT7zksV188O02dFGQ6cbd2BuxHNzD5go87gFdYB6qufTu6bzefcnAR-FiAu9iju6BXyjkdb3k3VH_7J0gyspaGh0vejDKMJixoiey86c9neIcmKPQAvTh9dshGeAUCM4j8R-pfqEcxZ-bR1DetzRyIyZlB__NjHYmiJibMIkCj4yN0avYVy6TSMOYvJ2grOOM8LGzV-B5ywK5Kv1Kj-QrY0-TImnKpOak4xoEVU1upEL3gBdWMINne-lh6bOXrkcPqt0uAm_6f_GbOShut2n2W0UrJGh2vO0LvP2_zaYR5O4adJ3jw8LmQjuAddEPshV1_SZ8_9yoCL1rMgEJ2iST73lwqxPjOOiM4Z8P6M_ItEeHAny38L7k7KErUHcEAYfNs-p4i909AJnaPOAl3j01mJ79q6p1_yEjGmm3IRSfGlgqH2hn7bjyBG6TgXtk3nHdOvMzP9SkeGhU8CkvKwdVnjdYg=s64",
      "userId": "17944099373685830598"
     },
     "user_tz": 240
    },
    "id": "9Bc_NhDzKSWc",
    "outputId": "65e1b66a-b677-4977-ad30-18ba378340e5"
   },
   "outputs": [],
   "source": [
    "ListA[::-1] # print in reverse order from highest index to lowest"
   ]
  },
  {
   "cell_type": "code",
   "execution_count": null,
   "metadata": {
    "colab": {
     "base_uri": "https://localhost:8080/"
    },
    "executionInfo": {
     "elapsed": 8,
     "status": "ok",
     "timestamp": 1624898297147,
     "user": {
      "displayName": "Joel Brigida",
      "photoUrl": "https://lh3.googleusercontent.com/a-/AOh14Gi5jpwxzxgci18vzsZ0Qc1QNoVi75SXgr4cWkdZpjZGk2Syca1WmIazn5PYyGztQLLf2-247MitLzLRfFhaU5OLW7AFQufXBNJS2QmA5vsE7HjfgeCfA4FuLJrWLsfWpZ1TU7i3xim3cbdvP0ZEZ9Z-59d9S8Ypjl5GoFpVhNtYTfDeLMTetGOVOtRdZDA5ivlkgPHBq0xOxAu2HvvAHceQoDmSLHgyzZe7-DJR7p7GEpF7Oba3KAhpgnpOyPMqIlThj5VbUFJdKfpmZLcPVK4comRa8UpTbXt7zcLynIUrDT7zksV188O02dFGQ6cbd2BuxHNzD5go87gFdYB6qufTu6bzefcnAR-FiAu9iju6BXyjkdb3k3VH_7J0gyspaGh0vejDKMJixoiey86c9neIcmKPQAvTh9dshGeAUCM4j8R-pfqEcxZ-bR1DetzRyIyZlB__NjHYmiJibMIkCj4yN0avYVy6TSMOYvJ2grOOM8LGzV-B5ywK5Kv1Kj-QrY0-TImnKpOak4xoEVU1upEL3gBdWMINne-lh6bOXrkcPqt0uAm_6f_GbOShut2n2W0UrJGh2vO0LvP2_zaYR5O4adJ3jw8LmQjuAddEPshV1_SZ8_9yoCL1rMgEJ2iST73lwqxPjOOiM4Z8P6M_ItEeHAny38L7k7KErUHcEAYfNs-p4i909AJnaPOAl3j01mJ79q6p1_yEjGmm3IRSfGlgqH2hn7bjyBG6TgXtk3nHdOvMzP9SkeGhU8CkvKwdVnjdYg=s64",
      "userId": "17944099373685830598"
     },
     "user_tz": 240
    },
    "id": "Xh1miXFLKhEj",
    "outputId": "b7695242-654b-4bb5-c252-9ece31c58ab2"
   },
   "outputs": [],
   "source": [
    "ListA # the order of the index did not change"
   ]
  },
  {
   "cell_type": "code",
   "execution_count": null,
   "metadata": {
    "colab": {
     "base_uri": "https://localhost:8080/"
    },
    "executionInfo": {
     "elapsed": 8,
     "status": "ok",
     "timestamp": 1624898298748,
     "user": {
      "displayName": "Joel Brigida",
      "photoUrl": "https://lh3.googleusercontent.com/a-/AOh14Gi5jpwxzxgci18vzsZ0Qc1QNoVi75SXgr4cWkdZpjZGk2Syca1WmIazn5PYyGztQLLf2-247MitLzLRfFhaU5OLW7AFQufXBNJS2QmA5vsE7HjfgeCfA4FuLJrWLsfWpZ1TU7i3xim3cbdvP0ZEZ9Z-59d9S8Ypjl5GoFpVhNtYTfDeLMTetGOVOtRdZDA5ivlkgPHBq0xOxAu2HvvAHceQoDmSLHgyzZe7-DJR7p7GEpF7Oba3KAhpgnpOyPMqIlThj5VbUFJdKfpmZLcPVK4comRa8UpTbXt7zcLynIUrDT7zksV188O02dFGQ6cbd2BuxHNzD5go87gFdYB6qufTu6bzefcnAR-FiAu9iju6BXyjkdb3k3VH_7J0gyspaGh0vejDKMJixoiey86c9neIcmKPQAvTh9dshGeAUCM4j8R-pfqEcxZ-bR1DetzRyIyZlB__NjHYmiJibMIkCj4yN0avYVy6TSMOYvJ2grOOM8LGzV-B5ywK5Kv1Kj-QrY0-TImnKpOak4xoEVU1upEL3gBdWMINne-lh6bOXrkcPqt0uAm_6f_GbOShut2n2W0UrJGh2vO0LvP2_zaYR5O4adJ3jw8LmQjuAddEPshV1_SZ8_9yoCL1rMgEJ2iST73lwqxPjOOiM4Z8P6M_ItEeHAny38L7k7KErUHcEAYfNs-p4i909AJnaPOAl3j01mJ79q6p1_yEjGmm3IRSfGlgqH2hn7bjyBG6TgXtk3nHdOvMzP9SkeGhU8CkvKwdVnjdYg=s64",
      "userId": "17944099373685830598"
     },
     "user_tz": 240
    },
    "id": "S87l3AooOI9w",
    "outputId": "f6c5738c-f3f6-4a6d-fc20-339aa57add56"
   },
   "outputs": [],
   "source": [
    "aList"
   ]
  },
  {
   "cell_type": "code",
   "execution_count": null,
   "metadata": {
    "colab": {
     "base_uri": "https://localhost:8080/"
    },
    "executionInfo": {
     "elapsed": 11,
     "status": "ok",
     "timestamp": 1624898302316,
     "user": {
      "displayName": "Joel Brigida",
      "photoUrl": "https://lh3.googleusercontent.com/a-/AOh14Gi5jpwxzxgci18vzsZ0Qc1QNoVi75SXgr4cWkdZpjZGk2Syca1WmIazn5PYyGztQLLf2-247MitLzLRfFhaU5OLW7AFQufXBNJS2QmA5vsE7HjfgeCfA4FuLJrWLsfWpZ1TU7i3xim3cbdvP0ZEZ9Z-59d9S8Ypjl5GoFpVhNtYTfDeLMTetGOVOtRdZDA5ivlkgPHBq0xOxAu2HvvAHceQoDmSLHgyzZe7-DJR7p7GEpF7Oba3KAhpgnpOyPMqIlThj5VbUFJdKfpmZLcPVK4comRa8UpTbXt7zcLynIUrDT7zksV188O02dFGQ6cbd2BuxHNzD5go87gFdYB6qufTu6bzefcnAR-FiAu9iju6BXyjkdb3k3VH_7J0gyspaGh0vejDKMJixoiey86c9neIcmKPQAvTh9dshGeAUCM4j8R-pfqEcxZ-bR1DetzRyIyZlB__NjHYmiJibMIkCj4yN0avYVy6TSMOYvJ2grOOM8LGzV-B5ywK5Kv1Kj-QrY0-TImnKpOak4xoEVU1upEL3gBdWMINne-lh6bOXrkcPqt0uAm_6f_GbOShut2n2W0UrJGh2vO0LvP2_zaYR5O4adJ3jw8LmQjuAddEPshV1_SZ8_9yoCL1rMgEJ2iST73lwqxPjOOiM4Z8P6M_ItEeHAny38L7k7KErUHcEAYfNs-p4i909AJnaPOAl3j01mJ79q6p1_yEjGmm3IRSfGlgqH2hn7bjyBG6TgXtk3nHdOvMzP9SkeGhU8CkvKwdVnjdYg=s64",
      "userId": "17944099373685830598"
     },
     "user_tz": 240
    },
    "id": "gVcE3yoHOX7J",
    "outputId": "8ec77b66-b7b8-4c87-83c1-84a6c4d29865"
   },
   "outputs": [],
   "source": [
    "aList[::-3] # start at last index and print every third in reverse order"
   ]
  },
  {
   "cell_type": "code",
   "execution_count": null,
   "metadata": {
    "colab": {
     "base_uri": "https://localhost:8080/"
    },
    "executionInfo": {
     "elapsed": 295,
     "status": "ok",
     "timestamp": 1624898586648,
     "user": {
      "displayName": "Joel Brigida",
      "photoUrl": "https://lh3.googleusercontent.com/a-/AOh14Gi5jpwxzxgci18vzsZ0Qc1QNoVi75SXgr4cWkdZpjZGk2Syca1WmIazn5PYyGztQLLf2-247MitLzLRfFhaU5OLW7AFQufXBNJS2QmA5vsE7HjfgeCfA4FuLJrWLsfWpZ1TU7i3xim3cbdvP0ZEZ9Z-59d9S8Ypjl5GoFpVhNtYTfDeLMTetGOVOtRdZDA5ivlkgPHBq0xOxAu2HvvAHceQoDmSLHgyzZe7-DJR7p7GEpF7Oba3KAhpgnpOyPMqIlThj5VbUFJdKfpmZLcPVK4comRa8UpTbXt7zcLynIUrDT7zksV188O02dFGQ6cbd2BuxHNzD5go87gFdYB6qufTu6bzefcnAR-FiAu9iju6BXyjkdb3k3VH_7J0gyspaGh0vejDKMJixoiey86c9neIcmKPQAvTh9dshGeAUCM4j8R-pfqEcxZ-bR1DetzRyIyZlB__NjHYmiJibMIkCj4yN0avYVy6TSMOYvJ2grOOM8LGzV-B5ywK5Kv1Kj-QrY0-TImnKpOak4xoEVU1upEL3gBdWMINne-lh6bOXrkcPqt0uAm_6f_GbOShut2n2W0UrJGh2vO0LvP2_zaYR5O4adJ3jw8LmQjuAddEPshV1_SZ8_9yoCL1rMgEJ2iST73lwqxPjOOiM4Z8P6M_ItEeHAny38L7k7KErUHcEAYfNs-p4i909AJnaPOAl3j01mJ79q6p1_yEjGmm3IRSfGlgqH2hn7bjyBG6TgXtk3nHdOvMzP9SkeGhU8CkvKwdVnjdYg=s64",
      "userId": "17944099373685830598"
     },
     "user_tz": 240
    },
    "id": "jY-mgEyxf_9f",
    "outputId": "99cf565d-e56b-44ae-8290-8943a3febe18"
   },
   "outputs": [],
   "source": [
    "aList [:-3] # notice the difference: ommitting one colon prints all but the last 3 indices"
   ]
  },
  {
   "cell_type": "code",
   "execution_count": null,
   "metadata": {
    "colab": {
     "base_uri": "https://localhost:8080/"
    },
    "executionInfo": {
     "elapsed": 281,
     "status": "ok",
     "timestamp": 1624898349503,
     "user": {
      "displayName": "Joel Brigida",
      "photoUrl": "https://lh3.googleusercontent.com/a-/AOh14Gi5jpwxzxgci18vzsZ0Qc1QNoVi75SXgr4cWkdZpjZGk2Syca1WmIazn5PYyGztQLLf2-247MitLzLRfFhaU5OLW7AFQufXBNJS2QmA5vsE7HjfgeCfA4FuLJrWLsfWpZ1TU7i3xim3cbdvP0ZEZ9Z-59d9S8Ypjl5GoFpVhNtYTfDeLMTetGOVOtRdZDA5ivlkgPHBq0xOxAu2HvvAHceQoDmSLHgyzZe7-DJR7p7GEpF7Oba3KAhpgnpOyPMqIlThj5VbUFJdKfpmZLcPVK4comRa8UpTbXt7zcLynIUrDT7zksV188O02dFGQ6cbd2BuxHNzD5go87gFdYB6qufTu6bzefcnAR-FiAu9iju6BXyjkdb3k3VH_7J0gyspaGh0vejDKMJixoiey86c9neIcmKPQAvTh9dshGeAUCM4j8R-pfqEcxZ-bR1DetzRyIyZlB__NjHYmiJibMIkCj4yN0avYVy6TSMOYvJ2grOOM8LGzV-B5ywK5Kv1Kj-QrY0-TImnKpOak4xoEVU1upEL3gBdWMINne-lh6bOXrkcPqt0uAm_6f_GbOShut2n2W0UrJGh2vO0LvP2_zaYR5O4adJ3jw8LmQjuAddEPshV1_SZ8_9yoCL1rMgEJ2iST73lwqxPjOOiM4Z8P6M_ItEeHAny38L7k7KErUHcEAYfNs-p4i909AJnaPOAl3j01mJ79q6p1_yEjGmm3IRSfGlgqH2hn7bjyBG6TgXtk3nHdOvMzP9SkeGhU8CkvKwdVnjdYg=s64",
      "userId": "17944099373685830598"
     },
     "user_tz": 240
    },
    "id": "qfJ8TfGJOl9m",
    "outputId": "9dcc792d-0f57-42be-ee98-cebbe2d30b29"
   },
   "outputs": [],
   "source": [
    "aList [2::3]  # print starting with index [2] only every 3rd element"
   ]
  },
  {
   "cell_type": "code",
   "execution_count": null,
   "metadata": {
    "id": "6YIB6cyS_C8E"
   },
   "outputs": [],
   "source": [
    "a = \"21\"  # Define \"a\" as a string value"
   ]
  },
  {
   "cell_type": "code",
   "execution_count": null,
   "metadata": {
    "id": "PC3GyqlmxJ_l"
   },
   "outputs": [],
   "source": [
    "b = 21  # define \"b\" as an integer value"
   ]
  },
  {
   "cell_type": "code",
   "execution_count": null,
   "metadata": {
    "id": "Uu9UVCC1xWLC"
   },
   "outputs": [],
   "source": [
    "c = '21' # define \"c\" as a string value"
   ]
  },
  {
   "cell_type": "code",
   "execution_count": null,
   "metadata": {
    "colab": {
     "base_uri": "https://localhost:8080/"
    },
    "executionInfo": {
     "elapsed": 279,
     "status": "ok",
     "timestamp": 1624893010043,
     "user": {
      "displayName": "Joel Brigida",
      "photoUrl": "https://lh3.googleusercontent.com/a-/AOh14Gi5jpwxzxgci18vzsZ0Qc1QNoVi75SXgr4cWkdZpjZGk2Syca1WmIazn5PYyGztQLLf2-247MitLzLRfFhaU5OLW7AFQufXBNJS2QmA5vsE7HjfgeCfA4FuLJrWLsfWpZ1TU7i3xim3cbdvP0ZEZ9Z-59d9S8Ypjl5GoFpVhNtYTfDeLMTetGOVOtRdZDA5ivlkgPHBq0xOxAu2HvvAHceQoDmSLHgyzZe7-DJR7p7GEpF7Oba3KAhpgnpOyPMqIlThj5VbUFJdKfpmZLcPVK4comRa8UpTbXt7zcLynIUrDT7zksV188O02dFGQ6cbd2BuxHNzD5go87gFdYB6qufTu6bzefcnAR-FiAu9iju6BXyjkdb3k3VH_7J0gyspaGh0vejDKMJixoiey86c9neIcmKPQAvTh9dshGeAUCM4j8R-pfqEcxZ-bR1DetzRyIyZlB__NjHYmiJibMIkCj4yN0avYVy6TSMOYvJ2grOOM8LGzV-B5ywK5Kv1Kj-QrY0-TImnKpOak4xoEVU1upEL3gBdWMINne-lh6bOXrkcPqt0uAm_6f_GbOShut2n2W0UrJGh2vO0LvP2_zaYR5O4adJ3jw8LmQjuAddEPshV1_SZ8_9yoCL1rMgEJ2iST73lwqxPjOOiM4Z8P6M_ItEeHAny38L7k7KErUHcEAYfNs-p4i909AJnaPOAl3j01mJ79q6p1_yEjGmm3IRSfGlgqH2hn7bjyBG6TgXtk3nHdOvMzP9SkeGhU8CkvKwdVnjdYg=s64",
      "userId": "17944099373685830598"
     },
     "user_tz": 240
    },
    "id": "n0wmyPqh_LnR",
    "outputId": "e79e747e-27c5-44cc-a922-61a24167d546"
   },
   "outputs": [],
   "source": [
    "type(a), type(b), type(c) # verify and print variable types"
   ]
  },
  {
   "cell_type": "code",
   "execution_count": null,
   "metadata": {
    "id": "GWgco15z9z-s"
   },
   "outputs": [],
   "source": [
    "ListA.append('Hanqi Zhuang')  # dot operator calls the 'append' method and adds the value to the end of the list."
   ]
  },
  {
   "cell_type": "code",
   "execution_count": null,
   "metadata": {
    "colab": {
     "base_uri": "https://localhost:8080/"
    },
    "executionInfo": {
     "elapsed": 43,
     "status": "ok",
     "timestamp": 1624890047965,
     "user": {
      "displayName": "Joel Brigida",
      "photoUrl": "https://lh3.googleusercontent.com/a-/AOh14Gi5jpwxzxgci18vzsZ0Qc1QNoVi75SXgr4cWkdZpjZGk2Syca1WmIazn5PYyGztQLLf2-247MitLzLRfFhaU5OLW7AFQufXBNJS2QmA5vsE7HjfgeCfA4FuLJrWLsfWpZ1TU7i3xim3cbdvP0ZEZ9Z-59d9S8Ypjl5GoFpVhNtYTfDeLMTetGOVOtRdZDA5ivlkgPHBq0xOxAu2HvvAHceQoDmSLHgyzZe7-DJR7p7GEpF7Oba3KAhpgnpOyPMqIlThj5VbUFJdKfpmZLcPVK4comRa8UpTbXt7zcLynIUrDT7zksV188O02dFGQ6cbd2BuxHNzD5go87gFdYB6qufTu6bzefcnAR-FiAu9iju6BXyjkdb3k3VH_7J0gyspaGh0vejDKMJixoiey86c9neIcmKPQAvTh9dshGeAUCM4j8R-pfqEcxZ-bR1DetzRyIyZlB__NjHYmiJibMIkCj4yN0avYVy6TSMOYvJ2grOOM8LGzV-B5ywK5Kv1Kj-QrY0-TImnKpOak4xoEVU1upEL3gBdWMINne-lh6bOXrkcPqt0uAm_6f_GbOShut2n2W0UrJGh2vO0LvP2_zaYR5O4adJ3jw8LmQjuAddEPshV1_SZ8_9yoCL1rMgEJ2iST73lwqxPjOOiM4Z8P6M_ItEeHAny38L7k7KErUHcEAYfNs-p4i909AJnaPOAl3j01mJ79q6p1_yEjGmm3IRSfGlgqH2hn7bjyBG6TgXtk3nHdOvMzP9SkeGhU8CkvKwdVnjdYg=s64",
      "userId": "17944099373685830598"
     },
     "user_tz": 240
    },
    "id": "rI1U7ow3qiLp",
    "outputId": "e578abf1-f5b7-4316-e493-fe580a0a322f"
   },
   "outputs": [],
   "source": [
    "ListA # print out new list values"
   ]
  },
  {
   "cell_type": "code",
   "execution_count": null,
   "metadata": {
    "id": "yJnkdcZa994D"
   },
   "outputs": [],
   "source": [
    "ListA[-1] = ListA[0]  # makes the last value of the list equal to the 1st value of the list"
   ]
  },
  {
   "cell_type": "code",
   "execution_count": null,
   "metadata": {
    "colab": {
     "base_uri": "https://localhost:8080/"
    },
    "executionInfo": {
     "elapsed": 41,
     "status": "ok",
     "timestamp": 1624890047966,
     "user": {
      "displayName": "Joel Brigida",
      "photoUrl": "https://lh3.googleusercontent.com/a-/AOh14Gi5jpwxzxgci18vzsZ0Qc1QNoVi75SXgr4cWkdZpjZGk2Syca1WmIazn5PYyGztQLLf2-247MitLzLRfFhaU5OLW7AFQufXBNJS2QmA5vsE7HjfgeCfA4FuLJrWLsfWpZ1TU7i3xim3cbdvP0ZEZ9Z-59d9S8Ypjl5GoFpVhNtYTfDeLMTetGOVOtRdZDA5ivlkgPHBq0xOxAu2HvvAHceQoDmSLHgyzZe7-DJR7p7GEpF7Oba3KAhpgnpOyPMqIlThj5VbUFJdKfpmZLcPVK4comRa8UpTbXt7zcLynIUrDT7zksV188O02dFGQ6cbd2BuxHNzD5go87gFdYB6qufTu6bzefcnAR-FiAu9iju6BXyjkdb3k3VH_7J0gyspaGh0vejDKMJixoiey86c9neIcmKPQAvTh9dshGeAUCM4j8R-pfqEcxZ-bR1DetzRyIyZlB__NjHYmiJibMIkCj4yN0avYVy6TSMOYvJ2grOOM8LGzV-B5ywK5Kv1Kj-QrY0-TImnKpOak4xoEVU1upEL3gBdWMINne-lh6bOXrkcPqt0uAm_6f_GbOShut2n2W0UrJGh2vO0LvP2_zaYR5O4adJ3jw8LmQjuAddEPshV1_SZ8_9yoCL1rMgEJ2iST73lwqxPjOOiM4Z8P6M_ItEeHAny38L7k7KErUHcEAYfNs-p4i909AJnaPOAl3j01mJ79q6p1_yEjGmm3IRSfGlgqH2hn7bjyBG6TgXtk3nHdOvMzP9SkeGhU8CkvKwdVnjdYg=s64",
      "userId": "17944099373685830598"
     },
     "user_tz": 240
    },
    "id": "Y7Jmfh3L-alz",
    "outputId": "02e0e91f-347d-4c24-f58b-3c324b0dff0e"
   },
   "outputs": [],
   "source": [
    "ListA # print the list again"
   ]
  },
  {
   "cell_type": "code",
   "execution_count": null,
   "metadata": {
    "id": "XKGVYCIbrCYP"
   },
   "outputs": [],
   "source": [
    "ListA [3] = 'Hanqi Zhang' # change index #3 of the list to specified value"
   ]
  },
  {
   "cell_type": "code",
   "execution_count": null,
   "metadata": {
    "colab": {
     "base_uri": "https://localhost:8080/"
    },
    "executionInfo": {
     "elapsed": 40,
     "status": "ok",
     "timestamp": 1624890047967,
     "user": {
      "displayName": "Joel Brigida",
      "photoUrl": "https://lh3.googleusercontent.com/a-/AOh14Gi5jpwxzxgci18vzsZ0Qc1QNoVi75SXgr4cWkdZpjZGk2Syca1WmIazn5PYyGztQLLf2-247MitLzLRfFhaU5OLW7AFQufXBNJS2QmA5vsE7HjfgeCfA4FuLJrWLsfWpZ1TU7i3xim3cbdvP0ZEZ9Z-59d9S8Ypjl5GoFpVhNtYTfDeLMTetGOVOtRdZDA5ivlkgPHBq0xOxAu2HvvAHceQoDmSLHgyzZe7-DJR7p7GEpF7Oba3KAhpgnpOyPMqIlThj5VbUFJdKfpmZLcPVK4comRa8UpTbXt7zcLynIUrDT7zksV188O02dFGQ6cbd2BuxHNzD5go87gFdYB6qufTu6bzefcnAR-FiAu9iju6BXyjkdb3k3VH_7J0gyspaGh0vejDKMJixoiey86c9neIcmKPQAvTh9dshGeAUCM4j8R-pfqEcxZ-bR1DetzRyIyZlB__NjHYmiJibMIkCj4yN0avYVy6TSMOYvJ2grOOM8LGzV-B5ywK5Kv1Kj-QrY0-TImnKpOak4xoEVU1upEL3gBdWMINne-lh6bOXrkcPqt0uAm_6f_GbOShut2n2W0UrJGh2vO0LvP2_zaYR5O4adJ3jw8LmQjuAddEPshV1_SZ8_9yoCL1rMgEJ2iST73lwqxPjOOiM4Z8P6M_ItEeHAny38L7k7KErUHcEAYfNs-p4i909AJnaPOAl3j01mJ79q6p1_yEjGmm3IRSfGlgqH2hn7bjyBG6TgXtk3nHdOvMzP9SkeGhU8CkvKwdVnjdYg=s64",
      "userId": "17944099373685830598"
     },
     "user_tz": 240
    },
    "id": "qONYoMKjrJJk",
    "outputId": "85006657-f278-4a55-d35d-8b25018a67ab"
   },
   "outputs": [],
   "source": [
    "ListA   # print list again."
   ]
  },
  {
   "cell_type": "code",
   "execution_count": null,
   "metadata": {
    "id": "10YPI71LrOz0"
   },
   "outputs": [],
   "source": [
    "ListA [3] = ListA [0]   # index number 3 becomes same value as index #0"
   ]
  },
  {
   "cell_type": "code",
   "execution_count": null,
   "metadata": {
    "colab": {
     "base_uri": "https://localhost:8080/"
    },
    "executionInfo": {
     "elapsed": 40,
     "status": "ok",
     "timestamp": 1624890047969,
     "user": {
      "displayName": "Joel Brigida",
      "photoUrl": "https://lh3.googleusercontent.com/a-/AOh14Gi5jpwxzxgci18vzsZ0Qc1QNoVi75SXgr4cWkdZpjZGk2Syca1WmIazn5PYyGztQLLf2-247MitLzLRfFhaU5OLW7AFQufXBNJS2QmA5vsE7HjfgeCfA4FuLJrWLsfWpZ1TU7i3xim3cbdvP0ZEZ9Z-59d9S8Ypjl5GoFpVhNtYTfDeLMTetGOVOtRdZDA5ivlkgPHBq0xOxAu2HvvAHceQoDmSLHgyzZe7-DJR7p7GEpF7Oba3KAhpgnpOyPMqIlThj5VbUFJdKfpmZLcPVK4comRa8UpTbXt7zcLynIUrDT7zksV188O02dFGQ6cbd2BuxHNzD5go87gFdYB6qufTu6bzefcnAR-FiAu9iju6BXyjkdb3k3VH_7J0gyspaGh0vejDKMJixoiey86c9neIcmKPQAvTh9dshGeAUCM4j8R-pfqEcxZ-bR1DetzRyIyZlB__NjHYmiJibMIkCj4yN0avYVy6TSMOYvJ2grOOM8LGzV-B5ywK5Kv1Kj-QrY0-TImnKpOak4xoEVU1upEL3gBdWMINne-lh6bOXrkcPqt0uAm_6f_GbOShut2n2W0UrJGh2vO0LvP2_zaYR5O4adJ3jw8LmQjuAddEPshV1_SZ8_9yoCL1rMgEJ2iST73lwqxPjOOiM4Z8P6M_ItEeHAny38L7k7KErUHcEAYfNs-p4i909AJnaPOAl3j01mJ79q6p1_yEjGmm3IRSfGlgqH2hn7bjyBG6TgXtk3nHdOvMzP9SkeGhU8CkvKwdVnjdYg=s64",
      "userId": "17944099373685830598"
     },
     "user_tz": 240
    },
    "id": "Hc7Bj9nVrVAl",
    "outputId": "d336f9bf-1c50-4453-e170-48549f42ca82"
   },
   "outputs": [],
   "source": [
    "ListA"
   ]
  },
  {
   "cell_type": "code",
   "execution_count": null,
   "metadata": {
    "id": "J_oF-JQ7-mHS"
   },
   "outputs": [],
   "source": [
    "L = []    # constructs an empty list named \"L\""
   ]
  },
  {
   "cell_type": "code",
   "execution_count": null,
   "metadata": {
    "id": "ySTfI_3gg-qA"
   },
   "outputs": [],
   "source": [
    "L = [23, 45, 56, 15, 78, 34, 90, 34]"
   ]
  },
  {
   "cell_type": "code",
   "execution_count": null,
   "metadata": {
    "id": "vjdJO-uevzh2"
   },
   "outputs": [],
   "source": [
    "L.append(656)   # can repeatedly add values here and they will concatenate to the end of the list when called"
   ]
  },
  {
   "cell_type": "code",
   "execution_count": null,
   "metadata": {
    "colab": {
     "base_uri": "https://localhost:8080/"
    },
    "executionInfo": {
     "elapsed": 10,
     "status": "ok",
     "timestamp": 1624898852931,
     "user": {
      "displayName": "Joel Brigida",
      "photoUrl": "https://lh3.googleusercontent.com/a-/AOh14Gi5jpwxzxgci18vzsZ0Qc1QNoVi75SXgr4cWkdZpjZGk2Syca1WmIazn5PYyGztQLLf2-247MitLzLRfFhaU5OLW7AFQufXBNJS2QmA5vsE7HjfgeCfA4FuLJrWLsfWpZ1TU7i3xim3cbdvP0ZEZ9Z-59d9S8Ypjl5GoFpVhNtYTfDeLMTetGOVOtRdZDA5ivlkgPHBq0xOxAu2HvvAHceQoDmSLHgyzZe7-DJR7p7GEpF7Oba3KAhpgnpOyPMqIlThj5VbUFJdKfpmZLcPVK4comRa8UpTbXt7zcLynIUrDT7zksV188O02dFGQ6cbd2BuxHNzD5go87gFdYB6qufTu6bzefcnAR-FiAu9iju6BXyjkdb3k3VH_7J0gyspaGh0vejDKMJixoiey86c9neIcmKPQAvTh9dshGeAUCM4j8R-pfqEcxZ-bR1DetzRyIyZlB__NjHYmiJibMIkCj4yN0avYVy6TSMOYvJ2grOOM8LGzV-B5ywK5Kv1Kj-QrY0-TImnKpOak4xoEVU1upEL3gBdWMINne-lh6bOXrkcPqt0uAm_6f_GbOShut2n2W0UrJGh2vO0LvP2_zaYR5O4adJ3jw8LmQjuAddEPshV1_SZ8_9yoCL1rMgEJ2iST73lwqxPjOOiM4Z8P6M_ItEeHAny38L7k7KErUHcEAYfNs-p4i909AJnaPOAl3j01mJ79q6p1_yEjGmm3IRSfGlgqH2hn7bjyBG6TgXtk3nHdOvMzP9SkeGhU8CkvKwdVnjdYg=s64",
      "userId": "17944099373685830598"
     },
     "user_tz": 240
    },
    "id": "xTfwgYZev20p",
    "outputId": "67288809-702b-4774-9068-55b4a005328d"
   },
   "outputs": [],
   "source": [
    "L   # displays the values in list \"L\""
   ]
  },
  {
   "cell_type": "code",
   "execution_count": null,
   "metadata": {
    "colab": {
     "base_uri": "https://localhost:8080/"
    },
    "executionInfo": {
     "elapsed": 9,
     "status": "ok",
     "timestamp": 1624898857758,
     "user": {
      "displayName": "Joel Brigida",
      "photoUrl": "https://lh3.googleusercontent.com/a-/AOh14Gi5jpwxzxgci18vzsZ0Qc1QNoVi75SXgr4cWkdZpjZGk2Syca1WmIazn5PYyGztQLLf2-247MitLzLRfFhaU5OLW7AFQufXBNJS2QmA5vsE7HjfgeCfA4FuLJrWLsfWpZ1TU7i3xim3cbdvP0ZEZ9Z-59d9S8Ypjl5GoFpVhNtYTfDeLMTetGOVOtRdZDA5ivlkgPHBq0xOxAu2HvvAHceQoDmSLHgyzZe7-DJR7p7GEpF7Oba3KAhpgnpOyPMqIlThj5VbUFJdKfpmZLcPVK4comRa8UpTbXt7zcLynIUrDT7zksV188O02dFGQ6cbd2BuxHNzD5go87gFdYB6qufTu6bzefcnAR-FiAu9iju6BXyjkdb3k3VH_7J0gyspaGh0vejDKMJixoiey86c9neIcmKPQAvTh9dshGeAUCM4j8R-pfqEcxZ-bR1DetzRyIyZlB__NjHYmiJibMIkCj4yN0avYVy6TSMOYvJ2grOOM8LGzV-B5ywK5Kv1Kj-QrY0-TImnKpOak4xoEVU1upEL3gBdWMINne-lh6bOXrkcPqt0uAm_6f_GbOShut2n2W0UrJGh2vO0LvP2_zaYR5O4adJ3jw8LmQjuAddEPshV1_SZ8_9yoCL1rMgEJ2iST73lwqxPjOOiM4Z8P6M_ItEeHAny38L7k7KErUHcEAYfNs-p4i909AJnaPOAl3j01mJ79q6p1_yEjGmm3IRSfGlgqH2hn7bjyBG6TgXtk3nHdOvMzP9SkeGhU8CkvKwdVnjdYg=s64",
      "userId": "17944099373685830598"
     },
     "user_tz": 240
    },
    "id": "W8b5tTd3_n-S",
    "outputId": "f4248d49-7fb1-4048-dfa1-8897a7e67646"
   },
   "outputs": [],
   "source": [
    "len(L)    # \"len\" function: takes object as input: query how many items in the list \"L\""
   ]
  },
  {
   "cell_type": "code",
   "execution_count": null,
   "metadata": {
    "colab": {
     "base_uri": "https://localhost:8080/"
    },
    "executionInfo": {
     "elapsed": 266,
     "status": "ok",
     "timestamp": 1624898860153,
     "user": {
      "displayName": "Joel Brigida",
      "photoUrl": "https://lh3.googleusercontent.com/a-/AOh14Gi5jpwxzxgci18vzsZ0Qc1QNoVi75SXgr4cWkdZpjZGk2Syca1WmIazn5PYyGztQLLf2-247MitLzLRfFhaU5OLW7AFQufXBNJS2QmA5vsE7HjfgeCfA4FuLJrWLsfWpZ1TU7i3xim3cbdvP0ZEZ9Z-59d9S8Ypjl5GoFpVhNtYTfDeLMTetGOVOtRdZDA5ivlkgPHBq0xOxAu2HvvAHceQoDmSLHgyzZe7-DJR7p7GEpF7Oba3KAhpgnpOyPMqIlThj5VbUFJdKfpmZLcPVK4comRa8UpTbXt7zcLynIUrDT7zksV188O02dFGQ6cbd2BuxHNzD5go87gFdYB6qufTu6bzefcnAR-FiAu9iju6BXyjkdb3k3VH_7J0gyspaGh0vejDKMJixoiey86c9neIcmKPQAvTh9dshGeAUCM4j8R-pfqEcxZ-bR1DetzRyIyZlB__NjHYmiJibMIkCj4yN0avYVy6TSMOYvJ2grOOM8LGzV-B5ywK5Kv1Kj-QrY0-TImnKpOak4xoEVU1upEL3gBdWMINne-lh6bOXrkcPqt0uAm_6f_GbOShut2n2W0UrJGh2vO0LvP2_zaYR5O4adJ3jw8LmQjuAddEPshV1_SZ8_9yoCL1rMgEJ2iST73lwqxPjOOiM4Z8P6M_ItEeHAny38L7k7KErUHcEAYfNs-p4i909AJnaPOAl3j01mJ79q6p1_yEjGmm3IRSfGlgqH2hn7bjyBG6TgXtk3nHdOvMzP9SkeGhU8CkvKwdVnjdYg=s64",
      "userId": "17944099373685830598"
     },
     "user_tz": 240
    },
    "id": "U6LX5F2r_4zu",
    "outputId": "c812147c-72c7-48c7-896d-f1e17cd6e1f1"
   },
   "outputs": [],
   "source": [
    "L[2]  # displays the value located in index # 2 (indexes start at 0)"
   ]
  },
  {
   "cell_type": "code",
   "execution_count": null,
   "metadata": {
    "colab": {
     "base_uri": "https://localhost:8080/"
    },
    "executionInfo": {
     "elapsed": 282,
     "status": "ok",
     "timestamp": 1624898865265,
     "user": {
      "displayName": "Joel Brigida",
      "photoUrl": "https://lh3.googleusercontent.com/a-/AOh14Gi5jpwxzxgci18vzsZ0Qc1QNoVi75SXgr4cWkdZpjZGk2Syca1WmIazn5PYyGztQLLf2-247MitLzLRfFhaU5OLW7AFQufXBNJS2QmA5vsE7HjfgeCfA4FuLJrWLsfWpZ1TU7i3xim3cbdvP0ZEZ9Z-59d9S8Ypjl5GoFpVhNtYTfDeLMTetGOVOtRdZDA5ivlkgPHBq0xOxAu2HvvAHceQoDmSLHgyzZe7-DJR7p7GEpF7Oba3KAhpgnpOyPMqIlThj5VbUFJdKfpmZLcPVK4comRa8UpTbXt7zcLynIUrDT7zksV188O02dFGQ6cbd2BuxHNzD5go87gFdYB6qufTu6bzefcnAR-FiAu9iju6BXyjkdb3k3VH_7J0gyspaGh0vejDKMJixoiey86c9neIcmKPQAvTh9dshGeAUCM4j8R-pfqEcxZ-bR1DetzRyIyZlB__NjHYmiJibMIkCj4yN0avYVy6TSMOYvJ2grOOM8LGzV-B5ywK5Kv1Kj-QrY0-TImnKpOak4xoEVU1upEL3gBdWMINne-lh6bOXrkcPqt0uAm_6f_GbOShut2n2W0UrJGh2vO0LvP2_zaYR5O4adJ3jw8LmQjuAddEPshV1_SZ8_9yoCL1rMgEJ2iST73lwqxPjOOiM4Z8P6M_ItEeHAny38L7k7KErUHcEAYfNs-p4i909AJnaPOAl3j01mJ79q6p1_yEjGmm3IRSfGlgqH2hn7bjyBG6TgXtk3nHdOvMzP9SkeGhU8CkvKwdVnjdYg=s64",
      "userId": "17944099373685830598"
     },
     "user_tz": 240
    },
    "id": "eMA-0zK6_vBv",
    "outputId": "635fe90f-587e-4137-c67b-3538e21cda24"
   },
   "outputs": [],
   "source": [
    "L[-1] # displays the last index"
   ]
  },
  {
   "cell_type": "code",
   "execution_count": null,
   "metadata": {
    "colab": {
     "base_uri": "https://localhost:8080/"
    },
    "executionInfo": {
     "elapsed": 353,
     "status": "ok",
     "timestamp": 1624898866816,
     "user": {
      "displayName": "Joel Brigida",
      "photoUrl": "https://lh3.googleusercontent.com/a-/AOh14Gi5jpwxzxgci18vzsZ0Qc1QNoVi75SXgr4cWkdZpjZGk2Syca1WmIazn5PYyGztQLLf2-247MitLzLRfFhaU5OLW7AFQufXBNJS2QmA5vsE7HjfgeCfA4FuLJrWLsfWpZ1TU7i3xim3cbdvP0ZEZ9Z-59d9S8Ypjl5GoFpVhNtYTfDeLMTetGOVOtRdZDA5ivlkgPHBq0xOxAu2HvvAHceQoDmSLHgyzZe7-DJR7p7GEpF7Oba3KAhpgnpOyPMqIlThj5VbUFJdKfpmZLcPVK4comRa8UpTbXt7zcLynIUrDT7zksV188O02dFGQ6cbd2BuxHNzD5go87gFdYB6qufTu6bzefcnAR-FiAu9iju6BXyjkdb3k3VH_7J0gyspaGh0vejDKMJixoiey86c9neIcmKPQAvTh9dshGeAUCM4j8R-pfqEcxZ-bR1DetzRyIyZlB__NjHYmiJibMIkCj4yN0avYVy6TSMOYvJ2grOOM8LGzV-B5ywK5Kv1Kj-QrY0-TImnKpOak4xoEVU1upEL3gBdWMINne-lh6bOXrkcPqt0uAm_6f_GbOShut2n2W0UrJGh2vO0LvP2_zaYR5O4adJ3jw8LmQjuAddEPshV1_SZ8_9yoCL1rMgEJ2iST73lwqxPjOOiM4Z8P6M_ItEeHAny38L7k7KErUHcEAYfNs-p4i909AJnaPOAl3j01mJ79q6p1_yEjGmm3IRSfGlgqH2hn7bjyBG6TgXtk3nHdOvMzP9SkeGhU8CkvKwdVnjdYg=s64",
      "userId": "17944099373685830598"
     },
     "user_tz": 240
    },
    "id": "PR5nLQEb2cpN",
    "outputId": "1138dbdd-d086-41ac-edf8-2a8ad73740dd"
   },
   "outputs": [],
   "source": [
    "L[-2] # displays the 2nd to last index....\"minus\" sign denotes to start at the end and work backward."
   ]
  },
  {
   "cell_type": "code",
   "execution_count": null,
   "metadata": {
    "id": "il4cz274zEfb"
   },
   "outputs": [],
   "source": [
    "L[2:6]        # Print values starting at index [2] up to but NOT including [6] [start index, end index]"
   ]
  },
  {
   "cell_type": "code",
   "execution_count": null,
   "metadata": {
    "id": "v1Ef-xBb0a39"
   },
   "outputs": [],
   "source": [
    "L[2:]       # print all values starting from index [2]"
   ]
  },
  {
   "cell_type": "code",
   "execution_count": null,
   "metadata": {
    "id": "bkVJ2i351ToP"
   },
   "outputs": [],
   "source": [
    "L[0::2]     # print all EVEN indices starting at [0]"
   ]
  },
  {
   "cell_type": "code",
   "execution_count": null,
   "metadata": {
    "id": "CFQ7LzBO1xdB"
   },
   "outputs": [],
   "source": [
    "L[2:9:2]  # print all even indices from [2] to [9]"
   ]
  },
  {
   "cell_type": "code",
   "execution_count": null,
   "metadata": {
    "id": "wAuO_9_C2HMb"
   },
   "outputs": [],
   "source": [
    "L[0::3]   # print every 3rd index starting at [0]"
   ]
  },
  {
   "cell_type": "code",
   "execution_count": null,
   "metadata": {
    "id": "q9LvqZlVBF9A"
   },
   "outputs": [],
   "source": [
    "club={'Name':'Data Science and Machine Learning',\n",
    "      'Campus':'FAU Boca',\n",
    "      'Year est': '2021'}   #define a dictionary data type made of string data"
   ]
  },
  {
   "cell_type": "code",
   "execution_count": null,
   "metadata": {
    "id": "v9rulvi437K7"
   },
   "outputs": [],
   "source": [
    "type(club)"
   ]
  },
  {
   "cell_type": "code",
   "execution_count": null,
   "metadata": {
    "id": "PsQ8IBdx4uQy"
   },
   "outputs": [],
   "source": [
    "club  #display contents of dictionary"
   ]
  },
  {
   "cell_type": "code",
   "execution_count": null,
   "metadata": {
    "id": "x41b6Tpl5Ecv"
   },
   "outputs": [],
   "source": [
    "club.items()    # display the items in the dictionary"
   ]
  },
  {
   "cell_type": "code",
   "execution_count": null,
   "metadata": {
    "id": "0caBNx0KCHRM"
   },
   "outputs": [],
   "source": [
    "club.keys()     # display only the keys in the dictionary"
   ]
  },
  {
   "cell_type": "code",
   "execution_count": null,
   "metadata": {
    "id": "t3EG119ACVG2"
   },
   "outputs": [],
   "source": [
    "v0= list(club.values())[0]"
   ]
  },
  {
   "cell_type": "code",
   "execution_count": null,
   "metadata": {
    "id": "AMUl3fv6CroY"
   },
   "outputs": [],
   "source": [
    "v0"
   ]
  },
  {
   "cell_type": "code",
   "execution_count": null,
   "metadata": {
    "id": "om0ZpJ1pCvPi"
   },
   "outputs": [],
   "source": [
    "list(club.values())[0]"
   ]
  },
  {
   "cell_type": "code",
   "execution_count": null,
   "metadata": {
    "id": "bJPbGa8DDFdZ"
   },
   "outputs": [],
   "source": [
    "club['Activity']='Summer Workshop'"
   ]
  },
  {
   "cell_type": "code",
   "execution_count": null,
   "metadata": {
    "id": "W59HbShUDumi"
   },
   "outputs": [],
   "source": [
    "club"
   ]
  },
  {
   "cell_type": "markdown",
   "metadata": {
    "id": "OAne0z598UIr"
   },
   "source": [
    "## Dictionaries"
   ]
  },
  {
   "cell_type": "code",
   "execution_count": null,
   "metadata": {
    "id": "1KwZQg5OrE3w"
   },
   "outputs": [],
   "source": [
    "# Dictionaries: much better to store information\n",
    "# Map values of keys to a value\n",
    "\n",
    "'''\n",
    "Dictionary structure \n",
    "\n",
    "dict ={'key1':value1,\n",
    "       'key2':value2,\n",
    "       ....}\n",
    "\n",
    "dictionaries can be expanded by adding a new pair (key,value)\n",
    "\n",
    "dict.keys()\n",
    "dict.values()\n",
    "'''\n",
    "\n",
    "tel = {'emmanuelle': 5752, 'sebastian': 5578}\n",
    "tel['francis'] = 5915"
   ]
  },
  {
   "cell_type": "code",
   "execution_count": null,
   "metadata": {},
   "outputs": [],
   "source": [
    "tel['sebastian']    # display key value for 'sebastian' in the tel dict"
   ]
  },
  {
   "cell_type": "code",
   "execution_count": null,
   "metadata": {},
   "outputs": [],
   "source": [
    "tel.keys()  # display keys in the tel dict"
   ]
  },
  {
   "cell_type": "code",
   "execution_count": null,
   "metadata": {},
   "outputs": [],
   "source": [
    "tel.values()    # display values in the tel.dict"
   ]
  },
  {
   "cell_type": "code",
   "execution_count": null,
   "metadata": {},
   "outputs": [],
   "source": [
    "'francis' in tel    # query if the 'francis' key is in the tel dict (answers True/False)\n"
   ]
  },
  {
   "cell_type": "code",
   "execution_count": null,
   "metadata": {},
   "outputs": [],
   "source": [
    "'johnny' in tel"
   ]
  },
  {
   "cell_type": "code",
   "execution_count": null,
   "metadata": {
    "id": "toNUKKQ2iiaZ"
   },
   "outputs": [],
   "source": [
    "somedict = {}   #create an empty dict named \"somedict\""
   ]
  },
  {
   "cell_type": "code",
   "execution_count": null,
   "metadata": {
    "colab": {
     "base_uri": "https://localhost:8080/"
    },
    "executionInfo": {
     "elapsed": 274,
     "status": "ok",
     "timestamp": 1624899339492,
     "user": {
      "displayName": "Joel Brigida",
      "photoUrl": "https://lh3.googleusercontent.com/a-/AOh14Gi5jpwxzxgci18vzsZ0Qc1QNoVi75SXgr4cWkdZpjZGk2Syca1WmIazn5PYyGztQLLf2-247MitLzLRfFhaU5OLW7AFQufXBNJS2QmA5vsE7HjfgeCfA4FuLJrWLsfWpZ1TU7i3xim3cbdvP0ZEZ9Z-59d9S8Ypjl5GoFpVhNtYTfDeLMTetGOVOtRdZDA5ivlkgPHBq0xOxAu2HvvAHceQoDmSLHgyzZe7-DJR7p7GEpF7Oba3KAhpgnpOyPMqIlThj5VbUFJdKfpmZLcPVK4comRa8UpTbXt7zcLynIUrDT7zksV188O02dFGQ6cbd2BuxHNzD5go87gFdYB6qufTu6bzefcnAR-FiAu9iju6BXyjkdb3k3VH_7J0gyspaGh0vejDKMJixoiey86c9neIcmKPQAvTh9dshGeAUCM4j8R-pfqEcxZ-bR1DetzRyIyZlB__NjHYmiJibMIkCj4yN0avYVy6TSMOYvJ2grOOM8LGzV-B5ywK5Kv1Kj-QrY0-TImnKpOak4xoEVU1upEL3gBdWMINne-lh6bOXrkcPqt0uAm_6f_GbOShut2n2W0UrJGh2vO0LvP2_zaYR5O4adJ3jw8LmQjuAddEPshV1_SZ8_9yoCL1rMgEJ2iST73lwqxPjOOiM4Z8P6M_ItEeHAny38L7k7KErUHcEAYfNs-p4i909AJnaPOAl3j01mJ79q6p1_yEjGmm3IRSfGlgqH2hn7bjyBG6TgXtk3nHdOvMzP9SkeGhU8CkvKwdVnjdYg=s64",
      "userId": "17944099373685830598"
     },
     "user_tz": 240
    },
    "id": "luHX60kpiom-",
    "outputId": "cd56e432-3312-4c38-a827-7e406785d28e"
   },
   "outputs": [],
   "source": [
    "type(somedict)"
   ]
  },
  {
   "cell_type": "code",
   "execution_count": null,
   "metadata": {
    "id": "TC2Cg-S1jFie"
   },
   "outputs": [],
   "source": [
    "club = {'Name':'Data Science & Machine Learning',\n",
    "        'Campus':'FAU Boca',\n",
    "        'Year Est':'2021'}"
   ]
  },
  {
   "cell_type": "code",
   "execution_count": null,
   "metadata": {
    "colab": {
     "base_uri": "https://localhost:8080/"
    },
    "executionInfo": {
     "elapsed": 280,
     "status": "ok",
     "timestamp": 1624899522966,
     "user": {
      "displayName": "Joel Brigida",
      "photoUrl": "https://lh3.googleusercontent.com/a-/AOh14Gi5jpwxzxgci18vzsZ0Qc1QNoVi75SXgr4cWkdZpjZGk2Syca1WmIazn5PYyGztQLLf2-247MitLzLRfFhaU5OLW7AFQufXBNJS2QmA5vsE7HjfgeCfA4FuLJrWLsfWpZ1TU7i3xim3cbdvP0ZEZ9Z-59d9S8Ypjl5GoFpVhNtYTfDeLMTetGOVOtRdZDA5ivlkgPHBq0xOxAu2HvvAHceQoDmSLHgyzZe7-DJR7p7GEpF7Oba3KAhpgnpOyPMqIlThj5VbUFJdKfpmZLcPVK4comRa8UpTbXt7zcLynIUrDT7zksV188O02dFGQ6cbd2BuxHNzD5go87gFdYB6qufTu6bzefcnAR-FiAu9iju6BXyjkdb3k3VH_7J0gyspaGh0vejDKMJixoiey86c9neIcmKPQAvTh9dshGeAUCM4j8R-pfqEcxZ-bR1DetzRyIyZlB__NjHYmiJibMIkCj4yN0avYVy6TSMOYvJ2grOOM8LGzV-B5ywK5Kv1Kj-QrY0-TImnKpOak4xoEVU1upEL3gBdWMINne-lh6bOXrkcPqt0uAm_6f_GbOShut2n2W0UrJGh2vO0LvP2_zaYR5O4adJ3jw8LmQjuAddEPshV1_SZ8_9yoCL1rMgEJ2iST73lwqxPjOOiM4Z8P6M_ItEeHAny38L7k7KErUHcEAYfNs-p4i909AJnaPOAl3j01mJ79q6p1_yEjGmm3IRSfGlgqH2hn7bjyBG6TgXtk3nHdOvMzP9SkeGhU8CkvKwdVnjdYg=s64",
      "userId": "17944099373685830598"
     },
     "user_tz": 240
    },
    "id": "zxL6XDofjU-j",
    "outputId": "c8dd5f12-d584-43c9-f976-935a4be24a09"
   },
   "outputs": [],
   "source": [
    "club"
   ]
  },
  {
   "cell_type": "code",
   "execution_count": null,
   "metadata": {
    "colab": {
     "base_uri": "https://localhost:8080/"
    },
    "executionInfo": {
     "elapsed": 262,
     "status": "ok",
     "timestamp": 1624899556982,
     "user": {
      "displayName": "Joel Brigida",
      "photoUrl": "https://lh3.googleusercontent.com/a-/AOh14Gi5jpwxzxgci18vzsZ0Qc1QNoVi75SXgr4cWkdZpjZGk2Syca1WmIazn5PYyGztQLLf2-247MitLzLRfFhaU5OLW7AFQufXBNJS2QmA5vsE7HjfgeCfA4FuLJrWLsfWpZ1TU7i3xim3cbdvP0ZEZ9Z-59d9S8Ypjl5GoFpVhNtYTfDeLMTetGOVOtRdZDA5ivlkgPHBq0xOxAu2HvvAHceQoDmSLHgyzZe7-DJR7p7GEpF7Oba3KAhpgnpOyPMqIlThj5VbUFJdKfpmZLcPVK4comRa8UpTbXt7zcLynIUrDT7zksV188O02dFGQ6cbd2BuxHNzD5go87gFdYB6qufTu6bzefcnAR-FiAu9iju6BXyjkdb3k3VH_7J0gyspaGh0vejDKMJixoiey86c9neIcmKPQAvTh9dshGeAUCM4j8R-pfqEcxZ-bR1DetzRyIyZlB__NjHYmiJibMIkCj4yN0avYVy6TSMOYvJ2grOOM8LGzV-B5ywK5Kv1Kj-QrY0-TImnKpOak4xoEVU1upEL3gBdWMINne-lh6bOXrkcPqt0uAm_6f_GbOShut2n2W0UrJGh2vO0LvP2_zaYR5O4adJ3jw8LmQjuAddEPshV1_SZ8_9yoCL1rMgEJ2iST73lwqxPjOOiM4Z8P6M_ItEeHAny38L7k7KErUHcEAYfNs-p4i909AJnaPOAl3j01mJ79q6p1_yEjGmm3IRSfGlgqH2hn7bjyBG6TgXtk3nHdOvMzP9SkeGhU8CkvKwdVnjdYg=s64",
      "userId": "17944099373685830598"
     },
     "user_tz": 240
    },
    "id": "MMiaSQe7j3hj",
    "outputId": "cf21a8b4-c55e-4e84-9297-5f68a631748a"
   },
   "outputs": [],
   "source": [
    "club.items()  # list every key and value"
   ]
  },
  {
   "cell_type": "code",
   "execution_count": null,
   "metadata": {
    "colab": {
     "base_uri": "https://localhost:8080/"
    },
    "executionInfo": {
     "elapsed": 269,
     "status": "ok",
     "timestamp": 1624899756130,
     "user": {
      "displayName": "Joel Brigida",
      "photoUrl": "https://lh3.googleusercontent.com/a-/AOh14Gi5jpwxzxgci18vzsZ0Qc1QNoVi75SXgr4cWkdZpjZGk2Syca1WmIazn5PYyGztQLLf2-247MitLzLRfFhaU5OLW7AFQufXBNJS2QmA5vsE7HjfgeCfA4FuLJrWLsfWpZ1TU7i3xim3cbdvP0ZEZ9Z-59d9S8Ypjl5GoFpVhNtYTfDeLMTetGOVOtRdZDA5ivlkgPHBq0xOxAu2HvvAHceQoDmSLHgyzZe7-DJR7p7GEpF7Oba3KAhpgnpOyPMqIlThj5VbUFJdKfpmZLcPVK4comRa8UpTbXt7zcLynIUrDT7zksV188O02dFGQ6cbd2BuxHNzD5go87gFdYB6qufTu6bzefcnAR-FiAu9iju6BXyjkdb3k3VH_7J0gyspaGh0vejDKMJixoiey86c9neIcmKPQAvTh9dshGeAUCM4j8R-pfqEcxZ-bR1DetzRyIyZlB__NjHYmiJibMIkCj4yN0avYVy6TSMOYvJ2grOOM8LGzV-B5ywK5Kv1Kj-QrY0-TImnKpOak4xoEVU1upEL3gBdWMINne-lh6bOXrkcPqt0uAm_6f_GbOShut2n2W0UrJGh2vO0LvP2_zaYR5O4adJ3jw8LmQjuAddEPshV1_SZ8_9yoCL1rMgEJ2iST73lwqxPjOOiM4Z8P6M_ItEeHAny38L7k7KErUHcEAYfNs-p4i909AJnaPOAl3j01mJ79q6p1_yEjGmm3IRSfGlgqH2hn7bjyBG6TgXtk3nHdOvMzP9SkeGhU8CkvKwdVnjdYg=s64",
      "userId": "17944099373685830598"
     },
     "user_tz": 240
    },
    "id": "ZqFYGyQakl_i",
    "outputId": "2c535402-7455-4cca-aa45-dbb26793d2ac"
   },
   "outputs": [],
   "source": [
    "club.keys() # display only the values of dictionary keys"
   ]
  },
  {
   "cell_type": "code",
   "execution_count": null,
   "metadata": {
    "colab": {
     "base_uri": "https://localhost:8080/"
    },
    "executionInfo": {
     "elapsed": 263,
     "status": "ok",
     "timestamp": 1624899973693,
     "user": {
      "displayName": "Joel Brigida",
      "photoUrl": "https://lh3.googleusercontent.com/a-/AOh14Gi5jpwxzxgci18vzsZ0Qc1QNoVi75SXgr4cWkdZpjZGk2Syca1WmIazn5PYyGztQLLf2-247MitLzLRfFhaU5OLW7AFQufXBNJS2QmA5vsE7HjfgeCfA4FuLJrWLsfWpZ1TU7i3xim3cbdvP0ZEZ9Z-59d9S8Ypjl5GoFpVhNtYTfDeLMTetGOVOtRdZDA5ivlkgPHBq0xOxAu2HvvAHceQoDmSLHgyzZe7-DJR7p7GEpF7Oba3KAhpgnpOyPMqIlThj5VbUFJdKfpmZLcPVK4comRa8UpTbXt7zcLynIUrDT7zksV188O02dFGQ6cbd2BuxHNzD5go87gFdYB6qufTu6bzefcnAR-FiAu9iju6BXyjkdb3k3VH_7J0gyspaGh0vejDKMJixoiey86c9neIcmKPQAvTh9dshGeAUCM4j8R-pfqEcxZ-bR1DetzRyIyZlB__NjHYmiJibMIkCj4yN0avYVy6TSMOYvJ2grOOM8LGzV-B5ywK5Kv1Kj-QrY0-TImnKpOak4xoEVU1upEL3gBdWMINne-lh6bOXrkcPqt0uAm_6f_GbOShut2n2W0UrJGh2vO0LvP2_zaYR5O4adJ3jw8LmQjuAddEPshV1_SZ8_9yoCL1rMgEJ2iST73lwqxPjOOiM4Z8P6M_ItEeHAny38L7k7KErUHcEAYfNs-p4i909AJnaPOAl3j01mJ79q6p1_yEjGmm3IRSfGlgqH2hn7bjyBG6TgXtk3nHdOvMzP9SkeGhU8CkvKwdVnjdYg=s64",
      "userId": "17944099373685830598"
     },
     "user_tz": 240
    },
    "id": "0kxjA_JFlbB-",
    "outputId": "175c9c64-4372-4246-8c2e-7ed107db69d9"
   },
   "outputs": [],
   "source": [
    "club.values() #display only the values of the keys"
   ]
  },
  {
   "cell_type": "code",
   "execution_count": null,
   "metadata": {
    "colab": {
     "base_uri": "https://localhost:8080/"
    },
    "executionInfo": {
     "elapsed": 330,
     "status": "ok",
     "timestamp": 1624900324701,
     "user": {
      "displayName": "Joel Brigida",
      "photoUrl": "https://lh3.googleusercontent.com/a-/AOh14Gi5jpwxzxgci18vzsZ0Qc1QNoVi75SXgr4cWkdZpjZGk2Syca1WmIazn5PYyGztQLLf2-247MitLzLRfFhaU5OLW7AFQufXBNJS2QmA5vsE7HjfgeCfA4FuLJrWLsfWpZ1TU7i3xim3cbdvP0ZEZ9Z-59d9S8Ypjl5GoFpVhNtYTfDeLMTetGOVOtRdZDA5ivlkgPHBq0xOxAu2HvvAHceQoDmSLHgyzZe7-DJR7p7GEpF7Oba3KAhpgnpOyPMqIlThj5VbUFJdKfpmZLcPVK4comRa8UpTbXt7zcLynIUrDT7zksV188O02dFGQ6cbd2BuxHNzD5go87gFdYB6qufTu6bzefcnAR-FiAu9iju6BXyjkdb3k3VH_7J0gyspaGh0vejDKMJixoiey86c9neIcmKPQAvTh9dshGeAUCM4j8R-pfqEcxZ-bR1DetzRyIyZlB__NjHYmiJibMIkCj4yN0avYVy6TSMOYvJ2grOOM8LGzV-B5ywK5Kv1Kj-QrY0-TImnKpOak4xoEVU1upEL3gBdWMINne-lh6bOXrkcPqt0uAm_6f_GbOShut2n2W0UrJGh2vO0LvP2_zaYR5O4adJ3jw8LmQjuAddEPshV1_SZ8_9yoCL1rMgEJ2iST73lwqxPjOOiM4Z8P6M_ItEeHAny38L7k7KErUHcEAYfNs-p4i909AJnaPOAl3j01mJ79q6p1_yEjGmm3IRSfGlgqH2hn7bjyBG6TgXtk3nHdOvMzP9SkeGhU8CkvKwdVnjdYg=s64",
      "userId": "17944099373685830598"
     },
     "user_tz": 240
    },
    "id": "_Esv8A0amxJX",
    "outputId": "2ad3a41f-c134-4eef-b6e3-c043ff70b9ec"
   },
   "outputs": [],
   "source": [
    "type(club.values()) # dict values are a list"
   ]
  },
  {
   "cell_type": "code",
   "execution_count": null,
   "metadata": {
    "colab": {
     "base_uri": "https://localhost:8080/",
     "height": 35
    },
    "executionInfo": {
     "elapsed": 276,
     "status": "ok",
     "timestamp": 1624899885759,
     "user": {
      "displayName": "Joel Brigida",
      "photoUrl": "https://lh3.googleusercontent.com/a-/AOh14Gi5jpwxzxgci18vzsZ0Qc1QNoVi75SXgr4cWkdZpjZGk2Syca1WmIazn5PYyGztQLLf2-247MitLzLRfFhaU5OLW7AFQufXBNJS2QmA5vsE7HjfgeCfA4FuLJrWLsfWpZ1TU7i3xim3cbdvP0ZEZ9Z-59d9S8Ypjl5GoFpVhNtYTfDeLMTetGOVOtRdZDA5ivlkgPHBq0xOxAu2HvvAHceQoDmSLHgyzZe7-DJR7p7GEpF7Oba3KAhpgnpOyPMqIlThj5VbUFJdKfpmZLcPVK4comRa8UpTbXt7zcLynIUrDT7zksV188O02dFGQ6cbd2BuxHNzD5go87gFdYB6qufTu6bzefcnAR-FiAu9iju6BXyjkdb3k3VH_7J0gyspaGh0vejDKMJixoiey86c9neIcmKPQAvTh9dshGeAUCM4j8R-pfqEcxZ-bR1DetzRyIyZlB__NjHYmiJibMIkCj4yN0avYVy6TSMOYvJ2grOOM8LGzV-B5ywK5Kv1Kj-QrY0-TImnKpOak4xoEVU1upEL3gBdWMINne-lh6bOXrkcPqt0uAm_6f_GbOShut2n2W0UrJGh2vO0LvP2_zaYR5O4adJ3jw8LmQjuAddEPshV1_SZ8_9yoCL1rMgEJ2iST73lwqxPjOOiM4Z8P6M_ItEeHAny38L7k7KErUHcEAYfNs-p4i909AJnaPOAl3j01mJ79q6p1_yEjGmm3IRSfGlgqH2hn7bjyBG6TgXtk3nHdOvMzP9SkeGhU8CkvKwdVnjdYg=s64",
      "userId": "17944099373685830598"
     },
     "user_tz": 240
    },
    "id": "yKIXYjf4k7PU",
    "outputId": "8c4ecfd4-32fa-4fb1-8418-e142e10d8b7d"
   },
   "outputs": [],
   "source": [
    "club['Name']  # displays the value of the specified key in the dictionary"
   ]
  },
  {
   "cell_type": "code",
   "execution_count": null,
   "metadata": {
    "colab": {
     "base_uri": "https://localhost:8080/",
     "height": 35
    },
    "executionInfo": {
     "elapsed": 271,
     "status": "ok",
     "timestamp": 1624900419147,
     "user": {
      "displayName": "Joel Brigida",
      "photoUrl": "https://lh3.googleusercontent.com/a-/AOh14Gi5jpwxzxgci18vzsZ0Qc1QNoVi75SXgr4cWkdZpjZGk2Syca1WmIazn5PYyGztQLLf2-247MitLzLRfFhaU5OLW7AFQufXBNJS2QmA5vsE7HjfgeCfA4FuLJrWLsfWpZ1TU7i3xim3cbdvP0ZEZ9Z-59d9S8Ypjl5GoFpVhNtYTfDeLMTetGOVOtRdZDA5ivlkgPHBq0xOxAu2HvvAHceQoDmSLHgyzZe7-DJR7p7GEpF7Oba3KAhpgnpOyPMqIlThj5VbUFJdKfpmZLcPVK4comRa8UpTbXt7zcLynIUrDT7zksV188O02dFGQ6cbd2BuxHNzD5go87gFdYB6qufTu6bzefcnAR-FiAu9iju6BXyjkdb3k3VH_7J0gyspaGh0vejDKMJixoiey86c9neIcmKPQAvTh9dshGeAUCM4j8R-pfqEcxZ-bR1DetzRyIyZlB__NjHYmiJibMIkCj4yN0avYVy6TSMOYvJ2grOOM8LGzV-B5ywK5Kv1Kj-QrY0-TImnKpOak4xoEVU1upEL3gBdWMINne-lh6bOXrkcPqt0uAm_6f_GbOShut2n2W0UrJGh2vO0LvP2_zaYR5O4adJ3jw8LmQjuAddEPshV1_SZ8_9yoCL1rMgEJ2iST73lwqxPjOOiM4Z8P6M_ItEeHAny38L7k7KErUHcEAYfNs-p4i909AJnaPOAl3j01mJ79q6p1_yEjGmm3IRSfGlgqH2hn7bjyBG6TgXtk3nHdOvMzP9SkeGhU8CkvKwdVnjdYg=s64",
      "userId": "17944099373685830598"
     },
     "user_tz": 240
    },
    "id": "h0JqwJI2nGup",
    "outputId": "b7749c23-1791-43fd-e667-e7425ad3013c"
   },
   "outputs": [],
   "source": [
    "list(club.values())[1] # display value of index [1] in club dict."
   ]
  },
  {
   "cell_type": "code",
   "execution_count": null,
   "metadata": {
    "id": "76rm4XEplyBi"
   },
   "outputs": [],
   "source": [
    "v0 = list(club.values()) [1]  #define variable v0 as a string that contains the value of index [1] in club dict"
   ]
  },
  {
   "cell_type": "code",
   "execution_count": null,
   "metadata": {
    "colab": {
     "base_uri": "https://localhost:8080/"
    },
    "executionInfo": {
     "elapsed": 276,
     "status": "ok",
     "timestamp": 1624900165003,
     "user": {
      "displayName": "Joel Brigida",
      "photoUrl": "https://lh3.googleusercontent.com/a-/AOh14Gi5jpwxzxgci18vzsZ0Qc1QNoVi75SXgr4cWkdZpjZGk2Syca1WmIazn5PYyGztQLLf2-247MitLzLRfFhaU5OLW7AFQufXBNJS2QmA5vsE7HjfgeCfA4FuLJrWLsfWpZ1TU7i3xim3cbdvP0ZEZ9Z-59d9S8Ypjl5GoFpVhNtYTfDeLMTetGOVOtRdZDA5ivlkgPHBq0xOxAu2HvvAHceQoDmSLHgyzZe7-DJR7p7GEpF7Oba3KAhpgnpOyPMqIlThj5VbUFJdKfpmZLcPVK4comRa8UpTbXt7zcLynIUrDT7zksV188O02dFGQ6cbd2BuxHNzD5go87gFdYB6qufTu6bzefcnAR-FiAu9iju6BXyjkdb3k3VH_7J0gyspaGh0vejDKMJixoiey86c9neIcmKPQAvTh9dshGeAUCM4j8R-pfqEcxZ-bR1DetzRyIyZlB__NjHYmiJibMIkCj4yN0avYVy6TSMOYvJ2grOOM8LGzV-B5ywK5Kv1Kj-QrY0-TImnKpOak4xoEVU1upEL3gBdWMINne-lh6bOXrkcPqt0uAm_6f_GbOShut2n2W0UrJGh2vO0LvP2_zaYR5O4adJ3jw8LmQjuAddEPshV1_SZ8_9yoCL1rMgEJ2iST73lwqxPjOOiM4Z8P6M_ItEeHAny38L7k7KErUHcEAYfNs-p4i909AJnaPOAl3j01mJ79q6p1_yEjGmm3IRSfGlgqH2hn7bjyBG6TgXtk3nHdOvMzP9SkeGhU8CkvKwdVnjdYg=s64",
      "userId": "17944099373685830598"
     },
     "user_tz": 240
    },
    "id": "ziOvqEAhmAXo",
    "outputId": "b1ee47f5-99cd-445f-c1a1-23dce663cd67"
   },
   "outputs": [],
   "source": [
    "type(v0)"
   ]
  },
  {
   "cell_type": "code",
   "execution_count": null,
   "metadata": {
    "colab": {
     "base_uri": "https://localhost:8080/",
     "height": 35
    },
    "executionInfo": {
     "elapsed": 275,
     "status": "ok",
     "timestamp": 1624900239726,
     "user": {
      "displayName": "Joel Brigida",
      "photoUrl": "https://lh3.googleusercontent.com/a-/AOh14Gi5jpwxzxgci18vzsZ0Qc1QNoVi75SXgr4cWkdZpjZGk2Syca1WmIazn5PYyGztQLLf2-247MitLzLRfFhaU5OLW7AFQufXBNJS2QmA5vsE7HjfgeCfA4FuLJrWLsfWpZ1TU7i3xim3cbdvP0ZEZ9Z-59d9S8Ypjl5GoFpVhNtYTfDeLMTetGOVOtRdZDA5ivlkgPHBq0xOxAu2HvvAHceQoDmSLHgyzZe7-DJR7p7GEpF7Oba3KAhpgnpOyPMqIlThj5VbUFJdKfpmZLcPVK4comRa8UpTbXt7zcLynIUrDT7zksV188O02dFGQ6cbd2BuxHNzD5go87gFdYB6qufTu6bzefcnAR-FiAu9iju6BXyjkdb3k3VH_7J0gyspaGh0vejDKMJixoiey86c9neIcmKPQAvTh9dshGeAUCM4j8R-pfqEcxZ-bR1DetzRyIyZlB__NjHYmiJibMIkCj4yN0avYVy6TSMOYvJ2grOOM8LGzV-B5ywK5Kv1Kj-QrY0-TImnKpOak4xoEVU1upEL3gBdWMINne-lh6bOXrkcPqt0uAm_6f_GbOShut2n2W0UrJGh2vO0LvP2_zaYR5O4adJ3jw8LmQjuAddEPshV1_SZ8_9yoCL1rMgEJ2iST73lwqxPjOOiM4Z8P6M_ItEeHAny38L7k7KErUHcEAYfNs-p4i909AJnaPOAl3j01mJ79q6p1_yEjGmm3IRSfGlgqH2hn7bjyBG6TgXtk3nHdOvMzP9SkeGhU8CkvKwdVnjdYg=s64",
      "userId": "17944099373685830598"
     },
     "user_tz": 240
    },
    "id": "tkXIrMBYmfKI",
    "outputId": "1aba6baf-abc1-440e-9456-e15327987391"
   },
   "outputs": [],
   "source": [
    "v0"
   ]
  },
  {
   "cell_type": "code",
   "execution_count": null,
   "metadata": {
    "id": "q09ZrS7inhmy"
   },
   "outputs": [],
   "source": [
    "club['Activity'] = 'Summer Workshop' # append the dict with key 'activity' and value 'Summer Workshop'"
   ]
  },
  {
   "cell_type": "code",
   "execution_count": null,
   "metadata": {
    "colab": {
     "base_uri": "https://localhost:8080/"
    },
    "executionInfo": {
     "elapsed": 288,
     "status": "ok",
     "timestamp": 1624900747057,
     "user": {
      "displayName": "Joel Brigida",
      "photoUrl": "https://lh3.googleusercontent.com/a-/AOh14Gi5jpwxzxgci18vzsZ0Qc1QNoVi75SXgr4cWkdZpjZGk2Syca1WmIazn5PYyGztQLLf2-247MitLzLRfFhaU5OLW7AFQufXBNJS2QmA5vsE7HjfgeCfA4FuLJrWLsfWpZ1TU7i3xim3cbdvP0ZEZ9Z-59d9S8Ypjl5GoFpVhNtYTfDeLMTetGOVOtRdZDA5ivlkgPHBq0xOxAu2HvvAHceQoDmSLHgyzZe7-DJR7p7GEpF7Oba3KAhpgnpOyPMqIlThj5VbUFJdKfpmZLcPVK4comRa8UpTbXt7zcLynIUrDT7zksV188O02dFGQ6cbd2BuxHNzD5go87gFdYB6qufTu6bzefcnAR-FiAu9iju6BXyjkdb3k3VH_7J0gyspaGh0vejDKMJixoiey86c9neIcmKPQAvTh9dshGeAUCM4j8R-pfqEcxZ-bR1DetzRyIyZlB__NjHYmiJibMIkCj4yN0avYVy6TSMOYvJ2grOOM8LGzV-B5ywK5Kv1Kj-QrY0-TImnKpOak4xoEVU1upEL3gBdWMINne-lh6bOXrkcPqt0uAm_6f_GbOShut2n2W0UrJGh2vO0LvP2_zaYR5O4adJ3jw8LmQjuAddEPshV1_SZ8_9yoCL1rMgEJ2iST73lwqxPjOOiM4Z8P6M_ItEeHAny38L7k7KErUHcEAYfNs-p4i909AJnaPOAl3j01mJ79q6p1_yEjGmm3IRSfGlgqH2hn7bjyBG6TgXtk3nHdOvMzP9SkeGhU8CkvKwdVnjdYg=s64",
      "userId": "17944099373685830598"
     },
     "user_tz": 240
    },
    "id": "MNMsMnAwobDc",
    "outputId": "4c3d4199-66c0-44a8-bc36-1b23452c1264"
   },
   "outputs": [],
   "source": [
    "club  # display new dict values"
   ]
  },
  {
   "cell_type": "code",
   "execution_count": null,
   "metadata": {
    "id": "i7m2BplR8h9N"
   },
   "outputs": [],
   "source": [
    "# hold keys in english and the associated values in spanish\n",
    "\n",
    "'''\n",
    "one two three\n",
    "uno dos tres\n",
    "'''\n",
    "\n",
    "# dict['key']='value'"
   ]
  },
  {
   "cell_type": "code",
   "execution_count": null,
   "metadata": {
    "id": "02jW-wG72dqP"
   },
   "outputs": [],
   "source": [
    "eng2sp = {}\n",
    "\n",
    "# dict['key'] = 'value'\n",
    "\n",
    "eng2sp['one'] = 'uno'\n",
    "eng2sp['two'] = 'dos'\n",
    "eng2sp['three'] = 'tres'"
   ]
  },
  {
   "cell_type": "code",
   "execution_count": null,
   "metadata": {
    "colab": {
     "base_uri": "https://localhost:8080/"
    },
    "executionInfo": {
     "elapsed": 103,
     "status": "ok",
     "timestamp": 1624922043393,
     "user": {
      "displayName": "Joel Brigida",
      "photoUrl": "https://lh3.googleusercontent.com/a-/AOh14Gi5jpwxzxgci18vzsZ0Qc1QNoVi75SXgr4cWkdZpjZGk2Syca1WmIazn5PYyGztQLLf2-247MitLzLRfFhaU5OLW7AFQufXBNJS2QmA5vsE7HjfgeCfA4FuLJrWLsfWpZ1TU7i3xim3cbdvP0ZEZ9Z-59d9S8Ypjl5GoFpVhNtYTfDeLMTetGOVOtRdZDA5ivlkgPHBq0xOxAu2HvvAHceQoDmSLHgyzZe7-DJR7p7GEpF7Oba3KAhpgnpOyPMqIlThj5VbUFJdKfpmZLcPVK4comRa8UpTbXt7zcLynIUrDT7zksV188O02dFGQ6cbd2BuxHNzD5go87gFdYB6qufTu6bzefcnAR-FiAu9iju6BXyjkdb3k3VH_7J0gyspaGh0vejDKMJixoiey86c9neIcmKPQAvTh9dshGeAUCM4j8R-pfqEcxZ-bR1DetzRyIyZlB__NjHYmiJibMIkCj4yN0avYVy6TSMOYvJ2grOOM8LGzV-B5ywK5Kv1Kj-QrY0-TImnKpOak4xoEVU1upEL3gBdWMINne-lh6bOXrkcPqt0uAm_6f_GbOShut2n2W0UrJGh2vO0LvP2_zaYR5O4adJ3jw8LmQjuAddEPshV1_SZ8_9yoCL1rMgEJ2iST73lwqxPjOOiM4Z8P6M_ItEeHAny38L7k7KErUHcEAYfNs-p4i909AJnaPOAl3j01mJ79q6p1_yEjGmm3IRSfGlgqH2hn7bjyBG6TgXtk3nHdOvMzP9SkeGhU8CkvKwdVnjdYg=s64",
      "userId": "17944099373685830598"
     },
     "user_tz": 240
    },
    "id": "c4Otj_mO2_sA",
    "outputId": "ac347e37-0fce-4299-9f71-aae9376461a9"
   },
   "outputs": [],
   "source": [
    "type(eng2sp)"
   ]
  },
  {
   "cell_type": "code",
   "execution_count": null,
   "metadata": {
    "colab": {
     "base_uri": "https://localhost:8080/"
    },
    "executionInfo": {
     "elapsed": 7,
     "status": "ok",
     "timestamp": 1624922043861,
     "user": {
      "displayName": "Joel Brigida",
      "photoUrl": "https://lh3.googleusercontent.com/a-/AOh14Gi5jpwxzxgci18vzsZ0Qc1QNoVi75SXgr4cWkdZpjZGk2Syca1WmIazn5PYyGztQLLf2-247MitLzLRfFhaU5OLW7AFQufXBNJS2QmA5vsE7HjfgeCfA4FuLJrWLsfWpZ1TU7i3xim3cbdvP0ZEZ9Z-59d9S8Ypjl5GoFpVhNtYTfDeLMTetGOVOtRdZDA5ivlkgPHBq0xOxAu2HvvAHceQoDmSLHgyzZe7-DJR7p7GEpF7Oba3KAhpgnpOyPMqIlThj5VbUFJdKfpmZLcPVK4comRa8UpTbXt7zcLynIUrDT7zksV188O02dFGQ6cbd2BuxHNzD5go87gFdYB6qufTu6bzefcnAR-FiAu9iju6BXyjkdb3k3VH_7J0gyspaGh0vejDKMJixoiey86c9neIcmKPQAvTh9dshGeAUCM4j8R-pfqEcxZ-bR1DetzRyIyZlB__NjHYmiJibMIkCj4yN0avYVy6TSMOYvJ2grOOM8LGzV-B5ywK5Kv1Kj-QrY0-TImnKpOak4xoEVU1upEL3gBdWMINne-lh6bOXrkcPqt0uAm_6f_GbOShut2n2W0UrJGh2vO0LvP2_zaYR5O4adJ3jw8LmQjuAddEPshV1_SZ8_9yoCL1rMgEJ2iST73lwqxPjOOiM4Z8P6M_ItEeHAny38L7k7KErUHcEAYfNs-p4i909AJnaPOAl3j01mJ79q6p1_yEjGmm3IRSfGlgqH2hn7bjyBG6TgXtk3nHdOvMzP9SkeGhU8CkvKwdVnjdYg=s64",
      "userId": "17944099373685830598"
     },
     "user_tz": 240
    },
    "id": "fJdU3zu39YfA",
    "outputId": "f0b16246-903e-43f0-da5e-926271438f5a"
   },
   "outputs": [],
   "source": [
    "print(eng2sp) # print each key and value"
   ]
  },
  {
   "cell_type": "code",
   "execution_count": null,
   "metadata": {
    "colab": {
     "base_uri": "https://localhost:8080/"
    },
    "executionInfo": {
     "elapsed": 109,
     "status": "ok",
     "timestamp": 1624922044498,
     "user": {
      "displayName": "Joel Brigida",
      "photoUrl": "https://lh3.googleusercontent.com/a-/AOh14Gi5jpwxzxgci18vzsZ0Qc1QNoVi75SXgr4cWkdZpjZGk2Syca1WmIazn5PYyGztQLLf2-247MitLzLRfFhaU5OLW7AFQufXBNJS2QmA5vsE7HjfgeCfA4FuLJrWLsfWpZ1TU7i3xim3cbdvP0ZEZ9Z-59d9S8Ypjl5GoFpVhNtYTfDeLMTetGOVOtRdZDA5ivlkgPHBq0xOxAu2HvvAHceQoDmSLHgyzZe7-DJR7p7GEpF7Oba3KAhpgnpOyPMqIlThj5VbUFJdKfpmZLcPVK4comRa8UpTbXt7zcLynIUrDT7zksV188O02dFGQ6cbd2BuxHNzD5go87gFdYB6qufTu6bzefcnAR-FiAu9iju6BXyjkdb3k3VH_7J0gyspaGh0vejDKMJixoiey86c9neIcmKPQAvTh9dshGeAUCM4j8R-pfqEcxZ-bR1DetzRyIyZlB__NjHYmiJibMIkCj4yN0avYVy6TSMOYvJ2grOOM8LGzV-B5ywK5Kv1Kj-QrY0-TImnKpOak4xoEVU1upEL3gBdWMINne-lh6bOXrkcPqt0uAm_6f_GbOShut2n2W0UrJGh2vO0LvP2_zaYR5O4adJ3jw8LmQjuAddEPshV1_SZ8_9yoCL1rMgEJ2iST73lwqxPjOOiM4Z8P6M_ItEeHAny38L7k7KErUHcEAYfNs-p4i909AJnaPOAl3j01mJ79q6p1_yEjGmm3IRSfGlgqH2hn7bjyBG6TgXtk3nHdOvMzP9SkeGhU8CkvKwdVnjdYg=s64",
      "userId": "17944099373685830598"
     },
     "user_tz": 240
    },
    "id": "sZTLFD7d8f5y",
    "outputId": "ca24ed79-a5f8-4761-e679-cee6673f2359"
   },
   "outputs": [],
   "source": [
    "eng2sp.keys()   # print dict keys only"
   ]
  },
  {
   "cell_type": "code",
   "execution_count": null,
   "metadata": {
    "colab": {
     "base_uri": "https://localhost:8080/"
    },
    "executionInfo": {
     "elapsed": 107,
     "status": "ok",
     "timestamp": 1624922045144,
     "user": {
      "displayName": "Joel Brigida",
      "photoUrl": "https://lh3.googleusercontent.com/a-/AOh14Gi5jpwxzxgci18vzsZ0Qc1QNoVi75SXgr4cWkdZpjZGk2Syca1WmIazn5PYyGztQLLf2-247MitLzLRfFhaU5OLW7AFQufXBNJS2QmA5vsE7HjfgeCfA4FuLJrWLsfWpZ1TU7i3xim3cbdvP0ZEZ9Z-59d9S8Ypjl5GoFpVhNtYTfDeLMTetGOVOtRdZDA5ivlkgPHBq0xOxAu2HvvAHceQoDmSLHgyzZe7-DJR7p7GEpF7Oba3KAhpgnpOyPMqIlThj5VbUFJdKfpmZLcPVK4comRa8UpTbXt7zcLynIUrDT7zksV188O02dFGQ6cbd2BuxHNzD5go87gFdYB6qufTu6bzefcnAR-FiAu9iju6BXyjkdb3k3VH_7J0gyspaGh0vejDKMJixoiey86c9neIcmKPQAvTh9dshGeAUCM4j8R-pfqEcxZ-bR1DetzRyIyZlB__NjHYmiJibMIkCj4yN0avYVy6TSMOYvJ2grOOM8LGzV-B5ywK5Kv1Kj-QrY0-TImnKpOak4xoEVU1upEL3gBdWMINne-lh6bOXrkcPqt0uAm_6f_GbOShut2n2W0UrJGh2vO0LvP2_zaYR5O4adJ3jw8LmQjuAddEPshV1_SZ8_9yoCL1rMgEJ2iST73lwqxPjOOiM4Z8P6M_ItEeHAny38L7k7KErUHcEAYfNs-p4i909AJnaPOAl3j01mJ79q6p1_yEjGmm3IRSfGlgqH2hn7bjyBG6TgXtk3nHdOvMzP9SkeGhU8CkvKwdVnjdYg=s64",
      "userId": "17944099373685830598"
     },
     "user_tz": 240
    },
    "id": "wD2t4F1n3xJe",
    "outputId": "c7dc23b1-dcca-459d-c2e6-7eda44450915"
   },
   "outputs": [],
   "source": [
    "eng2sp.values()   # print dict values only"
   ]
  },
  {
   "cell_type": "code",
   "execution_count": null,
   "metadata": {
    "colab": {
     "base_uri": "https://localhost:8080/",
     "height": 35
    },
    "executionInfo": {
     "elapsed": 125,
     "status": "ok",
     "timestamp": 1624922046077,
     "user": {
      "displayName": "Joel Brigida",
      "photoUrl": "https://lh3.googleusercontent.com/a-/AOh14Gi5jpwxzxgci18vzsZ0Qc1QNoVi75SXgr4cWkdZpjZGk2Syca1WmIazn5PYyGztQLLf2-247MitLzLRfFhaU5OLW7AFQufXBNJS2QmA5vsE7HjfgeCfA4FuLJrWLsfWpZ1TU7i3xim3cbdvP0ZEZ9Z-59d9S8Ypjl5GoFpVhNtYTfDeLMTetGOVOtRdZDA5ivlkgPHBq0xOxAu2HvvAHceQoDmSLHgyzZe7-DJR7p7GEpF7Oba3KAhpgnpOyPMqIlThj5VbUFJdKfpmZLcPVK4comRa8UpTbXt7zcLynIUrDT7zksV188O02dFGQ6cbd2BuxHNzD5go87gFdYB6qufTu6bzefcnAR-FiAu9iju6BXyjkdb3k3VH_7J0gyspaGh0vejDKMJixoiey86c9neIcmKPQAvTh9dshGeAUCM4j8R-pfqEcxZ-bR1DetzRyIyZlB__NjHYmiJibMIkCj4yN0avYVy6TSMOYvJ2grOOM8LGzV-B5ywK5Kv1Kj-QrY0-TImnKpOak4xoEVU1upEL3gBdWMINne-lh6bOXrkcPqt0uAm_6f_GbOShut2n2W0UrJGh2vO0LvP2_zaYR5O4adJ3jw8LmQjuAddEPshV1_SZ8_9yoCL1rMgEJ2iST73lwqxPjOOiM4Z8P6M_ItEeHAny38L7k7KErUHcEAYfNs-p4i909AJnaPOAl3j01mJ79q6p1_yEjGmm3IRSfGlgqH2hn7bjyBG6TgXtk3nHdOvMzP9SkeGhU8CkvKwdVnjdYg=s64",
      "userId": "17944099373685830598"
     },
     "user_tz": 240
    },
    "id": "FocHHiTc4Gpz",
    "outputId": "7795156d-867d-4194-f100-ee3cacbd07e1"
   },
   "outputs": [],
   "source": [
    "eng2sp.get('one') # get and display value for key 'one'"
   ]
  },
  {
   "cell_type": "code",
   "execution_count": null,
   "metadata": {
    "id": "ocajVJNH4zR9"
   },
   "outputs": [],
   "source": [
    "copy = eng2sp.copy()    #create copy of the dictionary to work with (DONT modify your original data!!)"
   ]
  },
  {
   "cell_type": "code",
   "execution_count": null,
   "metadata": {
    "colab": {
     "base_uri": "https://localhost:8080/"
    },
    "executionInfo": {
     "elapsed": 116,
     "status": "ok",
     "timestamp": 1624922048540,
     "user": {
      "displayName": "Joel Brigida",
      "photoUrl": "https://lh3.googleusercontent.com/a-/AOh14Gi5jpwxzxgci18vzsZ0Qc1QNoVi75SXgr4cWkdZpjZGk2Syca1WmIazn5PYyGztQLLf2-247MitLzLRfFhaU5OLW7AFQufXBNJS2QmA5vsE7HjfgeCfA4FuLJrWLsfWpZ1TU7i3xim3cbdvP0ZEZ9Z-59d9S8Ypjl5GoFpVhNtYTfDeLMTetGOVOtRdZDA5ivlkgPHBq0xOxAu2HvvAHceQoDmSLHgyzZe7-DJR7p7GEpF7Oba3KAhpgnpOyPMqIlThj5VbUFJdKfpmZLcPVK4comRa8UpTbXt7zcLynIUrDT7zksV188O02dFGQ6cbd2BuxHNzD5go87gFdYB6qufTu6bzefcnAR-FiAu9iju6BXyjkdb3k3VH_7J0gyspaGh0vejDKMJixoiey86c9neIcmKPQAvTh9dshGeAUCM4j8R-pfqEcxZ-bR1DetzRyIyZlB__NjHYmiJibMIkCj4yN0avYVy6TSMOYvJ2grOOM8LGzV-B5ywK5Kv1Kj-QrY0-TImnKpOak4xoEVU1upEL3gBdWMINne-lh6bOXrkcPqt0uAm_6f_GbOShut2n2W0UrJGh2vO0LvP2_zaYR5O4adJ3jw8LmQjuAddEPshV1_SZ8_9yoCL1rMgEJ2iST73lwqxPjOOiM4Z8P6M_ItEeHAny38L7k7KErUHcEAYfNs-p4i909AJnaPOAl3j01mJ79q6p1_yEjGmm3IRSfGlgqH2hn7bjyBG6TgXtk3nHdOvMzP9SkeGhU8CkvKwdVnjdYg=s64",
      "userId": "17944099373685830598"
     },
     "user_tz": 240
    },
    "id": "9zBIYPwe5L1P",
    "outputId": "c74cff8d-243d-49a5-f790-be016f57244b"
   },
   "outputs": [],
   "source": [
    "copy    # modifying the copy does not affect the original data"
   ]
  },
  {
   "cell_type": "code",
   "execution_count": null,
   "metadata": {
    "id": "CpFb4pBD5f25"
   },
   "outputs": [],
   "source": [
    "copy['four'] = 'cuatro'   # add a value to to dict copy"
   ]
  },
  {
   "cell_type": "code",
   "execution_count": null,
   "metadata": {
    "colab": {
     "base_uri": "https://localhost:8080/"
    },
    "executionInfo": {
     "elapsed": 104,
     "status": "ok",
     "timestamp": 1624922160424,
     "user": {
      "displayName": "Joel Brigida",
      "photoUrl": "https://lh3.googleusercontent.com/a-/AOh14Gi5jpwxzxgci18vzsZ0Qc1QNoVi75SXgr4cWkdZpjZGk2Syca1WmIazn5PYyGztQLLf2-247MitLzLRfFhaU5OLW7AFQufXBNJS2QmA5vsE7HjfgeCfA4FuLJrWLsfWpZ1TU7i3xim3cbdvP0ZEZ9Z-59d9S8Ypjl5GoFpVhNtYTfDeLMTetGOVOtRdZDA5ivlkgPHBq0xOxAu2HvvAHceQoDmSLHgyzZe7-DJR7p7GEpF7Oba3KAhpgnpOyPMqIlThj5VbUFJdKfpmZLcPVK4comRa8UpTbXt7zcLynIUrDT7zksV188O02dFGQ6cbd2BuxHNzD5go87gFdYB6qufTu6bzefcnAR-FiAu9iju6BXyjkdb3k3VH_7J0gyspaGh0vejDKMJixoiey86c9neIcmKPQAvTh9dshGeAUCM4j8R-pfqEcxZ-bR1DetzRyIyZlB__NjHYmiJibMIkCj4yN0avYVy6TSMOYvJ2grOOM8LGzV-B5ywK5Kv1Kj-QrY0-TImnKpOak4xoEVU1upEL3gBdWMINne-lh6bOXrkcPqt0uAm_6f_GbOShut2n2W0UrJGh2vO0LvP2_zaYR5O4adJ3jw8LmQjuAddEPshV1_SZ8_9yoCL1rMgEJ2iST73lwqxPjOOiM4Z8P6M_ItEeHAny38L7k7KErUHcEAYfNs-p4i909AJnaPOAl3j01mJ79q6p1_yEjGmm3IRSfGlgqH2hn7bjyBG6TgXtk3nHdOvMzP9SkeGhU8CkvKwdVnjdYg=s64",
      "userId": "17944099373685830598"
     },
     "user_tz": 240
    },
    "id": "NV5u0SDB5ueF",
    "outputId": "e1b96870-72c7-4b02-e0d4-815e6fbc02ad"
   },
   "outputs": [],
   "source": [
    "copy    # display contents of the copy"
   ]
  },
  {
   "cell_type": "code",
   "execution_count": null,
   "metadata": {
    "colab": {
     "base_uri": "https://localhost:8080/"
    },
    "executionInfo": {
     "elapsed": 114,
     "status": "ok",
     "timestamp": 1624922175017,
     "user": {
      "displayName": "Joel Brigida",
      "photoUrl": "https://lh3.googleusercontent.com/a-/AOh14Gi5jpwxzxgci18vzsZ0Qc1QNoVi75SXgr4cWkdZpjZGk2Syca1WmIazn5PYyGztQLLf2-247MitLzLRfFhaU5OLW7AFQufXBNJS2QmA5vsE7HjfgeCfA4FuLJrWLsfWpZ1TU7i3xim3cbdvP0ZEZ9Z-59d9S8Ypjl5GoFpVhNtYTfDeLMTetGOVOtRdZDA5ivlkgPHBq0xOxAu2HvvAHceQoDmSLHgyzZe7-DJR7p7GEpF7Oba3KAhpgnpOyPMqIlThj5VbUFJdKfpmZLcPVK4comRa8UpTbXt7zcLynIUrDT7zksV188O02dFGQ6cbd2BuxHNzD5go87gFdYB6qufTu6bzefcnAR-FiAu9iju6BXyjkdb3k3VH_7J0gyspaGh0vejDKMJixoiey86c9neIcmKPQAvTh9dshGeAUCM4j8R-pfqEcxZ-bR1DetzRyIyZlB__NjHYmiJibMIkCj4yN0avYVy6TSMOYvJ2grOOM8LGzV-B5ywK5Kv1Kj-QrY0-TImnKpOak4xoEVU1upEL3gBdWMINne-lh6bOXrkcPqt0uAm_6f_GbOShut2n2W0UrJGh2vO0LvP2_zaYR5O4adJ3jw8LmQjuAddEPshV1_SZ8_9yoCL1rMgEJ2iST73lwqxPjOOiM4Z8P6M_ItEeHAny38L7k7KErUHcEAYfNs-p4i909AJnaPOAl3j01mJ79q6p1_yEjGmm3IRSfGlgqH2hn7bjyBG6TgXtk3nHdOvMzP9SkeGhU8CkvKwdVnjdYg=s64",
      "userId": "17944099373685830598"
     },
     "user_tz": 240
    },
    "id": "me6pjCNM51Xa",
    "outputId": "0da74c72-5087-4245-a9de-d842bacc9d39"
   },
   "outputs": [],
   "source": [
    "eng2sp    # original did not change"
   ]
  },
  {
   "cell_type": "markdown",
   "metadata": {
    "id": "hssS7mIU9nUn"
   },
   "source": [
    "# 4) Conditional Statements and Loops\n",
    "---"
   ]
  },
  {
   "cell_type": "code",
   "execution_count": null,
   "metadata": {
    "colab": {
     "base_uri": "https://localhost:8080/"
    },
    "executionInfo": {
     "elapsed": 124,
     "status": "ok",
     "timestamp": 1624923309242,
     "user": {
      "displayName": "Joel Brigida",
      "photoUrl": "https://lh3.googleusercontent.com/a-/AOh14Gi5jpwxzxgci18vzsZ0Qc1QNoVi75SXgr4cWkdZpjZGk2Syca1WmIazn5PYyGztQLLf2-247MitLzLRfFhaU5OLW7AFQufXBNJS2QmA5vsE7HjfgeCfA4FuLJrWLsfWpZ1TU7i3xim3cbdvP0ZEZ9Z-59d9S8Ypjl5GoFpVhNtYTfDeLMTetGOVOtRdZDA5ivlkgPHBq0xOxAu2HvvAHceQoDmSLHgyzZe7-DJR7p7GEpF7Oba3KAhpgnpOyPMqIlThj5VbUFJdKfpmZLcPVK4comRa8UpTbXt7zcLynIUrDT7zksV188O02dFGQ6cbd2BuxHNzD5go87gFdYB6qufTu6bzefcnAR-FiAu9iju6BXyjkdb3k3VH_7J0gyspaGh0vejDKMJixoiey86c9neIcmKPQAvTh9dshGeAUCM4j8R-pfqEcxZ-bR1DetzRyIyZlB__NjHYmiJibMIkCj4yN0avYVy6TSMOYvJ2grOOM8LGzV-B5ywK5Kv1Kj-QrY0-TImnKpOak4xoEVU1upEL3gBdWMINne-lh6bOXrkcPqt0uAm_6f_GbOShut2n2W0UrJGh2vO0LvP2_zaYR5O4adJ3jw8LmQjuAddEPshV1_SZ8_9yoCL1rMgEJ2iST73lwqxPjOOiM4Z8P6M_ItEeHAny38L7k7KErUHcEAYfNs-p4i909AJnaPOAl3j01mJ79q6p1_yEjGmm3IRSfGlgqH2hn7bjyBG6TgXtk3nHdOvMzP9SkeGhU8CkvKwdVnjdYg=s64",
      "userId": "17944099373685830598"
     },
     "user_tz": 240
    },
    "id": "phjQlQ4U9xOz",
    "outputId": "2f330a4e-3bcb-4572-ddda-217e2d4b5d6b"
   },
   "outputs": [],
   "source": [
    "name = 'John'\n",
    "\n",
    "if name == 'Joel':\n",
    "  print(name)\n",
    "else:\n",
    "  print('not Joel!!')"
   ]
  },
  {
   "cell_type": "code",
   "execution_count": null,
   "metadata": {
    "colab": {
     "base_uri": "https://localhost:8080/"
    },
    "executionInfo": {
     "elapsed": 110,
     "status": "ok",
     "timestamp": 1624923310160,
     "user": {
      "displayName": "Joel Brigida",
      "photoUrl": "https://lh3.googleusercontent.com/a-/AOh14Gi5jpwxzxgci18vzsZ0Qc1QNoVi75SXgr4cWkdZpjZGk2Syca1WmIazn5PYyGztQLLf2-247MitLzLRfFhaU5OLW7AFQufXBNJS2QmA5vsE7HjfgeCfA4FuLJrWLsfWpZ1TU7i3xim3cbdvP0ZEZ9Z-59d9S8Ypjl5GoFpVhNtYTfDeLMTetGOVOtRdZDA5ivlkgPHBq0xOxAu2HvvAHceQoDmSLHgyzZe7-DJR7p7GEpF7Oba3KAhpgnpOyPMqIlThj5VbUFJdKfpmZLcPVK4comRa8UpTbXt7zcLynIUrDT7zksV188O02dFGQ6cbd2BuxHNzD5go87gFdYB6qufTu6bzefcnAR-FiAu9iju6BXyjkdb3k3VH_7J0gyspaGh0vejDKMJixoiey86c9neIcmKPQAvTh9dshGeAUCM4j8R-pfqEcxZ-bR1DetzRyIyZlB__NjHYmiJibMIkCj4yN0avYVy6TSMOYvJ2grOOM8LGzV-B5ywK5Kv1Kj-QrY0-TImnKpOak4xoEVU1upEL3gBdWMINne-lh6bOXrkcPqt0uAm_6f_GbOShut2n2W0UrJGh2vO0LvP2_zaYR5O4adJ3jw8LmQjuAddEPshV1_SZ8_9yoCL1rMgEJ2iST73lwqxPjOOiM4Z8P6M_ItEeHAny38L7k7KErUHcEAYfNs-p4i909AJnaPOAl3j01mJ79q6p1_yEjGmm3IRSfGlgqH2hn7bjyBG6TgXtk3nHdOvMzP9SkeGhU8CkvKwdVnjdYg=s64",
      "userId": "17944099373685830598"
     },
     "user_tz": 240
    },
    "id": "gGx9Izjd939z",
    "outputId": "146b6829-d2b2-43e8-d2fc-e0b5e9a130f3"
   },
   "outputs": [],
   "source": [
    "# x, y, and if x is less than y add them....\n",
    "\n",
    "x = 10\n",
    "y = 5\n",
    "\n",
    "if x < y:\n",
    "  print(y-x)\n",
    "\n",
    "elif x > y:     # elif == else if\n",
    "  print(y+x)\n",
    "  "
   ]
  },
  {
   "cell_type": "code",
   "execution_count": null,
   "metadata": {
    "colab": {
     "base_uri": "https://localhost:8080/"
    },
    "executionInfo": {
     "elapsed": 125,
     "status": "ok",
     "timestamp": 1624923311189,
     "user": {
      "displayName": "Joel Brigida",
      "photoUrl": "https://lh3.googleusercontent.com/a-/AOh14Gi5jpwxzxgci18vzsZ0Qc1QNoVi75SXgr4cWkdZpjZGk2Syca1WmIazn5PYyGztQLLf2-247MitLzLRfFhaU5OLW7AFQufXBNJS2QmA5vsE7HjfgeCfA4FuLJrWLsfWpZ1TU7i3xim3cbdvP0ZEZ9Z-59d9S8Ypjl5GoFpVhNtYTfDeLMTetGOVOtRdZDA5ivlkgPHBq0xOxAu2HvvAHceQoDmSLHgyzZe7-DJR7p7GEpF7Oba3KAhpgnpOyPMqIlThj5VbUFJdKfpmZLcPVK4comRa8UpTbXt7zcLynIUrDT7zksV188O02dFGQ6cbd2BuxHNzD5go87gFdYB6qufTu6bzefcnAR-FiAu9iju6BXyjkdb3k3VH_7J0gyspaGh0vejDKMJixoiey86c9neIcmKPQAvTh9dshGeAUCM4j8R-pfqEcxZ-bR1DetzRyIyZlB__NjHYmiJibMIkCj4yN0avYVy6TSMOYvJ2grOOM8LGzV-B5ywK5Kv1Kj-QrY0-TImnKpOak4xoEVU1upEL3gBdWMINne-lh6bOXrkcPqt0uAm_6f_GbOShut2n2W0UrJGh2vO0LvP2_zaYR5O4adJ3jw8LmQjuAddEPshV1_SZ8_9yoCL1rMgEJ2iST73lwqxPjOOiM4Z8P6M_ItEeHAny38L7k7KErUHcEAYfNs-p4i909AJnaPOAl3j01mJ79q6p1_yEjGmm3IRSfGlgqH2hn7bjyBG6TgXtk3nHdOvMzP9SkeGhU8CkvKwdVnjdYg=s64",
      "userId": "17944099373685830598"
     },
     "user_tz": 240
    },
    "id": "v-qXXGxE-u8u",
    "outputId": "860538c0-7e0b-4e69-dc2d-5da9d9649620"
   },
   "outputs": [],
   "source": [
    "# iterate and parse a list of values\n",
    "# create a list and populate it with values:\n",
    "\n",
    "A = [1, 4, 6, 5, 7, 54, 4, 6, 67, 5, 234]\n",
    "len(A)"
   ]
  },
  {
   "cell_type": "code",
   "execution_count": null,
   "metadata": {
    "colab": {
     "base_uri": "https://localhost:8080/"
    },
    "executionInfo": {
     "elapsed": 106,
     "status": "ok",
     "timestamp": 1624926236749,
     "user": {
      "displayName": "Joel Brigida",
      "photoUrl": "https://lh3.googleusercontent.com/a-/AOh14Gi5jpwxzxgci18vzsZ0Qc1QNoVi75SXgr4cWkdZpjZGk2Syca1WmIazn5PYyGztQLLf2-247MitLzLRfFhaU5OLW7AFQufXBNJS2QmA5vsE7HjfgeCfA4FuLJrWLsfWpZ1TU7i3xim3cbdvP0ZEZ9Z-59d9S8Ypjl5GoFpVhNtYTfDeLMTetGOVOtRdZDA5ivlkgPHBq0xOxAu2HvvAHceQoDmSLHgyzZe7-DJR7p7GEpF7Oba3KAhpgnpOyPMqIlThj5VbUFJdKfpmZLcPVK4comRa8UpTbXt7zcLynIUrDT7zksV188O02dFGQ6cbd2BuxHNzD5go87gFdYB6qufTu6bzefcnAR-FiAu9iju6BXyjkdb3k3VH_7J0gyspaGh0vejDKMJixoiey86c9neIcmKPQAvTh9dshGeAUCM4j8R-pfqEcxZ-bR1DetzRyIyZlB__NjHYmiJibMIkCj4yN0avYVy6TSMOYvJ2grOOM8LGzV-B5ywK5Kv1Kj-QrY0-TImnKpOak4xoEVU1upEL3gBdWMINne-lh6bOXrkcPqt0uAm_6f_GbOShut2n2W0UrJGh2vO0LvP2_zaYR5O4adJ3jw8LmQjuAddEPshV1_SZ8_9yoCL1rMgEJ2iST73lwqxPjOOiM4Z8P6M_ItEeHAny38L7k7KErUHcEAYfNs-p4i909AJnaPOAl3j01mJ79q6p1_yEjGmm3IRSfGlgqH2hn7bjyBG6TgXtk3nHdOvMzP9SkeGhU8CkvKwdVnjdYg=s64",
      "userId": "17944099373685830598"
     },
     "user_tz": 240
    },
    "id": "ed5hdwhD_EUn",
    "outputId": "4012d0f7-728c-4ffc-aacd-6e336d96d093"
   },
   "outputs": [],
   "source": [
    "# for loops\n",
    "# get a list of even numbers\n",
    "# get a list of odd numbers\n",
    "\n",
    "# create separate even and odd lists to append the results into:\n",
    "\n",
    "even = []\n",
    "odd = []\n",
    "\n",
    "for i in A:   # declaring a for loop\n",
    "  # i/2 = check for even condition\n",
    "  if (i % 2 == 0):\n",
    "    print(f'Number {i} is even')\n",
    "    #print('Number {0} is even'.format(i))        # another way to print with the format method\n",
    "    even.append(i)                                # add the even value to the even list\n",
    "  else:\n",
    "    print(f'Number {i} is odd')\n",
    "    #print('Number {0} is odd'.format(i))         # another way to print with the format method\n",
    "    odd.append(i)                                 # add the odd value to the odd list\n",
    "\n",
    "print('\\n')\n",
    "\n",
    "for item in A:       # prints the contents of the original list\n",
    "  print(item)\n",
    "\n",
    "print('\\n')\n",
    "\n",
    "for mierda in even:   # prints the contents of the even list\n",
    "  print(mierda)\n",
    "\n",
    "print('\\n')\n",
    "\n",
    "for foo in odd:         # prints the contents of the odd list\n",
    "  print(foo)"
   ]
  },
  {
   "cell_type": "code",
   "execution_count": null,
   "metadata": {
    "colab": {
     "base_uri": "https://localhost:8080/"
    },
    "executionInfo": {
     "elapsed": 384,
     "status": "ok",
     "timestamp": 1624927596791,
     "user": {
      "displayName": "Joel Brigida",
      "photoUrl": "https://lh3.googleusercontent.com/a-/AOh14GjLuPhoLSagAzXEvky112_2xhzsY9z-QJ9CaJ-flQRlbBAaET1LRDCdV6ZBcZB4MbcMXlz7zs4Ka2gYuCX9ABdXbgifilihnFf3iFKt4j1Wu0YBJMBJAon9bDzuaStiqy9iRN3AupZsJmkjkSLIylSqe9BYA7Zl87C_A7CJdO4le4um0lUIvaIVMayFf6foQu1IcO3uNpyyWyUMW6P1ytjwgu3Yubmr7d1D_QuXhGgqkbJIUO7GYu9hsTihq5xT-mdmqO9s3_PZ1SKd7GHWQ4pRBxC9qoQl0z0KFw79Fhg0_-UoVLdxXUrLB93J9MN-HGBqgq9TF0SrRYWMyg2SX07lpx9t8fc4Ksvz2EMxDzmcwaLamXIi-xDy0ePOqfaDcoruHVkvEoXt7gDVmXPjrB2n6YFpuZ1i2d_k3w9DhtCZ0U3T26DWOnB4pzMUv7p-RTkIvXlefJX_811bRhbCDQlRYgmTC7tY0FkdI7S15m1h1HzW8dRxeliuNfu_SA37Q4WvEwMjdBKkyDgn25DtkU905tORD8XzOFKTQ012jTAvK-AREGa1XdUGcL5OUgc4KpSdsSCFPCcOh8YnM1BRIwUAiI19DT1aOBLa1F57E_0tht6Xrs6PAXTUHjARnMBUT8VhVMXGzyJot6xM0vvXEd7jw1oFX8LTKIEIzCMysAgw9HTpLqGt9WrLBVbpUqiZYgjKkFX-13i6EtLOZek5xUQ7WuBdqwkg4-GidhWCIGhB9Q8ojicXEIWAt26isLs9mf4qkA=s64",
      "userId": "17944099373685830598"
     },
     "user_tz": 240
    },
    "id": "ovg1yihcBt_5",
    "outputId": "cd04b588-00f4-42fe-e552-e7141e7e1b00"
   },
   "outputs": [],
   "source": [
    "# while loop that iterates over list A from above\n",
    "\n",
    "print(A)        # print list A from above\n",
    "print('\\n')     # print a newline\n",
    "\n",
    "i = 2           # set loop counter for starting list index\n",
    "done = False    # set loop control variable\n",
    "\n",
    "while (done == False):  # declare while loop\n",
    "  print(A[i])           # starts printing at the i-th index of A\n",
    "  i += 1                # increment loop counter: shorthand notation for \"i = i + 1\"\n",
    "  if i == 7:\n",
    "    done = True\n",
    "\n"
   ]
  },
  {
   "cell_type": "markdown",
   "metadata": {
    "id": "RYIpotzfCjR5"
   },
   "source": [
    "# 5) Functions\n",
    "---"
   ]
  },
  {
   "cell_type": "code",
   "execution_count": null,
   "metadata": {
    "colab": {
     "base_uri": "https://localhost:8080/",
     "height": 35
    },
    "executionInfo": {
     "elapsed": 137,
     "status": "ok",
     "timestamp": 1624840753332,
     "user": {
      "displayName": "Joel Brigida",
      "photoUrl": "https://lh3.googleusercontent.com/a-/AOh14GgGXNq9PqKnAmovz0PldSrj9GYYg2mh1yjKekB-ZBbRpSkEaQxGCE90UmURR8IVIH8tbvsuS-800oDolYGHzEbSnyn2Fr4VpZJD8g45_5BuZ9eekhofi2_OIsm-VbeKrGcnyaCX2zcxErsRnXLO_D_FO2AL-jj3bgQbAQ5yQ7aouAmlKZy_ntoqlHTfA0GD8pnyg3wFBHducF75gXVRS5N0vu2h0axtGj8v5-i3Umy_f5BrbbbXs1rrRbKlu8GFQFuA-MR8FIFc__3Zc-IJSmdt6eJCixvu0XBD5kwXm2olqH4kKAImTaGwlyDhwYEAmLBiN6KZO6J3TBiyHDQuHBMNQkgEd-uquFSKqgLXOSnmOFo7MChmFVe5vr8qdThy0kCwx12RArUPfFu8y4JAGujuvmGV0_SXFn6C13XlFO4XFMT0quR8BTys5SPula2PX75HM6ZZgtDzVngqcmAQrECxPnOfA9qhqcYV2WLn-3sAAxu_FM1uxlbDZUanLizrG5CSBWY91a3AttGFNQJUBWeioqZ59rLehD4VItYgCJiMQgwUeKow7oIovdCeN0_fvMSWpoNGuOlbjZCJWGJxRLBgvulFvepp8UFSuh7-JNfLIsJnM-qruD9cStLX3GmLLGHktAFLuh0T4B8ohcUaaN48Ko_9VW5cOB0CmRVy9Qug3GX0sUMoQNu4RhGSXwC1coXMsS1AToHmbEqDvjPMZLMQZjf0_oh0OYzpMuIJmct4vdvdoLcDfNpsL-LUI2LyWUTK6A=s64",
      "userId": "17944099373685830598"
     },
     "user_tz": 240
    },
    "id": "M_cR6acLC8Jh",
    "outputId": "cd9d33c5-dbf6-47a2-be6f-6be972934449"
   },
   "outputs": [],
   "source": [
    "'''\n",
    "Sample Function in python:\n",
    "\n",
    "A function to capitalize the 1st letter in a word:\n",
    "\n",
    "input --> string\n",
    "output --> string\n",
    "word --> word\n",
    "\n",
    "A function that squares the input\n",
    "A function that finds the area\n",
    "\n",
    "'''\n"
   ]
  },
  {
   "cell_type": "code",
   "execution_count": null,
   "metadata": {
    "id": "1bZkfKTODmT6"
   },
   "outputs": [],
   "source": [
    "'''\n",
    "def NAME(LIST OF ARGS)\n",
    "  Code Block\n",
    "  return statement (optional)\n",
    "\n",
    "def square(n)\n",
    "  return n*n\n",
    "  print(lasfl)    <-- will not be executed because its after the return statement\n",
    "'''\n"
   ]
  },
  {
   "cell_type": "code",
   "execution_count": null,
   "metadata": {
    "id": "Ab8_1YRbD2fE"
   },
   "outputs": [],
   "source": [
    "# if we want to define a function f(x) = 3(x^2) + 2x + 5\n",
    "\n",
    "def f(x):   # declares a function \"f\" which takes the argument \"x\" (remember Calc class?)\n",
    "  return 3*(x**2) + (2*x) + 5    # some arbitrary function which we can plug \"x\" values into and get an output:"
   ]
  },
  {
   "cell_type": "code",
   "execution_count": null,
   "metadata": {
    "colab": {
     "base_uri": "https://localhost:8080/"
    },
    "executionInfo": {
     "elapsed": 165,
     "status": "ok",
     "timestamp": 1624934223888,
     "user": {
      "displayName": "Joel Brigida",
      "photoUrl": "https://lh3.googleusercontent.com/a-/AOh14GjLuPhoLSagAzXEvky112_2xhzsY9z-QJ9CaJ-flQRlbBAaET1LRDCdV6ZBcZB4MbcMXlz7zs4Ka2gYuCX9ABdXbgifilihnFf3iFKt4j1Wu0YBJMBJAon9bDzuaStiqy9iRN3AupZsJmkjkSLIylSqe9BYA7Zl87C_A7CJdO4le4um0lUIvaIVMayFf6foQu1IcO3uNpyyWyUMW6P1ytjwgu3Yubmr7d1D_QuXhGgqkbJIUO7GYu9hsTihq5xT-mdmqO9s3_PZ1SKd7GHWQ4pRBxC9qoQl0z0KFw79Fhg0_-UoVLdxXUrLB93J9MN-HGBqgq9TF0SrRYWMyg2SX07lpx9t8fc4Ksvz2EMxDzmcwaLamXIi-xDy0ePOqfaDcoruHVkvEoXt7gDVmXPjrB2n6YFpuZ1i2d_k3w9DhtCZ0U3T26DWOnB4pzMUv7p-RTkIvXlefJX_811bRhbCDQlRYgmTC7tY0FkdI7S15m1h1HzW8dRxeliuNfu_SA37Q4WvEwMjdBKkyDgn25DtkU905tORD8XzOFKTQ012jTAvK-AREGa1XdUGcL5OUgc4KpSdsSCFPCcOh8YnM1BRIwUAiI19DT1aOBLa1F57E_0tht6Xrs6PAXTUHjARnMBUT8VhVMXGzyJot6xM0vvXEd7jw1oFX8LTKIEIzCMysAgw9HTpLqGt9WrLBVbpUqiZYgjKkFX-13i6EtLOZek5xUQ7WuBdqwkg4-GidhWCIGhB9Q8ojicXEIWAt26isLs9mf4qkA=s64",
      "userId": "17944099373685830598"
     },
     "user_tz": 240
    },
    "id": "Ht--YXC4nVin",
    "outputId": "eee19aca-0d5c-4073-8276-88e6779deba2"
   },
   "outputs": [],
   "source": [
    "f(3) # plug in any value to test output"
   ]
  },
  {
   "cell_type": "code",
   "execution_count": null,
   "metadata": {
    "id": "dCInYreVEL4B"
   },
   "outputs": [],
   "source": [
    "def Tip(bill, percent):\n",
    "  tip_amt = (percent/100) * bill\n",
    "  gnd_total = bill + tip_amt\n",
    "  return gnd_total, tip_amt, bill, percent"
   ]
  },
  {
   "cell_type": "code",
   "execution_count": null,
   "metadata": {
    "colab": {
     "base_uri": "https://localhost:8080/"
    },
    "executionInfo": {
     "elapsed": 117,
     "status": "ok",
     "timestamp": 1624935339419,
     "user": {
      "displayName": "Joel Brigida",
      "photoUrl": "https://lh3.googleusercontent.com/a-/AOh14GjLuPhoLSagAzXEvky112_2xhzsY9z-QJ9CaJ-flQRlbBAaET1LRDCdV6ZBcZB4MbcMXlz7zs4Ka2gYuCX9ABdXbgifilihnFf3iFKt4j1Wu0YBJMBJAon9bDzuaStiqy9iRN3AupZsJmkjkSLIylSqe9BYA7Zl87C_A7CJdO4le4um0lUIvaIVMayFf6foQu1IcO3uNpyyWyUMW6P1ytjwgu3Yubmr7d1D_QuXhGgqkbJIUO7GYu9hsTihq5xT-mdmqO9s3_PZ1SKd7GHWQ4pRBxC9qoQl0z0KFw79Fhg0_-UoVLdxXUrLB93J9MN-HGBqgq9TF0SrRYWMyg2SX07lpx9t8fc4Ksvz2EMxDzmcwaLamXIi-xDy0ePOqfaDcoruHVkvEoXt7gDVmXPjrB2n6YFpuZ1i2d_k3w9DhtCZ0U3T26DWOnB4pzMUv7p-RTkIvXlefJX_811bRhbCDQlRYgmTC7tY0FkdI7S15m1h1HzW8dRxeliuNfu_SA37Q4WvEwMjdBKkyDgn25DtkU905tORD8XzOFKTQ012jTAvK-AREGa1XdUGcL5OUgc4KpSdsSCFPCcOh8YnM1BRIwUAiI19DT1aOBLa1F57E_0tht6Xrs6PAXTUHjARnMBUT8VhVMXGzyJot6xM0vvXEd7jw1oFX8LTKIEIzCMysAgw9HTpLqGt9WrLBVbpUqiZYgjKkFX-13i6EtLOZek5xUQ7WuBdqwkg4-GidhWCIGhB9Q8ojicXEIWAt26isLs9mf4qkA=s64",
      "userId": "17944099373685830598"
     },
     "user_tz": 240
    },
    "id": "3Z6BmxXDEsiU",
    "outputId": "96b73b5c-18fa-4cdc-a7d6-8183db4d6f70"
   },
   "outputs": [],
   "source": [
    "type(Tip)"
   ]
  },
  {
   "cell_type": "code",
   "execution_count": null,
   "metadata": {
    "colab": {
     "base_uri": "https://localhost:8080/"
    },
    "executionInfo": {
     "elapsed": 116,
     "status": "ok",
     "timestamp": 1624935341694,
     "user": {
      "displayName": "Joel Brigida",
      "photoUrl": "https://lh3.googleusercontent.com/a-/AOh14GjLuPhoLSagAzXEvky112_2xhzsY9z-QJ9CaJ-flQRlbBAaET1LRDCdV6ZBcZB4MbcMXlz7zs4Ka2gYuCX9ABdXbgifilihnFf3iFKt4j1Wu0YBJMBJAon9bDzuaStiqy9iRN3AupZsJmkjkSLIylSqe9BYA7Zl87C_A7CJdO4le4um0lUIvaIVMayFf6foQu1IcO3uNpyyWyUMW6P1ytjwgu3Yubmr7d1D_QuXhGgqkbJIUO7GYu9hsTihq5xT-mdmqO9s3_PZ1SKd7GHWQ4pRBxC9qoQl0z0KFw79Fhg0_-UoVLdxXUrLB93J9MN-HGBqgq9TF0SrRYWMyg2SX07lpx9t8fc4Ksvz2EMxDzmcwaLamXIi-xDy0ePOqfaDcoruHVkvEoXt7gDVmXPjrB2n6YFpuZ1i2d_k3w9DhtCZ0U3T26DWOnB4pzMUv7p-RTkIvXlefJX_811bRhbCDQlRYgmTC7tY0FkdI7S15m1h1HzW8dRxeliuNfu_SA37Q4WvEwMjdBKkyDgn25DtkU905tORD8XzOFKTQ012jTAvK-AREGa1XdUGcL5OUgc4KpSdsSCFPCcOh8YnM1BRIwUAiI19DT1aOBLa1F57E_0tht6Xrs6PAXTUHjARnMBUT8VhVMXGzyJot6xM0vvXEd7jw1oFX8LTKIEIzCMysAgw9HTpLqGt9WrLBVbpUqiZYgjKkFX-13i6EtLOZek5xUQ7WuBdqwkg4-GidhWCIGhB9Q8ojicXEIWAt26isLs9mf4qkA=s64",
      "userId": "17944099373685830598"
     },
     "user_tz": 240
    },
    "id": "dcrHbf5UFaxI",
    "outputId": "a5582f2f-ba69-4b4a-c37c-676992bdb363"
   },
   "outputs": [],
   "source": [
    "Tip(100, 20)"
   ]
  },
  {
   "cell_type": "code",
   "execution_count": null,
   "metadata": {
    "colab": {
     "base_uri": "https://localhost:8080/"
    },
    "executionInfo": {
     "elapsed": 125,
     "status": "ok",
     "timestamp": 1624935368535,
     "user": {
      "displayName": "Joel Brigida",
      "photoUrl": "https://lh3.googleusercontent.com/a-/AOh14GjLuPhoLSagAzXEvky112_2xhzsY9z-QJ9CaJ-flQRlbBAaET1LRDCdV6ZBcZB4MbcMXlz7zs4Ka2gYuCX9ABdXbgifilihnFf3iFKt4j1Wu0YBJMBJAon9bDzuaStiqy9iRN3AupZsJmkjkSLIylSqe9BYA7Zl87C_A7CJdO4le4um0lUIvaIVMayFf6foQu1IcO3uNpyyWyUMW6P1ytjwgu3Yubmr7d1D_QuXhGgqkbJIUO7GYu9hsTihq5xT-mdmqO9s3_PZ1SKd7GHWQ4pRBxC9qoQl0z0KFw79Fhg0_-UoVLdxXUrLB93J9MN-HGBqgq9TF0SrRYWMyg2SX07lpx9t8fc4Ksvz2EMxDzmcwaLamXIi-xDy0ePOqfaDcoruHVkvEoXt7gDVmXPjrB2n6YFpuZ1i2d_k3w9DhtCZ0U3T26DWOnB4pzMUv7p-RTkIvXlefJX_811bRhbCDQlRYgmTC7tY0FkdI7S15m1h1HzW8dRxeliuNfu_SA37Q4WvEwMjdBKkyDgn25DtkU905tORD8XzOFKTQ012jTAvK-AREGa1XdUGcL5OUgc4KpSdsSCFPCcOh8YnM1BRIwUAiI19DT1aOBLa1F57E_0tht6Xrs6PAXTUHjARnMBUT8VhVMXGzyJot6xM0vvXEd7jw1oFX8LTKIEIzCMysAgw9HTpLqGt9WrLBVbpUqiZYgjKkFX-13i6EtLOZek5xUQ7WuBdqwkg4-GidhWCIGhB9Q8ojicXEIWAt26isLs9mf4qkA=s64",
      "userId": "17944099373685830598"
     },
     "user_tz": 240
    },
    "id": "1S9gHc5mpXQJ",
    "outputId": "cdf8a578-194a-4b4e-b13d-91740c78079a"
   },
   "outputs": [],
   "source": [
    "type(Tip(100, 20))      # this is a tuple: an immutable list where values are not changeable"
   ]
  },
  {
   "cell_type": "code",
   "execution_count": null,
   "metadata": {
    "id": "87vZixkjqfFK"
   },
   "outputs": [],
   "source": [
    "some_tip = Tip(100, 20)   # store returned output values to a new variable \"some_tip\""
   ]
  },
  {
   "cell_type": "code",
   "execution_count": null,
   "metadata": {
    "colab": {
     "base_uri": "https://localhost:8080/"
    },
    "executionInfo": {
     "elapsed": 119,
     "status": "ok",
     "timestamp": 1624935396613,
     "user": {
      "displayName": "Joel Brigida",
      "photoUrl": "https://lh3.googleusercontent.com/a-/AOh14GjLuPhoLSagAzXEvky112_2xhzsY9z-QJ9CaJ-flQRlbBAaET1LRDCdV6ZBcZB4MbcMXlz7zs4Ka2gYuCX9ABdXbgifilihnFf3iFKt4j1Wu0YBJMBJAon9bDzuaStiqy9iRN3AupZsJmkjkSLIylSqe9BYA7Zl87C_A7CJdO4le4um0lUIvaIVMayFf6foQu1IcO3uNpyyWyUMW6P1ytjwgu3Yubmr7d1D_QuXhGgqkbJIUO7GYu9hsTihq5xT-mdmqO9s3_PZ1SKd7GHWQ4pRBxC9qoQl0z0KFw79Fhg0_-UoVLdxXUrLB93J9MN-HGBqgq9TF0SrRYWMyg2SX07lpx9t8fc4Ksvz2EMxDzmcwaLamXIi-xDy0ePOqfaDcoruHVkvEoXt7gDVmXPjrB2n6YFpuZ1i2d_k3w9DhtCZ0U3T26DWOnB4pzMUv7p-RTkIvXlefJX_811bRhbCDQlRYgmTC7tY0FkdI7S15m1h1HzW8dRxeliuNfu_SA37Q4WvEwMjdBKkyDgn25DtkU905tORD8XzOFKTQ012jTAvK-AREGa1XdUGcL5OUgc4KpSdsSCFPCcOh8YnM1BRIwUAiI19DT1aOBLa1F57E_0tht6Xrs6PAXTUHjARnMBUT8VhVMXGzyJot6xM0vvXEd7jw1oFX8LTKIEIzCMysAgw9HTpLqGt9WrLBVbpUqiZYgjKkFX-13i6EtLOZek5xUQ7WuBdqwkg4-GidhWCIGhB9Q8ojicXEIWAt26isLs9mf4qkA=s64",
      "userId": "17944099373685830598"
     },
     "user_tz": 240
    },
    "id": "UNLzoyIGqnE_",
    "outputId": "e98df1e7-6bcc-4117-cf9d-7be8d82cc8e7"
   },
   "outputs": [],
   "source": [
    "some_tip"
   ]
  },
  {
   "cell_type": "code",
   "execution_count": null,
   "metadata": {
    "id": "LcLvVlOcq634"
   },
   "outputs": [],
   "source": [
    "_, try_again, _, _, = Tip(100, 20) # the underscore tells python to skip the 1st, 3rd, and 4th returned output value."
   ]
  },
  {
   "cell_type": "code",
   "execution_count": null,
   "metadata": {
    "colab": {
     "base_uri": "https://localhost:8080/"
    },
    "executionInfo": {
     "elapsed": 145,
     "status": "ok",
     "timestamp": 1624935660254,
     "user": {
      "displayName": "Joel Brigida",
      "photoUrl": "https://lh3.googleusercontent.com/a-/AOh14GjLuPhoLSagAzXEvky112_2xhzsY9z-QJ9CaJ-flQRlbBAaET1LRDCdV6ZBcZB4MbcMXlz7zs4Ka2gYuCX9ABdXbgifilihnFf3iFKt4j1Wu0YBJMBJAon9bDzuaStiqy9iRN3AupZsJmkjkSLIylSqe9BYA7Zl87C_A7CJdO4le4um0lUIvaIVMayFf6foQu1IcO3uNpyyWyUMW6P1ytjwgu3Yubmr7d1D_QuXhGgqkbJIUO7GYu9hsTihq5xT-mdmqO9s3_PZ1SKd7GHWQ4pRBxC9qoQl0z0KFw79Fhg0_-UoVLdxXUrLB93J9MN-HGBqgq9TF0SrRYWMyg2SX07lpx9t8fc4Ksvz2EMxDzmcwaLamXIi-xDy0ePOqfaDcoruHVkvEoXt7gDVmXPjrB2n6YFpuZ1i2d_k3w9DhtCZ0U3T26DWOnB4pzMUv7p-RTkIvXlefJX_811bRhbCDQlRYgmTC7tY0FkdI7S15m1h1HzW8dRxeliuNfu_SA37Q4WvEwMjdBKkyDgn25DtkU905tORD8XzOFKTQ012jTAvK-AREGa1XdUGcL5OUgc4KpSdsSCFPCcOh8YnM1BRIwUAiI19DT1aOBLa1F57E_0tht6Xrs6PAXTUHjARnMBUT8VhVMXGzyJot6xM0vvXEd7jw1oFX8LTKIEIzCMysAgw9HTpLqGt9WrLBVbpUqiZYgjKkFX-13i6EtLOZek5xUQ7WuBdqwkg4-GidhWCIGhB9Q8ojicXEIWAt26isLs9mf4qkA=s64",
      "userId": "17944099373685830598"
     },
     "user_tz": 240
    },
    "id": "PKWoB3ECrGuw",
    "outputId": "aded785d-ab83-49c2-ff1a-a087594387e4"
   },
   "outputs": [],
   "source": [
    "try_again   # note that try_again now only holds the one value"
   ]
  },
  {
   "cell_type": "markdown",
   "metadata": {
    "id": "RnBL_rN1v14m"
   },
   "source": [
    "## Simple Recursion"
   ]
  },
  {
   "cell_type": "code",
   "execution_count": null,
   "metadata": {
    "id": "cy_yyID7uQDj"
   },
   "outputs": [],
   "source": [
    "def f1():\n",
    "    print(\"Moe\")\n",
    "\n",
    "def f2():           # function declaration\n",
    "    f4()            # function call to f4()\n",
    "    print(\"Meeny\")\n",
    "\n",
    "def f3():\n",
    "    f2()\n",
    "    print(\"Miney\")\n",
    "    f1()\n",
    "\n",
    "def f4():\n",
    "    print(\"Eeny\")"
   ]
  },
  {
   "cell_type": "code",
   "execution_count": null,
   "metadata": {
    "colab": {
     "base_uri": "https://localhost:8080/"
    },
    "executionInfo": {
     "elapsed": 118,
     "status": "ok",
     "timestamp": 1624936206794,
     "user": {
      "displayName": "Joel Brigida",
      "photoUrl": "https://lh3.googleusercontent.com/a-/AOh14GjLuPhoLSagAzXEvky112_2xhzsY9z-QJ9CaJ-flQRlbBAaET1LRDCdV6ZBcZB4MbcMXlz7zs4Ka2gYuCX9ABdXbgifilihnFf3iFKt4j1Wu0YBJMBJAon9bDzuaStiqy9iRN3AupZsJmkjkSLIylSqe9BYA7Zl87C_A7CJdO4le4um0lUIvaIVMayFf6foQu1IcO3uNpyyWyUMW6P1ytjwgu3Yubmr7d1D_QuXhGgqkbJIUO7GYu9hsTihq5xT-mdmqO9s3_PZ1SKd7GHWQ4pRBxC9qoQl0z0KFw79Fhg0_-UoVLdxXUrLB93J9MN-HGBqgq9TF0SrRYWMyg2SX07lpx9t8fc4Ksvz2EMxDzmcwaLamXIi-xDy0ePOqfaDcoruHVkvEoXt7gDVmXPjrB2n6YFpuZ1i2d_k3w9DhtCZ0U3T26DWOnB4pzMUv7p-RTkIvXlefJX_811bRhbCDQlRYgmTC7tY0FkdI7S15m1h1HzW8dRxeliuNfu_SA37Q4WvEwMjdBKkyDgn25DtkU905tORD8XzOFKTQ012jTAvK-AREGa1XdUGcL5OUgc4KpSdsSCFPCcOh8YnM1BRIwUAiI19DT1aOBLa1F57E_0tht6Xrs6PAXTUHjARnMBUT8VhVMXGzyJot6xM0vvXEd7jw1oFX8LTKIEIzCMysAgw9HTpLqGt9WrLBVbpUqiZYgjKkFX-13i6EtLOZek5xUQ7WuBdqwkg4-GidhWCIGhB9Q8ojicXEIWAt26isLs9mf4qkA=s64",
      "userId": "17944099373685830598"
     },
     "user_tz": 240
    },
    "id": "70DyUGjRvPBD",
    "outputId": "1de89e75-121c-422e-ac8f-1eccc19b4847"
   },
   "outputs": [],
   "source": [
    "f2()"
   ]
  },
  {
   "cell_type": "code",
   "execution_count": null,
   "metadata": {
    "colab": {
     "base_uri": "https://localhost:8080/"
    },
    "executionInfo": {
     "elapsed": 117,
     "status": "ok",
     "timestamp": 1624936212478,
     "user": {
      "displayName": "Joel Brigida",
      "photoUrl": "https://lh3.googleusercontent.com/a-/AOh14GjLuPhoLSagAzXEvky112_2xhzsY9z-QJ9CaJ-flQRlbBAaET1LRDCdV6ZBcZB4MbcMXlz7zs4Ka2gYuCX9ABdXbgifilihnFf3iFKt4j1Wu0YBJMBJAon9bDzuaStiqy9iRN3AupZsJmkjkSLIylSqe9BYA7Zl87C_A7CJdO4le4um0lUIvaIVMayFf6foQu1IcO3uNpyyWyUMW6P1ytjwgu3Yubmr7d1D_QuXhGgqkbJIUO7GYu9hsTihq5xT-mdmqO9s3_PZ1SKd7GHWQ4pRBxC9qoQl0z0KFw79Fhg0_-UoVLdxXUrLB93J9MN-HGBqgq9TF0SrRYWMyg2SX07lpx9t8fc4Ksvz2EMxDzmcwaLamXIi-xDy0ePOqfaDcoruHVkvEoXt7gDVmXPjrB2n6YFpuZ1i2d_k3w9DhtCZ0U3T26DWOnB4pzMUv7p-RTkIvXlefJX_811bRhbCDQlRYgmTC7tY0FkdI7S15m1h1HzW8dRxeliuNfu_SA37Q4WvEwMjdBKkyDgn25DtkU905tORD8XzOFKTQ012jTAvK-AREGa1XdUGcL5OUgc4KpSdsSCFPCcOh8YnM1BRIwUAiI19DT1aOBLa1F57E_0tht6Xrs6PAXTUHjARnMBUT8VhVMXGzyJot6xM0vvXEd7jw1oFX8LTKIEIzCMysAgw9HTpLqGt9WrLBVbpUqiZYgjKkFX-13i6EtLOZek5xUQ7WuBdqwkg4-GidhWCIGhB9Q8ojicXEIWAt26isLs9mf4qkA=s64",
      "userId": "17944099373685830598"
     },
     "user_tz": 240
    },
    "id": "uCaKGssSvtnM",
    "outputId": "a15f2ec5-fc00-4ff5-8d4b-ef1a65b03a74"
   },
   "outputs": [],
   "source": [
    "f3()"
   ]
  },
  {
   "cell_type": "markdown",
   "metadata": {
    "id": "AIeeKu2V2No9"
   },
   "source": [
    "## Importing Libraries for functions"
   ]
  },
  {
   "cell_type": "code",
   "execution_count": null,
   "metadata": {
    "id": "0QHM5ZYF2KwE"
   },
   "outputs": [],
   "source": [
    "import pandas as pd\n",
    "import numpy as np      # to be continued on this"
   ]
  }
 ],
 "metadata": {
  "colab": {
   "collapsed_sections": [
    "LFw0L9kN7f0C",
    "WAq8E3QTfEuG",
    "4anUDinLkOFa",
    "OAne0z598UIr",
    "hssS7mIU9nUn"
   ],
   "name": "001_JB_Python_Intro.ipynb",
   "provenance": [
    {
     "file_id": "1Yjs79gefl0aVUN9bDYy9UE6etIRVjaOb",
     "timestamp": 1624889770307
    }
   ]
  },
  "kernelspec": {
   "display_name": "Python 3.9.12 ('base')",
   "language": "python",
   "name": "python3"
  },
  "language_info": {
   "codemirror_mode": {
    "name": "ipython",
    "version": 3
   },
   "file_extension": ".py",
   "mimetype": "text/x-python",
   "name": "python",
   "nbconvert_exporter": "python",
   "pygments_lexer": "ipython3",
   "version": "3.9.13 (main, Aug 25 2022, 23:26:10) \n[GCC 11.2.0]"
  },
  "vscode": {
   "interpreter": {
    "hash": "a906719eb24c6be2b596ddc3d3a5af6aa9dceef416174b553d74a9f9263f1789"
   }
  }
 },
 "nbformat": 4,
 "nbformat_minor": 4
}
