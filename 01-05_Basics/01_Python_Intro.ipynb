{
 "cells": [
  {
   "cell_type": "markdown",
   "metadata": {
    "id": "jULGphTzeVYV"
   },
   "source": [
    "# Data Science & Machine Learning Summer Workshop\n",
    "\n",
    "---\n",
    "\n"
   ]
  },
  {
   "attachments": {},
   "cell_type": "markdown",
   "metadata": {
    "id": "9HJ-1tFjxRW6"
   },
   "source": [
    "# \"Introducing Python\"\n",
    "\n",
    "Text Cell Lists:\n",
    "\n",
    "1. List item 1\n",
    "2. List item 2\n",
    "3. List Item 3"
   ]
  },
  {
   "attachments": {},
   "cell_type": "markdown",
   "metadata": {
    "id": "LFw0L9kN7f0C",
    "tags": []
   },
   "source": [
    "# 1) How to make a text list:\n",
    "---\n",
    "\n",
    "1. Must use a text cell (not a code cell)\n",
    "2. Use 3 back ticks to mark beginning / end of comment block.\n",
    "\n",
    "Code cell block in Markdown:\n",
    "\n",
    "```\n",
    "# Like This\n",
    "# Another comment line\n",
    "# Here is the 3rd line\n",
    "```\n",
    "\n",
    "## Double pound sign makes it a sub-heading\n",
    "---"
   ]
  },
  {
   "cell_type": "code",
   "execution_count": 2,
   "metadata": {
    "id": "GybXI_tNDxd3"
   },
   "outputs": [
    {
     "data": {
      "text/plain": [
       "'\\nBlock comments:\\nBetween the 3 single quote marks are Block Comments\\n'"
      ]
     },
     "execution_count": 2,
     "metadata": {},
     "output_type": "execute_result"
    }
   ],
   "source": [
    "# This is a block of code inside a code cell\n",
    "\n",
    "'''\n",
    "Block comments:\n",
    "Between the 3 single quote marks are Block Comments\n",
    "'''"
   ]
  },
  {
   "attachments": {},
   "cell_type": "markdown",
   "metadata": {
    "id": "WAq8E3QTfEuG"
   },
   "source": [
    "# 2) Print Function\n",
    "---"
   ]
  },
  {
   "cell_type": "markdown",
   "metadata": {
    "id": "9k9qGFJhBJib"
   },
   "source": [
    "Print Rules and Syntax:\n",
    "\n",
    "---"
   ]
  },
  {
   "cell_type": "code",
   "execution_count": 3,
   "metadata": {
    "colab": {
     "base_uri": "https://localhost:8080/"
    },
    "executionInfo": {
     "elapsed": 273,
     "status": "ok",
     "timestamp": 1624901544463,
     "user": {
      "displayName": "Joel Brigida",
      "photoUrl": "https://lh3.googleusercontent.com/a-/AOh14Gi5jpwxzxgci18vzsZ0Qc1QNoVi75SXgr4cWkdZpjZGk2Syca1WmIazn5PYyGztQLLf2-247MitLzLRfFhaU5OLW7AFQufXBNJS2QmA5vsE7HjfgeCfA4FuLJrWLsfWpZ1TU7i3xim3cbdvP0ZEZ9Z-59d9S8Ypjl5GoFpVhNtYTfDeLMTetGOVOtRdZDA5ivlkgPHBq0xOxAu2HvvAHceQoDmSLHgyzZe7-DJR7p7GEpF7Oba3KAhpgnpOyPMqIlThj5VbUFJdKfpmZLcPVK4comRa8UpTbXt7zcLynIUrDT7zksV188O02dFGQ6cbd2BuxHNzD5go87gFdYB6qufTu6bzefcnAR-FiAu9iju6BXyjkdb3k3VH_7J0gyspaGh0vejDKMJixoiey86c9neIcmKPQAvTh9dshGeAUCM4j8R-pfqEcxZ-bR1DetzRyIyZlB__NjHYmiJibMIkCj4yN0avYVy6TSMOYvJ2grOOM8LGzV-B5ywK5Kv1Kj-QrY0-TImnKpOak4xoEVU1upEL3gBdWMINne-lh6bOXrkcPqt0uAm_6f_GbOShut2n2W0UrJGh2vO0LvP2_zaYR5O4adJ3jw8LmQjuAddEPshV1_SZ8_9yoCL1rMgEJ2iST73lwqxPjOOiM4Z8P6M_ItEeHAny38L7k7KErUHcEAYfNs-p4i909AJnaPOAl3j01mJ79q6p1_yEjGmm3IRSfGlgqH2hn7bjyBG6TgXtk3nHdOvMzP9SkeGhU8CkvKwdVnjdYg=s64",
      "userId": "17944099373685830598"
     },
     "user_tz": 240
    },
    "id": "jlB-4RRhe1FM",
    "outputId": "bf08bf5f-39f5-4029-9972-fc28963498ee"
   },
   "outputs": [
    {
     "name": "stdout",
     "output_type": "stream",
     "text": [
      "This is the text we are printing\n",
      "Hello DS&ML CLub!\n",
      "Current Python Version on Google Colab is: ['Python 3.9.13']\n",
      "Hello---how are you?\n",
      "\n",
      "\n",
      "Hello DS&ML Club!\n",
      "This is the first session of many to come.\n",
      "Hope to see everyone next week!\n",
      "\n",
      "Hello DS&ML Club!\\nThis is the first session of many to come.\\nHope to see everyone next week!\n",
      "Here is the Python Version we are using Python 3.9.13. Using f-string format\n",
      "Here is the Python Version we are using ['Python 3.9.13']. Using f-string list type format\n",
      "Here is the Python Version we are using {v[0]}. W/O f-string format\n"
     ]
    }
   ],
   "source": [
    "print('This is the text we are printing')\n",
    "\n",
    "print('Hello DS&ML CLub!')\n",
    "\n",
    "# assign version to a variable \"v\"\n",
    "v = !python --version\n",
    "print('Current Python Version on Google Colab is:', v) # print variable v in list format at the end of the string\n",
    "\n",
    "print(\"Hello\", \"how are you?\", sep=\"---\") # insert the \"---\" at the separation\n",
    "print('\\n') # \\n to start text at a new line\n",
    "\n",
    "print('Hello DS&ML Club!\\nThis is the first session of many to come.\\nHope to see everyone next week!\\n')   # conventional print mode uses escape sequences.\n",
    "\n",
    "print(r'Hello DS&ML Club!\\nThis is the first session of many to come.\\nHope to see everyone next week!')    # \"Reader\" print mode: reads text and prints as it is entered.\n",
    "\n",
    "print(f'Here is the Python Version we are using {v[0]}. Using f-string format') # uses f-string format to insert variables into the string content.\n",
    "print(f'Here is the Python Version we are using {v}. Using f-string list type format')    # with list format\n",
    "print('Here is the Python Version we are using {v[0]}. W/O f-string format')    # w/o \"f\" prints the {v[0]} as a string variable\n",
    "\n"
   ]
  },
  {
   "cell_type": "code",
   "execution_count": 4,
   "metadata": {
    "colab": {
     "base_uri": "https://localhost:8080/"
    },
    "executionInfo": {
     "elapsed": 283,
     "status": "ok",
     "timestamp": 1624901370368,
     "user": {
      "displayName": "Joel Brigida",
      "photoUrl": "https://lh3.googleusercontent.com/a-/AOh14Gi5jpwxzxgci18vzsZ0Qc1QNoVi75SXgr4cWkdZpjZGk2Syca1WmIazn5PYyGztQLLf2-247MitLzLRfFhaU5OLW7AFQufXBNJS2QmA5vsE7HjfgeCfA4FuLJrWLsfWpZ1TU7i3xim3cbdvP0ZEZ9Z-59d9S8Ypjl5GoFpVhNtYTfDeLMTetGOVOtRdZDA5ivlkgPHBq0xOxAu2HvvAHceQoDmSLHgyzZe7-DJR7p7GEpF7Oba3KAhpgnpOyPMqIlThj5VbUFJdKfpmZLcPVK4comRa8UpTbXt7zcLynIUrDT7zksV188O02dFGQ6cbd2BuxHNzD5go87gFdYB6qufTu6bzefcnAR-FiAu9iju6BXyjkdb3k3VH_7J0gyspaGh0vejDKMJixoiey86c9neIcmKPQAvTh9dshGeAUCM4j8R-pfqEcxZ-bR1DetzRyIyZlB__NjHYmiJibMIkCj4yN0avYVy6TSMOYvJ2grOOM8LGzV-B5ywK5Kv1Kj-QrY0-TImnKpOak4xoEVU1upEL3gBdWMINne-lh6bOXrkcPqt0uAm_6f_GbOShut2n2W0UrJGh2vO0LvP2_zaYR5O4adJ3jw8LmQjuAddEPshV1_SZ8_9yoCL1rMgEJ2iST73lwqxPjOOiM4Z8P6M_ItEeHAny38L7k7KErUHcEAYfNs-p4i909AJnaPOAl3j01mJ79q6p1_yEjGmm3IRSfGlgqH2hn7bjyBG6TgXtk3nHdOvMzP9SkeGhU8CkvKwdVnjdYg=s64",
      "userId": "17944099373685830598"
     },
     "user_tz": 240
    },
    "id": "U-9dMLLZ6hzN",
    "outputId": "9a61e9b2-ab12-4960-f148-ba28b65b0ba0"
   },
   "outputs": [
    {
     "name": "stdout",
     "output_type": "stream",
     "text": [
      "Hello World!\n"
     ]
    }
   ],
   "source": [
    "# general print statment for test output\n",
    "\n",
    "print('Hello World!')"
   ]
  },
  {
   "cell_type": "code",
   "execution_count": 5,
   "metadata": {
    "colab": {
     "base_uri": "https://localhost:8080/"
    },
    "executionInfo": {
     "elapsed": 294,
     "status": "ok",
     "timestamp": 1624901371558,
     "user": {
      "displayName": "Joel Brigida",
      "photoUrl": "https://lh3.googleusercontent.com/a-/AOh14Gi5jpwxzxgci18vzsZ0Qc1QNoVi75SXgr4cWkdZpjZGk2Syca1WmIazn5PYyGztQLLf2-247MitLzLRfFhaU5OLW7AFQufXBNJS2QmA5vsE7HjfgeCfA4FuLJrWLsfWpZ1TU7i3xim3cbdvP0ZEZ9Z-59d9S8Ypjl5GoFpVhNtYTfDeLMTetGOVOtRdZDA5ivlkgPHBq0xOxAu2HvvAHceQoDmSLHgyzZe7-DJR7p7GEpF7Oba3KAhpgnpOyPMqIlThj5VbUFJdKfpmZLcPVK4comRa8UpTbXt7zcLynIUrDT7zksV188O02dFGQ6cbd2BuxHNzD5go87gFdYB6qufTu6bzefcnAR-FiAu9iju6BXyjkdb3k3VH_7J0gyspaGh0vejDKMJixoiey86c9neIcmKPQAvTh9dshGeAUCM4j8R-pfqEcxZ-bR1DetzRyIyZlB__NjHYmiJibMIkCj4yN0avYVy6TSMOYvJ2grOOM8LGzV-B5ywK5Kv1Kj-QrY0-TImnKpOak4xoEVU1upEL3gBdWMINne-lh6bOXrkcPqt0uAm_6f_GbOShut2n2W0UrJGh2vO0LvP2_zaYR5O4adJ3jw8LmQjuAddEPshV1_SZ8_9yoCL1rMgEJ2iST73lwqxPjOOiM4Z8P6M_ItEeHAny38L7k7KErUHcEAYfNs-p4i909AJnaPOAl3j01mJ79q6p1_yEjGmm3IRSfGlgqH2hn7bjyBG6TgXtk3nHdOvMzP9SkeGhU8CkvKwdVnjdYg=s64",
      "userId": "17944099373685830598"
     },
     "user_tz": 240
    },
    "id": "4F01R3eFE5_Q",
    "outputId": "407cc322-a8dc-4a26-f9cf-07ddc02dace5"
   },
   "outputs": [
    {
     "name": "stdout",
     "output_type": "stream",
     "text": [
      "firstline \n",
      "second line\n"
     ]
    }
   ],
   "source": [
    "# demonstration of the newline escape sequence\n",
    "\n",
    "print('firstline \\nsecond line')"
   ]
  },
  {
   "cell_type": "code",
   "execution_count": 6,
   "metadata": {
    "colab": {
     "base_uri": "https://localhost:8080/"
    },
    "executionInfo": {
     "elapsed": 276,
     "status": "ok",
     "timestamp": 1624901374112,
     "user": {
      "displayName": "Joel Brigida",
      "photoUrl": "https://lh3.googleusercontent.com/a-/AOh14Gi5jpwxzxgci18vzsZ0Qc1QNoVi75SXgr4cWkdZpjZGk2Syca1WmIazn5PYyGztQLLf2-247MitLzLRfFhaU5OLW7AFQufXBNJS2QmA5vsE7HjfgeCfA4FuLJrWLsfWpZ1TU7i3xim3cbdvP0ZEZ9Z-59d9S8Ypjl5GoFpVhNtYTfDeLMTetGOVOtRdZDA5ivlkgPHBq0xOxAu2HvvAHceQoDmSLHgyzZe7-DJR7p7GEpF7Oba3KAhpgnpOyPMqIlThj5VbUFJdKfpmZLcPVK4comRa8UpTbXt7zcLynIUrDT7zksV188O02dFGQ6cbd2BuxHNzD5go87gFdYB6qufTu6bzefcnAR-FiAu9iju6BXyjkdb3k3VH_7J0gyspaGh0vejDKMJixoiey86c9neIcmKPQAvTh9dshGeAUCM4j8R-pfqEcxZ-bR1DetzRyIyZlB__NjHYmiJibMIkCj4yN0avYVy6TSMOYvJ2grOOM8LGzV-B5ywK5Kv1Kj-QrY0-TImnKpOak4xoEVU1upEL3gBdWMINne-lh6bOXrkcPqt0uAm_6f_GbOShut2n2W0UrJGh2vO0LvP2_zaYR5O4adJ3jw8LmQjuAddEPshV1_SZ8_9yoCL1rMgEJ2iST73lwqxPjOOiM4Z8P6M_ItEeHAny38L7k7KErUHcEAYfNs-p4i909AJnaPOAl3j01mJ79q6p1_yEjGmm3IRSfGlgqH2hn7bjyBG6TgXtk3nHdOvMzP9SkeGhU8CkvKwdVnjdYg=s64",
      "userId": "17944099373685830598"
     },
     "user_tz": 240
    },
    "id": "x-nT0qpCfaU5",
    "outputId": "e46663ff-efe8-42aa-efc8-989223a3381d"
   },
   "outputs": [
    {
     "name": "stdout",
     "output_type": "stream",
     "text": [
      "['Python 3.9.13']\n"
     ]
    }
   ],
   "source": [
    "# print value of \"v\" again in list [''] format\n",
    "\n",
    "print(v)"
   ]
  },
  {
   "cell_type": "code",
   "execution_count": 7,
   "metadata": {
    "colab": {
     "base_uri": "https://localhost:8080/",
     "height": 35
    },
    "executionInfo": {
     "elapsed": 16,
     "status": "ok",
     "timestamp": 1624901375211,
     "user": {
      "displayName": "Joel Brigida",
      "photoUrl": "https://lh3.googleusercontent.com/a-/AOh14Gi5jpwxzxgci18vzsZ0Qc1QNoVi75SXgr4cWkdZpjZGk2Syca1WmIazn5PYyGztQLLf2-247MitLzLRfFhaU5OLW7AFQufXBNJS2QmA5vsE7HjfgeCfA4FuLJrWLsfWpZ1TU7i3xim3cbdvP0ZEZ9Z-59d9S8Ypjl5GoFpVhNtYTfDeLMTetGOVOtRdZDA5ivlkgPHBq0xOxAu2HvvAHceQoDmSLHgyzZe7-DJR7p7GEpF7Oba3KAhpgnpOyPMqIlThj5VbUFJdKfpmZLcPVK4comRa8UpTbXt7zcLynIUrDT7zksV188O02dFGQ6cbd2BuxHNzD5go87gFdYB6qufTu6bzefcnAR-FiAu9iju6BXyjkdb3k3VH_7J0gyspaGh0vejDKMJixoiey86c9neIcmKPQAvTh9dshGeAUCM4j8R-pfqEcxZ-bR1DetzRyIyZlB__NjHYmiJibMIkCj4yN0avYVy6TSMOYvJ2grOOM8LGzV-B5ywK5Kv1Kj-QrY0-TImnKpOak4xoEVU1upEL3gBdWMINne-lh6bOXrkcPqt0uAm_6f_GbOShut2n2W0UrJGh2vO0LvP2_zaYR5O4adJ3jw8LmQjuAddEPshV1_SZ8_9yoCL1rMgEJ2iST73lwqxPjOOiM4Z8P6M_ItEeHAny38L7k7KErUHcEAYfNs-p4i909AJnaPOAl3j01mJ79q6p1_yEjGmm3IRSfGlgqH2hn7bjyBG6TgXtk3nHdOvMzP9SkeGhU8CkvKwdVnjdYg=s64",
      "userId": "17944099373685830598"
     },
     "user_tz": 240
    },
    "id": "dW9hlOG6-fLw",
    "outputId": "2ba8ca24-98e8-46b0-a601-9c89e54eb6dd"
   },
   "outputs": [
    {
     "name": "stdout",
     "output_type": "stream",
     "text": [
      "Python 3.9.13\n",
      "'Python 3.9.13'\n"
     ]
    },
    {
     "data": {
      "text/plain": [
       "'Python 3.9.13'"
      ]
     },
     "execution_count": 7,
     "metadata": {},
     "output_type": "execute_result"
    }
   ],
   "source": [
    "# print without brackets\n",
    "\n",
    "print(v[0])\n",
    "print('\\'' + v[0] + '\\'')\n",
    "\n",
    "v[0] # Prints with single quotes"
   ]
  },
  {
   "cell_type": "code",
   "execution_count": 8,
   "metadata": {
    "colab": {
     "base_uri": "https://localhost:8080/"
    },
    "executionInfo": {
     "elapsed": 10,
     "status": "ok",
     "timestamp": 1624901376374,
     "user": {
      "displayName": "Joel Brigida",
      "photoUrl": "https://lh3.googleusercontent.com/a-/AOh14Gi5jpwxzxgci18vzsZ0Qc1QNoVi75SXgr4cWkdZpjZGk2Syca1WmIazn5PYyGztQLLf2-247MitLzLRfFhaU5OLW7AFQufXBNJS2QmA5vsE7HjfgeCfA4FuLJrWLsfWpZ1TU7i3xim3cbdvP0ZEZ9Z-59d9S8Ypjl5GoFpVhNtYTfDeLMTetGOVOtRdZDA5ivlkgPHBq0xOxAu2HvvAHceQoDmSLHgyzZe7-DJR7p7GEpF7Oba3KAhpgnpOyPMqIlThj5VbUFJdKfpmZLcPVK4comRa8UpTbXt7zcLynIUrDT7zksV188O02dFGQ6cbd2BuxHNzD5go87gFdYB6qufTu6bzefcnAR-FiAu9iju6BXyjkdb3k3VH_7J0gyspaGh0vejDKMJixoiey86c9neIcmKPQAvTh9dshGeAUCM4j8R-pfqEcxZ-bR1DetzRyIyZlB__NjHYmiJibMIkCj4yN0avYVy6TSMOYvJ2grOOM8LGzV-B5ywK5Kv1Kj-QrY0-TImnKpOak4xoEVU1upEL3gBdWMINne-lh6bOXrkcPqt0uAm_6f_GbOShut2n2W0UrJGh2vO0LvP2_zaYR5O4adJ3jw8LmQjuAddEPshV1_SZ8_9yoCL1rMgEJ2iST73lwqxPjOOiM4Z8P6M_ItEeHAny38L7k7KErUHcEAYfNs-p4i909AJnaPOAl3j01mJ79q6p1_yEjGmm3IRSfGlgqH2hn7bjyBG6TgXtk3nHdOvMzP9SkeGhU8CkvKwdVnjdYg=s64",
      "userId": "17944099373685830598"
     },
     "user_tz": 240
    },
    "id": "fc3R2Ziw7LLx",
    "outputId": "6b3d1f88-a00c-4326-9628-69e70ee25703"
   },
   "outputs": [
    {
     "name": "stdout",
     "output_type": "stream",
     "text": [
      "Current Python Version on Google Colab is: ['Python 3.9.13']\n",
      "Current Python Version on Google Colab is: Python 3.9.13\n"
     ]
    }
   ],
   "source": [
    "print('Current Python Version on Google Colab is:', v ) # print variable in list format\n",
    "print('Current Python Version on Google Colab is:', v[0]) # non list format"
   ]
  },
  {
   "cell_type": "code",
   "execution_count": 9,
   "metadata": {
    "colab": {
     "base_uri": "https://localhost:8080/"
    },
    "executionInfo": {
     "elapsed": 274,
     "status": "ok",
     "timestamp": 1624901378824,
     "user": {
      "displayName": "Joel Brigida",
      "photoUrl": "https://lh3.googleusercontent.com/a-/AOh14Gi5jpwxzxgci18vzsZ0Qc1QNoVi75SXgr4cWkdZpjZGk2Syca1WmIazn5PYyGztQLLf2-247MitLzLRfFhaU5OLW7AFQufXBNJS2QmA5vsE7HjfgeCfA4FuLJrWLsfWpZ1TU7i3xim3cbdvP0ZEZ9Z-59d9S8Ypjl5GoFpVhNtYTfDeLMTetGOVOtRdZDA5ivlkgPHBq0xOxAu2HvvAHceQoDmSLHgyzZe7-DJR7p7GEpF7Oba3KAhpgnpOyPMqIlThj5VbUFJdKfpmZLcPVK4comRa8UpTbXt7zcLynIUrDT7zksV188O02dFGQ6cbd2BuxHNzD5go87gFdYB6qufTu6bzefcnAR-FiAu9iju6BXyjkdb3k3VH_7J0gyspaGh0vejDKMJixoiey86c9neIcmKPQAvTh9dshGeAUCM4j8R-pfqEcxZ-bR1DetzRyIyZlB__NjHYmiJibMIkCj4yN0avYVy6TSMOYvJ2grOOM8LGzV-B5ywK5Kv1Kj-QrY0-TImnKpOak4xoEVU1upEL3gBdWMINne-lh6bOXrkcPqt0uAm_6f_GbOShut2n2W0UrJGh2vO0LvP2_zaYR5O4adJ3jw8LmQjuAddEPshV1_SZ8_9yoCL1rMgEJ2iST73lwqxPjOOiM4Z8P6M_ItEeHAny38L7k7KErUHcEAYfNs-p4i909AJnaPOAl3j01mJ79q6p1_yEjGmm3IRSfGlgqH2hn7bjyBG6TgXtk3nHdOvMzP9SkeGhU8CkvKwdVnjdYg=s64",
      "userId": "17944099373685830598"
     },
     "user_tz": 240
    },
    "id": "NAin1m1Nzmq4",
    "outputId": "b4a4bc2e-ab47-4016-ba2a-170fc96b46b3"
   },
   "outputs": [
    {
     "name": "stdout",
     "output_type": "stream",
     "text": [
      "<class 'IPython.utils.text.SList'>\n"
     ]
    },
    {
     "data": {
      "text/plain": [
       "IPython.utils.text.SList"
      ]
     },
     "execution_count": 9,
     "metadata": {},
     "output_type": "execute_result"
    }
   ],
   "source": [
    "# what type of variable is \"v\"\n",
    "# it is a list...\n",
    "\n",
    "# note the difference in each output:\n",
    "print(type(v))\n",
    "type(v)"
   ]
  },
  {
   "cell_type": "code",
   "execution_count": 10,
   "metadata": {
    "colab": {
     "base_uri": "https://localhost:8080/"
    },
    "executionInfo": {
     "elapsed": 271,
     "status": "ok",
     "timestamp": 1624902123365,
     "user": {
      "displayName": "Joel Brigida",
      "photoUrl": "https://lh3.googleusercontent.com/a-/AOh14Gi5jpwxzxgci18vzsZ0Qc1QNoVi75SXgr4cWkdZpjZGk2Syca1WmIazn5PYyGztQLLf2-247MitLzLRfFhaU5OLW7AFQufXBNJS2QmA5vsE7HjfgeCfA4FuLJrWLsfWpZ1TU7i3xim3cbdvP0ZEZ9Z-59d9S8Ypjl5GoFpVhNtYTfDeLMTetGOVOtRdZDA5ivlkgPHBq0xOxAu2HvvAHceQoDmSLHgyzZe7-DJR7p7GEpF7Oba3KAhpgnpOyPMqIlThj5VbUFJdKfpmZLcPVK4comRa8UpTbXt7zcLynIUrDT7zksV188O02dFGQ6cbd2BuxHNzD5go87gFdYB6qufTu6bzefcnAR-FiAu9iju6BXyjkdb3k3VH_7J0gyspaGh0vejDKMJixoiey86c9neIcmKPQAvTh9dshGeAUCM4j8R-pfqEcxZ-bR1DetzRyIyZlB__NjHYmiJibMIkCj4yN0avYVy6TSMOYvJ2grOOM8LGzV-B5ywK5Kv1Kj-QrY0-TImnKpOak4xoEVU1upEL3gBdWMINne-lh6bOXrkcPqt0uAm_6f_GbOShut2n2W0UrJGh2vO0LvP2_zaYR5O4adJ3jw8LmQjuAddEPshV1_SZ8_9yoCL1rMgEJ2iST73lwqxPjOOiM4Z8P6M_ItEeHAny38L7k7KErUHcEAYfNs-p4i909AJnaPOAl3j01mJ79q6p1_yEjGmm3IRSfGlgqH2hn7bjyBG6TgXtk3nHdOvMzP9SkeGhU8CkvKwdVnjdYg=s64",
      "userId": "17944099373685830598"
     },
     "user_tz": 240
    },
    "id": "BtGtCBQVFGOI",
    "outputId": "5f2dc4ae-82e0-416b-d3ee-8e6f6a3006f2"
   },
   "outputs": [
    {
     "name": "stdout",
     "output_type": "stream",
     "text": [
      "Value of x is: 25, value of y is: 3, name is: Joel B\n"
     ]
    }
   ],
   "source": [
    "# int and string variable assignments to print\n",
    "\n",
    "x = 25\n",
    "y = 3\n",
    "z = 12\n",
    "name = 'Joel B'\n",
    "\n",
    "# f-string print method\n",
    "print(f'Value of x is: {x}, value of y is: {y}, name is: {name}')"
   ]
  },
  {
   "cell_type": "code",
   "execution_count": 11,
   "metadata": {},
   "outputs": [
    {
     "data": {
      "text/plain": [
       "(25, 3, 12, 'Joel B')"
      ]
     },
     "execution_count": 11,
     "metadata": {},
     "output_type": "execute_result"
    }
   ],
   "source": [
    "# print them all together\n",
    "\n",
    "x, y, z, name"
   ]
  },
  {
   "cell_type": "code",
   "execution_count": 12,
   "metadata": {
    "colab": {
     "base_uri": "https://localhost:8080/"
    },
    "executionInfo": {
     "elapsed": 284,
     "status": "ok",
     "timestamp": 1624901858452,
     "user": {
      "displayName": "Joel Brigida",
      "photoUrl": "https://lh3.googleusercontent.com/a-/AOh14Gi5jpwxzxgci18vzsZ0Qc1QNoVi75SXgr4cWkdZpjZGk2Syca1WmIazn5PYyGztQLLf2-247MitLzLRfFhaU5OLW7AFQufXBNJS2QmA5vsE7HjfgeCfA4FuLJrWLsfWpZ1TU7i3xim3cbdvP0ZEZ9Z-59d9S8Ypjl5GoFpVhNtYTfDeLMTetGOVOtRdZDA5ivlkgPHBq0xOxAu2HvvAHceQoDmSLHgyzZe7-DJR7p7GEpF7Oba3KAhpgnpOyPMqIlThj5VbUFJdKfpmZLcPVK4comRa8UpTbXt7zcLynIUrDT7zksV188O02dFGQ6cbd2BuxHNzD5go87gFdYB6qufTu6bzefcnAR-FiAu9iju6BXyjkdb3k3VH_7J0gyspaGh0vejDKMJixoiey86c9neIcmKPQAvTh9dshGeAUCM4j8R-pfqEcxZ-bR1DetzRyIyZlB__NjHYmiJibMIkCj4yN0avYVy6TSMOYvJ2grOOM8LGzV-B5ywK5Kv1Kj-QrY0-TImnKpOak4xoEVU1upEL3gBdWMINne-lh6bOXrkcPqt0uAm_6f_GbOShut2n2W0UrJGh2vO0LvP2_zaYR5O4adJ3jw8LmQjuAddEPshV1_SZ8_9yoCL1rMgEJ2iST73lwqxPjOOiM4Z8P6M_ItEeHAny38L7k7KErUHcEAYfNs-p4i909AJnaPOAl3j01mJ79q6p1_yEjGmm3IRSfGlgqH2hn7bjyBG6TgXtk3nHdOvMzP9SkeGhU8CkvKwdVnjdYg=s64",
      "userId": "17944099373685830598"
     },
     "user_tz": 240
    },
    "id": "Fti0NyhLrqEo",
    "outputId": "0361c077-ca6d-40b0-8db9-7f52aa379294"
   },
   "outputs": [
    {
     "name": "stdout",
     "output_type": "stream",
     "text": [
      "Value of x: 25 | Value of y: 3 | Name is: Joel B\n"
     ]
    }
   ],
   "source": [
    "# standard c-style string print method\n",
    "\n",
    "print('Value of x:', x,'| Value of y:', y, '| Name is:', name)"
   ]
  },
  {
   "cell_type": "markdown",
   "metadata": {
    "id": "4anUDinLkOFa"
   },
   "source": [
    "# 3) Python Variables and Datatypes\n",
    "\n",
    "---\n",
    "\n"
   ]
  },
  {
   "cell_type": "code",
   "execution_count": 13,
   "metadata": {
    "id": "-H06B6V2iniJ"
   },
   "outputs": [
    {
     "data": {
      "text/plain": [
       "'\\nVariables have to be assigned or computed \\n  x = 3 --> Defining a variable x and assigning it a value of 3\\n  Assigning a variable can happen by the user when the program is exectued \\n  x = input()\\n\\nComputing a variable can be through a function or through other variables \\n  a = 1\\n  b = 5\\n  x = a * b \\n'"
      ]
     },
     "execution_count": 13,
     "metadata": {},
     "output_type": "execute_result"
    }
   ],
   "source": [
    "'''\n",
    "Variables have to be assigned or computed \n",
    "  x = 3 --> Defining a variable x and assigning it a value of 3\n",
    "  Assigning a variable can happen by the user when the program is exectued \n",
    "  x = input()\n",
    "\n",
    "Computing a variable can be through a function or through other variables \n",
    "  a = 1\n",
    "  b = 5\n",
    "  x = a * b \n",
    "'''"
   ]
  },
  {
   "cell_type": "code",
   "execution_count": 14,
   "metadata": {
    "id": "3iMkPq7am05N"
   },
   "outputs": [
    {
     "data": {
      "text/plain": [
       "\"\\nDatatypes\\n\\n  String:\\n    Text is string data ('This for Example')\\n\\n  Numerical: \\n    Integer (int) --> whole number \\n    Floats (float) --> Number with decimals\\n    Complex (complex) --> Complex Numbers (a + bj)\\n  \\n  Containers:\\n    List[] --> An ordered collection of objects, that may have different types\\n    Tuple() --> Tuples are basically immutable lists\\n    Dict{} --> A dictionary is basically an efficient table that maps (keys to values)\\n    set() --> unordered, unique items:\\n\\n\\n  List, tuple, and dicts are used immensley in Python programming\\n  They cover almost all datastructures\\n\\n  ##### PYTHON INDEXING STARTS WITH 0 ####\\n\""
      ]
     },
     "execution_count": 14,
     "metadata": {},
     "output_type": "execute_result"
    }
   ],
   "source": [
    "'''\n",
    "Datatypes\n",
    "\n",
    "  String:\n",
    "    Text is string data ('This for Example')\n",
    "\n",
    "  Numerical: \n",
    "    Integer (int) --> whole number \n",
    "    Floats (float) --> Number with decimals\n",
    "    Complex (complex) --> Complex Numbers (a + bj)\n",
    "  \n",
    "  Containers:\n",
    "    List[] --> An ordered collection of objects, that may have different types\n",
    "    Tuple() --> Tuples are basically immutable lists\n",
    "    Dict{} --> A dictionary is basically an efficient table that maps (keys to values)\n",
    "    set() --> unordered, unique items:\n",
    "\n",
    "\n",
    "  List, tuple, and dicts are used immensley in Python programming\n",
    "  They cover almost all datastructures\n",
    "\n",
    "  ##### PYTHON INDEXING STARTS WITH 0 ####\n",
    "'''"
   ]
  },
  {
   "attachments": {},
   "cell_type": "markdown",
   "metadata": {
    "id": "Di7XzZCh0baC"
   },
   "source": [
    "## List Operations\n",
    "---"
   ]
  },
  {
   "cell_type": "code",
   "execution_count": 15,
   "metadata": {
    "id": "UY1WSuHan5_2"
   },
   "outputs": [
    {
     "data": {
      "text/plain": [
       "\"\\n# Python slice notation is ordered as such: alist[start:end:step]\\n\\n# retrieves item with index 5\\naList[5]\\n\\n# retrieves item's between index 1 & index 10 (but not index 10)\\naList[1:10]\\n\\n# retrieves every 2nd item between index 1 & index 10\\n# (but not index 10)\\naList[1:10:2]\\n\\n# returns the last list item in the array\\naList[-1]\\n\\n# returns the 3rd from last item in the array\\naList[-3]\\n\\n\""
      ]
     },
     "execution_count": 15,
     "metadata": {},
     "output_type": "execute_result"
    }
   ],
   "source": [
    "# Create our first list\n",
    "# Lists can contain multiple data types\n",
    "\n",
    "evenNo = [2, 4, 6, 8, 10] # declare a list of integers\n",
    "\n",
    "Me = ['Joel', 'FAU', 'BSCE', '38'] # declare a list of strings\n",
    "\n",
    "aList = [5, 10, 15, 20, 25, 30, 35, 40, 45, 50, 55, 60, 65, 70]\n",
    "aList.append(0) # append the value to the end of the list (takes only one argument)\n",
    "\n",
    "L = [] # Create Empty list to add items to it\n",
    "\n",
    "# Slicing Lists in Python \n",
    "\n",
    "'''\n",
    "# Python slice notation is ordered as such: alist[start:end:step]\n",
    "\n",
    "# retrieves item with index 5\n",
    "aList[5]\n",
    "\n",
    "# retrieves item's between index 1 & index 10 (but not index 10)\n",
    "aList[1:10]\n",
    "\n",
    "# retrieves every 2nd item between index 1 & index 10\n",
    "# (but not index 10)\n",
    "aList[1:10:2]\n",
    "\n",
    "# returns the last list item in the array\n",
    "aList[-1]\n",
    "\n",
    "# returns the 3rd from last item in the array\n",
    "aList[-3]\n",
    "\n",
    "'''"
   ]
  },
  {
   "cell_type": "code",
   "execution_count": 16,
   "metadata": {
    "colab": {
     "base_uri": "https://localhost:8080/"
    },
    "executionInfo": {
     "elapsed": 302,
     "status": "ok",
     "timestamp": 1624898282245,
     "user": {
      "displayName": "Joel Brigida",
      "photoUrl": "https://lh3.googleusercontent.com/a-/AOh14Gi5jpwxzxgci18vzsZ0Qc1QNoVi75SXgr4cWkdZpjZGk2Syca1WmIazn5PYyGztQLLf2-247MitLzLRfFhaU5OLW7AFQufXBNJS2QmA5vsE7HjfgeCfA4FuLJrWLsfWpZ1TU7i3xim3cbdvP0ZEZ9Z-59d9S8Ypjl5GoFpVhNtYTfDeLMTetGOVOtRdZDA5ivlkgPHBq0xOxAu2HvvAHceQoDmSLHgyzZe7-DJR7p7GEpF7Oba3KAhpgnpOyPMqIlThj5VbUFJdKfpmZLcPVK4comRa8UpTbXt7zcLynIUrDT7zksV188O02dFGQ6cbd2BuxHNzD5go87gFdYB6qufTu6bzefcnAR-FiAu9iju6BXyjkdb3k3VH_7J0gyspaGh0vejDKMJixoiey86c9neIcmKPQAvTh9dshGeAUCM4j8R-pfqEcxZ-bR1DetzRyIyZlB__NjHYmiJibMIkCj4yN0avYVy6TSMOYvJ2grOOM8LGzV-B5ywK5Kv1Kj-QrY0-TImnKpOak4xoEVU1upEL3gBdWMINne-lh6bOXrkcPqt0uAm_6f_GbOShut2n2W0UrJGh2vO0LvP2_zaYR5O4adJ3jw8LmQjuAddEPshV1_SZ8_9yoCL1rMgEJ2iST73lwqxPjOOiM4Z8P6M_ItEeHAny38L7k7KErUHcEAYfNs-p4i909AJnaPOAl3j01mJ79q6p1_yEjGmm3IRSfGlgqH2hn7bjyBG6TgXtk3nHdOvMzP9SkeGhU8CkvKwdVnjdYg=s64",
      "userId": "17944099373685830598"
     },
     "user_tz": 240
    },
    "id": "SzGBXC3qJBy5",
    "outputId": "ce29127a-5c5d-4ba3-d823-7d1e880b1f23"
   },
   "outputs": [
    {
     "data": {
      "text/plain": [
       "([5, 10, 15, 20, 25, 30, 35, 40, 45, 50, 55, 60, 65, 70, 0],\n",
       " [2, 4, 6, 8, 10],\n",
       " ['Joel', 'FAU', 'BSCE', '38'])"
      ]
     },
     "execution_count": 16,
     "metadata": {},
     "output_type": "execute_result"
    }
   ],
   "source": [
    "# print 3 lists in order separated by a comma\n",
    "\n",
    "aList, evenNo, Me"
   ]
  },
  {
   "cell_type": "code",
   "execution_count": 17,
   "metadata": {
    "id": "vIsk4JZkIBen"
   },
   "outputs": [
    {
     "data": {
      "text/plain": [
       "'\\n# Reverse print a list: \\naList[::-1]\\n\\n# Removing every nth element of the list:\\naList[n-1::n]\\n\\n# Pop off the last n elements:\\naList[:-n]\\n\\n# Shift the first n elements:\\naList[n:]\\n\\n# Get a list of numbers with index divisble by n:\\nlist(range(500))[::n]\\n\\n'"
      ]
     },
     "execution_count": 17,
     "metadata": {},
     "output_type": "execute_result"
    }
   ],
   "source": [
    "# Manipulating lists:\n",
    "\n",
    "'''\n",
    "# Reverse print a list: \n",
    "aList[::-1]\n",
    "\n",
    "# Removing every nth element of the list:\n",
    "aList[n-1::n]\n",
    "\n",
    "# Pop off the last n elements:\n",
    "aList[:-n]\n",
    "\n",
    "# Shift the first n elements:\n",
    "aList[n:]\n",
    "\n",
    "# Get a list of numbers with index divisble by n:\n",
    "list(range(500))[::n]\n",
    "\n",
    "'''"
   ]
  },
  {
   "cell_type": "code",
   "execution_count": 18,
   "metadata": {
    "id": "ecUxsEs79o-W"
   },
   "outputs": [],
   "source": [
    "# declare a list with values\n",
    "\n",
    "ListA = ['DS&ML','FAU','21']"
   ]
  },
  {
   "cell_type": "code",
   "execution_count": 19,
   "metadata": {
    "colab": {
     "base_uri": "https://localhost:8080/"
    },
    "executionInfo": {
     "elapsed": 8,
     "status": "ok",
     "timestamp": 1624898293810,
     "user": {
      "displayName": "Joel Brigida",
      "photoUrl": "https://lh3.googleusercontent.com/a-/AOh14Gi5jpwxzxgci18vzsZ0Qc1QNoVi75SXgr4cWkdZpjZGk2Syca1WmIazn5PYyGztQLLf2-247MitLzLRfFhaU5OLW7AFQufXBNJS2QmA5vsE7HjfgeCfA4FuLJrWLsfWpZ1TU7i3xim3cbdvP0ZEZ9Z-59d9S8Ypjl5GoFpVhNtYTfDeLMTetGOVOtRdZDA5ivlkgPHBq0xOxAu2HvvAHceQoDmSLHgyzZe7-DJR7p7GEpF7Oba3KAhpgnpOyPMqIlThj5VbUFJdKfpmZLcPVK4comRa8UpTbXt7zcLynIUrDT7zksV188O02dFGQ6cbd2BuxHNzD5go87gFdYB6qufTu6bzefcnAR-FiAu9iju6BXyjkdb3k3VH_7J0gyspaGh0vejDKMJixoiey86c9neIcmKPQAvTh9dshGeAUCM4j8R-pfqEcxZ-bR1DetzRyIyZlB__NjHYmiJibMIkCj4yN0avYVy6TSMOYvJ2grOOM8LGzV-B5ywK5Kv1Kj-QrY0-TImnKpOak4xoEVU1upEL3gBdWMINne-lh6bOXrkcPqt0uAm_6f_GbOShut2n2W0UrJGh2vO0LvP2_zaYR5O4adJ3jw8LmQjuAddEPshV1_SZ8_9yoCL1rMgEJ2iST73lwqxPjOOiM4Z8P6M_ItEeHAny38L7k7KErUHcEAYfNs-p4i909AJnaPOAl3j01mJ79q6p1_yEjGmm3IRSfGlgqH2hn7bjyBG6TgXtk3nHdOvMzP9SkeGhU8CkvKwdVnjdYg=s64",
      "userId": "17944099373685830598"
     },
     "user_tz": 240
    },
    "id": "g3S-xgs9pyMy",
    "outputId": "d9fd71b0-ca98-4636-cfe5-8b40521da0f1"
   },
   "outputs": [
    {
     "data": {
      "text/plain": [
       "['DS&ML', 'FAU', '21']"
      ]
     },
     "execution_count": 19,
     "metadata": {},
     "output_type": "execute_result"
    }
   ],
   "source": [
    "# prints out the values contained in the list\n",
    "\n",
    "ListA"
   ]
  },
  {
   "cell_type": "code",
   "execution_count": 20,
   "metadata": {
    "colab": {
     "base_uri": "https://localhost:8080/"
    },
    "executionInfo": {
     "elapsed": 474,
     "status": "ok",
     "timestamp": 1624898295603,
     "user": {
      "displayName": "Joel Brigida",
      "photoUrl": "https://lh3.googleusercontent.com/a-/AOh14Gi5jpwxzxgci18vzsZ0Qc1QNoVi75SXgr4cWkdZpjZGk2Syca1WmIazn5PYyGztQLLf2-247MitLzLRfFhaU5OLW7AFQufXBNJS2QmA5vsE7HjfgeCfA4FuLJrWLsfWpZ1TU7i3xim3cbdvP0ZEZ9Z-59d9S8Ypjl5GoFpVhNtYTfDeLMTetGOVOtRdZDA5ivlkgPHBq0xOxAu2HvvAHceQoDmSLHgyzZe7-DJR7p7GEpF7Oba3KAhpgnpOyPMqIlThj5VbUFJdKfpmZLcPVK4comRa8UpTbXt7zcLynIUrDT7zksV188O02dFGQ6cbd2BuxHNzD5go87gFdYB6qufTu6bzefcnAR-FiAu9iju6BXyjkdb3k3VH_7J0gyspaGh0vejDKMJixoiey86c9neIcmKPQAvTh9dshGeAUCM4j8R-pfqEcxZ-bR1DetzRyIyZlB__NjHYmiJibMIkCj4yN0avYVy6TSMOYvJ2grOOM8LGzV-B5ywK5Kv1Kj-QrY0-TImnKpOak4xoEVU1upEL3gBdWMINne-lh6bOXrkcPqt0uAm_6f_GbOShut2n2W0UrJGh2vO0LvP2_zaYR5O4adJ3jw8LmQjuAddEPshV1_SZ8_9yoCL1rMgEJ2iST73lwqxPjOOiM4Z8P6M_ItEeHAny38L7k7KErUHcEAYfNs-p4i909AJnaPOAl3j01mJ79q6p1_yEjGmm3IRSfGlgqH2hn7bjyBG6TgXtk3nHdOvMzP9SkeGhU8CkvKwdVnjdYg=s64",
      "userId": "17944099373685830598"
     },
     "user_tz": 240
    },
    "id": "9Bc_NhDzKSWc",
    "outputId": "65e1b66a-b677-4977-ad30-18ba378340e5"
   },
   "outputs": [
    {
     "data": {
      "text/plain": [
       "['21', 'FAU', 'DS&ML']"
      ]
     },
     "execution_count": 20,
     "metadata": {},
     "output_type": "execute_result"
    }
   ],
   "source": [
    "# print in reverse order from highest index to lowest\n",
    "\n",
    "ListA[::-1]"
   ]
  },
  {
   "cell_type": "code",
   "execution_count": 21,
   "metadata": {
    "colab": {
     "base_uri": "https://localhost:8080/"
    },
    "executionInfo": {
     "elapsed": 8,
     "status": "ok",
     "timestamp": 1624898297147,
     "user": {
      "displayName": "Joel Brigida",
      "photoUrl": "https://lh3.googleusercontent.com/a-/AOh14Gi5jpwxzxgci18vzsZ0Qc1QNoVi75SXgr4cWkdZpjZGk2Syca1WmIazn5PYyGztQLLf2-247MitLzLRfFhaU5OLW7AFQufXBNJS2QmA5vsE7HjfgeCfA4FuLJrWLsfWpZ1TU7i3xim3cbdvP0ZEZ9Z-59d9S8Ypjl5GoFpVhNtYTfDeLMTetGOVOtRdZDA5ivlkgPHBq0xOxAu2HvvAHceQoDmSLHgyzZe7-DJR7p7GEpF7Oba3KAhpgnpOyPMqIlThj5VbUFJdKfpmZLcPVK4comRa8UpTbXt7zcLynIUrDT7zksV188O02dFGQ6cbd2BuxHNzD5go87gFdYB6qufTu6bzefcnAR-FiAu9iju6BXyjkdb3k3VH_7J0gyspaGh0vejDKMJixoiey86c9neIcmKPQAvTh9dshGeAUCM4j8R-pfqEcxZ-bR1DetzRyIyZlB__NjHYmiJibMIkCj4yN0avYVy6TSMOYvJ2grOOM8LGzV-B5ywK5Kv1Kj-QrY0-TImnKpOak4xoEVU1upEL3gBdWMINne-lh6bOXrkcPqt0uAm_6f_GbOShut2n2W0UrJGh2vO0LvP2_zaYR5O4adJ3jw8LmQjuAddEPshV1_SZ8_9yoCL1rMgEJ2iST73lwqxPjOOiM4Z8P6M_ItEeHAny38L7k7KErUHcEAYfNs-p4i909AJnaPOAl3j01mJ79q6p1_yEjGmm3IRSfGlgqH2hn7bjyBG6TgXtk3nHdOvMzP9SkeGhU8CkvKwdVnjdYg=s64",
      "userId": "17944099373685830598"
     },
     "user_tz": 240
    },
    "id": "Xh1miXFLKhEj",
    "outputId": "b7695242-654b-4bb5-c252-9ece31c58ab2"
   },
   "outputs": [
    {
     "data": {
      "text/plain": [
       "['DS&ML', 'FAU', '21']"
      ]
     },
     "execution_count": 21,
     "metadata": {},
     "output_type": "execute_result"
    }
   ],
   "source": [
    "# Note that the order of the index did not change:\n",
    "\n",
    "ListA"
   ]
  },
  {
   "cell_type": "code",
   "execution_count": 22,
   "metadata": {
    "colab": {
     "base_uri": "https://localhost:8080/"
    },
    "executionInfo": {
     "elapsed": 8,
     "status": "ok",
     "timestamp": 1624898298748,
     "user": {
      "displayName": "Joel Brigida",
      "photoUrl": "https://lh3.googleusercontent.com/a-/AOh14Gi5jpwxzxgci18vzsZ0Qc1QNoVi75SXgr4cWkdZpjZGk2Syca1WmIazn5PYyGztQLLf2-247MitLzLRfFhaU5OLW7AFQufXBNJS2QmA5vsE7HjfgeCfA4FuLJrWLsfWpZ1TU7i3xim3cbdvP0ZEZ9Z-59d9S8Ypjl5GoFpVhNtYTfDeLMTetGOVOtRdZDA5ivlkgPHBq0xOxAu2HvvAHceQoDmSLHgyzZe7-DJR7p7GEpF7Oba3KAhpgnpOyPMqIlThj5VbUFJdKfpmZLcPVK4comRa8UpTbXt7zcLynIUrDT7zksV188O02dFGQ6cbd2BuxHNzD5go87gFdYB6qufTu6bzefcnAR-FiAu9iju6BXyjkdb3k3VH_7J0gyspaGh0vejDKMJixoiey86c9neIcmKPQAvTh9dshGeAUCM4j8R-pfqEcxZ-bR1DetzRyIyZlB__NjHYmiJibMIkCj4yN0avYVy6TSMOYvJ2grOOM8LGzV-B5ywK5Kv1Kj-QrY0-TImnKpOak4xoEVU1upEL3gBdWMINne-lh6bOXrkcPqt0uAm_6f_GbOShut2n2W0UrJGh2vO0LvP2_zaYR5O4adJ3jw8LmQjuAddEPshV1_SZ8_9yoCL1rMgEJ2iST73lwqxPjOOiM4Z8P6M_ItEeHAny38L7k7KErUHcEAYfNs-p4i909AJnaPOAl3j01mJ79q6p1_yEjGmm3IRSfGlgqH2hn7bjyBG6TgXtk3nHdOvMzP9SkeGhU8CkvKwdVnjdYg=s64",
      "userId": "17944099373685830598"
     },
     "user_tz": 240
    },
    "id": "S87l3AooOI9w",
    "outputId": "f6c5738c-f3f6-4a6d-fc20-339aa57add56"
   },
   "outputs": [
    {
     "data": {
      "text/plain": [
       "[5, 10, 15, 20, 25, 30, 35, 40, 45, 50, 55, 60, 65, 70, 0]"
      ]
     },
     "execution_count": 22,
     "metadata": {},
     "output_type": "execute_result"
    }
   ],
   "source": [
    "# Print the list for \n",
    "\n",
    "aList"
   ]
  },
  {
   "cell_type": "code",
   "execution_count": 23,
   "metadata": {
    "colab": {
     "base_uri": "https://localhost:8080/"
    },
    "executionInfo": {
     "elapsed": 11,
     "status": "ok",
     "timestamp": 1624898302316,
     "user": {
      "displayName": "Joel Brigida",
      "photoUrl": "https://lh3.googleusercontent.com/a-/AOh14Gi5jpwxzxgci18vzsZ0Qc1QNoVi75SXgr4cWkdZpjZGk2Syca1WmIazn5PYyGztQLLf2-247MitLzLRfFhaU5OLW7AFQufXBNJS2QmA5vsE7HjfgeCfA4FuLJrWLsfWpZ1TU7i3xim3cbdvP0ZEZ9Z-59d9S8Ypjl5GoFpVhNtYTfDeLMTetGOVOtRdZDA5ivlkgPHBq0xOxAu2HvvAHceQoDmSLHgyzZe7-DJR7p7GEpF7Oba3KAhpgnpOyPMqIlThj5VbUFJdKfpmZLcPVK4comRa8UpTbXt7zcLynIUrDT7zksV188O02dFGQ6cbd2BuxHNzD5go87gFdYB6qufTu6bzefcnAR-FiAu9iju6BXyjkdb3k3VH_7J0gyspaGh0vejDKMJixoiey86c9neIcmKPQAvTh9dshGeAUCM4j8R-pfqEcxZ-bR1DetzRyIyZlB__NjHYmiJibMIkCj4yN0avYVy6TSMOYvJ2grOOM8LGzV-B5ywK5Kv1Kj-QrY0-TImnKpOak4xoEVU1upEL3gBdWMINne-lh6bOXrkcPqt0uAm_6f_GbOShut2n2W0UrJGh2vO0LvP2_zaYR5O4adJ3jw8LmQjuAddEPshV1_SZ8_9yoCL1rMgEJ2iST73lwqxPjOOiM4Z8P6M_ItEeHAny38L7k7KErUHcEAYfNs-p4i909AJnaPOAl3j01mJ79q6p1_yEjGmm3IRSfGlgqH2hn7bjyBG6TgXtk3nHdOvMzP9SkeGhU8CkvKwdVnjdYg=s64",
      "userId": "17944099373685830598"
     },
     "user_tz": 240
    },
    "id": "gVcE3yoHOX7J",
    "outputId": "8ec77b66-b7b8-4c87-83c1-84a6c4d29865"
   },
   "outputs": [
    {
     "data": {
      "text/plain": [
       "[0, 60, 45, 30, 15]"
      ]
     },
     "execution_count": 23,
     "metadata": {},
     "output_type": "execute_result"
    }
   ],
   "source": [
    "# start at last index and print every third in reverse order\n",
    "\n",
    "aList[::-3]"
   ]
  },
  {
   "cell_type": "code",
   "execution_count": 24,
   "metadata": {
    "colab": {
     "base_uri": "https://localhost:8080/"
    },
    "executionInfo": {
     "elapsed": 295,
     "status": "ok",
     "timestamp": 1624898586648,
     "user": {
      "displayName": "Joel Brigida",
      "photoUrl": "https://lh3.googleusercontent.com/a-/AOh14Gi5jpwxzxgci18vzsZ0Qc1QNoVi75SXgr4cWkdZpjZGk2Syca1WmIazn5PYyGztQLLf2-247MitLzLRfFhaU5OLW7AFQufXBNJS2QmA5vsE7HjfgeCfA4FuLJrWLsfWpZ1TU7i3xim3cbdvP0ZEZ9Z-59d9S8Ypjl5GoFpVhNtYTfDeLMTetGOVOtRdZDA5ivlkgPHBq0xOxAu2HvvAHceQoDmSLHgyzZe7-DJR7p7GEpF7Oba3KAhpgnpOyPMqIlThj5VbUFJdKfpmZLcPVK4comRa8UpTbXt7zcLynIUrDT7zksV188O02dFGQ6cbd2BuxHNzD5go87gFdYB6qufTu6bzefcnAR-FiAu9iju6BXyjkdb3k3VH_7J0gyspaGh0vejDKMJixoiey86c9neIcmKPQAvTh9dshGeAUCM4j8R-pfqEcxZ-bR1DetzRyIyZlB__NjHYmiJibMIkCj4yN0avYVy6TSMOYvJ2grOOM8LGzV-B5ywK5Kv1Kj-QrY0-TImnKpOak4xoEVU1upEL3gBdWMINne-lh6bOXrkcPqt0uAm_6f_GbOShut2n2W0UrJGh2vO0LvP2_zaYR5O4adJ3jw8LmQjuAddEPshV1_SZ8_9yoCL1rMgEJ2iST73lwqxPjOOiM4Z8P6M_ItEeHAny38L7k7KErUHcEAYfNs-p4i909AJnaPOAl3j01mJ79q6p1_yEjGmm3IRSfGlgqH2hn7bjyBG6TgXtk3nHdOvMzP9SkeGhU8CkvKwdVnjdYg=s64",
      "userId": "17944099373685830598"
     },
     "user_tz": 240
    },
    "id": "jY-mgEyxf_9f",
    "outputId": "99cf565d-e56b-44ae-8290-8943a3febe18"
   },
   "outputs": [
    {
     "data": {
      "text/plain": [
       "[5, 10, 15, 20, 25, 30, 35, 40, 45, 50, 55, 60]"
      ]
     },
     "execution_count": 24,
     "metadata": {},
     "output_type": "execute_result"
    }
   ],
   "source": [
    "# notice the difference: ommitting one colon prints all but the last 3 indices\n",
    "\n",
    "aList [:-3]"
   ]
  },
  {
   "cell_type": "code",
   "execution_count": 25,
   "metadata": {
    "colab": {
     "base_uri": "https://localhost:8080/"
    },
    "executionInfo": {
     "elapsed": 281,
     "status": "ok",
     "timestamp": 1624898349503,
     "user": {
      "displayName": "Joel Brigida",
      "photoUrl": "https://lh3.googleusercontent.com/a-/AOh14Gi5jpwxzxgci18vzsZ0Qc1QNoVi75SXgr4cWkdZpjZGk2Syca1WmIazn5PYyGztQLLf2-247MitLzLRfFhaU5OLW7AFQufXBNJS2QmA5vsE7HjfgeCfA4FuLJrWLsfWpZ1TU7i3xim3cbdvP0ZEZ9Z-59d9S8Ypjl5GoFpVhNtYTfDeLMTetGOVOtRdZDA5ivlkgPHBq0xOxAu2HvvAHceQoDmSLHgyzZe7-DJR7p7GEpF7Oba3KAhpgnpOyPMqIlThj5VbUFJdKfpmZLcPVK4comRa8UpTbXt7zcLynIUrDT7zksV188O02dFGQ6cbd2BuxHNzD5go87gFdYB6qufTu6bzefcnAR-FiAu9iju6BXyjkdb3k3VH_7J0gyspaGh0vejDKMJixoiey86c9neIcmKPQAvTh9dshGeAUCM4j8R-pfqEcxZ-bR1DetzRyIyZlB__NjHYmiJibMIkCj4yN0avYVy6TSMOYvJ2grOOM8LGzV-B5ywK5Kv1Kj-QrY0-TImnKpOak4xoEVU1upEL3gBdWMINne-lh6bOXrkcPqt0uAm_6f_GbOShut2n2W0UrJGh2vO0LvP2_zaYR5O4adJ3jw8LmQjuAddEPshV1_SZ8_9yoCL1rMgEJ2iST73lwqxPjOOiM4Z8P6M_ItEeHAny38L7k7KErUHcEAYfNs-p4i909AJnaPOAl3j01mJ79q6p1_yEjGmm3IRSfGlgqH2hn7bjyBG6TgXtk3nHdOvMzP9SkeGhU8CkvKwdVnjdYg=s64",
      "userId": "17944099373685830598"
     },
     "user_tz": 240
    },
    "id": "qfJ8TfGJOl9m",
    "outputId": "9dcc792d-0f57-42be-ee98-cebbe2d30b29"
   },
   "outputs": [
    {
     "data": {
      "text/plain": [
       "[15, 30, 45, 60, 0]"
      ]
     },
     "execution_count": 25,
     "metadata": {},
     "output_type": "execute_result"
    }
   ],
   "source": [
    "# print starting with index [2] only every 3rd element\n",
    "\n",
    "aList [2::3]"
   ]
  },
  {
   "cell_type": "code",
   "execution_count": 26,
   "metadata": {
    "id": "6YIB6cyS_C8E"
   },
   "outputs": [],
   "source": [
    "# Define \"a\" as a string value\n",
    "a = \"21\"\n",
    "\n",
    "# define \"b\" as an integer value\n",
    "b = 21 \n",
    "\n",
    "# define \"c\" as a string value\n",
    "c = '21'"
   ]
  },
  {
   "cell_type": "code",
   "execution_count": 27,
   "metadata": {
    "colab": {
     "base_uri": "https://localhost:8080/"
    },
    "executionInfo": {
     "elapsed": 279,
     "status": "ok",
     "timestamp": 1624893010043,
     "user": {
      "displayName": "Joel Brigida",
      "photoUrl": "https://lh3.googleusercontent.com/a-/AOh14Gi5jpwxzxgci18vzsZ0Qc1QNoVi75SXgr4cWkdZpjZGk2Syca1WmIazn5PYyGztQLLf2-247MitLzLRfFhaU5OLW7AFQufXBNJS2QmA5vsE7HjfgeCfA4FuLJrWLsfWpZ1TU7i3xim3cbdvP0ZEZ9Z-59d9S8Ypjl5GoFpVhNtYTfDeLMTetGOVOtRdZDA5ivlkgPHBq0xOxAu2HvvAHceQoDmSLHgyzZe7-DJR7p7GEpF7Oba3KAhpgnpOyPMqIlThj5VbUFJdKfpmZLcPVK4comRa8UpTbXt7zcLynIUrDT7zksV188O02dFGQ6cbd2BuxHNzD5go87gFdYB6qufTu6bzefcnAR-FiAu9iju6BXyjkdb3k3VH_7J0gyspaGh0vejDKMJixoiey86c9neIcmKPQAvTh9dshGeAUCM4j8R-pfqEcxZ-bR1DetzRyIyZlB__NjHYmiJibMIkCj4yN0avYVy6TSMOYvJ2grOOM8LGzV-B5ywK5Kv1Kj-QrY0-TImnKpOak4xoEVU1upEL3gBdWMINne-lh6bOXrkcPqt0uAm_6f_GbOShut2n2W0UrJGh2vO0LvP2_zaYR5O4adJ3jw8LmQjuAddEPshV1_SZ8_9yoCL1rMgEJ2iST73lwqxPjOOiM4Z8P6M_ItEeHAny38L7k7KErUHcEAYfNs-p4i909AJnaPOAl3j01mJ79q6p1_yEjGmm3IRSfGlgqH2hn7bjyBG6TgXtk3nHdOvMzP9SkeGhU8CkvKwdVnjdYg=s64",
      "userId": "17944099373685830598"
     },
     "user_tz": 240
    },
    "id": "n0wmyPqh_LnR",
    "outputId": "e79e747e-27c5-44cc-a922-61a24167d546"
   },
   "outputs": [
    {
     "data": {
      "text/plain": [
       "(str, int, str)"
      ]
     },
     "execution_count": 27,
     "metadata": {},
     "output_type": "execute_result"
    }
   ],
   "source": [
    "# verify and print variable types\n",
    "\n",
    "type(a), type(b), type(c)"
   ]
  },
  {
   "cell_type": "code",
   "execution_count": 28,
   "metadata": {
    "id": "GWgco15z9z-s"
   },
   "outputs": [
    {
     "data": {
      "text/plain": [
       "['DS&ML', 'FAU', '21', 'Hanqi Zhuang']"
      ]
     },
     "execution_count": 28,
     "metadata": {},
     "output_type": "execute_result"
    }
   ],
   "source": [
    "# dot operator calls the 'append' method and adds the value to the end of the list.\n",
    "ListA.append('Hanqi Zhuang')\n",
    "\n",
    "# print out new list values\n",
    "ListA"
   ]
  },
  {
   "cell_type": "code",
   "execution_count": 112,
   "metadata": {
    "id": "yJnkdcZa994D"
   },
   "outputs": [
    {
     "data": {
      "text/plain": [
       "['DS&ML', 'FAU', '21', 'DS&ML']"
      ]
     },
     "execution_count": 112,
     "metadata": {},
     "output_type": "execute_result"
    }
   ],
   "source": [
    "# make the last value of the list equal to the 1st value of the list\n",
    "ListA[-1] = ListA[0]\n",
    "\n",
    "# print the list again and see new results:\n",
    "ListA"
   ]
  },
  {
   "cell_type": "code",
   "execution_count": 31,
   "metadata": {
    "id": "XKGVYCIbrCYP"
   },
   "outputs": [],
   "source": [
    "# change index #3 of the list to specified value\n",
    "ListA [3] = 'Hanqi Zhang'\n",
    "\n",
    "# print list again:\n",
    "ListA"
   ]
  },
  {
   "cell_type": "code",
   "execution_count": 33,
   "metadata": {
    "id": "10YPI71LrOz0"
   },
   "outputs": [],
   "source": [
    "# index number 3 becomes same value as index #0\n",
    "\n",
    "ListA [3] = ListA [0]"
   ]
  },
  {
   "cell_type": "code",
   "execution_count": 34,
   "metadata": {
    "colab": {
     "base_uri": "https://localhost:8080/"
    },
    "executionInfo": {
     "elapsed": 40,
     "status": "ok",
     "timestamp": 1624890047969,
     "user": {
      "displayName": "Joel Brigida",
      "photoUrl": "https://lh3.googleusercontent.com/a-/AOh14Gi5jpwxzxgci18vzsZ0Qc1QNoVi75SXgr4cWkdZpjZGk2Syca1WmIazn5PYyGztQLLf2-247MitLzLRfFhaU5OLW7AFQufXBNJS2QmA5vsE7HjfgeCfA4FuLJrWLsfWpZ1TU7i3xim3cbdvP0ZEZ9Z-59d9S8Ypjl5GoFpVhNtYTfDeLMTetGOVOtRdZDA5ivlkgPHBq0xOxAu2HvvAHceQoDmSLHgyzZe7-DJR7p7GEpF7Oba3KAhpgnpOyPMqIlThj5VbUFJdKfpmZLcPVK4comRa8UpTbXt7zcLynIUrDT7zksV188O02dFGQ6cbd2BuxHNzD5go87gFdYB6qufTu6bzefcnAR-FiAu9iju6BXyjkdb3k3VH_7J0gyspaGh0vejDKMJixoiey86c9neIcmKPQAvTh9dshGeAUCM4j8R-pfqEcxZ-bR1DetzRyIyZlB__NjHYmiJibMIkCj4yN0avYVy6TSMOYvJ2grOOM8LGzV-B5ywK5Kv1Kj-QrY0-TImnKpOak4xoEVU1upEL3gBdWMINne-lh6bOXrkcPqt0uAm_6f_GbOShut2n2W0UrJGh2vO0LvP2_zaYR5O4adJ3jw8LmQjuAddEPshV1_SZ8_9yoCL1rMgEJ2iST73lwqxPjOOiM4Z8P6M_ItEeHAny38L7k7KErUHcEAYfNs-p4i909AJnaPOAl3j01mJ79q6p1_yEjGmm3IRSfGlgqH2hn7bjyBG6TgXtk3nHdOvMzP9SkeGhU8CkvKwdVnjdYg=s64",
      "userId": "17944099373685830598"
     },
     "user_tz": 240
    },
    "id": "Hc7Bj9nVrVAl",
    "outputId": "d336f9bf-1c50-4453-e170-48549f42ca82"
   },
   "outputs": [
    {
     "data": {
      "text/plain": [
       "['DS&ML', 'FAU', '21', 'DS&ML']"
      ]
     },
     "execution_count": 34,
     "metadata": {},
     "output_type": "execute_result"
    }
   ],
   "source": [
    "# print list again:\n",
    "\n",
    "ListA"
   ]
  },
  {
   "cell_type": "code",
   "execution_count": 35,
   "metadata": {
    "id": "J_oF-JQ7-mHS"
   },
   "outputs": [],
   "source": [
    "# constructs an empty list named \"L\"\n",
    "\n",
    "L = []"
   ]
  },
  {
   "cell_type": "code",
   "execution_count": 36,
   "metadata": {
    "id": "ySTfI_3gg-qA"
   },
   "outputs": [],
   "source": [
    "# redefine list L as a list with these values:\n",
    "\n",
    "L = [23, 45, 56, 15, 78, 34, 90, 34]"
   ]
  },
  {
   "cell_type": "code",
   "execution_count": 37,
   "metadata": {
    "id": "vjdJO-uevzh2"
   },
   "outputs": [],
   "source": [
    "# can repeatedly add values here and they will concatenate to the end of the list when called\n",
    "\n",
    "L.append(656)"
   ]
  },
  {
   "cell_type": "code",
   "execution_count": 38,
   "metadata": {
    "colab": {
     "base_uri": "https://localhost:8080/"
    },
    "executionInfo": {
     "elapsed": 10,
     "status": "ok",
     "timestamp": 1624898852931,
     "user": {
      "displayName": "Joel Brigida",
      "photoUrl": "https://lh3.googleusercontent.com/a-/AOh14Gi5jpwxzxgci18vzsZ0Qc1QNoVi75SXgr4cWkdZpjZGk2Syca1WmIazn5PYyGztQLLf2-247MitLzLRfFhaU5OLW7AFQufXBNJS2QmA5vsE7HjfgeCfA4FuLJrWLsfWpZ1TU7i3xim3cbdvP0ZEZ9Z-59d9S8Ypjl5GoFpVhNtYTfDeLMTetGOVOtRdZDA5ivlkgPHBq0xOxAu2HvvAHceQoDmSLHgyzZe7-DJR7p7GEpF7Oba3KAhpgnpOyPMqIlThj5VbUFJdKfpmZLcPVK4comRa8UpTbXt7zcLynIUrDT7zksV188O02dFGQ6cbd2BuxHNzD5go87gFdYB6qufTu6bzefcnAR-FiAu9iju6BXyjkdb3k3VH_7J0gyspaGh0vejDKMJixoiey86c9neIcmKPQAvTh9dshGeAUCM4j8R-pfqEcxZ-bR1DetzRyIyZlB__NjHYmiJibMIkCj4yN0avYVy6TSMOYvJ2grOOM8LGzV-B5ywK5Kv1Kj-QrY0-TImnKpOak4xoEVU1upEL3gBdWMINne-lh6bOXrkcPqt0uAm_6f_GbOShut2n2W0UrJGh2vO0LvP2_zaYR5O4adJ3jw8LmQjuAddEPshV1_SZ8_9yoCL1rMgEJ2iST73lwqxPjOOiM4Z8P6M_ItEeHAny38L7k7KErUHcEAYfNs-p4i909AJnaPOAl3j01mJ79q6p1_yEjGmm3IRSfGlgqH2hn7bjyBG6TgXtk3nHdOvMzP9SkeGhU8CkvKwdVnjdYg=s64",
      "userId": "17944099373685830598"
     },
     "user_tz": 240
    },
    "id": "xTfwgYZev20p",
    "outputId": "67288809-702b-4774-9068-55b4a005328d"
   },
   "outputs": [
    {
     "data": {
      "text/plain": [
       "[23, 45, 56, 15, 78, 34, 90, 34, 656]"
      ]
     },
     "execution_count": 38,
     "metadata": {},
     "output_type": "execute_result"
    }
   ],
   "source": [
    "# displays the values in list \"L\"\n",
    "\n",
    "L"
   ]
  },
  {
   "cell_type": "code",
   "execution_count": 39,
   "metadata": {
    "colab": {
     "base_uri": "https://localhost:8080/"
    },
    "executionInfo": {
     "elapsed": 9,
     "status": "ok",
     "timestamp": 1624898857758,
     "user": {
      "displayName": "Joel Brigida",
      "photoUrl": "https://lh3.googleusercontent.com/a-/AOh14Gi5jpwxzxgci18vzsZ0Qc1QNoVi75SXgr4cWkdZpjZGk2Syca1WmIazn5PYyGztQLLf2-247MitLzLRfFhaU5OLW7AFQufXBNJS2QmA5vsE7HjfgeCfA4FuLJrWLsfWpZ1TU7i3xim3cbdvP0ZEZ9Z-59d9S8Ypjl5GoFpVhNtYTfDeLMTetGOVOtRdZDA5ivlkgPHBq0xOxAu2HvvAHceQoDmSLHgyzZe7-DJR7p7GEpF7Oba3KAhpgnpOyPMqIlThj5VbUFJdKfpmZLcPVK4comRa8UpTbXt7zcLynIUrDT7zksV188O02dFGQ6cbd2BuxHNzD5go87gFdYB6qufTu6bzefcnAR-FiAu9iju6BXyjkdb3k3VH_7J0gyspaGh0vejDKMJixoiey86c9neIcmKPQAvTh9dshGeAUCM4j8R-pfqEcxZ-bR1DetzRyIyZlB__NjHYmiJibMIkCj4yN0avYVy6TSMOYvJ2grOOM8LGzV-B5ywK5Kv1Kj-QrY0-TImnKpOak4xoEVU1upEL3gBdWMINne-lh6bOXrkcPqt0uAm_6f_GbOShut2n2W0UrJGh2vO0LvP2_zaYR5O4adJ3jw8LmQjuAddEPshV1_SZ8_9yoCL1rMgEJ2iST73lwqxPjOOiM4Z8P6M_ItEeHAny38L7k7KErUHcEAYfNs-p4i909AJnaPOAl3j01mJ79q6p1_yEjGmm3IRSfGlgqH2hn7bjyBG6TgXtk3nHdOvMzP9SkeGhU8CkvKwdVnjdYg=s64",
      "userId": "17944099373685830598"
     },
     "user_tz": 240
    },
    "id": "W8b5tTd3_n-S",
    "outputId": "f4248d49-7fb1-4048-dfa1-8897a7e67646"
   },
   "outputs": [
    {
     "data": {
      "text/plain": [
       "9"
      ]
     },
     "execution_count": 39,
     "metadata": {},
     "output_type": "execute_result"
    }
   ],
   "source": [
    "# \"len\" function: takes object as input: query how many items in the list \"L\"\n",
    "\n",
    "len(L)"
   ]
  },
  {
   "cell_type": "code",
   "execution_count": 40,
   "metadata": {
    "colab": {
     "base_uri": "https://localhost:8080/"
    },
    "executionInfo": {
     "elapsed": 266,
     "status": "ok",
     "timestamp": 1624898860153,
     "user": {
      "displayName": "Joel Brigida",
      "photoUrl": "https://lh3.googleusercontent.com/a-/AOh14Gi5jpwxzxgci18vzsZ0Qc1QNoVi75SXgr4cWkdZpjZGk2Syca1WmIazn5PYyGztQLLf2-247MitLzLRfFhaU5OLW7AFQufXBNJS2QmA5vsE7HjfgeCfA4FuLJrWLsfWpZ1TU7i3xim3cbdvP0ZEZ9Z-59d9S8Ypjl5GoFpVhNtYTfDeLMTetGOVOtRdZDA5ivlkgPHBq0xOxAu2HvvAHceQoDmSLHgyzZe7-DJR7p7GEpF7Oba3KAhpgnpOyPMqIlThj5VbUFJdKfpmZLcPVK4comRa8UpTbXt7zcLynIUrDT7zksV188O02dFGQ6cbd2BuxHNzD5go87gFdYB6qufTu6bzefcnAR-FiAu9iju6BXyjkdb3k3VH_7J0gyspaGh0vejDKMJixoiey86c9neIcmKPQAvTh9dshGeAUCM4j8R-pfqEcxZ-bR1DetzRyIyZlB__NjHYmiJibMIkCj4yN0avYVy6TSMOYvJ2grOOM8LGzV-B5ywK5Kv1Kj-QrY0-TImnKpOak4xoEVU1upEL3gBdWMINne-lh6bOXrkcPqt0uAm_6f_GbOShut2n2W0UrJGh2vO0LvP2_zaYR5O4adJ3jw8LmQjuAddEPshV1_SZ8_9yoCL1rMgEJ2iST73lwqxPjOOiM4Z8P6M_ItEeHAny38L7k7KErUHcEAYfNs-p4i909AJnaPOAl3j01mJ79q6p1_yEjGmm3IRSfGlgqH2hn7bjyBG6TgXtk3nHdOvMzP9SkeGhU8CkvKwdVnjdYg=s64",
      "userId": "17944099373685830598"
     },
     "user_tz": 240
    },
    "id": "U6LX5F2r_4zu",
    "outputId": "c812147c-72c7-48c7-896d-f1e17cd6e1f1"
   },
   "outputs": [
    {
     "data": {
      "text/plain": [
       "56"
      ]
     },
     "execution_count": 40,
     "metadata": {},
     "output_type": "execute_result"
    }
   ],
   "source": [
    "# displays the value located in index # 2 (indexes start at 0)\n",
    "\n",
    "L[2]"
   ]
  },
  {
   "cell_type": "code",
   "execution_count": 41,
   "metadata": {
    "colab": {
     "base_uri": "https://localhost:8080/"
    },
    "executionInfo": {
     "elapsed": 282,
     "status": "ok",
     "timestamp": 1624898865265,
     "user": {
      "displayName": "Joel Brigida",
      "photoUrl": "https://lh3.googleusercontent.com/a-/AOh14Gi5jpwxzxgci18vzsZ0Qc1QNoVi75SXgr4cWkdZpjZGk2Syca1WmIazn5PYyGztQLLf2-247MitLzLRfFhaU5OLW7AFQufXBNJS2QmA5vsE7HjfgeCfA4FuLJrWLsfWpZ1TU7i3xim3cbdvP0ZEZ9Z-59d9S8Ypjl5GoFpVhNtYTfDeLMTetGOVOtRdZDA5ivlkgPHBq0xOxAu2HvvAHceQoDmSLHgyzZe7-DJR7p7GEpF7Oba3KAhpgnpOyPMqIlThj5VbUFJdKfpmZLcPVK4comRa8UpTbXt7zcLynIUrDT7zksV188O02dFGQ6cbd2BuxHNzD5go87gFdYB6qufTu6bzefcnAR-FiAu9iju6BXyjkdb3k3VH_7J0gyspaGh0vejDKMJixoiey86c9neIcmKPQAvTh9dshGeAUCM4j8R-pfqEcxZ-bR1DetzRyIyZlB__NjHYmiJibMIkCj4yN0avYVy6TSMOYvJ2grOOM8LGzV-B5ywK5Kv1Kj-QrY0-TImnKpOak4xoEVU1upEL3gBdWMINne-lh6bOXrkcPqt0uAm_6f_GbOShut2n2W0UrJGh2vO0LvP2_zaYR5O4adJ3jw8LmQjuAddEPshV1_SZ8_9yoCL1rMgEJ2iST73lwqxPjOOiM4Z8P6M_ItEeHAny38L7k7KErUHcEAYfNs-p4i909AJnaPOAl3j01mJ79q6p1_yEjGmm3IRSfGlgqH2hn7bjyBG6TgXtk3nHdOvMzP9SkeGhU8CkvKwdVnjdYg=s64",
      "userId": "17944099373685830598"
     },
     "user_tz": 240
    },
    "id": "eMA-0zK6_vBv",
    "outputId": "635fe90f-587e-4137-c67b-3538e21cda24"
   },
   "outputs": [
    {
     "data": {
      "text/plain": [
       "656"
      ]
     },
     "execution_count": 41,
     "metadata": {},
     "output_type": "execute_result"
    }
   ],
   "source": [
    "# displays the last index\n",
    "\n",
    "L[-1]"
   ]
  },
  {
   "cell_type": "code",
   "execution_count": 42,
   "metadata": {
    "colab": {
     "base_uri": "https://localhost:8080/"
    },
    "executionInfo": {
     "elapsed": 353,
     "status": "ok",
     "timestamp": 1624898866816,
     "user": {
      "displayName": "Joel Brigida",
      "photoUrl": "https://lh3.googleusercontent.com/a-/AOh14Gi5jpwxzxgci18vzsZ0Qc1QNoVi75SXgr4cWkdZpjZGk2Syca1WmIazn5PYyGztQLLf2-247MitLzLRfFhaU5OLW7AFQufXBNJS2QmA5vsE7HjfgeCfA4FuLJrWLsfWpZ1TU7i3xim3cbdvP0ZEZ9Z-59d9S8Ypjl5GoFpVhNtYTfDeLMTetGOVOtRdZDA5ivlkgPHBq0xOxAu2HvvAHceQoDmSLHgyzZe7-DJR7p7GEpF7Oba3KAhpgnpOyPMqIlThj5VbUFJdKfpmZLcPVK4comRa8UpTbXt7zcLynIUrDT7zksV188O02dFGQ6cbd2BuxHNzD5go87gFdYB6qufTu6bzefcnAR-FiAu9iju6BXyjkdb3k3VH_7J0gyspaGh0vejDKMJixoiey86c9neIcmKPQAvTh9dshGeAUCM4j8R-pfqEcxZ-bR1DetzRyIyZlB__NjHYmiJibMIkCj4yN0avYVy6TSMOYvJ2grOOM8LGzV-B5ywK5Kv1Kj-QrY0-TImnKpOak4xoEVU1upEL3gBdWMINne-lh6bOXrkcPqt0uAm_6f_GbOShut2n2W0UrJGh2vO0LvP2_zaYR5O4adJ3jw8LmQjuAddEPshV1_SZ8_9yoCL1rMgEJ2iST73lwqxPjOOiM4Z8P6M_ItEeHAny38L7k7KErUHcEAYfNs-p4i909AJnaPOAl3j01mJ79q6p1_yEjGmm3IRSfGlgqH2hn7bjyBG6TgXtk3nHdOvMzP9SkeGhU8CkvKwdVnjdYg=s64",
      "userId": "17944099373685830598"
     },
     "user_tz": 240
    },
    "id": "PR5nLQEb2cpN",
    "outputId": "1138dbdd-d086-41ac-edf8-2a8ad73740dd"
   },
   "outputs": [
    {
     "data": {
      "text/plain": [
       "34"
      ]
     },
     "execution_count": 42,
     "metadata": {},
     "output_type": "execute_result"
    }
   ],
   "source": [
    "# displays the 2nd to last index....\"minus\" sign denotes to start at the end and work backward.\n",
    "\n",
    "L[-2]"
   ]
  },
  {
   "cell_type": "code",
   "execution_count": 43,
   "metadata": {
    "id": "il4cz274zEfb"
   },
   "outputs": [
    {
     "data": {
      "text/plain": [
       "[56, 15, 78, 34]"
      ]
     },
     "execution_count": 43,
     "metadata": {},
     "output_type": "execute_result"
    }
   ],
   "source": [
    "# Print values starting at index [2] up to but NOT including [6] [start index, end index]\n",
    "\n",
    "L[2:6]"
   ]
  },
  {
   "cell_type": "code",
   "execution_count": 44,
   "metadata": {
    "id": "v1Ef-xBb0a39"
   },
   "outputs": [
    {
     "data": {
      "text/plain": [
       "[56, 15, 78, 34, 90, 34, 656]"
      ]
     },
     "execution_count": 44,
     "metadata": {},
     "output_type": "execute_result"
    }
   ],
   "source": [
    "# print all values starting from index [2]\n",
    "\n",
    "L[2:]"
   ]
  },
  {
   "cell_type": "code",
   "execution_count": 45,
   "metadata": {
    "id": "bkVJ2i351ToP"
   },
   "outputs": [
    {
     "data": {
      "text/plain": [
       "[23, 56, 78, 90, 656]"
      ]
     },
     "execution_count": 45,
     "metadata": {},
     "output_type": "execute_result"
    }
   ],
   "source": [
    "# print all EVEN indices starting at [0]\n",
    "\n",
    "L[0::2]"
   ]
  },
  {
   "cell_type": "code",
   "execution_count": 46,
   "metadata": {
    "id": "CFQ7LzBO1xdB"
   },
   "outputs": [
    {
     "data": {
      "text/plain": [
       "[56, 78, 90, 656]"
      ]
     },
     "execution_count": 46,
     "metadata": {},
     "output_type": "execute_result"
    }
   ],
   "source": [
    "# print all even indices from [2] to [9]\n",
    "\n",
    "L[2:9:2]"
   ]
  },
  {
   "cell_type": "code",
   "execution_count": 47,
   "metadata": {
    "id": "wAuO_9_C2HMb"
   },
   "outputs": [
    {
     "data": {
      "text/plain": [
       "[23, 15, 90]"
      ]
     },
     "execution_count": 47,
     "metadata": {},
     "output_type": "execute_result"
    }
   ],
   "source": [
    "# print every 3rd index starting at [0]\n",
    "\n",
    "L[0::3]"
   ]
  },
  {
   "attachments": {},
   "cell_type": "markdown",
   "metadata": {},
   "source": [
    "## Dictionaries\n",
    "---"
   ]
  },
  {
   "cell_type": "code",
   "execution_count": null,
   "metadata": {},
   "outputs": [],
   "source": [
    "# Dictionaries: much better way to store information\n",
    "# Map values of keys to a value\n",
    "\n",
    "'''\n",
    "Dictionary structure \n",
    "\n",
    "dict ={'key1':value1,\n",
    "       'key2':value2,\n",
    "       ....}\n",
    "\n",
    "dictionaries can be expanded by adding a new pair (key,value)\n",
    "\n",
    "dict.keys()\n",
    "dict.values()\n",
    "'''"
   ]
  },
  {
   "cell_type": "code",
   "execution_count": 48,
   "metadata": {
    "id": "q9LvqZlVBF9A"
   },
   "outputs": [],
   "source": [
    "# define a dictionary data type made of string data\n",
    "\n",
    "club = {'Name':'Data Science and Machine Learning', 'Campus':'FAU Boca', 'Year est': '2021'}"
   ]
  },
  {
   "cell_type": "code",
   "execution_count": 49,
   "metadata": {
    "id": "v9rulvi437K7"
   },
   "outputs": [
    {
     "data": {
      "text/plain": [
       "dict"
      ]
     },
     "execution_count": 49,
     "metadata": {},
     "output_type": "execute_result"
    }
   ],
   "source": [
    "# Verify and print the variable type:\n",
    "\n",
    "type(club)"
   ]
  },
  {
   "cell_type": "code",
   "execution_count": 50,
   "metadata": {
    "id": "PsQ8IBdx4uQy"
   },
   "outputs": [
    {
     "data": {
      "text/plain": [
       "{'Name': 'Data Science and Machine Learning',\n",
       " 'Campus': 'FAU Boca',\n",
       " 'Year est': '2021'}"
      ]
     },
     "execution_count": 50,
     "metadata": {},
     "output_type": "execute_result"
    }
   ],
   "source": [
    "# display contents of dictionary\n",
    "\n",
    "club"
   ]
  },
  {
   "cell_type": "code",
   "execution_count": 51,
   "metadata": {
    "id": "x41b6Tpl5Ecv"
   },
   "outputs": [
    {
     "data": {
      "text/plain": [
       "dict_items([('Name', 'Data Science and Machine Learning'), ('Campus', 'FAU Boca'), ('Year est', '2021')])"
      ]
     },
     "execution_count": 51,
     "metadata": {},
     "output_type": "execute_result"
    }
   ],
   "source": [
    "# display all items in the dictionary\n",
    "\n",
    "club.items()"
   ]
  },
  {
   "cell_type": "code",
   "execution_count": 52,
   "metadata": {
    "id": "0caBNx0KCHRM"
   },
   "outputs": [
    {
     "data": {
      "text/plain": [
       "dict_keys(['Name', 'Campus', 'Year est'])"
      ]
     },
     "execution_count": 52,
     "metadata": {},
     "output_type": "execute_result"
    }
   ],
   "source": [
    "# display only the keys in the dictionary\n",
    "\n",
    "club.keys()"
   ]
  },
  {
   "cell_type": "code",
   "execution_count": 53,
   "metadata": {
    "id": "t3EG119ACVG2"
   },
   "outputs": [],
   "source": [
    "# declare a new list using only the value of index [0] from dict 'club'\n",
    "v0 = list(club.values())[0]\n",
    "\n",
    "# display the new list\n",
    "v0"
   ]
  },
  {
   "cell_type": "code",
   "execution_count": 114,
   "metadata": {
    "id": "om0ZpJ1pCvPi"
   },
   "outputs": [
    {
     "data": {
      "text/plain": [
       "'Data Science & Machine Learning'"
      ]
     },
     "execution_count": 114,
     "metadata": {},
     "output_type": "execute_result"
    }
   ],
   "source": [
    "list(club.values())[0]"
   ]
  },
  {
   "cell_type": "code",
   "execution_count": 115,
   "metadata": {
    "id": "bJPbGa8DDFdZ"
   },
   "outputs": [],
   "source": [
    "# append the 'club' dict with a new key and new value\n",
    "\n",
    "club['Activity'] = 'Summer Workshop'"
   ]
  },
  {
   "cell_type": "code",
   "execution_count": 116,
   "metadata": {
    "id": "W59HbShUDumi"
   },
   "outputs": [
    {
     "data": {
      "text/plain": [
       "{'Name': 'Data Science & Machine Learning',\n",
       " 'Campus': 'FAU Boca',\n",
       " 'Year Est': '2021',\n",
       " 'Activity': 'Summer Workshop'}"
      ]
     },
     "execution_count": 116,
     "metadata": {},
     "output_type": "execute_result"
    }
   ],
   "source": [
    "# Display the updated dictionary\n",
    "\n",
    "club"
   ]
  },
  {
   "cell_type": "code",
   "execution_count": 1,
   "metadata": {
    "id": "1KwZQg5OrE3w"
   },
   "outputs": [],
   "source": [
    "# declare a new dict, then add a new key and value\n",
    "\n",
    "tel = {'emmanuelle': 5752, 'sebastian': 5578}\n",
    "\n",
    "tel['francis'] = 5915"
   ]
  },
  {
   "cell_type": "code",
   "execution_count": 59,
   "metadata": {},
   "outputs": [
    {
     "data": {
      "text/plain": [
       "5578"
      ]
     },
     "execution_count": 59,
     "metadata": {},
     "output_type": "execute_result"
    }
   ],
   "source": [
    "# display key value for 'sebastian' in the tel dict\n",
    "\n",
    "tel['sebastian']"
   ]
  },
  {
   "cell_type": "code",
   "execution_count": 60,
   "metadata": {},
   "outputs": [
    {
     "data": {
      "text/plain": [
       "dict_keys(['emmanuelle', 'sebastian', 'francis'])"
      ]
     },
     "execution_count": 60,
     "metadata": {},
     "output_type": "execute_result"
    }
   ],
   "source": [
    "# display all keys in the tel dict\n",
    "\n",
    "tel.keys()"
   ]
  },
  {
   "cell_type": "code",
   "execution_count": 61,
   "metadata": {},
   "outputs": [
    {
     "data": {
      "text/plain": [
       "dict_values([5752, 5578, 5915])"
      ]
     },
     "execution_count": 61,
     "metadata": {},
     "output_type": "execute_result"
    }
   ],
   "source": [
    "# display all values in the tel dict\n",
    "\n",
    "tel.values()"
   ]
  },
  {
   "cell_type": "code",
   "execution_count": 3,
   "metadata": {},
   "outputs": [
    {
     "name": "stdout",
     "output_type": "stream",
     "text": [
      "True\n",
      "False\n"
     ]
    }
   ],
   "source": [
    "# query if the 'francis' and 'johnny' keys are in the tel dict (answers True/False)\n",
    "\n",
    "print('francis' in tel)\n",
    "print('johnny' in tel)"
   ]
  },
  {
   "cell_type": "code",
   "execution_count": 4,
   "metadata": {
    "id": "toNUKKQ2iiaZ"
   },
   "outputs": [
    {
     "data": {
      "text/plain": [
       "dict"
      ]
     },
     "execution_count": 4,
     "metadata": {},
     "output_type": "execute_result"
    }
   ],
   "source": [
    "# create an empty dict named \"somedict\"\n",
    "\n",
    "somedict = {}\n",
    "type(somedict)"
   ]
  },
  {
   "cell_type": "code",
   "execution_count": 6,
   "metadata": {
    "id": "TC2Cg-S1jFie"
   },
   "outputs": [],
   "source": [
    "# declare a new dict, add keys and values and print them\n",
    "\n",
    "club = {'Name':'Data Science & Machine Learning', 'Campus':'FAU Boca', 'Year Est':'2021'}\n",
    "print(club)"
   ]
  },
  {
   "cell_type": "code",
   "execution_count": 68,
   "metadata": {
    "colab": {
     "base_uri": "https://localhost:8080/"
    },
    "executionInfo": {
     "elapsed": 262,
     "status": "ok",
     "timestamp": 1624899556982,
     "user": {
      "displayName": "Joel Brigida",
      "photoUrl": "https://lh3.googleusercontent.com/a-/AOh14Gi5jpwxzxgci18vzsZ0Qc1QNoVi75SXgr4cWkdZpjZGk2Syca1WmIazn5PYyGztQLLf2-247MitLzLRfFhaU5OLW7AFQufXBNJS2QmA5vsE7HjfgeCfA4FuLJrWLsfWpZ1TU7i3xim3cbdvP0ZEZ9Z-59d9S8Ypjl5GoFpVhNtYTfDeLMTetGOVOtRdZDA5ivlkgPHBq0xOxAu2HvvAHceQoDmSLHgyzZe7-DJR7p7GEpF7Oba3KAhpgnpOyPMqIlThj5VbUFJdKfpmZLcPVK4comRa8UpTbXt7zcLynIUrDT7zksV188O02dFGQ6cbd2BuxHNzD5go87gFdYB6qufTu6bzefcnAR-FiAu9iju6BXyjkdb3k3VH_7J0gyspaGh0vejDKMJixoiey86c9neIcmKPQAvTh9dshGeAUCM4j8R-pfqEcxZ-bR1DetzRyIyZlB__NjHYmiJibMIkCj4yN0avYVy6TSMOYvJ2grOOM8LGzV-B5ywK5Kv1Kj-QrY0-TImnKpOak4xoEVU1upEL3gBdWMINne-lh6bOXrkcPqt0uAm_6f_GbOShut2n2W0UrJGh2vO0LvP2_zaYR5O4adJ3jw8LmQjuAddEPshV1_SZ8_9yoCL1rMgEJ2iST73lwqxPjOOiM4Z8P6M_ItEeHAny38L7k7KErUHcEAYfNs-p4i909AJnaPOAl3j01mJ79q6p1_yEjGmm3IRSfGlgqH2hn7bjyBG6TgXtk3nHdOvMzP9SkeGhU8CkvKwdVnjdYg=s64",
      "userId": "17944099373685830598"
     },
     "user_tz": 240
    },
    "id": "MMiaSQe7j3hj",
    "outputId": "cf21a8b4-c55e-4e84-9297-5f68a631748a"
   },
   "outputs": [
    {
     "data": {
      "text/plain": [
       "dict_items([('Name', 'Data Science & Machine Learning'), ('Campus', 'FAU Boca'), ('Year Est', '2021')])"
      ]
     },
     "execution_count": 68,
     "metadata": {},
     "output_type": "execute_result"
    }
   ],
   "source": [
    "# list every key and value\n",
    "\n",
    "club.items()"
   ]
  },
  {
   "cell_type": "code",
   "execution_count": 69,
   "metadata": {
    "colab": {
     "base_uri": "https://localhost:8080/"
    },
    "executionInfo": {
     "elapsed": 269,
     "status": "ok",
     "timestamp": 1624899756130,
     "user": {
      "displayName": "Joel Brigida",
      "photoUrl": "https://lh3.googleusercontent.com/a-/AOh14Gi5jpwxzxgci18vzsZ0Qc1QNoVi75SXgr4cWkdZpjZGk2Syca1WmIazn5PYyGztQLLf2-247MitLzLRfFhaU5OLW7AFQufXBNJS2QmA5vsE7HjfgeCfA4FuLJrWLsfWpZ1TU7i3xim3cbdvP0ZEZ9Z-59d9S8Ypjl5GoFpVhNtYTfDeLMTetGOVOtRdZDA5ivlkgPHBq0xOxAu2HvvAHceQoDmSLHgyzZe7-DJR7p7GEpF7Oba3KAhpgnpOyPMqIlThj5VbUFJdKfpmZLcPVK4comRa8UpTbXt7zcLynIUrDT7zksV188O02dFGQ6cbd2BuxHNzD5go87gFdYB6qufTu6bzefcnAR-FiAu9iju6BXyjkdb3k3VH_7J0gyspaGh0vejDKMJixoiey86c9neIcmKPQAvTh9dshGeAUCM4j8R-pfqEcxZ-bR1DetzRyIyZlB__NjHYmiJibMIkCj4yN0avYVy6TSMOYvJ2grOOM8LGzV-B5ywK5Kv1Kj-QrY0-TImnKpOak4xoEVU1upEL3gBdWMINne-lh6bOXrkcPqt0uAm_6f_GbOShut2n2W0UrJGh2vO0LvP2_zaYR5O4adJ3jw8LmQjuAddEPshV1_SZ8_9yoCL1rMgEJ2iST73lwqxPjOOiM4Z8P6M_ItEeHAny38L7k7KErUHcEAYfNs-p4i909AJnaPOAl3j01mJ79q6p1_yEjGmm3IRSfGlgqH2hn7bjyBG6TgXtk3nHdOvMzP9SkeGhU8CkvKwdVnjdYg=s64",
      "userId": "17944099373685830598"
     },
     "user_tz": 240
    },
    "id": "ZqFYGyQakl_i",
    "outputId": "2c535402-7455-4cca-aa45-dbb26793d2ac"
   },
   "outputs": [
    {
     "data": {
      "text/plain": [
       "dict_keys(['Name', 'Campus', 'Year Est'])"
      ]
     },
     "execution_count": 69,
     "metadata": {},
     "output_type": "execute_result"
    }
   ],
   "source": [
    "# display only the values of dictionary keys\n",
    "\n",
    "club.keys()"
   ]
  },
  {
   "cell_type": "code",
   "execution_count": 70,
   "metadata": {
    "colab": {
     "base_uri": "https://localhost:8080/"
    },
    "executionInfo": {
     "elapsed": 263,
     "status": "ok",
     "timestamp": 1624899973693,
     "user": {
      "displayName": "Joel Brigida",
      "photoUrl": "https://lh3.googleusercontent.com/a-/AOh14Gi5jpwxzxgci18vzsZ0Qc1QNoVi75SXgr4cWkdZpjZGk2Syca1WmIazn5PYyGztQLLf2-247MitLzLRfFhaU5OLW7AFQufXBNJS2QmA5vsE7HjfgeCfA4FuLJrWLsfWpZ1TU7i3xim3cbdvP0ZEZ9Z-59d9S8Ypjl5GoFpVhNtYTfDeLMTetGOVOtRdZDA5ivlkgPHBq0xOxAu2HvvAHceQoDmSLHgyzZe7-DJR7p7GEpF7Oba3KAhpgnpOyPMqIlThj5VbUFJdKfpmZLcPVK4comRa8UpTbXt7zcLynIUrDT7zksV188O02dFGQ6cbd2BuxHNzD5go87gFdYB6qufTu6bzefcnAR-FiAu9iju6BXyjkdb3k3VH_7J0gyspaGh0vejDKMJixoiey86c9neIcmKPQAvTh9dshGeAUCM4j8R-pfqEcxZ-bR1DetzRyIyZlB__NjHYmiJibMIkCj4yN0avYVy6TSMOYvJ2grOOM8LGzV-B5ywK5Kv1Kj-QrY0-TImnKpOak4xoEVU1upEL3gBdWMINne-lh6bOXrkcPqt0uAm_6f_GbOShut2n2W0UrJGh2vO0LvP2_zaYR5O4adJ3jw8LmQjuAddEPshV1_SZ8_9yoCL1rMgEJ2iST73lwqxPjOOiM4Z8P6M_ItEeHAny38L7k7KErUHcEAYfNs-p4i909AJnaPOAl3j01mJ79q6p1_yEjGmm3IRSfGlgqH2hn7bjyBG6TgXtk3nHdOvMzP9SkeGhU8CkvKwdVnjdYg=s64",
      "userId": "17944099373685830598"
     },
     "user_tz": 240
    },
    "id": "0kxjA_JFlbB-",
    "outputId": "175c9c64-4372-4246-8c2e-7ed107db69d9"
   },
   "outputs": [
    {
     "data": {
      "text/plain": [
       "dict_values(['Data Science & Machine Learning', 'FAU Boca', '2021'])"
      ]
     },
     "execution_count": 70,
     "metadata": {},
     "output_type": "execute_result"
    }
   ],
   "source": [
    "# display only the values of each dictionary key\n",
    "\n",
    "club.values()"
   ]
  },
  {
   "cell_type": "code",
   "execution_count": 71,
   "metadata": {
    "colab": {
     "base_uri": "https://localhost:8080/"
    },
    "executionInfo": {
     "elapsed": 330,
     "status": "ok",
     "timestamp": 1624900324701,
     "user": {
      "displayName": "Joel Brigida",
      "photoUrl": "https://lh3.googleusercontent.com/a-/AOh14Gi5jpwxzxgci18vzsZ0Qc1QNoVi75SXgr4cWkdZpjZGk2Syca1WmIazn5PYyGztQLLf2-247MitLzLRfFhaU5OLW7AFQufXBNJS2QmA5vsE7HjfgeCfA4FuLJrWLsfWpZ1TU7i3xim3cbdvP0ZEZ9Z-59d9S8Ypjl5GoFpVhNtYTfDeLMTetGOVOtRdZDA5ivlkgPHBq0xOxAu2HvvAHceQoDmSLHgyzZe7-DJR7p7GEpF7Oba3KAhpgnpOyPMqIlThj5VbUFJdKfpmZLcPVK4comRa8UpTbXt7zcLynIUrDT7zksV188O02dFGQ6cbd2BuxHNzD5go87gFdYB6qufTu6bzefcnAR-FiAu9iju6BXyjkdb3k3VH_7J0gyspaGh0vejDKMJixoiey86c9neIcmKPQAvTh9dshGeAUCM4j8R-pfqEcxZ-bR1DetzRyIyZlB__NjHYmiJibMIkCj4yN0avYVy6TSMOYvJ2grOOM8LGzV-B5ywK5Kv1Kj-QrY0-TImnKpOak4xoEVU1upEL3gBdWMINne-lh6bOXrkcPqt0uAm_6f_GbOShut2n2W0UrJGh2vO0LvP2_zaYR5O4adJ3jw8LmQjuAddEPshV1_SZ8_9yoCL1rMgEJ2iST73lwqxPjOOiM4Z8P6M_ItEeHAny38L7k7KErUHcEAYfNs-p4i909AJnaPOAl3j01mJ79q6p1_yEjGmm3IRSfGlgqH2hn7bjyBG6TgXtk3nHdOvMzP9SkeGhU8CkvKwdVnjdYg=s64",
      "userId": "17944099373685830598"
     },
     "user_tz": 240
    },
    "id": "_Esv8A0amxJX",
    "outputId": "2ad3a41f-c134-4eef-b6e3-c043ff70b9ec"
   },
   "outputs": [
    {
     "data": {
      "text/plain": [
       "dict_values"
      ]
     },
     "execution_count": 71,
     "metadata": {},
     "output_type": "execute_result"
    }
   ],
   "source": [
    "# dict values are a presented as a list\n",
    "\n",
    "type(club.values())"
   ]
  },
  {
   "cell_type": "code",
   "execution_count": 72,
   "metadata": {
    "colab": {
     "base_uri": "https://localhost:8080/",
     "height": 35
    },
    "executionInfo": {
     "elapsed": 276,
     "status": "ok",
     "timestamp": 1624899885759,
     "user": {
      "displayName": "Joel Brigida",
      "photoUrl": "https://lh3.googleusercontent.com/a-/AOh14Gi5jpwxzxgci18vzsZ0Qc1QNoVi75SXgr4cWkdZpjZGk2Syca1WmIazn5PYyGztQLLf2-247MitLzLRfFhaU5OLW7AFQufXBNJS2QmA5vsE7HjfgeCfA4FuLJrWLsfWpZ1TU7i3xim3cbdvP0ZEZ9Z-59d9S8Ypjl5GoFpVhNtYTfDeLMTetGOVOtRdZDA5ivlkgPHBq0xOxAu2HvvAHceQoDmSLHgyzZe7-DJR7p7GEpF7Oba3KAhpgnpOyPMqIlThj5VbUFJdKfpmZLcPVK4comRa8UpTbXt7zcLynIUrDT7zksV188O02dFGQ6cbd2BuxHNzD5go87gFdYB6qufTu6bzefcnAR-FiAu9iju6BXyjkdb3k3VH_7J0gyspaGh0vejDKMJixoiey86c9neIcmKPQAvTh9dshGeAUCM4j8R-pfqEcxZ-bR1DetzRyIyZlB__NjHYmiJibMIkCj4yN0avYVy6TSMOYvJ2grOOM8LGzV-B5ywK5Kv1Kj-QrY0-TImnKpOak4xoEVU1upEL3gBdWMINne-lh6bOXrkcPqt0uAm_6f_GbOShut2n2W0UrJGh2vO0LvP2_zaYR5O4adJ3jw8LmQjuAddEPshV1_SZ8_9yoCL1rMgEJ2iST73lwqxPjOOiM4Z8P6M_ItEeHAny38L7k7KErUHcEAYfNs-p4i909AJnaPOAl3j01mJ79q6p1_yEjGmm3IRSfGlgqH2hn7bjyBG6TgXtk3nHdOvMzP9SkeGhU8CkvKwdVnjdYg=s64",
      "userId": "17944099373685830598"
     },
     "user_tz": 240
    },
    "id": "yKIXYjf4k7PU",
    "outputId": "8c4ecfd4-32fa-4fb1-8418-e142e10d8b7d"
   },
   "outputs": [
    {
     "data": {
      "text/plain": [
       "'Data Science & Machine Learning'"
      ]
     },
     "execution_count": 72,
     "metadata": {},
     "output_type": "execute_result"
    }
   ],
   "source": [
    "# displays the value of the specified key in the dictionary\n",
    "\n",
    "club['Name']"
   ]
  },
  {
   "cell_type": "code",
   "execution_count": 73,
   "metadata": {
    "colab": {
     "base_uri": "https://localhost:8080/",
     "height": 35
    },
    "executionInfo": {
     "elapsed": 271,
     "status": "ok",
     "timestamp": 1624900419147,
     "user": {
      "displayName": "Joel Brigida",
      "photoUrl": "https://lh3.googleusercontent.com/a-/AOh14Gi5jpwxzxgci18vzsZ0Qc1QNoVi75SXgr4cWkdZpjZGk2Syca1WmIazn5PYyGztQLLf2-247MitLzLRfFhaU5OLW7AFQufXBNJS2QmA5vsE7HjfgeCfA4FuLJrWLsfWpZ1TU7i3xim3cbdvP0ZEZ9Z-59d9S8Ypjl5GoFpVhNtYTfDeLMTetGOVOtRdZDA5ivlkgPHBq0xOxAu2HvvAHceQoDmSLHgyzZe7-DJR7p7GEpF7Oba3KAhpgnpOyPMqIlThj5VbUFJdKfpmZLcPVK4comRa8UpTbXt7zcLynIUrDT7zksV188O02dFGQ6cbd2BuxHNzD5go87gFdYB6qufTu6bzefcnAR-FiAu9iju6BXyjkdb3k3VH_7J0gyspaGh0vejDKMJixoiey86c9neIcmKPQAvTh9dshGeAUCM4j8R-pfqEcxZ-bR1DetzRyIyZlB__NjHYmiJibMIkCj4yN0avYVy6TSMOYvJ2grOOM8LGzV-B5ywK5Kv1Kj-QrY0-TImnKpOak4xoEVU1upEL3gBdWMINne-lh6bOXrkcPqt0uAm_6f_GbOShut2n2W0UrJGh2vO0LvP2_zaYR5O4adJ3jw8LmQjuAddEPshV1_SZ8_9yoCL1rMgEJ2iST73lwqxPjOOiM4Z8P6M_ItEeHAny38L7k7KErUHcEAYfNs-p4i909AJnaPOAl3j01mJ79q6p1_yEjGmm3IRSfGlgqH2hn7bjyBG6TgXtk3nHdOvMzP9SkeGhU8CkvKwdVnjdYg=s64",
      "userId": "17944099373685830598"
     },
     "user_tz": 240
    },
    "id": "h0JqwJI2nGup",
    "outputId": "b7749c23-1791-43fd-e667-e7425ad3013c"
   },
   "outputs": [
    {
     "data": {
      "text/plain": [
       "'FAU Boca'"
      ]
     },
     "execution_count": 73,
     "metadata": {},
     "output_type": "execute_result"
    }
   ],
   "source": [
    "# display value only (no key) of index[1] in club dict.\n",
    "\n",
    "list(club.values())[1]"
   ]
  },
  {
   "cell_type": "code",
   "execution_count": 12,
   "metadata": {
    "id": "76rm4XEplyBi"
   },
   "outputs": [
    {
     "name": "stdout",
     "output_type": "stream",
     "text": [
      "<class 'str'>\n",
      "FAU Boca\n"
     ]
    }
   ],
   "source": [
    "# define variable v0 as a string that contains the value of index [1] in club dict\n",
    "\n",
    "v0 = list(club.values())[1]\n",
    "print(type(v0))\n",
    "print(v0)"
   ]
  },
  {
   "cell_type": "code",
   "execution_count": 77,
   "metadata": {
    "id": "q09ZrS7inhmy"
   },
   "outputs": [],
   "source": [
    "# append the dict with key 'activity' and value 'Summer Workshop'\n",
    "\n",
    "club['Activity'] = 'Summer Workshop'"
   ]
  },
  {
   "cell_type": "code",
   "execution_count": 78,
   "metadata": {
    "colab": {
     "base_uri": "https://localhost:8080/"
    },
    "executionInfo": {
     "elapsed": 288,
     "status": "ok",
     "timestamp": 1624900747057,
     "user": {
      "displayName": "Joel Brigida",
      "photoUrl": "https://lh3.googleusercontent.com/a-/AOh14Gi5jpwxzxgci18vzsZ0Qc1QNoVi75SXgr4cWkdZpjZGk2Syca1WmIazn5PYyGztQLLf2-247MitLzLRfFhaU5OLW7AFQufXBNJS2QmA5vsE7HjfgeCfA4FuLJrWLsfWpZ1TU7i3xim3cbdvP0ZEZ9Z-59d9S8Ypjl5GoFpVhNtYTfDeLMTetGOVOtRdZDA5ivlkgPHBq0xOxAu2HvvAHceQoDmSLHgyzZe7-DJR7p7GEpF7Oba3KAhpgnpOyPMqIlThj5VbUFJdKfpmZLcPVK4comRa8UpTbXt7zcLynIUrDT7zksV188O02dFGQ6cbd2BuxHNzD5go87gFdYB6qufTu6bzefcnAR-FiAu9iju6BXyjkdb3k3VH_7J0gyspaGh0vejDKMJixoiey86c9neIcmKPQAvTh9dshGeAUCM4j8R-pfqEcxZ-bR1DetzRyIyZlB__NjHYmiJibMIkCj4yN0avYVy6TSMOYvJ2grOOM8LGzV-B5ywK5Kv1Kj-QrY0-TImnKpOak4xoEVU1upEL3gBdWMINne-lh6bOXrkcPqt0uAm_6f_GbOShut2n2W0UrJGh2vO0LvP2_zaYR5O4adJ3jw8LmQjuAddEPshV1_SZ8_9yoCL1rMgEJ2iST73lwqxPjOOiM4Z8P6M_ItEeHAny38L7k7KErUHcEAYfNs-p4i909AJnaPOAl3j01mJ79q6p1_yEjGmm3IRSfGlgqH2hn7bjyBG6TgXtk3nHdOvMzP9SkeGhU8CkvKwdVnjdYg=s64",
      "userId": "17944099373685830598"
     },
     "user_tz": 240
    },
    "id": "MNMsMnAwobDc",
    "outputId": "4c3d4199-66c0-44a8-bc36-1b23452c1264"
   },
   "outputs": [
    {
     "data": {
      "text/plain": [
       "{'Name': 'Data Science & Machine Learning',\n",
       " 'Campus': 'FAU Boca',\n",
       " 'Year Est': '2021',\n",
       " 'Activity': 'Summer Workshop'}"
      ]
     },
     "execution_count": 78,
     "metadata": {},
     "output_type": "execute_result"
    }
   ],
   "source": [
    "# display all new dict values\n",
    "\n",
    "club"
   ]
  },
  {
   "cell_type": "code",
   "execution_count": 15,
   "metadata": {
    "id": "i7m2BplR8h9N"
   },
   "outputs": [
    {
     "name": "stdout",
     "output_type": "stream",
     "text": [
      "<class 'dict'>\n",
      "{'one': 'uno', 'two': 'dos', 'three': 'tres'}\n"
     ]
    }
   ],
   "source": [
    "# hold keys in english and the associated values in spanish\n",
    "\n",
    "'''\n",
    "one two three\n",
    "uno dos tres\n",
    "'''\n",
    "\n",
    "# declare a new dict\n",
    "eng2sp = {}\n",
    "\n",
    "# dict['key'] = 'value'\n",
    "eng2sp['one'] = 'uno'\n",
    "eng2sp['two'] = 'dos'\n",
    "eng2sp['three'] = 'tres'\n",
    "\n",
    "print(type(eng2sp))\n",
    "print(eng2sp) # print each key and value"
   ]
  },
  {
   "cell_type": "code",
   "execution_count": 83,
   "metadata": {
    "colab": {
     "base_uri": "https://localhost:8080/"
    },
    "executionInfo": {
     "elapsed": 109,
     "status": "ok",
     "timestamp": 1624922044498,
     "user": {
      "displayName": "Joel Brigida",
      "photoUrl": "https://lh3.googleusercontent.com/a-/AOh14Gi5jpwxzxgci18vzsZ0Qc1QNoVi75SXgr4cWkdZpjZGk2Syca1WmIazn5PYyGztQLLf2-247MitLzLRfFhaU5OLW7AFQufXBNJS2QmA5vsE7HjfgeCfA4FuLJrWLsfWpZ1TU7i3xim3cbdvP0ZEZ9Z-59d9S8Ypjl5GoFpVhNtYTfDeLMTetGOVOtRdZDA5ivlkgPHBq0xOxAu2HvvAHceQoDmSLHgyzZe7-DJR7p7GEpF7Oba3KAhpgnpOyPMqIlThj5VbUFJdKfpmZLcPVK4comRa8UpTbXt7zcLynIUrDT7zksV188O02dFGQ6cbd2BuxHNzD5go87gFdYB6qufTu6bzefcnAR-FiAu9iju6BXyjkdb3k3VH_7J0gyspaGh0vejDKMJixoiey86c9neIcmKPQAvTh9dshGeAUCM4j8R-pfqEcxZ-bR1DetzRyIyZlB__NjHYmiJibMIkCj4yN0avYVy6TSMOYvJ2grOOM8LGzV-B5ywK5Kv1Kj-QrY0-TImnKpOak4xoEVU1upEL3gBdWMINne-lh6bOXrkcPqt0uAm_6f_GbOShut2n2W0UrJGh2vO0LvP2_zaYR5O4adJ3jw8LmQjuAddEPshV1_SZ8_9yoCL1rMgEJ2iST73lwqxPjOOiM4Z8P6M_ItEeHAny38L7k7KErUHcEAYfNs-p4i909AJnaPOAl3j01mJ79q6p1_yEjGmm3IRSfGlgqH2hn7bjyBG6TgXtk3nHdOvMzP9SkeGhU8CkvKwdVnjdYg=s64",
      "userId": "17944099373685830598"
     },
     "user_tz": 240
    },
    "id": "sZTLFD7d8f5y",
    "outputId": "ca24ed79-a5f8-4761-e679-cee6673f2359"
   },
   "outputs": [
    {
     "data": {
      "text/plain": [
       "dict_keys(['one', 'two', 'three'])"
      ]
     },
     "execution_count": 83,
     "metadata": {},
     "output_type": "execute_result"
    }
   ],
   "source": [
    "# print dict keys only\n",
    "\n",
    "eng2sp.keys()"
   ]
  },
  {
   "cell_type": "code",
   "execution_count": 84,
   "metadata": {
    "colab": {
     "base_uri": "https://localhost:8080/"
    },
    "executionInfo": {
     "elapsed": 107,
     "status": "ok",
     "timestamp": 1624922045144,
     "user": {
      "displayName": "Joel Brigida",
      "photoUrl": "https://lh3.googleusercontent.com/a-/AOh14Gi5jpwxzxgci18vzsZ0Qc1QNoVi75SXgr4cWkdZpjZGk2Syca1WmIazn5PYyGztQLLf2-247MitLzLRfFhaU5OLW7AFQufXBNJS2QmA5vsE7HjfgeCfA4FuLJrWLsfWpZ1TU7i3xim3cbdvP0ZEZ9Z-59d9S8Ypjl5GoFpVhNtYTfDeLMTetGOVOtRdZDA5ivlkgPHBq0xOxAu2HvvAHceQoDmSLHgyzZe7-DJR7p7GEpF7Oba3KAhpgnpOyPMqIlThj5VbUFJdKfpmZLcPVK4comRa8UpTbXt7zcLynIUrDT7zksV188O02dFGQ6cbd2BuxHNzD5go87gFdYB6qufTu6bzefcnAR-FiAu9iju6BXyjkdb3k3VH_7J0gyspaGh0vejDKMJixoiey86c9neIcmKPQAvTh9dshGeAUCM4j8R-pfqEcxZ-bR1DetzRyIyZlB__NjHYmiJibMIkCj4yN0avYVy6TSMOYvJ2grOOM8LGzV-B5ywK5Kv1Kj-QrY0-TImnKpOak4xoEVU1upEL3gBdWMINne-lh6bOXrkcPqt0uAm_6f_GbOShut2n2W0UrJGh2vO0LvP2_zaYR5O4adJ3jw8LmQjuAddEPshV1_SZ8_9yoCL1rMgEJ2iST73lwqxPjOOiM4Z8P6M_ItEeHAny38L7k7KErUHcEAYfNs-p4i909AJnaPOAl3j01mJ79q6p1_yEjGmm3IRSfGlgqH2hn7bjyBG6TgXtk3nHdOvMzP9SkeGhU8CkvKwdVnjdYg=s64",
      "userId": "17944099373685830598"
     },
     "user_tz": 240
    },
    "id": "wD2t4F1n3xJe",
    "outputId": "c7dc23b1-dcca-459d-c2e6-7eda44450915"
   },
   "outputs": [
    {
     "data": {
      "text/plain": [
       "dict_values(['uno', 'dos', 'tres'])"
      ]
     },
     "execution_count": 84,
     "metadata": {},
     "output_type": "execute_result"
    }
   ],
   "source": [
    "# print dict values only\n",
    "\n",
    "eng2sp.values()"
   ]
  },
  {
   "cell_type": "code",
   "execution_count": 85,
   "metadata": {
    "colab": {
     "base_uri": "https://localhost:8080/",
     "height": 35
    },
    "executionInfo": {
     "elapsed": 125,
     "status": "ok",
     "timestamp": 1624922046077,
     "user": {
      "displayName": "Joel Brigida",
      "photoUrl": "https://lh3.googleusercontent.com/a-/AOh14Gi5jpwxzxgci18vzsZ0Qc1QNoVi75SXgr4cWkdZpjZGk2Syca1WmIazn5PYyGztQLLf2-247MitLzLRfFhaU5OLW7AFQufXBNJS2QmA5vsE7HjfgeCfA4FuLJrWLsfWpZ1TU7i3xim3cbdvP0ZEZ9Z-59d9S8Ypjl5GoFpVhNtYTfDeLMTetGOVOtRdZDA5ivlkgPHBq0xOxAu2HvvAHceQoDmSLHgyzZe7-DJR7p7GEpF7Oba3KAhpgnpOyPMqIlThj5VbUFJdKfpmZLcPVK4comRa8UpTbXt7zcLynIUrDT7zksV188O02dFGQ6cbd2BuxHNzD5go87gFdYB6qufTu6bzefcnAR-FiAu9iju6BXyjkdb3k3VH_7J0gyspaGh0vejDKMJixoiey86c9neIcmKPQAvTh9dshGeAUCM4j8R-pfqEcxZ-bR1DetzRyIyZlB__NjHYmiJibMIkCj4yN0avYVy6TSMOYvJ2grOOM8LGzV-B5ywK5Kv1Kj-QrY0-TImnKpOak4xoEVU1upEL3gBdWMINne-lh6bOXrkcPqt0uAm_6f_GbOShut2n2W0UrJGh2vO0LvP2_zaYR5O4adJ3jw8LmQjuAddEPshV1_SZ8_9yoCL1rMgEJ2iST73lwqxPjOOiM4Z8P6M_ItEeHAny38L7k7KErUHcEAYfNs-p4i909AJnaPOAl3j01mJ79q6p1_yEjGmm3IRSfGlgqH2hn7bjyBG6TgXtk3nHdOvMzP9SkeGhU8CkvKwdVnjdYg=s64",
      "userId": "17944099373685830598"
     },
     "user_tz": 240
    },
    "id": "FocHHiTc4Gpz",
    "outputId": "7795156d-867d-4194-f100-ee3cacbd07e1"
   },
   "outputs": [
    {
     "data": {
      "text/plain": [
       "'uno'"
      ]
     },
     "execution_count": 85,
     "metadata": {},
     "output_type": "execute_result"
    }
   ],
   "source": [
    "# get and display value for key 'one'\n",
    "\n",
    "eng2sp.get('one')"
   ]
  },
  {
   "cell_type": "code",
   "execution_count": 19,
   "metadata": {
    "id": "ocajVJNH4zR9"
   },
   "outputs": [
    {
     "name": "stdout",
     "output_type": "stream",
     "text": [
      "{'one': 'uno', 'two': 'dos', 'three': 'tres'}\n"
     ]
    }
   ],
   "source": [
    "# create copy of the dictionary to work with (DON'T modify your original data!!)\n",
    "copy = eng2sp.copy()\n",
    "\n",
    "# modifying the copy does not affect the original data\n",
    "print(copy)"
   ]
  },
  {
   "cell_type": "code",
   "execution_count": 22,
   "metadata": {
    "id": "CpFb4pBD5f25"
   },
   "outputs": [
    {
     "name": "stdout",
     "output_type": "stream",
     "text": [
      "{'one': 'uno', 'two': 'dos', 'three': 'tres', 'four': 'cuatro'}\n",
      "{'one': 'uno', 'two': 'dos', 'three': 'tres'}\n"
     ]
    }
   ],
   "source": [
    "# add a value to to dict copy\n",
    "copy['four'] = 'cuatro'\n",
    "\n",
    "# display contents of the copy\n",
    "print(copy)\n",
    "\n",
    "# the original did not change\n",
    "print(eng2sp)"
   ]
  },
  {
   "cell_type": "markdown",
   "metadata": {
    "id": "hssS7mIU9nUn"
   },
   "source": [
    "# 4) Conditional Statements and Loops\n",
    "---"
   ]
  },
  {
   "cell_type": "code",
   "execution_count": 91,
   "metadata": {
    "colab": {
     "base_uri": "https://localhost:8080/"
    },
    "executionInfo": {
     "elapsed": 124,
     "status": "ok",
     "timestamp": 1624923309242,
     "user": {
      "displayName": "Joel Brigida",
      "photoUrl": "https://lh3.googleusercontent.com/a-/AOh14Gi5jpwxzxgci18vzsZ0Qc1QNoVi75SXgr4cWkdZpjZGk2Syca1WmIazn5PYyGztQLLf2-247MitLzLRfFhaU5OLW7AFQufXBNJS2QmA5vsE7HjfgeCfA4FuLJrWLsfWpZ1TU7i3xim3cbdvP0ZEZ9Z-59d9S8Ypjl5GoFpVhNtYTfDeLMTetGOVOtRdZDA5ivlkgPHBq0xOxAu2HvvAHceQoDmSLHgyzZe7-DJR7p7GEpF7Oba3KAhpgnpOyPMqIlThj5VbUFJdKfpmZLcPVK4comRa8UpTbXt7zcLynIUrDT7zksV188O02dFGQ6cbd2BuxHNzD5go87gFdYB6qufTu6bzefcnAR-FiAu9iju6BXyjkdb3k3VH_7J0gyspaGh0vejDKMJixoiey86c9neIcmKPQAvTh9dshGeAUCM4j8R-pfqEcxZ-bR1DetzRyIyZlB__NjHYmiJibMIkCj4yN0avYVy6TSMOYvJ2grOOM8LGzV-B5ywK5Kv1Kj-QrY0-TImnKpOak4xoEVU1upEL3gBdWMINne-lh6bOXrkcPqt0uAm_6f_GbOShut2n2W0UrJGh2vO0LvP2_zaYR5O4adJ3jw8LmQjuAddEPshV1_SZ8_9yoCL1rMgEJ2iST73lwqxPjOOiM4Z8P6M_ItEeHAny38L7k7KErUHcEAYfNs-p4i909AJnaPOAl3j01mJ79q6p1_yEjGmm3IRSfGlgqH2hn7bjyBG6TgXtk3nHdOvMzP9SkeGhU8CkvKwdVnjdYg=s64",
      "userId": "17944099373685830598"
     },
     "user_tz": 240
    },
    "id": "phjQlQ4U9xOz",
    "outputId": "2f330a4e-3bcb-4572-ddda-217e2d4b5d6b"
   },
   "outputs": [
    {
     "name": "stdout",
     "output_type": "stream",
     "text": [
      "not Joel!!\n"
     ]
    }
   ],
   "source": [
    "name = 'John'\n",
    "\n",
    "if name == 'Joel':\n",
    "  print(name)\n",
    "else:\n",
    "  print('not Joel!!')"
   ]
  },
  {
   "cell_type": "code",
   "execution_count": 92,
   "metadata": {
    "colab": {
     "base_uri": "https://localhost:8080/"
    },
    "executionInfo": {
     "elapsed": 110,
     "status": "ok",
     "timestamp": 1624923310160,
     "user": {
      "displayName": "Joel Brigida",
      "photoUrl": "https://lh3.googleusercontent.com/a-/AOh14Gi5jpwxzxgci18vzsZ0Qc1QNoVi75SXgr4cWkdZpjZGk2Syca1WmIazn5PYyGztQLLf2-247MitLzLRfFhaU5OLW7AFQufXBNJS2QmA5vsE7HjfgeCfA4FuLJrWLsfWpZ1TU7i3xim3cbdvP0ZEZ9Z-59d9S8Ypjl5GoFpVhNtYTfDeLMTetGOVOtRdZDA5ivlkgPHBq0xOxAu2HvvAHceQoDmSLHgyzZe7-DJR7p7GEpF7Oba3KAhpgnpOyPMqIlThj5VbUFJdKfpmZLcPVK4comRa8UpTbXt7zcLynIUrDT7zksV188O02dFGQ6cbd2BuxHNzD5go87gFdYB6qufTu6bzefcnAR-FiAu9iju6BXyjkdb3k3VH_7J0gyspaGh0vejDKMJixoiey86c9neIcmKPQAvTh9dshGeAUCM4j8R-pfqEcxZ-bR1DetzRyIyZlB__NjHYmiJibMIkCj4yN0avYVy6TSMOYvJ2grOOM8LGzV-B5ywK5Kv1Kj-QrY0-TImnKpOak4xoEVU1upEL3gBdWMINne-lh6bOXrkcPqt0uAm_6f_GbOShut2n2W0UrJGh2vO0LvP2_zaYR5O4adJ3jw8LmQjuAddEPshV1_SZ8_9yoCL1rMgEJ2iST73lwqxPjOOiM4Z8P6M_ItEeHAny38L7k7KErUHcEAYfNs-p4i909AJnaPOAl3j01mJ79q6p1_yEjGmm3IRSfGlgqH2hn7bjyBG6TgXtk3nHdOvMzP9SkeGhU8CkvKwdVnjdYg=s64",
      "userId": "17944099373685830598"
     },
     "user_tz": 240
    },
    "id": "gGx9Izjd939z",
    "outputId": "146b6829-d2b2-43e8-d2fc-e0b5e9a130f3"
   },
   "outputs": [
    {
     "name": "stdout",
     "output_type": "stream",
     "text": [
      "15\n"
     ]
    }
   ],
   "source": [
    "# x, y, and if x is less than y add them....\n",
    "\n",
    "x = 10\n",
    "y = 5\n",
    "\n",
    "if x < y:\n",
    "  print(y-x)\n",
    "\n",
    "elif x > y:     # elif == else if\n",
    "  print(y+x)\n",
    "  "
   ]
  },
  {
   "cell_type": "code",
   "execution_count": 24,
   "metadata": {
    "colab": {
     "base_uri": "https://localhost:8080/"
    },
    "executionInfo": {
     "elapsed": 125,
     "status": "ok",
     "timestamp": 1624923311189,
     "user": {
      "displayName": "Joel Brigida",
      "photoUrl": "https://lh3.googleusercontent.com/a-/AOh14Gi5jpwxzxgci18vzsZ0Qc1QNoVi75SXgr4cWkdZpjZGk2Syca1WmIazn5PYyGztQLLf2-247MitLzLRfFhaU5OLW7AFQufXBNJS2QmA5vsE7HjfgeCfA4FuLJrWLsfWpZ1TU7i3xim3cbdvP0ZEZ9Z-59d9S8Ypjl5GoFpVhNtYTfDeLMTetGOVOtRdZDA5ivlkgPHBq0xOxAu2HvvAHceQoDmSLHgyzZe7-DJR7p7GEpF7Oba3KAhpgnpOyPMqIlThj5VbUFJdKfpmZLcPVK4comRa8UpTbXt7zcLynIUrDT7zksV188O02dFGQ6cbd2BuxHNzD5go87gFdYB6qufTu6bzefcnAR-FiAu9iju6BXyjkdb3k3VH_7J0gyspaGh0vejDKMJixoiey86c9neIcmKPQAvTh9dshGeAUCM4j8R-pfqEcxZ-bR1DetzRyIyZlB__NjHYmiJibMIkCj4yN0avYVy6TSMOYvJ2grOOM8LGzV-B5ywK5Kv1Kj-QrY0-TImnKpOak4xoEVU1upEL3gBdWMINne-lh6bOXrkcPqt0uAm_6f_GbOShut2n2W0UrJGh2vO0LvP2_zaYR5O4adJ3jw8LmQjuAddEPshV1_SZ8_9yoCL1rMgEJ2iST73lwqxPjOOiM4Z8P6M_ItEeHAny38L7k7KErUHcEAYfNs-p4i909AJnaPOAl3j01mJ79q6p1_yEjGmm3IRSfGlgqH2hn7bjyBG6TgXtk3nHdOvMzP9SkeGhU8CkvKwdVnjdYg=s64",
      "userId": "17944099373685830598"
     },
     "user_tz": 240
    },
    "id": "v-qXXGxE-u8u",
    "outputId": "860538c0-7e0b-4e69-dc2d-5da9d9649620"
   },
   "outputs": [
    {
     "data": {
      "text/plain": [
       "11"
      ]
     },
     "execution_count": 24,
     "metadata": {},
     "output_type": "execute_result"
    }
   ],
   "source": [
    "# iterate and parse a list of values\n",
    "# create a list and populate it with values:\n",
    "\n",
    "A = [1, 4, 6, 5, 7, 54, 4, 6, 67, 5, 234]\n",
    "len(A)"
   ]
  },
  {
   "cell_type": "code",
   "execution_count": 25,
   "metadata": {
    "colab": {
     "base_uri": "https://localhost:8080/"
    },
    "executionInfo": {
     "elapsed": 106,
     "status": "ok",
     "timestamp": 1624926236749,
     "user": {
      "displayName": "Joel Brigida",
      "photoUrl": "https://lh3.googleusercontent.com/a-/AOh14Gi5jpwxzxgci18vzsZ0Qc1QNoVi75SXgr4cWkdZpjZGk2Syca1WmIazn5PYyGztQLLf2-247MitLzLRfFhaU5OLW7AFQufXBNJS2QmA5vsE7HjfgeCfA4FuLJrWLsfWpZ1TU7i3xim3cbdvP0ZEZ9Z-59d9S8Ypjl5GoFpVhNtYTfDeLMTetGOVOtRdZDA5ivlkgPHBq0xOxAu2HvvAHceQoDmSLHgyzZe7-DJR7p7GEpF7Oba3KAhpgnpOyPMqIlThj5VbUFJdKfpmZLcPVK4comRa8UpTbXt7zcLynIUrDT7zksV188O02dFGQ6cbd2BuxHNzD5go87gFdYB6qufTu6bzefcnAR-FiAu9iju6BXyjkdb3k3VH_7J0gyspaGh0vejDKMJixoiey86c9neIcmKPQAvTh9dshGeAUCM4j8R-pfqEcxZ-bR1DetzRyIyZlB__NjHYmiJibMIkCj4yN0avYVy6TSMOYvJ2grOOM8LGzV-B5ywK5Kv1Kj-QrY0-TImnKpOak4xoEVU1upEL3gBdWMINne-lh6bOXrkcPqt0uAm_6f_GbOShut2n2W0UrJGh2vO0LvP2_zaYR5O4adJ3jw8LmQjuAddEPshV1_SZ8_9yoCL1rMgEJ2iST73lwqxPjOOiM4Z8P6M_ItEeHAny38L7k7KErUHcEAYfNs-p4i909AJnaPOAl3j01mJ79q6p1_yEjGmm3IRSfGlgqH2hn7bjyBG6TgXtk3nHdOvMzP9SkeGhU8CkvKwdVnjdYg=s64",
      "userId": "17944099373685830598"
     },
     "user_tz": 240
    },
    "id": "ed5hdwhD_EUn",
    "outputId": "4012d0f7-728c-4ffc-aacd-6e336d96d093"
   },
   "outputs": [
    {
     "name": "stdout",
     "output_type": "stream",
     "text": [
      "Number 1 is odd\n",
      "Number 4 is even\n",
      "Number 6 is even\n",
      "Number 5 is odd\n",
      "Number 7 is odd\n",
      "Number 54 is even\n",
      "Number 4 is even\n",
      "Number 6 is even\n",
      "Number 67 is odd\n",
      "Number 5 is odd\n",
      "Number 234 is even\n",
      "\n",
      "\n",
      "1\n",
      "4\n",
      "6\n",
      "5\n",
      "7\n",
      "54\n",
      "4\n",
      "6\n",
      "67\n",
      "5\n",
      "234\n",
      "\n",
      "\n",
      "4\n",
      "6\n",
      "54\n",
      "4\n",
      "6\n",
      "234\n",
      "\n",
      "\n",
      "1\n",
      "5\n",
      "7\n",
      "67\n",
      "5\n"
     ]
    }
   ],
   "source": [
    "# for loops\n",
    "# get a list of even numbers\n",
    "# get a list of odd numbers\n",
    "\n",
    "# create separate even and odd lists to append the results into:\n",
    "\n",
    "even = []\n",
    "odd = []\n",
    "\n",
    "for i in A:   # declaring a for loop\n",
    "  # i/2 = check for even condition\n",
    "  if (i % 2 == 0):\n",
    "    print(f'Number {i} is even')\n",
    "    #print('Number {0} is even'.format(i))        # another way to print with the format method\n",
    "    even.append(i)                                # add the even value to the even list\n",
    "  else:\n",
    "    print(f'Number {i} is odd')\n",
    "    #print('Number {0} is odd'.format(i))         # another way to print with the format method\n",
    "    odd.append(i)                                 # add the odd value to the odd list\n",
    "\n",
    "print('\\n')\n",
    "\n",
    "for item in A:       # prints the contents of the original list\n",
    "  print(item)\n",
    "\n",
    "print('\\n')\n",
    "\n",
    "for mierda in even:   # prints the contents of the even list\n",
    "  print(mierda)\n",
    "\n",
    "print('\\n')\n",
    "\n",
    "for foo in odd:         # prints the contents of the odd list\n",
    "  print(foo)"
   ]
  },
  {
   "cell_type": "code",
   "execution_count": 95,
   "metadata": {
    "colab": {
     "base_uri": "https://localhost:8080/"
    },
    "executionInfo": {
     "elapsed": 384,
     "status": "ok",
     "timestamp": 1624927596791,
     "user": {
      "displayName": "Joel Brigida",
      "photoUrl": "https://lh3.googleusercontent.com/a-/AOh14GjLuPhoLSagAzXEvky112_2xhzsY9z-QJ9CaJ-flQRlbBAaET1LRDCdV6ZBcZB4MbcMXlz7zs4Ka2gYuCX9ABdXbgifilihnFf3iFKt4j1Wu0YBJMBJAon9bDzuaStiqy9iRN3AupZsJmkjkSLIylSqe9BYA7Zl87C_A7CJdO4le4um0lUIvaIVMayFf6foQu1IcO3uNpyyWyUMW6P1ytjwgu3Yubmr7d1D_QuXhGgqkbJIUO7GYu9hsTihq5xT-mdmqO9s3_PZ1SKd7GHWQ4pRBxC9qoQl0z0KFw79Fhg0_-UoVLdxXUrLB93J9MN-HGBqgq9TF0SrRYWMyg2SX07lpx9t8fc4Ksvz2EMxDzmcwaLamXIi-xDy0ePOqfaDcoruHVkvEoXt7gDVmXPjrB2n6YFpuZ1i2d_k3w9DhtCZ0U3T26DWOnB4pzMUv7p-RTkIvXlefJX_811bRhbCDQlRYgmTC7tY0FkdI7S15m1h1HzW8dRxeliuNfu_SA37Q4WvEwMjdBKkyDgn25DtkU905tORD8XzOFKTQ012jTAvK-AREGa1XdUGcL5OUgc4KpSdsSCFPCcOh8YnM1BRIwUAiI19DT1aOBLa1F57E_0tht6Xrs6PAXTUHjARnMBUT8VhVMXGzyJot6xM0vvXEd7jw1oFX8LTKIEIzCMysAgw9HTpLqGt9WrLBVbpUqiZYgjKkFX-13i6EtLOZek5xUQ7WuBdqwkg4-GidhWCIGhB9Q8ojicXEIWAt26isLs9mf4qkA=s64",
      "userId": "17944099373685830598"
     },
     "user_tz": 240
    },
    "id": "ovg1yihcBt_5",
    "outputId": "cd04b588-00f4-42fe-e552-e7141e7e1b00"
   },
   "outputs": [
    {
     "name": "stdout",
     "output_type": "stream",
     "text": [
      "[1, 4, 6, 5, 7, 54, 4, 6, 67, 5, 234]\n",
      "\n",
      "\n",
      "6\n",
      "5\n",
      "7\n",
      "54\n",
      "4\n"
     ]
    }
   ],
   "source": [
    "# while loop that iterates over list A from above\n",
    "\n",
    "print(A)        # print list A from above\n",
    "print('\\n')     # print a newline\n",
    "\n",
    "i = 2           # set loop counter for starting list index\n",
    "done = False    # set loop control variable\n",
    "\n",
    "while (done == False):  # declare while loop\n",
    "  print(A[i])           # starts printing at the i-th index of A\n",
    "  i += 1                # increment loop counter: shorthand notation for \"i = i + 1\"\n",
    "  if i == 7:\n",
    "    done = True\n",
    "\n"
   ]
  },
  {
   "cell_type": "markdown",
   "metadata": {
    "id": "RYIpotzfCjR5"
   },
   "source": [
    "# 5) Functions\n",
    "---"
   ]
  },
  {
   "cell_type": "code",
   "execution_count": 96,
   "metadata": {
    "colab": {
     "base_uri": "https://localhost:8080/",
     "height": 35
    },
    "executionInfo": {
     "elapsed": 137,
     "status": "ok",
     "timestamp": 1624840753332,
     "user": {
      "displayName": "Joel Brigida",
      "photoUrl": "https://lh3.googleusercontent.com/a-/AOh14GgGXNq9PqKnAmovz0PldSrj9GYYg2mh1yjKekB-ZBbRpSkEaQxGCE90UmURR8IVIH8tbvsuS-800oDolYGHzEbSnyn2Fr4VpZJD8g45_5BuZ9eekhofi2_OIsm-VbeKrGcnyaCX2zcxErsRnXLO_D_FO2AL-jj3bgQbAQ5yQ7aouAmlKZy_ntoqlHTfA0GD8pnyg3wFBHducF75gXVRS5N0vu2h0axtGj8v5-i3Umy_f5BrbbbXs1rrRbKlu8GFQFuA-MR8FIFc__3Zc-IJSmdt6eJCixvu0XBD5kwXm2olqH4kKAImTaGwlyDhwYEAmLBiN6KZO6J3TBiyHDQuHBMNQkgEd-uquFSKqgLXOSnmOFo7MChmFVe5vr8qdThy0kCwx12RArUPfFu8y4JAGujuvmGV0_SXFn6C13XlFO4XFMT0quR8BTys5SPula2PX75HM6ZZgtDzVngqcmAQrECxPnOfA9qhqcYV2WLn-3sAAxu_FM1uxlbDZUanLizrG5CSBWY91a3AttGFNQJUBWeioqZ59rLehD4VItYgCJiMQgwUeKow7oIovdCeN0_fvMSWpoNGuOlbjZCJWGJxRLBgvulFvepp8UFSuh7-JNfLIsJnM-qruD9cStLX3GmLLGHktAFLuh0T4B8ohcUaaN48Ko_9VW5cOB0CmRVy9Qug3GX0sUMoQNu4RhGSXwC1coXMsS1AToHmbEqDvjPMZLMQZjf0_oh0OYzpMuIJmct4vdvdoLcDfNpsL-LUI2LyWUTK6A=s64",
      "userId": "17944099373685830598"
     },
     "user_tz": 240
    },
    "id": "M_cR6acLC8Jh",
    "outputId": "cd9d33c5-dbf6-47a2-be6f-6be972934449"
   },
   "outputs": [
    {
     "data": {
      "text/plain": [
       "'\\nSample Function in python:\\n\\nA function to capitalize the 1st letter in a word:\\n\\ninput --> string\\noutput --> string\\nword --> word\\n\\nA function that squares the input\\nA function that finds the area\\n\\n'"
      ]
     },
     "execution_count": 96,
     "metadata": {},
     "output_type": "execute_result"
    }
   ],
   "source": [
    "'''\n",
    "Sample Function in python:\n",
    "\n",
    "A function to capitalize the 1st letter in a word:\n",
    "\n",
    "input --> string\n",
    "output --> string\n",
    "word --> word\n",
    "\n",
    "A function that squares the input\n",
    "A function that finds the area\n",
    "\n",
    "'''"
   ]
  },
  {
   "cell_type": "code",
   "execution_count": 97,
   "metadata": {
    "id": "1bZkfKTODmT6"
   },
   "outputs": [
    {
     "data": {
      "text/plain": [
       "'\\ndef NAME(LIST OF ARGS)\\n  Code Block\\n  return statement (optional)\\n\\ndef square(n)\\n  return n*n\\n  print(lasfl)    <-- will not be executed because its after the return statement\\n'"
      ]
     },
     "execution_count": 97,
     "metadata": {},
     "output_type": "execute_result"
    }
   ],
   "source": [
    "'''\n",
    "def NAME(LIST OF ARGS)\n",
    "  Code Block\n",
    "  return statement (optional)\n",
    "\n",
    "def square(n)\n",
    "  return n*n\n",
    "  print(lasfl)    <-- will not be executed because its after the return statement\n",
    "'''\n"
   ]
  },
  {
   "cell_type": "code",
   "execution_count": 1,
   "metadata": {
    "id": "Ab8_1YRbD2fE"
   },
   "outputs": [
    {
     "data": {
      "text/plain": [
       "38"
      ]
     },
     "execution_count": 1,
     "metadata": {},
     "output_type": "execute_result"
    }
   ],
   "source": [
    "# if we want to define a function f(x) = 3(x^2) + 2x + 5\n",
    "\n",
    "def f(x):   # declares a function \"f\" which takes the argument \"x\" (remember Calc class?)\n",
    "  return 3*(x**2) + (2*x) + 5    # some arbitrary function which we can plug \"x\" values into and get an output:\n",
    "\n",
    "f(3) # plug in any value to test output"
   ]
  },
  {
   "cell_type": "code",
   "execution_count": 3,
   "metadata": {
    "id": "dCInYreVEL4B"
   },
   "outputs": [],
   "source": [
    "# define a function for calculating a tip:\n",
    "\n",
    "def Tip(bill, percent):\n",
    "  tip_amt = (percent/100) * bill\n",
    "  gnd_total = bill + tip_amt\n",
    "  return gnd_total, tip_amt, bill, percent"
   ]
  },
  {
   "cell_type": "code",
   "execution_count": 4,
   "metadata": {
    "colab": {
     "base_uri": "https://localhost:8080/"
    },
    "executionInfo": {
     "elapsed": 117,
     "status": "ok",
     "timestamp": 1624935339419,
     "user": {
      "displayName": "Joel Brigida",
      "photoUrl": "https://lh3.googleusercontent.com/a-/AOh14GjLuPhoLSagAzXEvky112_2xhzsY9z-QJ9CaJ-flQRlbBAaET1LRDCdV6ZBcZB4MbcMXlz7zs4Ka2gYuCX9ABdXbgifilihnFf3iFKt4j1Wu0YBJMBJAon9bDzuaStiqy9iRN3AupZsJmkjkSLIylSqe9BYA7Zl87C_A7CJdO4le4um0lUIvaIVMayFf6foQu1IcO3uNpyyWyUMW6P1ytjwgu3Yubmr7d1D_QuXhGgqkbJIUO7GYu9hsTihq5xT-mdmqO9s3_PZ1SKd7GHWQ4pRBxC9qoQl0z0KFw79Fhg0_-UoVLdxXUrLB93J9MN-HGBqgq9TF0SrRYWMyg2SX07lpx9t8fc4Ksvz2EMxDzmcwaLamXIi-xDy0ePOqfaDcoruHVkvEoXt7gDVmXPjrB2n6YFpuZ1i2d_k3w9DhtCZ0U3T26DWOnB4pzMUv7p-RTkIvXlefJX_811bRhbCDQlRYgmTC7tY0FkdI7S15m1h1HzW8dRxeliuNfu_SA37Q4WvEwMjdBKkyDgn25DtkU905tORD8XzOFKTQ012jTAvK-AREGa1XdUGcL5OUgc4KpSdsSCFPCcOh8YnM1BRIwUAiI19DT1aOBLa1F57E_0tht6Xrs6PAXTUHjARnMBUT8VhVMXGzyJot6xM0vvXEd7jw1oFX8LTKIEIzCMysAgw9HTpLqGt9WrLBVbpUqiZYgjKkFX-13i6EtLOZek5xUQ7WuBdqwkg4-GidhWCIGhB9Q8ojicXEIWAt26isLs9mf4qkA=s64",
      "userId": "17944099373685830598"
     },
     "user_tz": 240
    },
    "id": "3Z6BmxXDEsiU",
    "outputId": "96b73b5c-18fa-4cdc-a7d6-8183db4d6f70"
   },
   "outputs": [
    {
     "data": {
      "text/plain": [
       "function"
      ]
     },
     "execution_count": 4,
     "metadata": {},
     "output_type": "execute_result"
    }
   ],
   "source": [
    "type(Tip)"
   ]
  },
  {
   "cell_type": "code",
   "execution_count": 5,
   "metadata": {
    "colab": {
     "base_uri": "https://localhost:8080/"
    },
    "executionInfo": {
     "elapsed": 116,
     "status": "ok",
     "timestamp": 1624935341694,
     "user": {
      "displayName": "Joel Brigida",
      "photoUrl": "https://lh3.googleusercontent.com/a-/AOh14GjLuPhoLSagAzXEvky112_2xhzsY9z-QJ9CaJ-flQRlbBAaET1LRDCdV6ZBcZB4MbcMXlz7zs4Ka2gYuCX9ABdXbgifilihnFf3iFKt4j1Wu0YBJMBJAon9bDzuaStiqy9iRN3AupZsJmkjkSLIylSqe9BYA7Zl87C_A7CJdO4le4um0lUIvaIVMayFf6foQu1IcO3uNpyyWyUMW6P1ytjwgu3Yubmr7d1D_QuXhGgqkbJIUO7GYu9hsTihq5xT-mdmqO9s3_PZ1SKd7GHWQ4pRBxC9qoQl0z0KFw79Fhg0_-UoVLdxXUrLB93J9MN-HGBqgq9TF0SrRYWMyg2SX07lpx9t8fc4Ksvz2EMxDzmcwaLamXIi-xDy0ePOqfaDcoruHVkvEoXt7gDVmXPjrB2n6YFpuZ1i2d_k3w9DhtCZ0U3T26DWOnB4pzMUv7p-RTkIvXlefJX_811bRhbCDQlRYgmTC7tY0FkdI7S15m1h1HzW8dRxeliuNfu_SA37Q4WvEwMjdBKkyDgn25DtkU905tORD8XzOFKTQ012jTAvK-AREGa1XdUGcL5OUgc4KpSdsSCFPCcOh8YnM1BRIwUAiI19DT1aOBLa1F57E_0tht6Xrs6PAXTUHjARnMBUT8VhVMXGzyJot6xM0vvXEd7jw1oFX8LTKIEIzCMysAgw9HTpLqGt9WrLBVbpUqiZYgjKkFX-13i6EtLOZek5xUQ7WuBdqwkg4-GidhWCIGhB9Q8ojicXEIWAt26isLs9mf4qkA=s64",
      "userId": "17944099373685830598"
     },
     "user_tz": 240
    },
    "id": "dcrHbf5UFaxI",
    "outputId": "a5582f2f-ba69-4b4a-c37c-676992bdb363"
   },
   "outputs": [
    {
     "data": {
      "text/plain": [
       "(120.0, 20.0, 100, 20)"
      ]
     },
     "execution_count": 5,
     "metadata": {},
     "output_type": "execute_result"
    }
   ],
   "source": [
    "Tip(100, 20)"
   ]
  },
  {
   "cell_type": "code",
   "execution_count": 6,
   "metadata": {
    "colab": {
     "base_uri": "https://localhost:8080/"
    },
    "executionInfo": {
     "elapsed": 125,
     "status": "ok",
     "timestamp": 1624935368535,
     "user": {
      "displayName": "Joel Brigida",
      "photoUrl": "https://lh3.googleusercontent.com/a-/AOh14GjLuPhoLSagAzXEvky112_2xhzsY9z-QJ9CaJ-flQRlbBAaET1LRDCdV6ZBcZB4MbcMXlz7zs4Ka2gYuCX9ABdXbgifilihnFf3iFKt4j1Wu0YBJMBJAon9bDzuaStiqy9iRN3AupZsJmkjkSLIylSqe9BYA7Zl87C_A7CJdO4le4um0lUIvaIVMayFf6foQu1IcO3uNpyyWyUMW6P1ytjwgu3Yubmr7d1D_QuXhGgqkbJIUO7GYu9hsTihq5xT-mdmqO9s3_PZ1SKd7GHWQ4pRBxC9qoQl0z0KFw79Fhg0_-UoVLdxXUrLB93J9MN-HGBqgq9TF0SrRYWMyg2SX07lpx9t8fc4Ksvz2EMxDzmcwaLamXIi-xDy0ePOqfaDcoruHVkvEoXt7gDVmXPjrB2n6YFpuZ1i2d_k3w9DhtCZ0U3T26DWOnB4pzMUv7p-RTkIvXlefJX_811bRhbCDQlRYgmTC7tY0FkdI7S15m1h1HzW8dRxeliuNfu_SA37Q4WvEwMjdBKkyDgn25DtkU905tORD8XzOFKTQ012jTAvK-AREGa1XdUGcL5OUgc4KpSdsSCFPCcOh8YnM1BRIwUAiI19DT1aOBLa1F57E_0tht6Xrs6PAXTUHjARnMBUT8VhVMXGzyJot6xM0vvXEd7jw1oFX8LTKIEIzCMysAgw9HTpLqGt9WrLBVbpUqiZYgjKkFX-13i6EtLOZek5xUQ7WuBdqwkg4-GidhWCIGhB9Q8ojicXEIWAt26isLs9mf4qkA=s64",
      "userId": "17944099373685830598"
     },
     "user_tz": 240
    },
    "id": "1S9gHc5mpXQJ",
    "outputId": "cdf8a578-194a-4b4e-b13d-91740c78079a"
   },
   "outputs": [
    {
     "data": {
      "text/plain": [
       "tuple"
      ]
     },
     "execution_count": 6,
     "metadata": {},
     "output_type": "execute_result"
    }
   ],
   "source": [
    "# this is a tuple: an immutable list where values are not changeable\n",
    "\n",
    "type(Tip(100, 20))"
   ]
  },
  {
   "cell_type": "code",
   "execution_count": 7,
   "metadata": {
    "id": "87vZixkjqfFK"
   },
   "outputs": [
    {
     "name": "stdout",
     "output_type": "stream",
     "text": [
      "(120.0, 20.0, 100, 20)\n"
     ]
    }
   ],
   "source": [
    "# store returned output values to a new variable \"some_tip\"\n",
    "\n",
    "some_tip = Tip(100, 20)\n",
    "print(some_tip)"
   ]
  },
  {
   "cell_type": "code",
   "execution_count": 8,
   "metadata": {
    "id": "LcLvVlOcq634"
   },
   "outputs": [
    {
     "name": "stdout",
     "output_type": "stream",
     "text": [
      "20.0\n"
     ]
    }
   ],
   "source": [
    "# the underscore tells python to skip the 1st, 3rd, and 4th returned output value.\n",
    "_, try_again, _, _, = Tip(100, 20)\n",
    "\n",
    "# note that try_again now only holds the one value\n",
    "print(try_again)"
   ]
  },
  {
   "cell_type": "markdown",
   "metadata": {
    "id": "RnBL_rN1v14m"
   },
   "source": [
    "## Simple Recursion"
   ]
  },
  {
   "cell_type": "code",
   "execution_count": 108,
   "metadata": {
    "id": "cy_yyID7uQDj"
   },
   "outputs": [],
   "source": [
    "def f1():\n",
    "    print(\"Moe\")\n",
    "\n",
    "def f2():           # function declaration\n",
    "    f4()            # function call to f4()\n",
    "    print(\"Meeny\")\n",
    "\n",
    "def f3():\n",
    "    f2()\n",
    "    print(\"Miney\")\n",
    "    f1()\n",
    "\n",
    "def f4():\n",
    "    print(\"Eeny\")"
   ]
  },
  {
   "cell_type": "code",
   "execution_count": 109,
   "metadata": {
    "colab": {
     "base_uri": "https://localhost:8080/"
    },
    "executionInfo": {
     "elapsed": 118,
     "status": "ok",
     "timestamp": 1624936206794,
     "user": {
      "displayName": "Joel Brigida",
      "photoUrl": "https://lh3.googleusercontent.com/a-/AOh14GjLuPhoLSagAzXEvky112_2xhzsY9z-QJ9CaJ-flQRlbBAaET1LRDCdV6ZBcZB4MbcMXlz7zs4Ka2gYuCX9ABdXbgifilihnFf3iFKt4j1Wu0YBJMBJAon9bDzuaStiqy9iRN3AupZsJmkjkSLIylSqe9BYA7Zl87C_A7CJdO4le4um0lUIvaIVMayFf6foQu1IcO3uNpyyWyUMW6P1ytjwgu3Yubmr7d1D_QuXhGgqkbJIUO7GYu9hsTihq5xT-mdmqO9s3_PZ1SKd7GHWQ4pRBxC9qoQl0z0KFw79Fhg0_-UoVLdxXUrLB93J9MN-HGBqgq9TF0SrRYWMyg2SX07lpx9t8fc4Ksvz2EMxDzmcwaLamXIi-xDy0ePOqfaDcoruHVkvEoXt7gDVmXPjrB2n6YFpuZ1i2d_k3w9DhtCZ0U3T26DWOnB4pzMUv7p-RTkIvXlefJX_811bRhbCDQlRYgmTC7tY0FkdI7S15m1h1HzW8dRxeliuNfu_SA37Q4WvEwMjdBKkyDgn25DtkU905tORD8XzOFKTQ012jTAvK-AREGa1XdUGcL5OUgc4KpSdsSCFPCcOh8YnM1BRIwUAiI19DT1aOBLa1F57E_0tht6Xrs6PAXTUHjARnMBUT8VhVMXGzyJot6xM0vvXEd7jw1oFX8LTKIEIzCMysAgw9HTpLqGt9WrLBVbpUqiZYgjKkFX-13i6EtLOZek5xUQ7WuBdqwkg4-GidhWCIGhB9Q8ojicXEIWAt26isLs9mf4qkA=s64",
      "userId": "17944099373685830598"
     },
     "user_tz": 240
    },
    "id": "70DyUGjRvPBD",
    "outputId": "1de89e75-121c-422e-ac8f-1eccc19b4847"
   },
   "outputs": [
    {
     "name": "stdout",
     "output_type": "stream",
     "text": [
      "Eeny\n",
      "Meeny\n"
     ]
    }
   ],
   "source": [
    "f2()"
   ]
  },
  {
   "cell_type": "code",
   "execution_count": 110,
   "metadata": {
    "colab": {
     "base_uri": "https://localhost:8080/"
    },
    "executionInfo": {
     "elapsed": 117,
     "status": "ok",
     "timestamp": 1624936212478,
     "user": {
      "displayName": "Joel Brigida",
      "photoUrl": "https://lh3.googleusercontent.com/a-/AOh14GjLuPhoLSagAzXEvky112_2xhzsY9z-QJ9CaJ-flQRlbBAaET1LRDCdV6ZBcZB4MbcMXlz7zs4Ka2gYuCX9ABdXbgifilihnFf3iFKt4j1Wu0YBJMBJAon9bDzuaStiqy9iRN3AupZsJmkjkSLIylSqe9BYA7Zl87C_A7CJdO4le4um0lUIvaIVMayFf6foQu1IcO3uNpyyWyUMW6P1ytjwgu3Yubmr7d1D_QuXhGgqkbJIUO7GYu9hsTihq5xT-mdmqO9s3_PZ1SKd7GHWQ4pRBxC9qoQl0z0KFw79Fhg0_-UoVLdxXUrLB93J9MN-HGBqgq9TF0SrRYWMyg2SX07lpx9t8fc4Ksvz2EMxDzmcwaLamXIi-xDy0ePOqfaDcoruHVkvEoXt7gDVmXPjrB2n6YFpuZ1i2d_k3w9DhtCZ0U3T26DWOnB4pzMUv7p-RTkIvXlefJX_811bRhbCDQlRYgmTC7tY0FkdI7S15m1h1HzW8dRxeliuNfu_SA37Q4WvEwMjdBKkyDgn25DtkU905tORD8XzOFKTQ012jTAvK-AREGa1XdUGcL5OUgc4KpSdsSCFPCcOh8YnM1BRIwUAiI19DT1aOBLa1F57E_0tht6Xrs6PAXTUHjARnMBUT8VhVMXGzyJot6xM0vvXEd7jw1oFX8LTKIEIzCMysAgw9HTpLqGt9WrLBVbpUqiZYgjKkFX-13i6EtLOZek5xUQ7WuBdqwkg4-GidhWCIGhB9Q8ojicXEIWAt26isLs9mf4qkA=s64",
      "userId": "17944099373685830598"
     },
     "user_tz": 240
    },
    "id": "uCaKGssSvtnM",
    "outputId": "a15f2ec5-fc00-4ff5-8d4b-ef1a65b03a74"
   },
   "outputs": [
    {
     "name": "stdout",
     "output_type": "stream",
     "text": [
      "Eeny\n",
      "Meeny\n",
      "Miney\n",
      "Moe\n"
     ]
    }
   ],
   "source": [
    "f3()"
   ]
  }
 ],
 "metadata": {
  "colab": {
   "collapsed_sections": [
    "LFw0L9kN7f0C",
    "WAq8E3QTfEuG",
    "4anUDinLkOFa",
    "OAne0z598UIr",
    "hssS7mIU9nUn"
   ],
   "name": "001_JB_Python_Intro.ipynb",
   "provenance": [
    {
     "file_id": "1Yjs79gefl0aVUN9bDYy9UE6etIRVjaOb",
     "timestamp": 1624889770307
    }
   ]
  },
  "kernelspec": {
   "display_name": "Python 3.9.12 ('base')",
   "language": "python",
   "name": "python3"
  },
  "language_info": {
   "codemirror_mode": {
    "name": "ipython",
    "version": 3
   },
   "file_extension": ".py",
   "mimetype": "text/x-python",
   "name": "python",
   "nbconvert_exporter": "python",
   "pygments_lexer": "ipython3",
   "version": "3.9.13"
  },
  "vscode": {
   "interpreter": {
    "hash": "a906719eb24c6be2b596ddc3d3a5af6aa9dceef416174b553d74a9f9263f1789"
   }
  }
 },
 "nbformat": 4,
 "nbformat_minor": 4
}
