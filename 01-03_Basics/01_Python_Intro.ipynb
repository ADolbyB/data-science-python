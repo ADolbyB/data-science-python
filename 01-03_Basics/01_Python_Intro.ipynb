{
 "cells": [
  {
   "attachments": {},
   "cell_type": "markdown",
   "metadata": {
    "id": "jULGphTzeVYV"
   },
   "source": [
    "# Data Science & Machine Learning Summer Workshop\n",
    "\n",
    "---\n",
    "\n"
   ]
  },
  {
   "attachments": {},
   "cell_type": "markdown",
   "metadata": {
    "id": "9HJ-1tFjxRW6"
   },
   "source": [
    "# \"Introducing Python\"\n",
    "\n",
    "Text Cell Lists:\n",
    "\n",
    "1. List item 1\n",
    "2. List item 2\n",
    "3. List Item 3"
   ]
  },
  {
   "attachments": {},
   "cell_type": "markdown",
   "metadata": {
    "id": "LFw0L9kN7f0C",
    "tags": []
   },
   "source": [
    "# 1) How to make a text list:\n",
    "---\n",
    "\n",
    "1. Must use a text cell (not a code cell)\n",
    "2. Use 3 back ticks to mark beginning / end of comment block.\n",
    "\n",
    "Code cell block in Markdown:\n",
    "\n",
    "```\n",
    "Like This\n",
    "Another comment line\n",
    "Here is the 3rd line\n",
    "```\n",
    "\n",
    "## Double pound sign makes it a sub-heading\n",
    "---"
   ]
  },
  {
   "cell_type": "code",
   "execution_count": 1,
   "metadata": {
    "id": "GybXI_tNDxd3"
   },
   "outputs": [
    {
     "data": {
      "text/plain": [
       "'\\nBlock comments:\\nBetween the 3 single quote marks are Block Comments\\n'"
      ]
     },
     "execution_count": 1,
     "metadata": {},
     "output_type": "execute_result"
    }
   ],
   "source": [
    "# This is a block comment inside a code cell\n",
    "\n",
    "'''\n",
    "Block comments:\n",
    "Between the 3 single quote marks are Block Comments\n",
    "'''"
   ]
  },
  {
   "attachments": {},
   "cell_type": "markdown",
   "metadata": {
    "id": "WAq8E3QTfEuG"
   },
   "source": [
    "# 2) Print Function\n",
    "---"
   ]
  },
  {
   "attachments": {},
   "cell_type": "markdown",
   "metadata": {
    "id": "9k9qGFJhBJib"
   },
   "source": [
    "Print Rules and Syntax:\n",
    "\n",
    "---"
   ]
  },
  {
   "cell_type": "code",
   "execution_count": 2,
   "metadata": {
    "colab": {
     "base_uri": "https://localhost:8080/"
    },
    "executionInfo": {
     "elapsed": 273,
     "status": "ok",
     "timestamp": 1624901544463,
     "user": {
      "displayName": "Joel Brigida",
      "photoUrl": "https://lh3.googleusercontent.com/a-/AOh14Gi5jpwxzxgci18vzsZ0Qc1QNoVi75SXgr4cWkdZpjZGk2Syca1WmIazn5PYyGztQLLf2-247MitLzLRfFhaU5OLW7AFQufXBNJS2QmA5vsE7HjfgeCfA4FuLJrWLsfWpZ1TU7i3xim3cbdvP0ZEZ9Z-59d9S8Ypjl5GoFpVhNtYTfDeLMTetGOVOtRdZDA5ivlkgPHBq0xOxAu2HvvAHceQoDmSLHgyzZe7-DJR7p7GEpF7Oba3KAhpgnpOyPMqIlThj5VbUFJdKfpmZLcPVK4comRa8UpTbXt7zcLynIUrDT7zksV188O02dFGQ6cbd2BuxHNzD5go87gFdYB6qufTu6bzefcnAR-FiAu9iju6BXyjkdb3k3VH_7J0gyspaGh0vejDKMJixoiey86c9neIcmKPQAvTh9dshGeAUCM4j8R-pfqEcxZ-bR1DetzRyIyZlB__NjHYmiJibMIkCj4yN0avYVy6TSMOYvJ2grOOM8LGzV-B5ywK5Kv1Kj-QrY0-TImnKpOak4xoEVU1upEL3gBdWMINne-lh6bOXrkcPqt0uAm_6f_GbOShut2n2W0UrJGh2vO0LvP2_zaYR5O4adJ3jw8LmQjuAddEPshV1_SZ8_9yoCL1rMgEJ2iST73lwqxPjOOiM4Z8P6M_ItEeHAny38L7k7KErUHcEAYfNs-p4i909AJnaPOAl3j01mJ79q6p1_yEjGmm3IRSfGlgqH2hn7bjyBG6TgXtk3nHdOvMzP9SkeGhU8CkvKwdVnjdYg=s64",
      "userId": "17944099373685830598"
     },
     "user_tz": 240
    },
    "id": "jlB-4RRhe1FM",
    "outputId": "bf08bf5f-39f5-4029-9972-fc28963498ee"
   },
   "outputs": [
    {
     "name": "stdout",
     "output_type": "stream",
     "text": [
      "This is the text we are printing\n",
      "Hello DS&ML CLub!\n",
      "Current Python Version on Google Colab is: ['Python 3.10.9']\n",
      "Hello---how are you?\n",
      "\n",
      "\n",
      "Hello DS&ML Club!\n",
      "This is the first session of many to come.\n",
      "Hope to see everyone next week!\n",
      "\n",
      "Hello DS&ML Club!\\nThis is the first session of many to come.\\nHope to see everyone next week!\n",
      "Here is the Python Version we are using Python 3.10.9. Using f-string format\n",
      "Here is the Python Version we are using ['Python 3.10.9']. Using f-string list type format\n",
      "Here is the Python Version we are using {v[0]}. W/O f-string format\n"
     ]
    }
   ],
   "source": [
    "print('This is the text we are printing')\n",
    "\n",
    "print('Hello DS&ML CLub!')\n",
    "\n",
    "# assign version to a variable \"v\"\n",
    "v = !python --version\n",
    "print('Current Python Version on Google Colab is:', v) # print variable v in list format at the end of the string\n",
    "\n",
    "print(\"Hello\", \"how are you?\", sep=\"---\") # insert the \"---\" at the separation\n",
    "print('\\n') # \\n to start text at a new line\n",
    "\n",
    "print('Hello DS&ML Club!\\nThis is the first session of many to come.\\nHope to see everyone next week!\\n')   # conventional print mode uses escape sequences.\n",
    "\n",
    "print(r'Hello DS&ML Club!\\nThis is the first session of many to come.\\nHope to see everyone next week!')    # \"Reader\" print mode: reads text and prints as it is entered.\n",
    "\n",
    "print(f'Here is the Python Version we are using {v[0]}. Using f-string format') # uses f-string format to insert variables into the string content.\n",
    "print(f'Here is the Python Version we are using {v}. Using f-string list type format')    # with list format\n",
    "print('Here is the Python Version we are using {v[0]}. W/O f-string format')    # w/o \"f\" prints the {v[0]} as a string variable\n",
    "\n"
   ]
  },
  {
   "cell_type": "code",
   "execution_count": 3,
   "metadata": {
    "colab": {
     "base_uri": "https://localhost:8080/"
    },
    "executionInfo": {
     "elapsed": 283,
     "status": "ok",
     "timestamp": 1624901370368,
     "user": {
      "displayName": "Joel Brigida",
      "photoUrl": "https://lh3.googleusercontent.com/a-/AOh14Gi5jpwxzxgci18vzsZ0Qc1QNoVi75SXgr4cWkdZpjZGk2Syca1WmIazn5PYyGztQLLf2-247MitLzLRfFhaU5OLW7AFQufXBNJS2QmA5vsE7HjfgeCfA4FuLJrWLsfWpZ1TU7i3xim3cbdvP0ZEZ9Z-59d9S8Ypjl5GoFpVhNtYTfDeLMTetGOVOtRdZDA5ivlkgPHBq0xOxAu2HvvAHceQoDmSLHgyzZe7-DJR7p7GEpF7Oba3KAhpgnpOyPMqIlThj5VbUFJdKfpmZLcPVK4comRa8UpTbXt7zcLynIUrDT7zksV188O02dFGQ6cbd2BuxHNzD5go87gFdYB6qufTu6bzefcnAR-FiAu9iju6BXyjkdb3k3VH_7J0gyspaGh0vejDKMJixoiey86c9neIcmKPQAvTh9dshGeAUCM4j8R-pfqEcxZ-bR1DetzRyIyZlB__NjHYmiJibMIkCj4yN0avYVy6TSMOYvJ2grOOM8LGzV-B5ywK5Kv1Kj-QrY0-TImnKpOak4xoEVU1upEL3gBdWMINne-lh6bOXrkcPqt0uAm_6f_GbOShut2n2W0UrJGh2vO0LvP2_zaYR5O4adJ3jw8LmQjuAddEPshV1_SZ8_9yoCL1rMgEJ2iST73lwqxPjOOiM4Z8P6M_ItEeHAny38L7k7KErUHcEAYfNs-p4i909AJnaPOAl3j01mJ79q6p1_yEjGmm3IRSfGlgqH2hn7bjyBG6TgXtk3nHdOvMzP9SkeGhU8CkvKwdVnjdYg=s64",
      "userId": "17944099373685830598"
     },
     "user_tz": 240
    },
    "id": "U-9dMLLZ6hzN",
    "outputId": "9a61e9b2-ab12-4960-f148-ba28b65b0ba0"
   },
   "outputs": [
    {
     "name": "stdout",
     "output_type": "stream",
     "text": [
      "Hello World!\n"
     ]
    }
   ],
   "source": [
    "# general print statment for test output\n",
    "\n",
    "print('Hello World!')"
   ]
  },
  {
   "cell_type": "code",
   "execution_count": 4,
   "metadata": {
    "colab": {
     "base_uri": "https://localhost:8080/"
    },
    "executionInfo": {
     "elapsed": 294,
     "status": "ok",
     "timestamp": 1624901371558,
     "user": {
      "displayName": "Joel Brigida",
      "photoUrl": "https://lh3.googleusercontent.com/a-/AOh14Gi5jpwxzxgci18vzsZ0Qc1QNoVi75SXgr4cWkdZpjZGk2Syca1WmIazn5PYyGztQLLf2-247MitLzLRfFhaU5OLW7AFQufXBNJS2QmA5vsE7HjfgeCfA4FuLJrWLsfWpZ1TU7i3xim3cbdvP0ZEZ9Z-59d9S8Ypjl5GoFpVhNtYTfDeLMTetGOVOtRdZDA5ivlkgPHBq0xOxAu2HvvAHceQoDmSLHgyzZe7-DJR7p7GEpF7Oba3KAhpgnpOyPMqIlThj5VbUFJdKfpmZLcPVK4comRa8UpTbXt7zcLynIUrDT7zksV188O02dFGQ6cbd2BuxHNzD5go87gFdYB6qufTu6bzefcnAR-FiAu9iju6BXyjkdb3k3VH_7J0gyspaGh0vejDKMJixoiey86c9neIcmKPQAvTh9dshGeAUCM4j8R-pfqEcxZ-bR1DetzRyIyZlB__NjHYmiJibMIkCj4yN0avYVy6TSMOYvJ2grOOM8LGzV-B5ywK5Kv1Kj-QrY0-TImnKpOak4xoEVU1upEL3gBdWMINne-lh6bOXrkcPqt0uAm_6f_GbOShut2n2W0UrJGh2vO0LvP2_zaYR5O4adJ3jw8LmQjuAddEPshV1_SZ8_9yoCL1rMgEJ2iST73lwqxPjOOiM4Z8P6M_ItEeHAny38L7k7KErUHcEAYfNs-p4i909AJnaPOAl3j01mJ79q6p1_yEjGmm3IRSfGlgqH2hn7bjyBG6TgXtk3nHdOvMzP9SkeGhU8CkvKwdVnjdYg=s64",
      "userId": "17944099373685830598"
     },
     "user_tz": 240
    },
    "id": "4F01R3eFE5_Q",
    "outputId": "407cc322-a8dc-4a26-f9cf-07ddc02dace5"
   },
   "outputs": [
    {
     "name": "stdout",
     "output_type": "stream",
     "text": [
      "firstline \n",
      "second line\n"
     ]
    }
   ],
   "source": [
    "# demonstration of the newline escape sequence\n",
    "\n",
    "print('firstline \\nsecond line')"
   ]
  },
  {
   "cell_type": "code",
   "execution_count": 5,
   "metadata": {
    "colab": {
     "base_uri": "https://localhost:8080/"
    },
    "executionInfo": {
     "elapsed": 276,
     "status": "ok",
     "timestamp": 1624901374112,
     "user": {
      "displayName": "Joel Brigida",
      "photoUrl": "https://lh3.googleusercontent.com/a-/AOh14Gi5jpwxzxgci18vzsZ0Qc1QNoVi75SXgr4cWkdZpjZGk2Syca1WmIazn5PYyGztQLLf2-247MitLzLRfFhaU5OLW7AFQufXBNJS2QmA5vsE7HjfgeCfA4FuLJrWLsfWpZ1TU7i3xim3cbdvP0ZEZ9Z-59d9S8Ypjl5GoFpVhNtYTfDeLMTetGOVOtRdZDA5ivlkgPHBq0xOxAu2HvvAHceQoDmSLHgyzZe7-DJR7p7GEpF7Oba3KAhpgnpOyPMqIlThj5VbUFJdKfpmZLcPVK4comRa8UpTbXt7zcLynIUrDT7zksV188O02dFGQ6cbd2BuxHNzD5go87gFdYB6qufTu6bzefcnAR-FiAu9iju6BXyjkdb3k3VH_7J0gyspaGh0vejDKMJixoiey86c9neIcmKPQAvTh9dshGeAUCM4j8R-pfqEcxZ-bR1DetzRyIyZlB__NjHYmiJibMIkCj4yN0avYVy6TSMOYvJ2grOOM8LGzV-B5ywK5Kv1Kj-QrY0-TImnKpOak4xoEVU1upEL3gBdWMINne-lh6bOXrkcPqt0uAm_6f_GbOShut2n2W0UrJGh2vO0LvP2_zaYR5O4adJ3jw8LmQjuAddEPshV1_SZ8_9yoCL1rMgEJ2iST73lwqxPjOOiM4Z8P6M_ItEeHAny38L7k7KErUHcEAYfNs-p4i909AJnaPOAl3j01mJ79q6p1_yEjGmm3IRSfGlgqH2hn7bjyBG6TgXtk3nHdOvMzP9SkeGhU8CkvKwdVnjdYg=s64",
      "userId": "17944099373685830598"
     },
     "user_tz": 240
    },
    "id": "x-nT0qpCfaU5",
    "outputId": "e46663ff-efe8-42aa-efc8-989223a3381d"
   },
   "outputs": [
    {
     "name": "stdout",
     "output_type": "stream",
     "text": [
      "['Python 3.10.9']\n"
     ]
    }
   ],
   "source": [
    "# print value of \"v\" again in list [''] format\n",
    "\n",
    "print(v)"
   ]
  },
  {
   "cell_type": "code",
   "execution_count": 6,
   "metadata": {
    "colab": {
     "base_uri": "https://localhost:8080/",
     "height": 35
    },
    "executionInfo": {
     "elapsed": 16,
     "status": "ok",
     "timestamp": 1624901375211,
     "user": {
      "displayName": "Joel Brigida",
      "photoUrl": "https://lh3.googleusercontent.com/a-/AOh14Gi5jpwxzxgci18vzsZ0Qc1QNoVi75SXgr4cWkdZpjZGk2Syca1WmIazn5PYyGztQLLf2-247MitLzLRfFhaU5OLW7AFQufXBNJS2QmA5vsE7HjfgeCfA4FuLJrWLsfWpZ1TU7i3xim3cbdvP0ZEZ9Z-59d9S8Ypjl5GoFpVhNtYTfDeLMTetGOVOtRdZDA5ivlkgPHBq0xOxAu2HvvAHceQoDmSLHgyzZe7-DJR7p7GEpF7Oba3KAhpgnpOyPMqIlThj5VbUFJdKfpmZLcPVK4comRa8UpTbXt7zcLynIUrDT7zksV188O02dFGQ6cbd2BuxHNzD5go87gFdYB6qufTu6bzefcnAR-FiAu9iju6BXyjkdb3k3VH_7J0gyspaGh0vejDKMJixoiey86c9neIcmKPQAvTh9dshGeAUCM4j8R-pfqEcxZ-bR1DetzRyIyZlB__NjHYmiJibMIkCj4yN0avYVy6TSMOYvJ2grOOM8LGzV-B5ywK5Kv1Kj-QrY0-TImnKpOak4xoEVU1upEL3gBdWMINne-lh6bOXrkcPqt0uAm_6f_GbOShut2n2W0UrJGh2vO0LvP2_zaYR5O4adJ3jw8LmQjuAddEPshV1_SZ8_9yoCL1rMgEJ2iST73lwqxPjOOiM4Z8P6M_ItEeHAny38L7k7KErUHcEAYfNs-p4i909AJnaPOAl3j01mJ79q6p1_yEjGmm3IRSfGlgqH2hn7bjyBG6TgXtk3nHdOvMzP9SkeGhU8CkvKwdVnjdYg=s64",
      "userId": "17944099373685830598"
     },
     "user_tz": 240
    },
    "id": "dW9hlOG6-fLw",
    "outputId": "2ba8ca24-98e8-46b0-a601-9c89e54eb6dd"
   },
   "outputs": [
    {
     "name": "stdout",
     "output_type": "stream",
     "text": [
      "Python 3.10.9\n",
      "'Python 3.10.9'\n"
     ]
    },
    {
     "data": {
      "text/plain": [
       "'Python 3.10.9'"
      ]
     },
     "execution_count": 6,
     "metadata": {},
     "output_type": "execute_result"
    }
   ],
   "source": [
    "# print without brackets\n",
    "\n",
    "print(v[0])\n",
    "print('\\'' + v[0] + '\\'')\n",
    "\n",
    "v[0] # Prints with single quotes"
   ]
  },
  {
   "cell_type": "code",
   "execution_count": 7,
   "metadata": {
    "colab": {
     "base_uri": "https://localhost:8080/"
    },
    "executionInfo": {
     "elapsed": 10,
     "status": "ok",
     "timestamp": 1624901376374,
     "user": {
      "displayName": "Joel Brigida",
      "photoUrl": "https://lh3.googleusercontent.com/a-/AOh14Gi5jpwxzxgci18vzsZ0Qc1QNoVi75SXgr4cWkdZpjZGk2Syca1WmIazn5PYyGztQLLf2-247MitLzLRfFhaU5OLW7AFQufXBNJS2QmA5vsE7HjfgeCfA4FuLJrWLsfWpZ1TU7i3xim3cbdvP0ZEZ9Z-59d9S8Ypjl5GoFpVhNtYTfDeLMTetGOVOtRdZDA5ivlkgPHBq0xOxAu2HvvAHceQoDmSLHgyzZe7-DJR7p7GEpF7Oba3KAhpgnpOyPMqIlThj5VbUFJdKfpmZLcPVK4comRa8UpTbXt7zcLynIUrDT7zksV188O02dFGQ6cbd2BuxHNzD5go87gFdYB6qufTu6bzefcnAR-FiAu9iju6BXyjkdb3k3VH_7J0gyspaGh0vejDKMJixoiey86c9neIcmKPQAvTh9dshGeAUCM4j8R-pfqEcxZ-bR1DetzRyIyZlB__NjHYmiJibMIkCj4yN0avYVy6TSMOYvJ2grOOM8LGzV-B5ywK5Kv1Kj-QrY0-TImnKpOak4xoEVU1upEL3gBdWMINne-lh6bOXrkcPqt0uAm_6f_GbOShut2n2W0UrJGh2vO0LvP2_zaYR5O4adJ3jw8LmQjuAddEPshV1_SZ8_9yoCL1rMgEJ2iST73lwqxPjOOiM4Z8P6M_ItEeHAny38L7k7KErUHcEAYfNs-p4i909AJnaPOAl3j01mJ79q6p1_yEjGmm3IRSfGlgqH2hn7bjyBG6TgXtk3nHdOvMzP9SkeGhU8CkvKwdVnjdYg=s64",
      "userId": "17944099373685830598"
     },
     "user_tz": 240
    },
    "id": "fc3R2Ziw7LLx",
    "outputId": "6b3d1f88-a00c-4326-9628-69e70ee25703"
   },
   "outputs": [
    {
     "name": "stdout",
     "output_type": "stream",
     "text": [
      "Current Python Version on Google Colab is: ['Python 3.10.9']\n",
      "Current Python Version on Google Colab is: Python 3.10.9\n"
     ]
    }
   ],
   "source": [
    "print('Current Python Version on Google Colab is:', v ) # print variable in list format\n",
    "print('Current Python Version on Google Colab is:', v[0]) # non list format"
   ]
  },
  {
   "attachments": {},
   "cell_type": "markdown",
   "metadata": {},
   "source": [
    "#### Identifying Variable Types:"
   ]
  },
  {
   "cell_type": "code",
   "execution_count": 8,
   "metadata": {
    "colab": {
     "base_uri": "https://localhost:8080/"
    },
    "executionInfo": {
     "elapsed": 274,
     "status": "ok",
     "timestamp": 1624901378824,
     "user": {
      "displayName": "Joel Brigida",
      "photoUrl": "https://lh3.googleusercontent.com/a-/AOh14Gi5jpwxzxgci18vzsZ0Qc1QNoVi75SXgr4cWkdZpjZGk2Syca1WmIazn5PYyGztQLLf2-247MitLzLRfFhaU5OLW7AFQufXBNJS2QmA5vsE7HjfgeCfA4FuLJrWLsfWpZ1TU7i3xim3cbdvP0ZEZ9Z-59d9S8Ypjl5GoFpVhNtYTfDeLMTetGOVOtRdZDA5ivlkgPHBq0xOxAu2HvvAHceQoDmSLHgyzZe7-DJR7p7GEpF7Oba3KAhpgnpOyPMqIlThj5VbUFJdKfpmZLcPVK4comRa8UpTbXt7zcLynIUrDT7zksV188O02dFGQ6cbd2BuxHNzD5go87gFdYB6qufTu6bzefcnAR-FiAu9iju6BXyjkdb3k3VH_7J0gyspaGh0vejDKMJixoiey86c9neIcmKPQAvTh9dshGeAUCM4j8R-pfqEcxZ-bR1DetzRyIyZlB__NjHYmiJibMIkCj4yN0avYVy6TSMOYvJ2grOOM8LGzV-B5ywK5Kv1Kj-QrY0-TImnKpOak4xoEVU1upEL3gBdWMINne-lh6bOXrkcPqt0uAm_6f_GbOShut2n2W0UrJGh2vO0LvP2_zaYR5O4adJ3jw8LmQjuAddEPshV1_SZ8_9yoCL1rMgEJ2iST73lwqxPjOOiM4Z8P6M_ItEeHAny38L7k7KErUHcEAYfNs-p4i909AJnaPOAl3j01mJ79q6p1_yEjGmm3IRSfGlgqH2hn7bjyBG6TgXtk3nHdOvMzP9SkeGhU8CkvKwdVnjdYg=s64",
      "userId": "17944099373685830598"
     },
     "user_tz": 240
    },
    "id": "NAin1m1Nzmq4",
    "outputId": "b4a4bc2e-ab47-4016-ba2a-170fc96b46b3"
   },
   "outputs": [
    {
     "name": "stdout",
     "output_type": "stream",
     "text": [
      "<class 'IPython.utils.text.SList'>\n"
     ]
    },
    {
     "data": {
      "text/plain": [
       "IPython.utils.text.SList"
      ]
     },
     "execution_count": 8,
     "metadata": {},
     "output_type": "execute_result"
    }
   ],
   "source": [
    "# what type of variable is \"v\"?\n",
    "# it is a list...\n",
    "\n",
    "# note the difference in each output:\n",
    "print(type(v))\n",
    "type(v)"
   ]
  },
  {
   "attachments": {},
   "cell_type": "markdown",
   "metadata": {},
   "source": [
    "#### Using Formatted Print Method:"
   ]
  },
  {
   "cell_type": "code",
   "execution_count": 9,
   "metadata": {
    "colab": {
     "base_uri": "https://localhost:8080/"
    },
    "executionInfo": {
     "elapsed": 271,
     "status": "ok",
     "timestamp": 1624902123365,
     "user": {
      "displayName": "Joel Brigida",
      "photoUrl": "https://lh3.googleusercontent.com/a-/AOh14Gi5jpwxzxgci18vzsZ0Qc1QNoVi75SXgr4cWkdZpjZGk2Syca1WmIazn5PYyGztQLLf2-247MitLzLRfFhaU5OLW7AFQufXBNJS2QmA5vsE7HjfgeCfA4FuLJrWLsfWpZ1TU7i3xim3cbdvP0ZEZ9Z-59d9S8Ypjl5GoFpVhNtYTfDeLMTetGOVOtRdZDA5ivlkgPHBq0xOxAu2HvvAHceQoDmSLHgyzZe7-DJR7p7GEpF7Oba3KAhpgnpOyPMqIlThj5VbUFJdKfpmZLcPVK4comRa8UpTbXt7zcLynIUrDT7zksV188O02dFGQ6cbd2BuxHNzD5go87gFdYB6qufTu6bzefcnAR-FiAu9iju6BXyjkdb3k3VH_7J0gyspaGh0vejDKMJixoiey86c9neIcmKPQAvTh9dshGeAUCM4j8R-pfqEcxZ-bR1DetzRyIyZlB__NjHYmiJibMIkCj4yN0avYVy6TSMOYvJ2grOOM8LGzV-B5ywK5Kv1Kj-QrY0-TImnKpOak4xoEVU1upEL3gBdWMINne-lh6bOXrkcPqt0uAm_6f_GbOShut2n2W0UrJGh2vO0LvP2_zaYR5O4adJ3jw8LmQjuAddEPshV1_SZ8_9yoCL1rMgEJ2iST73lwqxPjOOiM4Z8P6M_ItEeHAny38L7k7KErUHcEAYfNs-p4i909AJnaPOAl3j01mJ79q6p1_yEjGmm3IRSfGlgqH2hn7bjyBG6TgXtk3nHdOvMzP9SkeGhU8CkvKwdVnjdYg=s64",
      "userId": "17944099373685830598"
     },
     "user_tz": 240
    },
    "id": "BtGtCBQVFGOI",
    "outputId": "5f2dc4ae-82e0-416b-d3ee-8e6f6a3006f2"
   },
   "outputs": [
    {
     "name": "stdout",
     "output_type": "stream",
     "text": [
      "Value of x is: 25, value of y is: 3, name is: Joel B\n"
     ]
    }
   ],
   "source": [
    "# int and string variable assignments to print\n",
    "\n",
    "x = 25\n",
    "y = 3\n",
    "z = 12\n",
    "name = 'Joel B'\n",
    "\n",
    "# f-string print method\n",
    "print(f'Value of x is: {x}, value of y is: {y}, name is: {name}')"
   ]
  },
  {
   "attachments": {},
   "cell_type": "markdown",
   "metadata": {},
   "source": [
    "#### Print Multiple Variables in a Single Statement:\n",
    "\n",
    " - Separate with commas"
   ]
  },
  {
   "cell_type": "code",
   "execution_count": 10,
   "metadata": {},
   "outputs": [
    {
     "name": "stdout",
     "output_type": "stream",
     "text": [
      "25 3 12 Joel B \n",
      "\n",
      "Value of x: 25 | Value of y: 3 | Name is: Joel B\n"
     ]
    }
   ],
   "source": [
    "print(x, y, z, name, '\\n')\n",
    "\n",
    "# standard c-style string print method\n",
    "print('Value of x:', x,'| Value of y:', y, '| Name is:', name)"
   ]
  },
  {
   "attachments": {},
   "cell_type": "markdown",
   "metadata": {
    "id": "4anUDinLkOFa"
   },
   "source": [
    "# 3) Python Variables and Datatypes\n",
    "\n",
    "---\n",
    "\n"
   ]
  },
  {
   "attachments": {},
   "cell_type": "markdown",
   "metadata": {},
   "source": [
    "#### Variables have to be assigned or computed \n",
    " - `x = 3`  -->  Defining a variable x and assigning it a value of 3\n",
    " - Assigning a variable can happen by the user when the program is executed \n",
    " - `x = input()`\n",
    "\n",
    "#### Computing a variable can be through a function or through other variables \n",
    " - `a = 1`\n",
    " - `b = 5`\n",
    " - `x = a * b`\n",
    "\n",
    "#### Datatypes:\n",
    "\n",
    " - String:\n",
    "    Text is string data places between quotations: 'This is an Example'.\n",
    "\n",
    " - Numerical: \n",
    "    - Integer (`int`) --> whole number.\n",
    "    - Floats (`float`) --> Number with decimals.\n",
    "    - Complex (`complex`) --> Complex Numbers (a + bi).\n",
    "\n",
    " - Containers:\n",
    "    - `List[]` --> An ordered collection of objects, that may have different types.\n",
    "    - `Tuple()` --> Tuples are basically immutable lists.\n",
    "    - `Dict{}` --> A dictionary is basically an efficient table that maps keys to values.\n",
    "    - `set()` --> unordered, unique items.\n",
    "\n",
    "\n",
    "#### List, tuple, and dicts are used immensley in Python programming\n",
    " - They cover almost all datastructures"
   ]
  },
  {
   "attachments": {},
   "cell_type": "markdown",
   "metadata": {
    "id": "Di7XzZCh0baC"
   },
   "source": [
    "## List Operations\n",
    "---"
   ]
  },
  {
   "attachments": {},
   "cell_type": "markdown",
   "metadata": {},
   "source": [
    "#### Slicing Lists in Python:\n",
    "\n",
    " - Python slice notation is ordered as such: `alist[start:end:step]`\n",
    " - Lists can contain multiple data types"
   ]
  },
  {
   "cell_type": "code",
   "execution_count": 11,
   "metadata": {
    "id": "UY1WSuHan5_2"
   },
   "outputs": [
    {
     "name": "stdout",
     "output_type": "stream",
     "text": [
      "[5, 10, 15, 20, 25, 30, 35, 40, 45, 50, 55, 60, 65, 70, 0] \n",
      "\n",
      "30 \n",
      "\n",
      "[10, 15, 20, 25, 30, 35, 40, 45, 50] \n",
      "\n",
      "[10, 20, 30, 40, 50] \n",
      "\n",
      "0 \n",
      "\n",
      "65\n"
     ]
    }
   ],
   "source": [
    "evenNo = [2, 4, 6, 8, 10] # declare a list of integers\n",
    "\n",
    "Me = ['Joel', 'FAU', 'BSCE', '38'] # declare a list of strings\n",
    "\n",
    "aList = [5, 10, 15, 20, 25, 30, 35, 40, 45, 50, 55, 60, 65, 70]\n",
    "aList.append(0) # append the value '0' to the end of the list (takes only one argument)\n",
    "\n",
    "L = [] # Create Empty list to add items to it\n",
    "\n",
    "print(aList, '\\n')\n",
    "\n",
    "# retrieves item with index 5\n",
    "print(aList[5], '\\n')\n",
    "\n",
    "# retrieves item's between index 1 & index 10 (but not index 10)\n",
    "print(aList[1:10], '\\n')\n",
    "\n",
    "# retrieves every 2nd item between index 1 & index 10\n",
    "# (but not index 10)\n",
    "print(aList[1:10:2], '\\n')\n",
    "\n",
    "# returns the last list item in the array\n",
    "print(aList[-1], '\\n')\n",
    "\n",
    "# returns the 3rd from last item in the array\n",
    "print(aList[-3])"
   ]
  },
  {
   "attachments": {},
   "cell_type": "markdown",
   "metadata": {},
   "source": [
    "#### Print 3 Lists With 1 Line of Code:"
   ]
  },
  {
   "cell_type": "code",
   "execution_count": 12,
   "metadata": {
    "colab": {
     "base_uri": "https://localhost:8080/"
    },
    "executionInfo": {
     "elapsed": 302,
     "status": "ok",
     "timestamp": 1624898282245,
     "user": {
      "displayName": "Joel Brigida",
      "photoUrl": "https://lh3.googleusercontent.com/a-/AOh14Gi5jpwxzxgci18vzsZ0Qc1QNoVi75SXgr4cWkdZpjZGk2Syca1WmIazn5PYyGztQLLf2-247MitLzLRfFhaU5OLW7AFQufXBNJS2QmA5vsE7HjfgeCfA4FuLJrWLsfWpZ1TU7i3xim3cbdvP0ZEZ9Z-59d9S8Ypjl5GoFpVhNtYTfDeLMTetGOVOtRdZDA5ivlkgPHBq0xOxAu2HvvAHceQoDmSLHgyzZe7-DJR7p7GEpF7Oba3KAhpgnpOyPMqIlThj5VbUFJdKfpmZLcPVK4comRa8UpTbXt7zcLynIUrDT7zksV188O02dFGQ6cbd2BuxHNzD5go87gFdYB6qufTu6bzefcnAR-FiAu9iju6BXyjkdb3k3VH_7J0gyspaGh0vejDKMJixoiey86c9neIcmKPQAvTh9dshGeAUCM4j8R-pfqEcxZ-bR1DetzRyIyZlB__NjHYmiJibMIkCj4yN0avYVy6TSMOYvJ2grOOM8LGzV-B5ywK5Kv1Kj-QrY0-TImnKpOak4xoEVU1upEL3gBdWMINne-lh6bOXrkcPqt0uAm_6f_GbOShut2n2W0UrJGh2vO0LvP2_zaYR5O4adJ3jw8LmQjuAddEPshV1_SZ8_9yoCL1rMgEJ2iST73lwqxPjOOiM4Z8P6M_ItEeHAny38L7k7KErUHcEAYfNs-p4i909AJnaPOAl3j01mJ79q6p1_yEjGmm3IRSfGlgqH2hn7bjyBG6TgXtk3nHdOvMzP9SkeGhU8CkvKwdVnjdYg=s64",
      "userId": "17944099373685830598"
     },
     "user_tz": 240
    },
    "id": "SzGBXC3qJBy5",
    "outputId": "ce29127a-5c5d-4ba3-d823-7d1e880b1f23"
   },
   "outputs": [
    {
     "name": "stdout",
     "output_type": "stream",
     "text": [
      "[5, 10, 15, 20, 25, 30, 35, 40, 45, 50, 55, 60, 65, 70, 0] \n",
      "\n",
      " [2, 4, 6, 8, 10] \n",
      "\n",
      " ['Joel', 'FAU', 'BSCE', '38']\n"
     ]
    }
   ],
   "source": [
    "print(aList,'\\n\\n', evenNo,'\\n\\n', Me)"
   ]
  },
  {
   "attachments": {},
   "cell_type": "markdown",
   "metadata": {},
   "source": [
    "#### Manipulating Lists:"
   ]
  },
  {
   "cell_type": "code",
   "execution_count": 13,
   "metadata": {
    "id": "vIsk4JZkIBen"
   },
   "outputs": [
    {
     "name": "stdout",
     "output_type": "stream",
     "text": [
      "Print Complete List:\n",
      "[5, 10, 15, 20, 25, 30, 35, 40, 45, 50, 55, 60, 65, 70, 0]\n",
      "\n",
      "Reverse Print All Indices:\n",
      "[0, 70, 65, 60, 55, 50, 45, 40, 35, 30, 25, 20, 15, 10, 5]\n",
      "\n",
      "Start at index [3] & Print every 4th Element:\n",
      "[20, 40, 60]\n",
      "\n",
      "Start at index [2] & print every 3rd element:\n",
      "[15, 30, 45, 60, 0]\n",
      "\n",
      "Omit the last 4 indices:\n",
      "[5, 10, 15, 20, 25, 30, 35, 40, 45, 50, 55]\n",
      "\n",
      "Omit the 1st 5 elements:\n",
      "[30, 35, 40, 45, 50, 55, 60, 65, 70, 0]\n",
      "\n",
      "Complete List:\n",
      "[5, 10, 15, 20, 25, 30, 35, 40, 45, 50, 55, 60, 65, 70, 0]\n",
      "\n",
      "Print Every 3rd index in reverse order:\n",
      "[0, 60, 45, 30, 15]\n",
      "\n",
      "Show All But the Last 3 indices:\n",
      "[5, 10, 15, 20, 25, 30, 35, 40, 45, 50, 55, 60]\n",
      "\n",
      "List of Numbers 0 - 500 divisible by 101:\n",
      "[0, 101, 202, 303, 404]\n"
     ]
    }
   ],
   "source": [
    "print(f'Print Complete List:\\n{aList}\\n')\n",
    "\n",
    "print(f'Reverse Print All Indices:\\n{aList[::-1]}\\n')\n",
    "\n",
    "print(f'Start at index [3] & Print every 4th Element:\\n{aList[3::4]}\\n')\n",
    "\n",
    "print(f'Start at index [2] & print every 3rd element:\\n{aList[2::3]}\\n')\n",
    "\n",
    "print(f'Omit the last 4 indices:\\n{aList[:-4]}\\n')\n",
    "\n",
    "print(f'Omit the 1st 5 elements:\\n{aList[5:]}\\n')\n",
    "\n",
    "print(f'Complete List:\\n{aList}\\n')\n",
    "\n",
    "print(f'Print Every 3rd index in reverse order:\\n{aList[::-3]}\\n')\n",
    "\n",
    "print(f'Show All But the Last 3 indices:\\n{aList [:-3]}\\n')\n",
    "\n",
    "print(f'List of Numbers 0 - 500 divisible by 101:\\n{list(range(500))[::101]}')"
   ]
  },
  {
   "cell_type": "code",
   "execution_count": 14,
   "metadata": {
    "id": "ecUxsEs79o-W"
   },
   "outputs": [
    {
     "name": "stdout",
     "output_type": "stream",
     "text": [
      "['DS&ML', 'FAU', '21'] \n",
      "\n",
      "['21', 'FAU', 'DS&ML'] \n",
      "\n",
      "['DS&ML', 'FAU', '21']\n"
     ]
    }
   ],
   "source": [
    "# declare a list with values\n",
    "ListA = ['DS&ML','FAU','21']\n",
    "\n",
    "# prints out the values contained in the list\n",
    "print(ListA, '\\n')\n",
    "\n",
    "# print in reverse order from highest index to lowest\n",
    "print(ListA[::-1], '\\n')\n",
    "\n",
    "# Note that the order of the index did not change:\n",
    "print(ListA)"
   ]
  },
  {
   "attachments": {},
   "cell_type": "markdown",
   "metadata": {},
   "source": [
    "#### Identifying Variable Types:\n",
    "\n",
    " - Single and double quotes are both treated as string values"
   ]
  },
  {
   "cell_type": "code",
   "execution_count": 15,
   "metadata": {
    "id": "6YIB6cyS_C8E"
   },
   "outputs": [
    {
     "name": "stdout",
     "output_type": "stream",
     "text": [
      "<class 'str'> <class 'int'> <class 'str'>\n"
     ]
    }
   ],
   "source": [
    "# Define \"a\" as a string value\n",
    "a = \"21\"\n",
    "\n",
    "# define \"b\" as an integer value\n",
    "b = 21 \n",
    "\n",
    "# define \"c\" as a string value\n",
    "c = '21'\n",
    "\n",
    "print(type(a), type(b), type(c))"
   ]
  },
  {
   "cell_type": "code",
   "execution_count": 16,
   "metadata": {
    "id": "GWgco15z9z-s"
   },
   "outputs": [
    {
     "name": "stdout",
     "output_type": "stream",
     "text": [
      "['DS&ML', 'FAU', '21', 'Another String'] \n",
      "\n",
      "['DS&ML', 'FAU', '21', 'DS&ML'] \n",
      "\n",
      "['DS&ML', 'FAU', '21', 'PYTHON']\n"
     ]
    }
   ],
   "source": [
    "# dot operator calls the 'append' method and adds the value to the end of the list.\n",
    "ListA.append('Another String')\n",
    "\n",
    "# print out new list values\n",
    "print(ListA, '\\n')\n",
    "\n",
    "# make the last value of the list equal to the 1st value of the list\n",
    "ListA[-1] = ListA[0]\n",
    "\n",
    "# print the list again and see new results:\n",
    "print(ListA, '\\n')\n",
    "\n",
    "# change index #3 of the list to specified value\n",
    "ListA[3] = 'PYTHON'\n",
    "\n",
    "# print list again:\n",
    "print(ListA)"
   ]
  },
  {
   "cell_type": "code",
   "execution_count": 17,
   "metadata": {
    "id": "ySTfI_3gg-qA"
   },
   "outputs": [
    {
     "name": "stdout",
     "output_type": "stream",
     "text": [
      "[] \n",
      "\n",
      "[23, 45, 56, 15, 78, 34, 90, 34, 656]\n"
     ]
    }
   ],
   "source": [
    "# construct an empty list \"L\"\n",
    "L = []\n",
    "print(L, '\\n')\n",
    "\n",
    "# redefine list L as a list with these values:\n",
    "L = [23, 45, 56, 15, 78, 34, 90, 34]\n",
    "\n",
    "# can repeatedly add values here and they will concatenate to the end of the list when called\n",
    "L.append(656)\n",
    "\n",
    "# display the values in list \"L\"\n",
    "print(L)"
   ]
  },
  {
   "cell_type": "code",
   "execution_count": 18,
   "metadata": {
    "colab": {
     "base_uri": "https://localhost:8080/"
    },
    "executionInfo": {
     "elapsed": 9,
     "status": "ok",
     "timestamp": 1624898857758,
     "user": {
      "displayName": "Joel Brigida",
      "photoUrl": "https://lh3.googleusercontent.com/a-/AOh14Gi5jpwxzxgci18vzsZ0Qc1QNoVi75SXgr4cWkdZpjZGk2Syca1WmIazn5PYyGztQLLf2-247MitLzLRfFhaU5OLW7AFQufXBNJS2QmA5vsE7HjfgeCfA4FuLJrWLsfWpZ1TU7i3xim3cbdvP0ZEZ9Z-59d9S8Ypjl5GoFpVhNtYTfDeLMTetGOVOtRdZDA5ivlkgPHBq0xOxAu2HvvAHceQoDmSLHgyzZe7-DJR7p7GEpF7Oba3KAhpgnpOyPMqIlThj5VbUFJdKfpmZLcPVK4comRa8UpTbXt7zcLynIUrDT7zksV188O02dFGQ6cbd2BuxHNzD5go87gFdYB6qufTu6bzefcnAR-FiAu9iju6BXyjkdb3k3VH_7J0gyspaGh0vejDKMJixoiey86c9neIcmKPQAvTh9dshGeAUCM4j8R-pfqEcxZ-bR1DetzRyIyZlB__NjHYmiJibMIkCj4yN0avYVy6TSMOYvJ2grOOM8LGzV-B5ywK5Kv1Kj-QrY0-TImnKpOak4xoEVU1upEL3gBdWMINne-lh6bOXrkcPqt0uAm_6f_GbOShut2n2W0UrJGh2vO0LvP2_zaYR5O4adJ3jw8LmQjuAddEPshV1_SZ8_9yoCL1rMgEJ2iST73lwqxPjOOiM4Z8P6M_ItEeHAny38L7k7KErUHcEAYfNs-p4i909AJnaPOAl3j01mJ79q6p1_yEjGmm3IRSfGlgqH2hn7bjyBG6TgXtk3nHdOvMzP9SkeGhU8CkvKwdVnjdYg=s64",
      "userId": "17944099373685830598"
     },
     "user_tz": 240
    },
    "id": "W8b5tTd3_n-S",
    "outputId": "f4248d49-7fb1-4048-dfa1-8897a7e67646"
   },
   "outputs": [
    {
     "name": "stdout",
     "output_type": "stream",
     "text": [
      "9\n",
      "56\n",
      "656\n",
      "34\n",
      "[56, 15, 78, 34]\n",
      "[56, 15, 78, 34, 90, 34, 656]\n",
      "[23, 56, 78, 90, 656]\n",
      "[56, 78, 90, 656]\n",
      "[23, 15, 90]\n"
     ]
    }
   ],
   "source": [
    "# \"len\" function: takes object as input: query how many items in the list \"L\"\n",
    "print(len(L))\n",
    "\n",
    "# displays the value located in index # 2 (indexes start at 0)\n",
    "print(L[2])\n",
    "\n",
    "# displays the last index\n",
    "print(L[-1])\n",
    "\n",
    "# displays the 2nd to last index....\"minus\" sign denotes to start at the end and work backward.\n",
    "print(L[-2])\n",
    "\n",
    "# Print values starting at index [2] up to but NOT including [6] [start index, end index]\n",
    "print(L[2:6])\n",
    "\n",
    "# print all values starting from index [2]\n",
    "print(L[2:])\n",
    "\n",
    "# print all EVEN indices starting at [0]\n",
    "print(L[0::2])\n",
    "\n",
    "# print all even indices from [2] to [9]\n",
    "print(L[2:9:2])\n",
    "\n",
    "# print every 3rd index starting at [0]\n",
    "print(L[0::3])"
   ]
  },
  {
   "attachments": {},
   "cell_type": "markdown",
   "metadata": {},
   "source": [
    "## Dictionaries\n",
    "---\n",
    " - A much better way to store information\n",
    " - Dictionaries map values of keys to a value\n",
    "\n",
    "Dictionary structure:\n",
    " \n",
    "```python\n",
    "dict = {'key1' : value1,\n",
    "        'key2' : value2,\n",
    "        'key3' : value3,\n",
    "         ...}\n",
    "```\n",
    "Dictionaries can be expanded by adding a new pair (key,value)\n",
    "\n",
    "```python\n",
    "dict.keys()                 # list keys\n",
    "dict.values()               # list values\n",
    "dict.items()                # list all key/value pairs\n",
    "\n",
    "dict['newKey'] = 'newValue' # append the dictionary with a new key/value pair \n",
    "```"
   ]
  },
  {
   "cell_type": "code",
   "execution_count": 19,
   "metadata": {
    "id": "q9LvqZlVBF9A"
   },
   "outputs": [
    {
     "name": "stdout",
     "output_type": "stream",
     "text": [
      "<class 'dict'> \n",
      "\n",
      "{'Name': 'Data Science and Machine Learning', 'Campus': 'FAU Boca', 'Year Est': '2021'} \n",
      "\n",
      "dict_keys(['Name', 'Campus', 'Year Est']) \n",
      "\n",
      "dict_values(['Data Science and Machine Learning', 'FAU Boca', '2021'])\n"
     ]
    },
    {
     "data": {
      "text/plain": [
       "{'Name': 'Data Science and Machine Learning',\n",
       " 'Campus': 'FAU Boca',\n",
       " 'Year Est': '2021',\n",
       " 'newKey': 'newVal'}"
      ]
     },
     "metadata": {},
     "output_type": "display_data"
    },
    {
     "name": "stdout",
     "output_type": "stream",
     "text": [
      "dict_items([('Name', 'Data Science and Machine Learning'), ('Campus', 'FAU Boca'), ('Year Est', '2021'), ('newKey', 'newVal')])\n"
     ]
    }
   ],
   "source": [
    "# define a dictionary data type made of string data\n",
    "club = {'Name':'Data Science and Machine Learning', 'Campus':'FAU Boca', 'Year Est': '2021'}\n",
    "\n",
    "# Verify and print the variable type:\n",
    "print(type(club), '\\n')\n",
    "\n",
    "# display contents of dictionary\n",
    "print(club, '\\n')\n",
    "\n",
    "print(club.keys(), '\\n')\n",
    "\n",
    "print(club.values())\n",
    "\n",
    "# Append a new key and value:\n",
    "club['newKey'] = 'newVal'\n",
    "\n",
    "# Use Display Method to print in a different manner\n",
    "display(club)\n",
    "\n",
    "print(club.items())"
   ]
  },
  {
   "cell_type": "code",
   "execution_count": 20,
   "metadata": {
    "id": "t3EG119ACVG2"
   },
   "outputs": [
    {
     "name": "stdout",
     "output_type": "stream",
     "text": [
      "Data Science and Machine Learning\n",
      "<class 'str'> \n",
      "\n",
      "Data Science and Machine Learning\n"
     ]
    }
   ],
   "source": [
    "# declare a new list using only the value of index [0] from dict 'club'\n",
    "v0 = list(club.values())[0]\n",
    "\n",
    "# display the new list\n",
    "print(v0)\n",
    "print(type(v0), '\\n')\n",
    "\n",
    "print(list(club.values())[0])"
   ]
  },
  {
   "cell_type": "code",
   "execution_count": 21,
   "metadata": {
    "id": "bJPbGa8DDFdZ"
   },
   "outputs": [
    {
     "data": {
      "text/plain": [
       "{'Name': 'Data Science and Machine Learning',\n",
       " 'Campus': 'FAU Boca',\n",
       " 'Year Est': '2021',\n",
       " 'newKey': 'newVal',\n",
       " 'Activity': 'Summer Workshop'}"
      ]
     },
     "metadata": {},
     "output_type": "display_data"
    }
   ],
   "source": [
    "club['Activity'] = 'Summer Workshop'\n",
    "\n",
    "display(club)"
   ]
  },
  {
   "cell_type": "code",
   "execution_count": 22,
   "metadata": {
    "id": "1KwZQg5OrE3w"
   },
   "outputs": [
    {
     "name": "stdout",
     "output_type": "stream",
     "text": [
      "{'emmanuelle': 5752, 'sebastian': 5578, 'francis': 5915}\n"
     ]
    },
    {
     "data": {
      "text/plain": [
       "{'emmanuelle': 5752, 'sebastian': 5578, 'francis': 5915}"
      ]
     },
     "metadata": {},
     "output_type": "display_data"
    }
   ],
   "source": [
    "# declare a new dict, then add a new key and value\n",
    "\n",
    "tel = {'emmanuelle': 5752, 'sebastian': 5578}\n",
    "\n",
    "tel['francis'] = 5915\n",
    "\n",
    "print(tel)\n",
    "display(tel)"
   ]
  },
  {
   "cell_type": "code",
   "execution_count": 23,
   "metadata": {},
   "outputs": [
    {
     "name": "stdout",
     "output_type": "stream",
     "text": [
      "dict_keys(['emmanuelle', 'sebastian', 'francis']) \n",
      "\n",
      "dict_values([5752, 5578, 5915])\n"
     ]
    }
   ],
   "source": [
    "# display all keys in the tel dict\n",
    "print(tel.keys(), '\\n')\n",
    "\n",
    "# display all values in the tel dict\n",
    "print(tel.values())"
   ]
  },
  {
   "attachments": {},
   "cell_type": "markdown",
   "metadata": {},
   "source": [
    "#### Making Queries in Dictionaries:\n",
    "\n",
    " - Query if the 'francis' and 'johnny' keys are in the tel dict (answers True/False)"
   ]
  },
  {
   "cell_type": "code",
   "execution_count": 24,
   "metadata": {},
   "outputs": [
    {
     "name": "stdout",
     "output_type": "stream",
     "text": [
      "True\n",
      "False \n",
      "\n",
      "True\n",
      "False\n"
     ]
    }
   ],
   "source": [
    "print('francis' in tel)\n",
    "print('johnny' in tel, '\\n')\n",
    "\n",
    "print(5752 in tel.values())   # check for integer value\n",
    "print('5752' in tel.values()) # check for string value"
   ]
  },
  {
   "cell_type": "code",
   "execution_count": 25,
   "metadata": {
    "id": "toNUKKQ2iiaZ"
   },
   "outputs": [
    {
     "data": {
      "text/plain": [
       "dict"
      ]
     },
     "execution_count": 25,
     "metadata": {},
     "output_type": "execute_result"
    }
   ],
   "source": [
    "# create an empty dict named \"somedict\"\n",
    "\n",
    "somedict = {}\n",
    "type(somedict)"
   ]
  },
  {
   "cell_type": "code",
   "execution_count": 26,
   "metadata": {
    "id": "TC2Cg-S1jFie"
   },
   "outputs": [
    {
     "name": "stdout",
     "output_type": "stream",
     "text": [
      "{'Name': 'Data Science & Machine Learning', 'Campus': 'FAU Boca', 'Year Est': '2021'}\n"
     ]
    }
   ],
   "source": [
    "# declare a new dict, add keys and values and print them\n",
    "\n",
    "club2 = {'Name':'Data Science & Machine Learning', 'Campus':'FAU Boca', 'Year Est':'2021'}\n",
    "print(club2)"
   ]
  },
  {
   "cell_type": "code",
   "execution_count": 27,
   "metadata": {
    "colab": {
     "base_uri": "https://localhost:8080/"
    },
    "executionInfo": {
     "elapsed": 262,
     "status": "ok",
     "timestamp": 1624899556982,
     "user": {
      "displayName": "Joel Brigida",
      "photoUrl": "https://lh3.googleusercontent.com/a-/AOh14Gi5jpwxzxgci18vzsZ0Qc1QNoVi75SXgr4cWkdZpjZGk2Syca1WmIazn5PYyGztQLLf2-247MitLzLRfFhaU5OLW7AFQufXBNJS2QmA5vsE7HjfgeCfA4FuLJrWLsfWpZ1TU7i3xim3cbdvP0ZEZ9Z-59d9S8Ypjl5GoFpVhNtYTfDeLMTetGOVOtRdZDA5ivlkgPHBq0xOxAu2HvvAHceQoDmSLHgyzZe7-DJR7p7GEpF7Oba3KAhpgnpOyPMqIlThj5VbUFJdKfpmZLcPVK4comRa8UpTbXt7zcLynIUrDT7zksV188O02dFGQ6cbd2BuxHNzD5go87gFdYB6qufTu6bzefcnAR-FiAu9iju6BXyjkdb3k3VH_7J0gyspaGh0vejDKMJixoiey86c9neIcmKPQAvTh9dshGeAUCM4j8R-pfqEcxZ-bR1DetzRyIyZlB__NjHYmiJibMIkCj4yN0avYVy6TSMOYvJ2grOOM8LGzV-B5ywK5Kv1Kj-QrY0-TImnKpOak4xoEVU1upEL3gBdWMINne-lh6bOXrkcPqt0uAm_6f_GbOShut2n2W0UrJGh2vO0LvP2_zaYR5O4adJ3jw8LmQjuAddEPshV1_SZ8_9yoCL1rMgEJ2iST73lwqxPjOOiM4Z8P6M_ItEeHAny38L7k7KErUHcEAYfNs-p4i909AJnaPOAl3j01mJ79q6p1_yEjGmm3IRSfGlgqH2hn7bjyBG6TgXtk3nHdOvMzP9SkeGhU8CkvKwdVnjdYg=s64",
      "userId": "17944099373685830598"
     },
     "user_tz": 240
    },
    "id": "MMiaSQe7j3hj",
    "outputId": "cf21a8b4-c55e-4e84-9297-5f68a631748a"
   },
   "outputs": [
    {
     "name": "stdout",
     "output_type": "stream",
     "text": [
      "All club items:\n",
      "dict_items([('Name', 'Data Science & Machine Learning'), ('Campus', 'FAU Boca'), ('Year Est', '2021')])\n",
      "\n",
      "All club keys:\n",
      "dict_keys(['Name', 'Campus', 'Year Est'])\n",
      "\n",
      "All club values:\n",
      "dict_values(['Data Science & Machine Learning', 'FAU Boca', '2021'])\n",
      "\n",
      "Club Value Types: <class 'dict_values'>\n",
      "\n",
      "Club Name: Data Science & Machine Learning\n",
      "\n",
      "Value in index [1]: FAU Boca\n",
      "\n",
      "Variable Type of v0: <class 'str'>\n",
      "\n",
      "FAU Boca\n"
     ]
    },
    {
     "data": {
      "text/plain": [
       "{'Name': 'Data Science & Machine Learning',\n",
       " 'Campus': 'FAU Boca',\n",
       " 'Year Est': '2021',\n",
       " 'Activity': 'Summer Workshop'}"
      ]
     },
     "metadata": {},
     "output_type": "display_data"
    }
   ],
   "source": [
    "# list all items: every key and value\n",
    "print(f'All club items:\\n{club2.items()}\\n')\n",
    "\n",
    "# display only the values of dictionary keys\n",
    "print(f'All club keys:\\n{club2.keys()}\\n')\n",
    "\n",
    "# display only the values of each dictionary key\n",
    "print(f'All club values:\\n{club2.values()}\\n')\n",
    "\n",
    "# dict values are a presented as a list\n",
    "print(f'Club Value Types: {type(club2.values())}\\n')\n",
    "\n",
    "# displays the value of the specified key in the dictionary\n",
    "print(\"Club Name: \" + club2['Name'] + '\\n')\n",
    "\n",
    "# display value only (no key) of index[1] in club dict.\n",
    "print(f'Value in index [1]: {list(club2.values())[1]}\\n')\n",
    "\n",
    "# define variable v0 as a string that contains the value of index [1] in club dict\n",
    "v1 = list(club2.values())[1]\n",
    "print(f'Variable Type of v0: {type(v1)}\\n')\n",
    "print(v1)\n",
    "\n",
    "# append the dict with key 'activity' and value 'Summer Workshop'\n",
    "club2['Activity'] = 'Summer Workshop'\n",
    "\n",
    "# display all new dict values\n",
    "display(club2)"
   ]
  },
  {
   "cell_type": "code",
   "execution_count": 28,
   "metadata": {
    "colab": {
     "base_uri": "https://localhost:8080/"
    },
    "executionInfo": {
     "elapsed": 109,
     "status": "ok",
     "timestamp": 1624922044498,
     "user": {
      "displayName": "Joel Brigida",
      "photoUrl": "https://lh3.googleusercontent.com/a-/AOh14Gi5jpwxzxgci18vzsZ0Qc1QNoVi75SXgr4cWkdZpjZGk2Syca1WmIazn5PYyGztQLLf2-247MitLzLRfFhaU5OLW7AFQufXBNJS2QmA5vsE7HjfgeCfA4FuLJrWLsfWpZ1TU7i3xim3cbdvP0ZEZ9Z-59d9S8Ypjl5GoFpVhNtYTfDeLMTetGOVOtRdZDA5ivlkgPHBq0xOxAu2HvvAHceQoDmSLHgyzZe7-DJR7p7GEpF7Oba3KAhpgnpOyPMqIlThj5VbUFJdKfpmZLcPVK4comRa8UpTbXt7zcLynIUrDT7zksV188O02dFGQ6cbd2BuxHNzD5go87gFdYB6qufTu6bzefcnAR-FiAu9iju6BXyjkdb3k3VH_7J0gyspaGh0vejDKMJixoiey86c9neIcmKPQAvTh9dshGeAUCM4j8R-pfqEcxZ-bR1DetzRyIyZlB__NjHYmiJibMIkCj4yN0avYVy6TSMOYvJ2grOOM8LGzV-B5ywK5Kv1Kj-QrY0-TImnKpOak4xoEVU1upEL3gBdWMINne-lh6bOXrkcPqt0uAm_6f_GbOShut2n2W0UrJGh2vO0LvP2_zaYR5O4adJ3jw8LmQjuAddEPshV1_SZ8_9yoCL1rMgEJ2iST73lwqxPjOOiM4Z8P6M_ItEeHAny38L7k7KErUHcEAYfNs-p4i909AJnaPOAl3j01mJ79q6p1_yEjGmm3IRSfGlgqH2hn7bjyBG6TgXtk3nHdOvMzP9SkeGhU8CkvKwdVnjdYg=s64",
      "userId": "17944099373685830598"
     },
     "user_tz": 240
    },
    "id": "sZTLFD7d8f5y",
    "outputId": "ca24ed79-a5f8-4761-e679-cee6673f2359"
   },
   "outputs": [
    {
     "name": "stdout",
     "output_type": "stream",
     "text": [
      "<class 'dict'>\n",
      "{'one': 'uno', 'two': 'dos', 'three': 'tres'}\n",
      "dict_keys(['one', 'two', 'three'])\n",
      "dict_values(['uno', 'dos', 'tres'])\n",
      "uno\n",
      "{'one': 'uno', 'two': 'dos', 'three': 'tres'}\n",
      "{'one': 'uno', 'two': 'dos', 'three': 'tres', 'four': 'cuatro'}\n",
      "{'one': 'uno', 'two': 'dos', 'three': 'tres'}\n"
     ]
    }
   ],
   "source": [
    "# hold keys in english and the associated values in spanish\n",
    "\n",
    "# declare a new dict\n",
    "eng2sp = {}\n",
    "\n",
    "# dict['key'] = 'value'\n",
    "eng2sp['one'] = 'uno'\n",
    "eng2sp['two'] = 'dos'\n",
    "eng2sp['three'] = 'tres'\n",
    "\n",
    "print(type(eng2sp))\n",
    "print(eng2sp) # print each key and value\n",
    "\n",
    "# print dict keys only\n",
    "print(eng2sp.keys())\n",
    "\n",
    "# print dict values only\n",
    "print(eng2sp.values())\n",
    "\n",
    "# get and display value for key 'one'\n",
    "print(eng2sp.get('one'))\n",
    "\n",
    "# create copy of the dictionary to work with (DON'T modify your original data!!)\n",
    "copy = eng2sp.copy()\n",
    "\n",
    "# modifying the copy does not affect the original data\n",
    "print(copy)\n",
    "\n",
    "# add a value to to dict copy\n",
    "copy['four'] = 'cuatro'\n",
    "\n",
    "# display contents of the copy\n",
    "print(copy)\n",
    "\n",
    "# the original did not change\n",
    "print(eng2sp)"
   ]
  },
  {
   "attachments": {},
   "cell_type": "markdown",
   "metadata": {
    "id": "hssS7mIU9nUn"
   },
   "source": [
    "# 4) Conditional Statements and Loops\n",
    "---"
   ]
  },
  {
   "cell_type": "code",
   "execution_count": 29,
   "metadata": {
    "colab": {
     "base_uri": "https://localhost:8080/"
    },
    "executionInfo": {
     "elapsed": 124,
     "status": "ok",
     "timestamp": 1624923309242,
     "user": {
      "displayName": "Joel Brigida",
      "photoUrl": "https://lh3.googleusercontent.com/a-/AOh14Gi5jpwxzxgci18vzsZ0Qc1QNoVi75SXgr4cWkdZpjZGk2Syca1WmIazn5PYyGztQLLf2-247MitLzLRfFhaU5OLW7AFQufXBNJS2QmA5vsE7HjfgeCfA4FuLJrWLsfWpZ1TU7i3xim3cbdvP0ZEZ9Z-59d9S8Ypjl5GoFpVhNtYTfDeLMTetGOVOtRdZDA5ivlkgPHBq0xOxAu2HvvAHceQoDmSLHgyzZe7-DJR7p7GEpF7Oba3KAhpgnpOyPMqIlThj5VbUFJdKfpmZLcPVK4comRa8UpTbXt7zcLynIUrDT7zksV188O02dFGQ6cbd2BuxHNzD5go87gFdYB6qufTu6bzefcnAR-FiAu9iju6BXyjkdb3k3VH_7J0gyspaGh0vejDKMJixoiey86c9neIcmKPQAvTh9dshGeAUCM4j8R-pfqEcxZ-bR1DetzRyIyZlB__NjHYmiJibMIkCj4yN0avYVy6TSMOYvJ2grOOM8LGzV-B5ywK5Kv1Kj-QrY0-TImnKpOak4xoEVU1upEL3gBdWMINne-lh6bOXrkcPqt0uAm_6f_GbOShut2n2W0UrJGh2vO0LvP2_zaYR5O4adJ3jw8LmQjuAddEPshV1_SZ8_9yoCL1rMgEJ2iST73lwqxPjOOiM4Z8P6M_ItEeHAny38L7k7KErUHcEAYfNs-p4i909AJnaPOAl3j01mJ79q6p1_yEjGmm3IRSfGlgqH2hn7bjyBG6TgXtk3nHdOvMzP9SkeGhU8CkvKwdVnjdYg=s64",
      "userId": "17944099373685830598"
     },
     "user_tz": 240
    },
    "id": "phjQlQ4U9xOz",
    "outputId": "2f330a4e-3bcb-4572-ddda-217e2d4b5d6b"
   },
   "outputs": [
    {
     "name": "stdout",
     "output_type": "stream",
     "text": [
      "not Joel!!\n"
     ]
    }
   ],
   "source": [
    "name = 'John'\n",
    "\n",
    "if name == 'Joel':\n",
    "  print(name)\n",
    "else:\n",
    "  print('not Joel!!')"
   ]
  },
  {
   "cell_type": "code",
   "execution_count": 30,
   "metadata": {
    "colab": {
     "base_uri": "https://localhost:8080/"
    },
    "executionInfo": {
     "elapsed": 110,
     "status": "ok",
     "timestamp": 1624923310160,
     "user": {
      "displayName": "Joel Brigida",
      "photoUrl": "https://lh3.googleusercontent.com/a-/AOh14Gi5jpwxzxgci18vzsZ0Qc1QNoVi75SXgr4cWkdZpjZGk2Syca1WmIazn5PYyGztQLLf2-247MitLzLRfFhaU5OLW7AFQufXBNJS2QmA5vsE7HjfgeCfA4FuLJrWLsfWpZ1TU7i3xim3cbdvP0ZEZ9Z-59d9S8Ypjl5GoFpVhNtYTfDeLMTetGOVOtRdZDA5ivlkgPHBq0xOxAu2HvvAHceQoDmSLHgyzZe7-DJR7p7GEpF7Oba3KAhpgnpOyPMqIlThj5VbUFJdKfpmZLcPVK4comRa8UpTbXt7zcLynIUrDT7zksV188O02dFGQ6cbd2BuxHNzD5go87gFdYB6qufTu6bzefcnAR-FiAu9iju6BXyjkdb3k3VH_7J0gyspaGh0vejDKMJixoiey86c9neIcmKPQAvTh9dshGeAUCM4j8R-pfqEcxZ-bR1DetzRyIyZlB__NjHYmiJibMIkCj4yN0avYVy6TSMOYvJ2grOOM8LGzV-B5ywK5Kv1Kj-QrY0-TImnKpOak4xoEVU1upEL3gBdWMINne-lh6bOXrkcPqt0uAm_6f_GbOShut2n2W0UrJGh2vO0LvP2_zaYR5O4adJ3jw8LmQjuAddEPshV1_SZ8_9yoCL1rMgEJ2iST73lwqxPjOOiM4Z8P6M_ItEeHAny38L7k7KErUHcEAYfNs-p4i909AJnaPOAl3j01mJ79q6p1_yEjGmm3IRSfGlgqH2hn7bjyBG6TgXtk3nHdOvMzP9SkeGhU8CkvKwdVnjdYg=s64",
      "userId": "17944099373685830598"
     },
     "user_tz": 240
    },
    "id": "gGx9Izjd939z",
    "outputId": "146b6829-d2b2-43e8-d2fc-e0b5e9a130f3"
   },
   "outputs": [
    {
     "name": "stdout",
     "output_type": "stream",
     "text": [
      "15\n"
     ]
    }
   ],
   "source": [
    "# x, y, and if x is less than y add them....\n",
    "\n",
    "x = 10\n",
    "y = 5\n",
    "\n",
    "if x < y:\n",
    "  print(y - x)\n",
    "elif x > y:     # elif == else if\n",
    "  print(y + x)\n",
    "else:\n",
    "  print('x and y are equal')"
   ]
  },
  {
   "cell_type": "code",
   "execution_count": 31,
   "metadata": {
    "colab": {
     "base_uri": "https://localhost:8080/"
    },
    "executionInfo": {
     "elapsed": 125,
     "status": "ok",
     "timestamp": 1624923311189,
     "user": {
      "displayName": "Joel Brigida",
      "photoUrl": "https://lh3.googleusercontent.com/a-/AOh14Gi5jpwxzxgci18vzsZ0Qc1QNoVi75SXgr4cWkdZpjZGk2Syca1WmIazn5PYyGztQLLf2-247MitLzLRfFhaU5OLW7AFQufXBNJS2QmA5vsE7HjfgeCfA4FuLJrWLsfWpZ1TU7i3xim3cbdvP0ZEZ9Z-59d9S8Ypjl5GoFpVhNtYTfDeLMTetGOVOtRdZDA5ivlkgPHBq0xOxAu2HvvAHceQoDmSLHgyzZe7-DJR7p7GEpF7Oba3KAhpgnpOyPMqIlThj5VbUFJdKfpmZLcPVK4comRa8UpTbXt7zcLynIUrDT7zksV188O02dFGQ6cbd2BuxHNzD5go87gFdYB6qufTu6bzefcnAR-FiAu9iju6BXyjkdb3k3VH_7J0gyspaGh0vejDKMJixoiey86c9neIcmKPQAvTh9dshGeAUCM4j8R-pfqEcxZ-bR1DetzRyIyZlB__NjHYmiJibMIkCj4yN0avYVy6TSMOYvJ2grOOM8LGzV-B5ywK5Kv1Kj-QrY0-TImnKpOak4xoEVU1upEL3gBdWMINne-lh6bOXrkcPqt0uAm_6f_GbOShut2n2W0UrJGh2vO0LvP2_zaYR5O4adJ3jw8LmQjuAddEPshV1_SZ8_9yoCL1rMgEJ2iST73lwqxPjOOiM4Z8P6M_ItEeHAny38L7k7KErUHcEAYfNs-p4i909AJnaPOAl3j01mJ79q6p1_yEjGmm3IRSfGlgqH2hn7bjyBG6TgXtk3nHdOvMzP9SkeGhU8CkvKwdVnjdYg=s64",
      "userId": "17944099373685830598"
     },
     "user_tz": 240
    },
    "id": "v-qXXGxE-u8u",
    "outputId": "860538c0-7e0b-4e69-dc2d-5da9d9649620"
   },
   "outputs": [
    {
     "data": {
      "text/plain": [
       "11"
      ]
     },
     "execution_count": 31,
     "metadata": {},
     "output_type": "execute_result"
    }
   ],
   "source": [
    "# iterate and parse a list of values\n",
    "# create a list and populate it with values:\n",
    "\n",
    "A = [1, 4, 6, 5, 7, 54, 4, 6, 67, 5, 234]\n",
    "len(A)"
   ]
  },
  {
   "attachments": {},
   "cell_type": "markdown",
   "metadata": {},
   "source": [
    "#### For loops: \n",
    " - Check if a number is even or odd.\n",
    " - Create separate even and odd lists to append the results into:"
   ]
  },
  {
   "cell_type": "code",
   "execution_count": 32,
   "metadata": {
    "colab": {
     "base_uri": "https://localhost:8080/"
    },
    "executionInfo": {
     "elapsed": 106,
     "status": "ok",
     "timestamp": 1624926236749,
     "user": {
      "displayName": "Joel Brigida",
      "photoUrl": "https://lh3.googleusercontent.com/a-/AOh14Gi5jpwxzxgci18vzsZ0Qc1QNoVi75SXgr4cWkdZpjZGk2Syca1WmIazn5PYyGztQLLf2-247MitLzLRfFhaU5OLW7AFQufXBNJS2QmA5vsE7HjfgeCfA4FuLJrWLsfWpZ1TU7i3xim3cbdvP0ZEZ9Z-59d9S8Ypjl5GoFpVhNtYTfDeLMTetGOVOtRdZDA5ivlkgPHBq0xOxAu2HvvAHceQoDmSLHgyzZe7-DJR7p7GEpF7Oba3KAhpgnpOyPMqIlThj5VbUFJdKfpmZLcPVK4comRa8UpTbXt7zcLynIUrDT7zksV188O02dFGQ6cbd2BuxHNzD5go87gFdYB6qufTu6bzefcnAR-FiAu9iju6BXyjkdb3k3VH_7J0gyspaGh0vejDKMJixoiey86c9neIcmKPQAvTh9dshGeAUCM4j8R-pfqEcxZ-bR1DetzRyIyZlB__NjHYmiJibMIkCj4yN0avYVy6TSMOYvJ2grOOM8LGzV-B5ywK5Kv1Kj-QrY0-TImnKpOak4xoEVU1upEL3gBdWMINne-lh6bOXrkcPqt0uAm_6f_GbOShut2n2W0UrJGh2vO0LvP2_zaYR5O4adJ3jw8LmQjuAddEPshV1_SZ8_9yoCL1rMgEJ2iST73lwqxPjOOiM4Z8P6M_ItEeHAny38L7k7KErUHcEAYfNs-p4i909AJnaPOAl3j01mJ79q6p1_yEjGmm3IRSfGlgqH2hn7bjyBG6TgXtk3nHdOvMzP9SkeGhU8CkvKwdVnjdYg=s64",
      "userId": "17944099373685830598"
     },
     "user_tz": 240
    },
    "id": "ed5hdwhD_EUn",
    "outputId": "4012d0f7-728c-4ffc-aacd-6e336d96d093"
   },
   "outputs": [
    {
     "name": "stdout",
     "output_type": "stream",
     "text": [
      "Number 1 is odd\n",
      "Number 4 is even\n",
      "Number 6 is even\n",
      "Number 5 is odd\n",
      "Number 7 is odd\n",
      "Number 54 is even\n",
      "Number 4 is even\n",
      "Number 6 is even\n",
      "Number 67 is odd\n",
      "Number 5 is odd\n",
      "Number 234 is even\n",
      "\n",
      "\n",
      "1\n",
      "4\n",
      "6\n",
      "5\n",
      "7\n",
      "54\n",
      "4\n",
      "6\n",
      "67\n",
      "5\n",
      "234\n",
      "\n",
      "\n",
      "4\n",
      "6\n",
      "54\n",
      "4\n",
      "6\n",
      "234\n",
      "\n",
      "\n",
      "1\n",
      "5\n",
      "7\n",
      "67\n",
      "5\n"
     ]
    }
   ],
   "source": [
    "even = []\n",
    "odd = []\n",
    "\n",
    "for i in A:   # declaring a for loop\n",
    "  # i/2 = check for even condition\n",
    "  if (i % 2 == 0):\n",
    "    print(f'Number {i} is even')\n",
    "    #print('Number {0} is even'.format(i))        # another way to print with the format method\n",
    "    even.append(i)                                # add the even value to the even list\n",
    "  else:\n",
    "    print(f'Number {i} is odd')\n",
    "    #print('Number {0} is odd'.format(i))         # another way to print with the format method\n",
    "    odd.append(i)                                 # add the odd value to the odd list\n",
    "\n",
    "print('\\n')\n",
    "\n",
    "for item in A:       # prints the contents of the original list\n",
    "  print(item)\n",
    "\n",
    "print('\\n')\n",
    "\n",
    "for foo in even:   # prints the contents of the even list\n",
    "  print(foo)\n",
    "\n",
    "print('\\n')\n",
    "\n",
    "for bar in odd:         # prints the contents of the odd list\n",
    "  print(bar)"
   ]
  },
  {
   "attachments": {},
   "cell_type": "markdown",
   "metadata": {},
   "source": [
    "#### While Loop\n",
    "\n",
    " - Iterates over list A from above"
   ]
  },
  {
   "cell_type": "code",
   "execution_count": 33,
   "metadata": {
    "colab": {
     "base_uri": "https://localhost:8080/"
    },
    "executionInfo": {
     "elapsed": 384,
     "status": "ok",
     "timestamp": 1624927596791,
     "user": {
      "displayName": "Joel Brigida",
      "photoUrl": "https://lh3.googleusercontent.com/a-/AOh14GjLuPhoLSagAzXEvky112_2xhzsY9z-QJ9CaJ-flQRlbBAaET1LRDCdV6ZBcZB4MbcMXlz7zs4Ka2gYuCX9ABdXbgifilihnFf3iFKt4j1Wu0YBJMBJAon9bDzuaStiqy9iRN3AupZsJmkjkSLIylSqe9BYA7Zl87C_A7CJdO4le4um0lUIvaIVMayFf6foQu1IcO3uNpyyWyUMW6P1ytjwgu3Yubmr7d1D_QuXhGgqkbJIUO7GYu9hsTihq5xT-mdmqO9s3_PZ1SKd7GHWQ4pRBxC9qoQl0z0KFw79Fhg0_-UoVLdxXUrLB93J9MN-HGBqgq9TF0SrRYWMyg2SX07lpx9t8fc4Ksvz2EMxDzmcwaLamXIi-xDy0ePOqfaDcoruHVkvEoXt7gDVmXPjrB2n6YFpuZ1i2d_k3w9DhtCZ0U3T26DWOnB4pzMUv7p-RTkIvXlefJX_811bRhbCDQlRYgmTC7tY0FkdI7S15m1h1HzW8dRxeliuNfu_SA37Q4WvEwMjdBKkyDgn25DtkU905tORD8XzOFKTQ012jTAvK-AREGa1XdUGcL5OUgc4KpSdsSCFPCcOh8YnM1BRIwUAiI19DT1aOBLa1F57E_0tht6Xrs6PAXTUHjARnMBUT8VhVMXGzyJot6xM0vvXEd7jw1oFX8LTKIEIzCMysAgw9HTpLqGt9WrLBVbpUqiZYgjKkFX-13i6EtLOZek5xUQ7WuBdqwkg4-GidhWCIGhB9Q8ojicXEIWAt26isLs9mf4qkA=s64",
      "userId": "17944099373685830598"
     },
     "user_tz": 240
    },
    "id": "ovg1yihcBt_5",
    "outputId": "cd04b588-00f4-42fe-e552-e7141e7e1b00"
   },
   "outputs": [
    {
     "name": "stdout",
     "output_type": "stream",
     "text": [
      "[1, 4, 6, 5, 7, 54, 4, 6, 67, 5, 234] \n",
      "\n",
      "6\n",
      "5\n",
      "7\n",
      "54\n",
      "4\n"
     ]
    }
   ],
   "source": [
    "print(A, '\\n')        # print list A from above\n",
    "\n",
    "i = 2           # set loop counter for starting list index\n",
    "done = False    # set loop control variable\n",
    "\n",
    "while (done == False):  # declare while loop\n",
    "  print(A[i])           # starts printing at the i-th index of A\n",
    "  i += 1                # increment loop counter: shorthand notation for \"i = i + 1\"\n",
    "  if i == 7:\n",
    "    done = True\n",
    "\n"
   ]
  },
  {
   "attachments": {},
   "cell_type": "markdown",
   "metadata": {
    "id": "RYIpotzfCjR5"
   },
   "source": [
    "# 5) Functions\n",
    "---"
   ]
  },
  {
   "cell_type": "code",
   "execution_count": 34,
   "metadata": {
    "id": "Ab8_1YRbD2fE"
   },
   "outputs": [
    {
     "data": {
      "text/plain": [
       "38"
      ]
     },
     "execution_count": 34,
     "metadata": {},
     "output_type": "execute_result"
    }
   ],
   "source": [
    "# if we want to define a function f(x) = 3(x^2) + 2x + 5\n",
    "\n",
    "def f(x):   # declares a function \"f\" which takes the argument \"x\" (remember Calc class?)\n",
    "  return 3*(x**2) + (2*x) + 5    # some arbitrary function which we can plug \"x\" values into and get an output:\n",
    "\n",
    "f(3) # plug in any value for 'x' to test output"
   ]
  },
  {
   "cell_type": "code",
   "execution_count": 35,
   "metadata": {
    "id": "dCInYreVEL4B"
   },
   "outputs": [],
   "source": [
    "# define a function for calculating a tip:\n",
    "\n",
    "def Tip(bill, percent):\n",
    "  tip_amt = (percent/100) * bill\n",
    "  gnd_total = bill + tip_amt\n",
    "  return gnd_total, tip_amt, bill, percent"
   ]
  },
  {
   "cell_type": "code",
   "execution_count": 36,
   "metadata": {
    "colab": {
     "base_uri": "https://localhost:8080/"
    },
    "executionInfo": {
     "elapsed": 117,
     "status": "ok",
     "timestamp": 1624935339419,
     "user": {
      "displayName": "Joel Brigida",
      "photoUrl": "https://lh3.googleusercontent.com/a-/AOh14GjLuPhoLSagAzXEvky112_2xhzsY9z-QJ9CaJ-flQRlbBAaET1LRDCdV6ZBcZB4MbcMXlz7zs4Ka2gYuCX9ABdXbgifilihnFf3iFKt4j1Wu0YBJMBJAon9bDzuaStiqy9iRN3AupZsJmkjkSLIylSqe9BYA7Zl87C_A7CJdO4le4um0lUIvaIVMayFf6foQu1IcO3uNpyyWyUMW6P1ytjwgu3Yubmr7d1D_QuXhGgqkbJIUO7GYu9hsTihq5xT-mdmqO9s3_PZ1SKd7GHWQ4pRBxC9qoQl0z0KFw79Fhg0_-UoVLdxXUrLB93J9MN-HGBqgq9TF0SrRYWMyg2SX07lpx9t8fc4Ksvz2EMxDzmcwaLamXIi-xDy0ePOqfaDcoruHVkvEoXt7gDVmXPjrB2n6YFpuZ1i2d_k3w9DhtCZ0U3T26DWOnB4pzMUv7p-RTkIvXlefJX_811bRhbCDQlRYgmTC7tY0FkdI7S15m1h1HzW8dRxeliuNfu_SA37Q4WvEwMjdBKkyDgn25DtkU905tORD8XzOFKTQ012jTAvK-AREGa1XdUGcL5OUgc4KpSdsSCFPCcOh8YnM1BRIwUAiI19DT1aOBLa1F57E_0tht6Xrs6PAXTUHjARnMBUT8VhVMXGzyJot6xM0vvXEd7jw1oFX8LTKIEIzCMysAgw9HTpLqGt9WrLBVbpUqiZYgjKkFX-13i6EtLOZek5xUQ7WuBdqwkg4-GidhWCIGhB9Q8ojicXEIWAt26isLs9mf4qkA=s64",
      "userId": "17944099373685830598"
     },
     "user_tz": 240
    },
    "id": "3Z6BmxXDEsiU",
    "outputId": "96b73b5c-18fa-4cdc-a7d6-8183db4d6f70"
   },
   "outputs": [
    {
     "data": {
      "text/plain": [
       "function"
      ]
     },
     "execution_count": 36,
     "metadata": {},
     "output_type": "execute_result"
    }
   ],
   "source": [
    "type(Tip)"
   ]
  },
  {
   "cell_type": "code",
   "execution_count": 37,
   "metadata": {
    "colab": {
     "base_uri": "https://localhost:8080/"
    },
    "executionInfo": {
     "elapsed": 116,
     "status": "ok",
     "timestamp": 1624935341694,
     "user": {
      "displayName": "Joel Brigida",
      "photoUrl": "https://lh3.googleusercontent.com/a-/AOh14GjLuPhoLSagAzXEvky112_2xhzsY9z-QJ9CaJ-flQRlbBAaET1LRDCdV6ZBcZB4MbcMXlz7zs4Ka2gYuCX9ABdXbgifilihnFf3iFKt4j1Wu0YBJMBJAon9bDzuaStiqy9iRN3AupZsJmkjkSLIylSqe9BYA7Zl87C_A7CJdO4le4um0lUIvaIVMayFf6foQu1IcO3uNpyyWyUMW6P1ytjwgu3Yubmr7d1D_QuXhGgqkbJIUO7GYu9hsTihq5xT-mdmqO9s3_PZ1SKd7GHWQ4pRBxC9qoQl0z0KFw79Fhg0_-UoVLdxXUrLB93J9MN-HGBqgq9TF0SrRYWMyg2SX07lpx9t8fc4Ksvz2EMxDzmcwaLamXIi-xDy0ePOqfaDcoruHVkvEoXt7gDVmXPjrB2n6YFpuZ1i2d_k3w9DhtCZ0U3T26DWOnB4pzMUv7p-RTkIvXlefJX_811bRhbCDQlRYgmTC7tY0FkdI7S15m1h1HzW8dRxeliuNfu_SA37Q4WvEwMjdBKkyDgn25DtkU905tORD8XzOFKTQ012jTAvK-AREGa1XdUGcL5OUgc4KpSdsSCFPCcOh8YnM1BRIwUAiI19DT1aOBLa1F57E_0tht6Xrs6PAXTUHjARnMBUT8VhVMXGzyJot6xM0vvXEd7jw1oFX8LTKIEIzCMysAgw9HTpLqGt9WrLBVbpUqiZYgjKkFX-13i6EtLOZek5xUQ7WuBdqwkg4-GidhWCIGhB9Q8ojicXEIWAt26isLs9mf4qkA=s64",
      "userId": "17944099373685830598"
     },
     "user_tz": 240
    },
    "id": "dcrHbf5UFaxI",
    "outputId": "a5582f2f-ba69-4b4a-c37c-676992bdb363"
   },
   "outputs": [
    {
     "data": {
      "text/plain": [
       "(120.0, 20.0, 100, 20)"
      ]
     },
     "execution_count": 37,
     "metadata": {},
     "output_type": "execute_result"
    }
   ],
   "source": [
    "Tip(100, 20)"
   ]
  },
  {
   "cell_type": "code",
   "execution_count": 38,
   "metadata": {
    "colab": {
     "base_uri": "https://localhost:8080/"
    },
    "executionInfo": {
     "elapsed": 125,
     "status": "ok",
     "timestamp": 1624935368535,
     "user": {
      "displayName": "Joel Brigida",
      "photoUrl": "https://lh3.googleusercontent.com/a-/AOh14GjLuPhoLSagAzXEvky112_2xhzsY9z-QJ9CaJ-flQRlbBAaET1LRDCdV6ZBcZB4MbcMXlz7zs4Ka2gYuCX9ABdXbgifilihnFf3iFKt4j1Wu0YBJMBJAon9bDzuaStiqy9iRN3AupZsJmkjkSLIylSqe9BYA7Zl87C_A7CJdO4le4um0lUIvaIVMayFf6foQu1IcO3uNpyyWyUMW6P1ytjwgu3Yubmr7d1D_QuXhGgqkbJIUO7GYu9hsTihq5xT-mdmqO9s3_PZ1SKd7GHWQ4pRBxC9qoQl0z0KFw79Fhg0_-UoVLdxXUrLB93J9MN-HGBqgq9TF0SrRYWMyg2SX07lpx9t8fc4Ksvz2EMxDzmcwaLamXIi-xDy0ePOqfaDcoruHVkvEoXt7gDVmXPjrB2n6YFpuZ1i2d_k3w9DhtCZ0U3T26DWOnB4pzMUv7p-RTkIvXlefJX_811bRhbCDQlRYgmTC7tY0FkdI7S15m1h1HzW8dRxeliuNfu_SA37Q4WvEwMjdBKkyDgn25DtkU905tORD8XzOFKTQ012jTAvK-AREGa1XdUGcL5OUgc4KpSdsSCFPCcOh8YnM1BRIwUAiI19DT1aOBLa1F57E_0tht6Xrs6PAXTUHjARnMBUT8VhVMXGzyJot6xM0vvXEd7jw1oFX8LTKIEIzCMysAgw9HTpLqGt9WrLBVbpUqiZYgjKkFX-13i6EtLOZek5xUQ7WuBdqwkg4-GidhWCIGhB9Q8ojicXEIWAt26isLs9mf4qkA=s64",
      "userId": "17944099373685830598"
     },
     "user_tz": 240
    },
    "id": "1S9gHc5mpXQJ",
    "outputId": "cdf8a578-194a-4b4e-b13d-91740c78079a"
   },
   "outputs": [
    {
     "data": {
      "text/plain": [
       "tuple"
      ]
     },
     "execution_count": 38,
     "metadata": {},
     "output_type": "execute_result"
    }
   ],
   "source": [
    "# this is a tuple: an immutable list where values are not changeable\n",
    "\n",
    "type(Tip(100, 20))"
   ]
  },
  {
   "attachments": {},
   "cell_type": "markdown",
   "metadata": {},
   "source": [
    "#### Store returned output values to a new variable \"some_tip\""
   ]
  },
  {
   "cell_type": "code",
   "execution_count": 39,
   "metadata": {
    "id": "87vZixkjqfFK"
   },
   "outputs": [
    {
     "name": "stdout",
     "output_type": "stream",
     "text": [
      "(120.0, 20.0, 100, 20)\n"
     ]
    }
   ],
   "source": [
    "some_tip = Tip(100, 20)\n",
    "print(some_tip)"
   ]
  },
  {
   "attachments": {},
   "cell_type": "markdown",
   "metadata": {},
   "source": [
    "#### Underscores tell python to skip the 1st, 3rd, and 4th returned output value."
   ]
  },
  {
   "cell_type": "code",
   "execution_count": 40,
   "metadata": {
    "id": "LcLvVlOcq634"
   },
   "outputs": [
    {
     "name": "stdout",
     "output_type": "stream",
     "text": [
      "20.0\n"
     ]
    }
   ],
   "source": [
    "_, try_again, _, _, = Tip(100, 20)\n",
    "\n",
    "# note that try_again now only holds the one value\n",
    "print(try_again)"
   ]
  },
  {
   "attachments": {},
   "cell_type": "markdown",
   "metadata": {
    "id": "RnBL_rN1v14m"
   },
   "source": [
    "## Simple Recursion"
   ]
  },
  {
   "cell_type": "code",
   "execution_count": 41,
   "metadata": {
    "id": "cy_yyID7uQDj"
   },
   "outputs": [],
   "source": [
    "def f1():\n",
    "    print(\"Moe\")\n",
    "\n",
    "def f2():           # function declaration\n",
    "    f4()            # function call to f4()\n",
    "    print(\"Meeny\")\n",
    "\n",
    "def f3():\n",
    "    f2()\n",
    "    print(\"Miney\")\n",
    "    f1()\n",
    "\n",
    "def f4():\n",
    "    print(\"Eeny\")"
   ]
  },
  {
   "cell_type": "code",
   "execution_count": 42,
   "metadata": {
    "colab": {
     "base_uri": "https://localhost:8080/"
    },
    "executionInfo": {
     "elapsed": 118,
     "status": "ok",
     "timestamp": 1624936206794,
     "user": {
      "displayName": "Joel Brigida",
      "photoUrl": "https://lh3.googleusercontent.com/a-/AOh14GjLuPhoLSagAzXEvky112_2xhzsY9z-QJ9CaJ-flQRlbBAaET1LRDCdV6ZBcZB4MbcMXlz7zs4Ka2gYuCX9ABdXbgifilihnFf3iFKt4j1Wu0YBJMBJAon9bDzuaStiqy9iRN3AupZsJmkjkSLIylSqe9BYA7Zl87C_A7CJdO4le4um0lUIvaIVMayFf6foQu1IcO3uNpyyWyUMW6P1ytjwgu3Yubmr7d1D_QuXhGgqkbJIUO7GYu9hsTihq5xT-mdmqO9s3_PZ1SKd7GHWQ4pRBxC9qoQl0z0KFw79Fhg0_-UoVLdxXUrLB93J9MN-HGBqgq9TF0SrRYWMyg2SX07lpx9t8fc4Ksvz2EMxDzmcwaLamXIi-xDy0ePOqfaDcoruHVkvEoXt7gDVmXPjrB2n6YFpuZ1i2d_k3w9DhtCZ0U3T26DWOnB4pzMUv7p-RTkIvXlefJX_811bRhbCDQlRYgmTC7tY0FkdI7S15m1h1HzW8dRxeliuNfu_SA37Q4WvEwMjdBKkyDgn25DtkU905tORD8XzOFKTQ012jTAvK-AREGa1XdUGcL5OUgc4KpSdsSCFPCcOh8YnM1BRIwUAiI19DT1aOBLa1F57E_0tht6Xrs6PAXTUHjARnMBUT8VhVMXGzyJot6xM0vvXEd7jw1oFX8LTKIEIzCMysAgw9HTpLqGt9WrLBVbpUqiZYgjKkFX-13i6EtLOZek5xUQ7WuBdqwkg4-GidhWCIGhB9Q8ojicXEIWAt26isLs9mf4qkA=s64",
      "userId": "17944099373685830598"
     },
     "user_tz": 240
    },
    "id": "70DyUGjRvPBD",
    "outputId": "1de89e75-121c-422e-ac8f-1eccc19b4847"
   },
   "outputs": [
    {
     "name": "stdout",
     "output_type": "stream",
     "text": [
      "Eeny\n",
      "Meeny\n"
     ]
    }
   ],
   "source": [
    "f2()"
   ]
  },
  {
   "cell_type": "code",
   "execution_count": 43,
   "metadata": {
    "colab": {
     "base_uri": "https://localhost:8080/"
    },
    "executionInfo": {
     "elapsed": 117,
     "status": "ok",
     "timestamp": 1624936212478,
     "user": {
      "displayName": "Joel Brigida",
      "photoUrl": "https://lh3.googleusercontent.com/a-/AOh14GjLuPhoLSagAzXEvky112_2xhzsY9z-QJ9CaJ-flQRlbBAaET1LRDCdV6ZBcZB4MbcMXlz7zs4Ka2gYuCX9ABdXbgifilihnFf3iFKt4j1Wu0YBJMBJAon9bDzuaStiqy9iRN3AupZsJmkjkSLIylSqe9BYA7Zl87C_A7CJdO4le4um0lUIvaIVMayFf6foQu1IcO3uNpyyWyUMW6P1ytjwgu3Yubmr7d1D_QuXhGgqkbJIUO7GYu9hsTihq5xT-mdmqO9s3_PZ1SKd7GHWQ4pRBxC9qoQl0z0KFw79Fhg0_-UoVLdxXUrLB93J9MN-HGBqgq9TF0SrRYWMyg2SX07lpx9t8fc4Ksvz2EMxDzmcwaLamXIi-xDy0ePOqfaDcoruHVkvEoXt7gDVmXPjrB2n6YFpuZ1i2d_k3w9DhtCZ0U3T26DWOnB4pzMUv7p-RTkIvXlefJX_811bRhbCDQlRYgmTC7tY0FkdI7S15m1h1HzW8dRxeliuNfu_SA37Q4WvEwMjdBKkyDgn25DtkU905tORD8XzOFKTQ012jTAvK-AREGa1XdUGcL5OUgc4KpSdsSCFPCcOh8YnM1BRIwUAiI19DT1aOBLa1F57E_0tht6Xrs6PAXTUHjARnMBUT8VhVMXGzyJot6xM0vvXEd7jw1oFX8LTKIEIzCMysAgw9HTpLqGt9WrLBVbpUqiZYgjKkFX-13i6EtLOZek5xUQ7WuBdqwkg4-GidhWCIGhB9Q8ojicXEIWAt26isLs9mf4qkA=s64",
      "userId": "17944099373685830598"
     },
     "user_tz": 240
    },
    "id": "uCaKGssSvtnM",
    "outputId": "a15f2ec5-fc00-4ff5-8d4b-ef1a65b03a74"
   },
   "outputs": [
    {
     "name": "stdout",
     "output_type": "stream",
     "text": [
      "Eeny\n",
      "Meeny\n",
      "Miney\n",
      "Moe\n"
     ]
    }
   ],
   "source": [
    "f3()"
   ]
  }
 ],
 "metadata": {
  "colab": {
   "collapsed_sections": [
    "LFw0L9kN7f0C",
    "WAq8E3QTfEuG",
    "4anUDinLkOFa",
    "OAne0z598UIr",
    "hssS7mIU9nUn"
   ],
   "name": "001_JB_Python_Intro.ipynb",
   "provenance": [
    {
     "file_id": "1Yjs79gefl0aVUN9bDYy9UE6etIRVjaOb",
     "timestamp": 1624889770307
    }
   ]
  },
  "kernelspec": {
   "display_name": "Python 3.9.12 ('base')",
   "language": "python",
   "name": "python3"
  },
  "language_info": {
   "codemirror_mode": {
    "name": "ipython",
    "version": 3
   },
   "file_extension": ".py",
   "mimetype": "text/x-python",
   "name": "python",
   "nbconvert_exporter": "python",
   "pygments_lexer": "ipython3",
   "version": "3.10.9"
  },
  "vscode": {
   "interpreter": {
    "hash": "a906719eb24c6be2b596ddc3d3a5af6aa9dceef416174b553d74a9f9263f1789"
   }
  }
 },
 "nbformat": 4,
 "nbformat_minor": 4
}
